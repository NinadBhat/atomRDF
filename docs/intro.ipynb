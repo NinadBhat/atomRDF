{
 "cells": [
  {
   "cell_type": "markdown",
   "id": "6f84b291-5802-4ebe-95b3-1b1ea097c466",
   "metadata": {},
   "source": [
    "# pyscal-rdf"
   ]
  },
  {
   "cell_type": "markdown",
   "id": "d28592f2-8d81-4625-857c-0f3fc5c8a0b3",
   "metadata": {},
   "source": [
    "`pyscal_rdf` is a python tool for ontology-based creation, manipulation, and quering of structures. `pyscal_rdf` uses the [Computational Material Sample Ontology (CMSO)](https://github.com/Materials-Data-Science-and-Informatics/cmso-ontology)."
   ]
  },
  {
   "cell_type": "code",
   "execution_count": null,
   "id": "6ca98bd2-e238-4283-b29f-25eb86e72af3",
   "metadata": {},
   "outputs": [],
   "source": []
  }
 ],
 "metadata": {
  "kernelspec": {
   "display_name": "Python 3 (ipykernel)",
   "language": "python",
   "name": "python3"
  },
  "language_info": {
   "codemirror_mode": {
    "name": "ipython",
    "version": 3
   },
   "file_extension": ".py",
   "mimetype": "text/x-python",
   "name": "python",
   "nbconvert_exporter": "python",
   "pygments_lexer": "ipython3",
   "version": "3.10.13"
  }
 },
 "nbformat": 4,
 "nbformat_minor": 5
}
