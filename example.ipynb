{
 "cells": [
  {
   "cell_type": "markdown",
   "id": "55143a78-bda5-4893-9841-fe4835dc6a7c",
   "metadata": {},
   "source": [
    "# `pyscal_rdf`"
   ]
  },
  {
   "cell_type": "markdown",
   "id": "b9582fd7-08ab-4931-8f27-b2891db80536",
   "metadata": {},
   "source": [
    "Ontology based atomic structure creation, manipulation, querying."
   ]
  },
  {
   "cell_type": "markdown",
   "id": "156bd52b-33d5-40f0-9e24-87636ff7040c",
   "metadata": {},
   "source": [
    "Imports"
   ]
  },
  {
   "cell_type": "code",
   "execution_count": 1,
   "id": "03c51660-5edd-45b9-b58b-54636709c4b0",
   "metadata": {
    "tags": []
   },
   "outputs": [],
   "source": [
    "from pyscal.crystal_structures import Structure\n",
    "from pyscal_rdf.graph import StructureGraph"
   ]
  },
  {
   "cell_type": "markdown",
   "id": "b2a666cb-dfec-42ac-9f09-09e9f1086245",
   "metadata": {},
   "source": [
    "## Creation of structures"
   ]
  },
  {
   "cell_type": "markdown",
   "id": "09d9b2f9-77e5-46b6-8bfb-447783f39830",
   "metadata": {},
   "source": [
    "Creation of structures is carried out through pyscal. We will create three structures for the demonstration."
   ]
  },
  {
   "cell_type": "markdown",
   "id": "2756366b-a9f8-46f2-8675-6d1874e3237b",
   "metadata": {},
   "source": [
    "First, an L12 $Ni_3 Al$ structure"
   ]
  },
  {
   "cell_type": "code",
   "execution_count": 2,
   "id": "97fde2bd-ab58-46a5-998d-ce1b9e99ebe5",
   "metadata": {
    "tags": []
   },
   "outputs": [],
   "source": [
    "struct = Structure()"
   ]
  },
  {
   "cell_type": "code",
   "execution_count": 3,
   "id": "89e1aaca-34b3-472c-8002-1cc11d078f8d",
   "metadata": {
    "tags": []
   },
   "outputs": [
    {
     "name": "stdout",
     "output_type": "stream",
     "text": [
      "['Al', 'Ni']\n"
     ]
    }
   ],
   "source": [
    "struct_l12 = struct.lattice.l12(element=['Al', 'Ni'], \n",
    "                         lattice_constant=3.57)"
   ]
  },
  {
   "cell_type": "markdown",
   "id": "ced88214-b956-41ef-bd9f-2c167fb61e05",
   "metadata": {},
   "source": [
    "Now a BCC Iron structure"
   ]
  },
  {
   "cell_type": "code",
   "execution_count": 4,
   "id": "3c279801-d12b-490a-9c69-ce96be831d42",
   "metadata": {
    "tags": []
   },
   "outputs": [
    {
     "name": "stdout",
     "output_type": "stream",
     "text": [
      "Fe\n"
     ]
    }
   ],
   "source": [
    "struct_Fe = struct.element.Fe()"
   ]
  },
  {
   "cell_type": "markdown",
   "id": "2b935f83-0970-45b5-8772-91e9a1cea966",
   "metadata": {},
   "source": [
    "And finally a Si diamond structure"
   ]
  },
  {
   "cell_type": "code",
   "execution_count": 5,
   "id": "6c14e7af-b5c2-46bb-a365-9ec781e612b5",
   "metadata": {
    "tags": []
   },
   "outputs": [
    {
     "name": "stdout",
     "output_type": "stream",
     "text": [
      "Si\n"
     ]
    }
   ],
   "source": [
    "struct_Si = struct.element.Si()"
   ]
  },
  {
   "cell_type": "markdown",
   "id": "c7f5044c-2130-42b1-96ba-02d97e391dff",
   "metadata": {},
   "source": [
    "## Adding structures to a graph"
   ]
  },
  {
   "cell_type": "markdown",
   "id": "e4329106-3702-48ca-8e00-1f3441a28004",
   "metadata": {},
   "source": [
    "First we create a graph"
   ]
  },
  {
   "cell_type": "code",
   "execution_count": 6,
   "id": "23280cd2-6de3-4caa-ae28-9cb0b4d60499",
   "metadata": {
    "tags": []
   },
   "outputs": [],
   "source": [
    "g = StructureGraph()"
   ]
  },
  {
   "cell_type": "code",
   "execution_count": 7,
   "id": "e7e17888-8da4-4618-9eb9-c599a83ababf",
   "metadata": {
    "tags": []
   },
   "outputs": [
    {
     "data": {
      "text/plain": [
       "<Graph identifier=N304404e3864e4aef8d79731c1ae06af1 (<class 'rdflib.graph.Graph'>)>"
      ]
     },
     "execution_count": 7,
     "metadata": {},
     "output_type": "execute_result"
    }
   ],
   "source": [
    "g.graph.parse(\"pyscal_rdf/data/cmso.owl\", format='xml')"
   ]
  },
  {
   "cell_type": "markdown",
   "id": "0065555c-d343-4d1b-a05a-69ddac61a4c5",
   "metadata": {},
   "source": [
    "Then add all three structures to it"
   ]
  },
  {
   "cell_type": "code",
   "execution_count": 8,
   "id": "3c50dba0-50a6-436f-9044-9105d93a6cb1",
   "metadata": {
    "tags": []
   },
   "outputs": [],
   "source": [
    "g.add_structure_to_graph(struct_l12)\n",
    "g.add_structure_to_graph(struct_Fe)\n",
    "g.add_structure_to_graph(struct_Si)"
   ]
  },
  {
   "cell_type": "code",
   "execution_count": 9,
   "id": "3ee82cb2-7566-4749-963c-80f2040361d4",
   "metadata": {
    "tags": []
   },
   "outputs": [
    {
     "data": {
      "text/plain": [
       "<Graph identifier=N304404e3864e4aef8d79731c1ae06af1 (<class 'rdflib.graph.Graph'>)>"
      ]
     },
     "execution_count": 9,
     "metadata": {},
     "output_type": "execute_result"
    }
   ],
   "source": [
    "g.graph.serialize(\"map.ttl\", format='turtle')"
   ]
  },
  {
   "cell_type": "markdown",
   "id": "e83523ad-f684-42fe-84e1-da8125201a0d",
   "metadata": {},
   "source": [
    "We can save the graph and reload it as needed"
   ]
  },
  {
   "cell_type": "markdown",
   "id": "906584fc-01c6-4c63-9024-f39baacd655d",
   "metadata": {},
   "source": [
    "## Querying the graph"
   ]
  },
  {
   "cell_type": "markdown",
   "id": "dc96d3a3-b2e8-4f56-b7ad-b30809b604c9",
   "metadata": {},
   "source": [
    "An example question would be, **what are the space group of all structures with 4 atoms?**\n"
   ]
  },
  {
   "cell_type": "markdown",
   "id": "f7f63dfe-bbb6-4ccc-a2f4-6d091c4ec92d",
   "metadata": {},
   "source": [
    "The corresponding SPARQL query looks like this:"
   ]
  },
  {
   "cell_type": "code",
   "execution_count": 8,
   "id": "8ffe7592-4349-4c46-bf40-7edea50c652c",
   "metadata": {
    "tags": []
   },
   "outputs": [],
   "source": [
    "query = \"\"\"\n",
    "PREFIX cmso: <https://purls.helmholtz-metadaten.de/cmso/>\n",
    "SELECT DISTINCT ?symbol\n",
    "WHERE {\n",
    "    ?sample cmso:hasNumberOfAtoms ?number .\n",
    "    ?sample cmso:hasMaterial ?material .\n",
    "    ?material cmso:hasStructure ?structure .\n",
    "    ?structure cmso:hasSpaceGroup ?spacegroup .\n",
    "    ?spacegroup cmso:hasSpaceGroupSymbol ?symbol .\n",
    "FILTER (?number=\"4\"^^xsd:integer)\n",
    "}\"\"\""
   ]
  },
  {
   "cell_type": "code",
   "execution_count": 9,
   "id": "4a8eba1e-3ffb-4129-8818-5caf8ce0de4b",
   "metadata": {
    "tags": []
   },
   "outputs": [],
   "source": [
    "res = g.graph.query(query)"
   ]
  },
  {
   "cell_type": "markdown",
   "id": "0e41d31d-c4a8-450f-a70e-0543411924ad",
   "metadata": {},
   "source": [
    "And print the results"
   ]
  },
  {
   "cell_type": "code",
   "execution_count": 10,
   "id": "f4b6f799-ff85-45c7-a318-f2598a32a48c",
   "metadata": {
    "tags": []
   },
   "outputs": [
    {
     "name": "stdout",
     "output_type": "stream",
     "text": [
      "Pm-3m\n"
     ]
    }
   ],
   "source": [
    "for r in res:\n",
    "    print(r[0])"
   ]
  },
  {
   "cell_type": "markdown",
   "id": "62b70c91-a0ed-4e35-bdb2-e087a3259726",
   "metadata": {},
   "source": [
    "There are also pre-built queries. For example, **What are all the samples with Bravais lattice bcc?**"
   ]
  },
  {
   "cell_type": "code",
   "execution_count": 14,
   "id": "098b73d2-9c35-45fe-9120-e042c2a3734b",
   "metadata": {
    "tags": []
   },
   "outputs": [],
   "source": [
    "from pyscal_rdf.queries import Query"
   ]
  },
  {
   "cell_type": "code",
   "execution_count": 15,
   "id": "4bc496f1-11c8-49d0-afe2-56386a313b2d",
   "metadata": {
    "tags": []
   },
   "outputs": [],
   "source": [
    "q = Query()"
   ]
  },
  {
   "cell_type": "code",
   "execution_count": 18,
   "id": "432be248-e367-4ef8-809b-c8987f03712e",
   "metadata": {
    "tags": []
   },
   "outputs": [],
   "source": [
    "samples = q.sparql.sample_by_latticesystem(g, 'bcc')"
   ]
  },
  {
   "cell_type": "markdown",
   "id": "1e827b4b-e762-4748-be36-ae7ac0d9a60a",
   "metadata": {},
   "source": [
    "We can check how many samples we found"
   ]
  },
  {
   "cell_type": "code",
   "execution_count": 19,
   "id": "2914053c-7139-4b20-9198-e71cb5b8285a",
   "metadata": {
    "tags": []
   },
   "outputs": [
    {
     "data": {
      "text/plain": [
       "1"
      ]
     },
     "execution_count": 19,
     "metadata": {},
     "output_type": "execute_result"
    }
   ],
   "source": [
    "len(samples)"
   ]
  },
  {
   "cell_type": "markdown",
   "id": "39acbab2-4912-47c7-b24f-a79e1791fbbc",
   "metadata": {},
   "source": [
    "As expected, there is only one sample"
   ]
  },
  {
   "cell_type": "markdown",
   "id": "d7bc4ed1-f5a6-4899-8a56-6353e68c4c82",
   "metadata": {},
   "source": [
    "We can write this sample to a file, for example, a LAMMPS data format, to use it for further simulations"
   ]
  },
  {
   "cell_type": "code",
   "execution_count": 20,
   "id": "0cb6b043-abb3-41ca-bee7-fb3bf1e7e615",
   "metadata": {
    "tags": []
   },
   "outputs": [],
   "source": [
    "g.to_file(samples[0], 'bcc.data', format=\"lammps-data\")"
   ]
  },
  {
   "cell_type": "code",
   "execution_count": 24,
   "id": "ae884716-a31b-4170-b4d4-9cf8309a6d74",
   "metadata": {
    "tags": []
   },
   "outputs": [
    {
     "name": "stdout",
     "output_type": "stream",
     "text": [
      "bcc.data (written by ASE) \n",
      "\n",
      "2 \t atoms \n",
      "1  atom types\n",
      "0.0      2.8700000000000001  xlo xhi\n",
      "0.0      2.8700000000000001  ylo yhi\n",
      "0.0      2.8700000000000001  zlo zhi\n",
      "\n",
      "\n",
      "Atoms \n",
      "\n",
      "     1   1                       0                       0                      \n",
      " 0\n",
      "     2   1      1.4350000000000001      1.4350000000000001      1.43500000000000\n",
      "01\n"
     ]
    }
   ],
   "source": [
    "! more bcc.data"
   ]
  },
  {
   "cell_type": "markdown",
   "id": "061d2c92-8c3f-4e8b-bb83-212a02963d09",
   "metadata": {},
   "source": [
    "We can also export as an ASE object"
   ]
  },
  {
   "cell_type": "code",
   "execution_count": 25,
   "id": "7ba5d551-f85b-4c33-be37-b997feffd7d7",
   "metadata": {
    "tags": []
   },
   "outputs": [],
   "source": [
    "aseobj = g.to_file(samples[0], format=\"ase\")"
   ]
  },
  {
   "cell_type": "code",
   "execution_count": 26,
   "id": "f4a90cbe-cf6a-4285-a0d2-b7525726c6dc",
   "metadata": {
    "tags": []
   },
   "outputs": [
    {
     "data": {
      "text/plain": [
       "Atoms(symbols='Fe2', pbc=True, cell=[2.87, 2.87, 2.87])"
      ]
     },
     "execution_count": 26,
     "metadata": {},
     "output_type": "execute_result"
    }
   ],
   "source": [
    "aseobj"
   ]
  }
 ],
 "metadata": {
  "kernelspec": {
   "display_name": "Python 3 (ipykernel)",
   "language": "python",
   "name": "python3"
  },
  "language_info": {
   "codemirror_mode": {
    "name": "ipython",
    "version": 3
   },
   "file_extension": ".py",
   "mimetype": "text/x-python",
   "name": "python",
   "nbconvert_exporter": "python",
   "pygments_lexer": "ipython3",
   "version": "3.9.16"
  }
 },
 "nbformat": 4,
 "nbformat_minor": 5
}
