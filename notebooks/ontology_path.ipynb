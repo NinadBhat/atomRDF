{
 "cells": [
  {
   "cell_type": "code",
   "execution_count": 1,
   "id": "9319ee4b-1fdd-4658-bbd3-7f2f0028782d",
   "metadata": {},
   "outputs": [],
   "source": [
    "from pyscal_rdf.network.network import OntologyNetwork"
   ]
  },
  {
   "cell_type": "code",
   "execution_count": 2,
   "id": "accb9d35-f1d2-4fa1-a937-17ab30cfe62d",
   "metadata": {},
   "outputs": [
    {
     "name": "stderr",
     "output_type": "stream",
     "text": [
      "* Owlready2 * WARNING: ObjectProperty http://www.w3.org/ns/prov#specializationOf belongs to more than one entity types: [owl.AnnotationProperty, owl.ObjectProperty, prov.alternateOf]; I'm trying to fix it...\n",
      "* Owlready2 * WARNING: ObjectProperty http://www.w3.org/ns/prov#wasRevisionOf belongs to more than one entity types: [owl.AnnotationProperty, owl.ObjectProperty, prov.wasDerivedFrom]; I'm trying to fix it...\n"
     ]
    }
   ],
   "source": [
    "prov = OntologyNetwork('pyscal_rdf/data/prov.rdf', delimiter='#')\n",
    "cmso = OntologyNetwork('pyscal_rdf/data/cmso.owl')\n",
    "pldo = OntologyNetwork('pyscal_rdf/data/pldo.owl')\n",
    "podo = OntologyNetwork('pyscal_rdf/data/podo.owl')"
   ]
  },
  {
   "cell_type": "code",
   "execution_count": 3,
   "id": "e096bccb-dd53-4700-b2df-a4847128c1c1",
   "metadata": {},
   "outputs": [],
   "source": [
    "combo = cmso + pldo + podo + prov"
   ]
  },
  {
   "cell_type": "code",
   "execution_count": 6,
   "id": "ae541ef0-08f7-416e-a593-db950b99197c",
   "metadata": {},
   "outputs": [],
   "source": [
    "combo.add_path(('cmso:Material', 'cmso:hasDefect', 'pldo:PlanarDefect'))\n",
    "combo.add_path(('cmso:Material', 'cmso:hasDefect', 'podo:Vacancy'))\n",
    "combo.add_path(('cmso:SimulationCell', 'podo:hasVacancyConcentration', 'float'))\n",
    "combo.add_path(('cmso:SimulationCell', 'podo:hasNumberOfVacancies', 'int'))\n",
    "combo.add_path(('cmso:SimulationCell', 'prov:wasDerivedFrom', 'cmso:SimulationCell'))"
   ]
  },
  {
   "cell_type": "markdown",
   "id": "74b3e951-a7dd-4a1e-9618-e2a86247dee3",
   "metadata": {},
   "source": [
    "Test a query"
   ]
  },
  {
   "cell_type": "code",
   "execution_count": 7,
   "id": "288f0e22-b16e-4bae-8c63-f01a3ed28e6f",
   "metadata": {},
   "outputs": [],
   "source": [
    "condition = (combo.terms.pldo.hasSigmaValue > 5)"
   ]
  },
  {
   "cell_type": "code",
   "execution_count": 10,
   "id": "6a34f8d9-d120-4560-b556-ca7836ac9151",
   "metadata": {},
   "outputs": [
    {
     "name": "stdout",
     "output_type": "stream",
     "text": [
      "PREFIX cmso: <http://purls.helmholtz-metadaten.de/cmso/>\n",
      "PREFIX qudt: <http://qudt.org/schema/qudt/>\n",
      "PREFIX pldo: <http://purls.helmholtz-metadaten.de/pldo/>\n",
      "PREFIX podo: <http://purls.helmholtz-metadaten.de/podo/>\n",
      "PREFIX prov: <http://www.w3.org/ns/prov#>\n",
      "PREFIX owl: <http://www.w3.org/2002/07/owl#>\n",
      "PREFIX rdf: <http://www.w3.org/1999/02/22-rdf-syntax-ns#>\n",
      "SELECT DISTINCT ?hasSigmaValuevalue\n",
      "WHERE {\n",
      "    ?ComputationalSample cmso:hasMaterial ?AmorphousMaterial .\n",
      "    ?AmorphousMaterial cmso:hasDefect ?AntiphaseBoundary .\n",
      "    ?AntiphaseBoundary pldo:hasSigmaValue ?hasSigmaValuevalue .\n",
      "FILTER \n",
      "}\n"
     ]
    }
   ],
   "source": [
    "s = combo.create_query(combo.terms.cmso.ComputationalSample, \n",
    "                   [combo.terms.pldo.hasSigmaValue])\n",
    "print(s)"
   ]
  },
  {
   "cell_type": "code",
   "execution_count": null,
   "id": "337a7b2d-27e4-489f-9412-68efff19a337",
   "metadata": {},
   "outputs": [],
   "source": [
    "q = cmso.create_query('cmso:ComputationalSample', ['pldo:hasSigmaValuevalue', 'cmso:hasAngle_alphavalue'], values = ['val > 5 and val < 10'])\n",
    "print(q)"
   ]
  }
 ],
 "metadata": {
  "kernelspec": {
   "display_name": "Python 3 (ipykernel)",
   "language": "python",
   "name": "python3"
  },
  "language_info": {
   "codemirror_mode": {
    "name": "ipython",
    "version": 3
   },
   "file_extension": ".py",
   "mimetype": "text/x-python",
   "name": "python",
   "nbconvert_exporter": "python",
   "pygments_lexer": "ipython3",
   "version": "3.10.12"
  }
 },
 "nbformat": 4,
 "nbformat_minor": 5
}
