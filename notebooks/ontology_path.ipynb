{
 "cells": [
  {
   "cell_type": "code",
   "execution_count": 1,
   "id": "9319ee4b-1fdd-4658-bbd3-7f2f0028782d",
   "metadata": {},
   "outputs": [],
   "source": [
    "from pyscal_rdf.network.network import OntologyNetwork"
   ]
  },
  {
   "cell_type": "code",
   "execution_count": 2,
   "id": "accb9d35-f1d2-4fa1-a937-17ab30cfe62d",
   "metadata": {},
   "outputs": [
    {
     "name": "stderr",
     "output_type": "stream",
     "text": [
      "* Owlready2 * WARNING: ObjectProperty http://www.w3.org/ns/prov#specializationOf belongs to more than one entity types: [owl.AnnotationProperty, owl.ObjectProperty, prov.alternateOf]; I'm trying to fix it...\n",
      "* Owlready2 * WARNING: ObjectProperty http://www.w3.org/ns/prov#wasRevisionOf belongs to more than one entity types: [owl.AnnotationProperty, owl.ObjectProperty, prov.wasDerivedFrom]; I'm trying to fix it...\n"
     ]
    }
   ],
   "source": [
    "prov = OntologyNetwork('../pyscal_rdf/data/prov.rdf', delimiter='#')\n",
    "cmso = OntologyNetwork('../pyscal_rdf/data/cmso.owl')\n",
    "pldo = OntologyNetwork('../pyscal_rdf/data/pldo.owl')\n",
    "podo = OntologyNetwork('../pyscal_rdf/data/podo.owl')\n",
    "msmo = OntologyNetwork('../pyscal_rdf/data/msmo.owl')"
   ]
  },
  {
   "cell_type": "code",
   "execution_count": 3,
   "id": "e096bccb-dd53-4700-b2df-a4847128c1c1",
   "metadata": {},
   "outputs": [],
   "source": [
    "combo = cmso + pldo + podo + msmo"
   ]
  },
  {
   "cell_type": "markdown",
   "id": "e56a515d-7116-4a37-b277-547bfb3c3f50",
   "metadata": {},
   "source": [
    "Manually add provo attributes"
   ]
  },
  {
   "cell_type": "code",
   "execution_count": 4,
   "id": "c980bd25-7f24-4651-abdd-8e99523e17ac",
   "metadata": {},
   "outputs": [],
   "source": [
    "combo.add_namespace('prov', 'http://www.w3.org/ns/prov#')\n",
    "combo.add_namespace('rdf', 'http://www.w3.org/1999/02/22-rdf-syntax-ns#')\n",
    "combo.add_namespace('rdfs', 'http://www.w3.org/2000/01/rdf-schema#')"
   ]
  },
  {
   "cell_type": "code",
   "execution_count": 7,
   "id": "abe9c395-6b88-450a-a447-0d3d43439f9c",
   "metadata": {},
   "outputs": [
    {
     "data": {
      "text/plain": [
       "{'cmso': 'http://purls.helmholtz-metadaten.de/cmso/',\n",
       " 'qudt': 'http://qudt.org/schema/qudt/',\n",
       " 'pldo': 'http://purls.helmholtz-metadaten.de/pldo/',\n",
       " 'podo': 'http://purls.helmholtz-metadaten.de/podo/',\n",
       " 'msmo': 'http://purls.helmholtz-metadaten.de/msmo/',\n",
       " 'prov': 'http://www.w3.org/ns/prov#',\n",
       " 'rdf': 'http://www.w3.org/1999/02/22-rdf-syntax-ns#',\n",
       " 'rdfs': 'http://www.w3.org/2000/01/rdf-schema#'}"
      ]
     },
     "execution_count": 7,
     "metadata": {},
     "output_type": "execute_result"
    }
   ],
   "source": [
    "combo.namespaces"
   ]
  },
  {
   "cell_type": "code",
   "execution_count": 8,
   "id": "90ebc73c-37ce-48dd-bd33-f4385c7262e7",
   "metadata": {
    "scrolled": true
   },
   "outputs": [
    {
     "data": {
      "text/plain": [
       "{'class': {'cmso:SimulationCell': cmso:SimulationCell,\n",
       "  'cmso:UnitCell': cmso:UnitCell,\n",
       "  'cmso:Angle': cmso:Angle,\n",
       "  'cmso:LatticeAngle': cmso:LatticeAngle,\n",
       "  'cmso:SimulationCellAngle': cmso:SimulationCellAngle,\n",
       "  'cmso:AtomicScaleSample': cmso:AtomicScaleSample,\n",
       "  'cmso:Atom': cmso:Atom,\n",
       "  'cmso:Basis': cmso:Basis,\n",
       "  'cmso:ComputationalSample': cmso:ComputationalSample,\n",
       "  'cmso:MacroscaleSample': cmso:MacroscaleSample,\n",
       "  'cmso:MesoscaleSample': cmso:MesoscaleSample,\n",
       "  'cmso:MicroscaleSample': cmso:MicroscaleSample,\n",
       "  'cmso:NanoscaleSample': cmso:NanoscaleSample,\n",
       "  'cmso:CalculatedProperty': cmso:CalculatedProperty,\n",
       "  'cmso:CrystallineMaterial': cmso:CrystallineMaterial,\n",
       "  'cmso:CrystalDefect': cmso:CrystalDefect,\n",
       "  'cmso:ChemicalSpecies': cmso:ChemicalSpecies,\n",
       "  'cmso:Molecule': cmso:Molecule,\n",
       "  'cmso:ChemicalElement': cmso:ChemicalElement,\n",
       "  'cmso:LatticeParameter': cmso:LatticeParameter,\n",
       "  'cmso:Length': cmso:Length,\n",
       "  'cmso:SimulationCellLength': cmso:SimulationCellLength,\n",
       "  'cmso:Material': cmso:Material,\n",
       "  'cmso:AmorphousMaterial': cmso:AmorphousMaterial,\n",
       "  'cmso:PositionVector': cmso:PositionVector,\n",
       "  'cmso:CrystalStructure': cmso:CrystalStructure,\n",
       "  'cmso:SpaceGroup': cmso:SpaceGroup,\n",
       "  'cmso:Structure': cmso:Structure,\n",
       "  'cmso:Microstructure': cmso:Microstructure,\n",
       "  'cmso:Vector': cmso:Vector,\n",
       "  'cmso:LatticeVector': cmso:LatticeVector,\n",
       "  'cmso:SimulationCellVector': cmso:SimulationCellVector,\n",
       "  'qudt:Unit': qudt:Unit,\n",
       "  'pldo:MixedGrainBoundary': pldo:MixedGrainBoundary,\n",
       "  'pldo:TiltGrainBoundary': pldo:TiltGrainBoundary,\n",
       "  'pldo:SymmetricalTiltGrainBoundary': pldo:SymmetricalTiltGrainBoundary,\n",
       "  'pldo:TwistGrainBoundary': pldo:TwistGrainBoundary,\n",
       "  'pldo:GrainBoundary': pldo:GrainBoundary,\n",
       "  'pldo:LowAngleGrainBoundary': pldo:LowAngleGrainBoundary,\n",
       "  'pldo:AntiphaseBoundary': pldo:AntiphaseBoundary,\n",
       "  'pldo:PlanarDefect': pldo:PlanarDefect,\n",
       "  'pldo:StackingFault': pldo:StackingFault,\n",
       "  'pldo:Surface': pldo:Surface,\n",
       "  'pldo:TwinBoundary': pldo:TwinBoundary,\n",
       "  'podo:AntisiteDefect': podo:AntisiteDefect,\n",
       "  'podo:PointDefect': podo:PointDefect,\n",
       "  'podo:FrenkelDefect': podo:FrenkelDefect,\n",
       "  'podo:Impurity': podo:Impurity,\n",
       "  'podo:Interstitial': podo:Interstitial,\n",
       "  'podo:SchottkyDefect': podo:SchottkyDefect,\n",
       "  'podo:Vacancy': podo:Vacancy,\n",
       "  'podo:InterstitialImpurity': podo:InterstitialImpurity,\n",
       "  'podo:SubstitutionalImpurity': podo:SubstitutionalImpurity,\n",
       "  'podo:Self-interstitial': podo:Self-interstitial,\n",
       "  'msmo:ComputationalMethod': msmo:ComputationalMethod,\n",
       "  'msmo:AtomisticMethod': msmo:AtomisticMethod,\n",
       "  'msmo:MonteCarloMethod': msmo:MonteCarloMethod,\n",
       "  'msmo:DensityFunctionalTheory': msmo:DensityFunctionalTheory,\n",
       "  'msmo:MolecularDynamics': msmo:MolecularDynamics,\n",
       "  'msmo:AbinitioMolecularDynamics': msmo:AbinitioMolecularDynamics,\n",
       "  'msmo:KineticMonteCarloMethod': msmo:KineticMonteCarloMethod,\n",
       "  'msmo:MolecularDynamicsMinimization': msmo:MolecularDynamicsMinimization,\n",
       "  'msmo:MolecularDynamicsNPT': msmo:MolecularDynamicsNPT,\n",
       "  'msmo:MolecularDynamicsNVT': msmo:MolecularDynamicsNVT,\n",
       "  'msmo:Calculation': msmo:Calculation,\n",
       "  'prov:Entity': prov:Entity,\n",
       "  'prov:Activity': prov:Activity,\n",
       "  'prov:SoftwareAgent': prov:SoftwareAgent},\n",
       " 'object_property': {'cmso:hasAngle': cmso:hasAngle,\n",
       "  'cmso:hasAtom': cmso:hasAtom,\n",
       "  'cmso:hasBasis': cmso:hasBasis,\n",
       "  'cmso:hasCalculatedProperty': cmso:hasCalculatedProperty,\n",
       "  'cmso:isCalculatedPropertyOf': cmso:isCalculatedPropertyOf,\n",
       "  'cmso:hasDefect': cmso:hasDefect,\n",
       "  'cmso:isDefectOf': cmso:isDefectOf,\n",
       "  'cmso:hasElement': cmso:hasElement,\n",
       "  'cmso:hasLatticeParameter': cmso:hasLatticeParameter,\n",
       "  'cmso:hasLength': cmso:hasLength,\n",
       "  'cmso:hasMaterial': cmso:hasMaterial,\n",
       "  'cmso:isMaterialOf': cmso:isMaterialOf,\n",
       "  'cmso:hasPositionVector': cmso:hasPositionVector,\n",
       "  'cmso:hasVector': cmso:hasVector,\n",
       "  'cmso:hasSimulationCell': cmso:hasSimulationCell,\n",
       "  'cmso:hasSpaceGroup': cmso:hasSpaceGroup,\n",
       "  'cmso:hasSpecies': cmso:hasSpecies,\n",
       "  'cmso:hasStructure': cmso:hasStructure,\n",
       "  'cmso:hasUnit': cmso:hasUnit,\n",
       "  'cmso:hasUnitCell': cmso:hasUnitCell,\n",
       "  'pldo:hasTiltComponent': pldo:hasTiltComponent,\n",
       "  'pldo:hasTwistComponent': pldo:hasTwistComponent,\n",
       "  'prov:wasDerivedFrom': prov:wasDerivedFrom,\n",
       "  'prov:wasGeneratedBy': prov:wasGeneratedBy,\n",
       "  'prov:wasAssociatedWith': prov:wasAssociatedWith,\n",
       "  'prov:actedOnBehalfOf': prov:actedOnBehalfOf,\n",
       "  '22-rdf-syntax-ns:type': 22-rdf-syntax-ns:type},\n",
       " 'data_property': {'cmso:hasAltName': cmso:hasAltName,\n",
       "  'cmso:hasName': cmso:hasName,\n",
       "  'cmso:hasAngle_alpha': cmso:hasAngle_alpha,\n",
       "  'cmso:hasAngle_beta': cmso:hasAngle_beta,\n",
       "  'cmso:hasAngle_gamma': cmso:hasAngle_gamma,\n",
       "  'cmso:hasChemicalSymbol': cmso:hasChemicalSymbol,\n",
       "  'cmso:hasSymbol': cmso:hasSymbol,\n",
       "  'cmso:hasComponent_x': cmso:hasComponent_x,\n",
       "  'cmso:hasComponent_y': cmso:hasComponent_y,\n",
       "  'cmso:hasComponent_z': cmso:hasComponent_z,\n",
       "  'cmso:hasCoordinationNumber': cmso:hasCoordinationNumber,\n",
       "  'cmso:hasElementRatio': cmso:hasElementRatio,\n",
       "  'cmso:hasLength_x': cmso:hasLength_x,\n",
       "  'cmso:hasLength_y': cmso:hasLength_y,\n",
       "  'cmso:hasLength_z': cmso:hasLength_z,\n",
       "  'cmso:hasNumberOfAtoms': cmso:hasNumberOfAtoms,\n",
       "  'cmso:hasReference': cmso:hasReference,\n",
       "  'cmso:hasRepetition_x': cmso:hasRepetition_x,\n",
       "  'cmso:hasRepetition_y': cmso:hasRepetition_y,\n",
       "  'cmso:hasRepetition_z': cmso:hasRepetition_z,\n",
       "  'cmso:hasSpaceGroupNumber': cmso:hasSpaceGroupNumber,\n",
       "  'cmso:hasSpaceGroupSymbol': cmso:hasSpaceGroupSymbol,\n",
       "  'cmso:hasValue': cmso:hasValue,\n",
       "  'cmso:hasVolume': cmso:hasVolume,\n",
       "  'pldo:geometricalDegreesOfFreedom': pldo:geometricalDegreesOfFreedom,\n",
       "  'pldo:hasGBplane': pldo:hasGBplane,\n",
       "  'pldo:macroscopicDegreesOfFreedom': pldo:macroscopicDegreesOfFreedom,\n",
       "  'pldo:hasMisorientationAngle': pldo:hasMisorientationAngle,\n",
       "  'pldo:hasRotationAxis': pldo:hasRotationAxis,\n",
       "  'pldo:hasSigmaValue': pldo:hasSigmaValue,\n",
       "  'pldo:microscopicDegreesOfFreedom': pldo:microscopicDegreesOfFreedom,\n",
       "  'podo:hasNumberOfVacancies': podo:hasNumberOfVacancies,\n",
       "  'podo:hasVacancyConcentration': podo:hasVacancyConcentration,\n",
       "  'rdf-schema:label': rdf-schema:label},\n",
       " 'data_node': ['cmso:hasAltNamevalue',\n",
       "  'cmso:hasNamevalue',\n",
       "  'cmso:hasAngle_alphavalue',\n",
       "  'cmso:hasAngle_betavalue',\n",
       "  'cmso:hasAngle_gammavalue',\n",
       "  'cmso:hasChemicalSymbolvalue',\n",
       "  'cmso:hasComponent_xvalue',\n",
       "  'cmso:hasComponent_yvalue',\n",
       "  'cmso:hasComponent_zvalue',\n",
       "  'cmso:hasCoordinationNumbervalue',\n",
       "  'cmso:hasElementRatiovalue',\n",
       "  'cmso:hasLength_xvalue',\n",
       "  'cmso:hasLength_yvalue',\n",
       "  'cmso:hasLength_zvalue',\n",
       "  'cmso:hasNumberOfAtomsvalue',\n",
       "  'cmso:hasRepetition_xvalue',\n",
       "  'cmso:hasRepetition_yvalue',\n",
       "  'cmso:hasRepetition_zvalue',\n",
       "  'cmso:hasSpaceGroupNumbervalue',\n",
       "  'cmso:hasSpaceGroupSymbolvalue',\n",
       "  'cmso:hasVolumevalue',\n",
       "  'cmso:hasAltNamevalue',\n",
       "  'cmso:hasNamevalue',\n",
       "  'cmso:hasAngle_alphavalue',\n",
       "  'cmso:hasAngle_betavalue',\n",
       "  'cmso:hasAngle_gammavalue',\n",
       "  'cmso:hasChemicalSymbolvalue',\n",
       "  'cmso:hasComponent_xvalue',\n",
       "  'cmso:hasComponent_yvalue',\n",
       "  'cmso:hasComponent_zvalue',\n",
       "  'cmso:hasCoordinationNumbervalue',\n",
       "  'cmso:hasElementRatiovalue',\n",
       "  'cmso:hasLength_xvalue',\n",
       "  'cmso:hasLength_yvalue',\n",
       "  'cmso:hasLength_zvalue',\n",
       "  'cmso:hasNumberOfAtomsvalue',\n",
       "  'cmso:hasRepetition_xvalue',\n",
       "  'cmso:hasRepetition_yvalue',\n",
       "  'cmso:hasRepetition_zvalue',\n",
       "  'cmso:hasSpaceGroupNumbervalue',\n",
       "  'cmso:hasSpaceGroupSymbolvalue',\n",
       "  'cmso:hasVolumevalue',\n",
       "  'pldo:hasGBplanevalue',\n",
       "  'pldo:hasMisorientationAnglevalue',\n",
       "  'pldo:hasRotationAxisvalue',\n",
       "  'pldo:hasSigmaValuevalue',\n",
       "  'cmso:hasAltNamevalue',\n",
       "  'cmso:hasNamevalue',\n",
       "  'cmso:hasAngle_alphavalue',\n",
       "  'cmso:hasAngle_betavalue',\n",
       "  'cmso:hasAngle_gammavalue',\n",
       "  'cmso:hasChemicalSymbolvalue',\n",
       "  'cmso:hasComponent_xvalue',\n",
       "  'cmso:hasComponent_yvalue',\n",
       "  'cmso:hasComponent_zvalue',\n",
       "  'cmso:hasCoordinationNumbervalue',\n",
       "  'cmso:hasElementRatiovalue',\n",
       "  'cmso:hasLength_xvalue',\n",
       "  'cmso:hasLength_yvalue',\n",
       "  'cmso:hasLength_zvalue',\n",
       "  'cmso:hasNumberOfAtomsvalue',\n",
       "  'cmso:hasRepetition_xvalue',\n",
       "  'cmso:hasRepetition_yvalue',\n",
       "  'cmso:hasRepetition_zvalue',\n",
       "  'cmso:hasSpaceGroupNumbervalue',\n",
       "  'cmso:hasSpaceGroupSymbolvalue',\n",
       "  'cmso:hasVolumevalue',\n",
       "  'pldo:hasGBplanevalue',\n",
       "  'pldo:hasMisorientationAnglevalue',\n",
       "  'pldo:hasRotationAxisvalue',\n",
       "  'pldo:hasSigmaValuevalue',\n",
       "  'cmso:hasAltNamevalue',\n",
       "  'cmso:hasNamevalue',\n",
       "  'cmso:hasAngle_alphavalue',\n",
       "  'cmso:hasAngle_betavalue',\n",
       "  'cmso:hasAngle_gammavalue',\n",
       "  'cmso:hasChemicalSymbolvalue',\n",
       "  'cmso:hasComponent_xvalue',\n",
       "  'cmso:hasComponent_yvalue',\n",
       "  'cmso:hasComponent_zvalue',\n",
       "  'cmso:hasCoordinationNumbervalue',\n",
       "  'cmso:hasElementRatiovalue',\n",
       "  'cmso:hasLength_xvalue',\n",
       "  'cmso:hasLength_yvalue',\n",
       "  'cmso:hasLength_zvalue',\n",
       "  'cmso:hasNumberOfAtomsvalue',\n",
       "  'cmso:hasRepetition_xvalue',\n",
       "  'cmso:hasRepetition_yvalue',\n",
       "  'cmso:hasRepetition_zvalue',\n",
       "  'cmso:hasSpaceGroupNumbervalue',\n",
       "  'cmso:hasSpaceGroupSymbolvalue',\n",
       "  'cmso:hasVolumevalue',\n",
       "  'pldo:hasGBplanevalue',\n",
       "  'pldo:hasMisorientationAnglevalue',\n",
       "  'pldo:hasRotationAxisvalue',\n",
       "  'pldo:hasSigmaValuevalue']}"
      ]
     },
     "execution_count": 8,
     "metadata": {},
     "output_type": "execute_result"
    }
   ],
   "source": [
    "combo.attributes"
   ]
  },
  {
   "cell_type": "code",
   "execution_count": 5,
   "id": "b726d163-d708-4ced-8b8d-701950c5c517",
   "metadata": {},
   "outputs": [],
   "source": [
    "combo.add_term('http://www.w3.org/ns/prov#Entity', 'class', delimiter='#')\n",
    "combo.add_term('http://www.w3.org/ns/prov#Activity', 'class', delimiter='#')\n",
    "combo.add_term('http://www.w3.org/ns/prov#SoftwareAgent', 'class', delimiter='#')\n",
    "combo.add_term('http://www.w3.org/ns/prov#wasDerivedFrom', 'object_property', delimiter='#')\n",
    "combo.add_term('http://www.w3.org/ns/prov#wasGeneratedBy', 'object_property', delimiter='#')\n",
    "combo.add_term('http://www.w3.org/ns/prov#wasAssociatedWith', 'object_property', delimiter='#')\n",
    "combo.add_term('http://www.w3.org/ns/prov#actedOnBehalfOf', 'object_property', delimiter='#')\n",
    "combo.add_term('http://www.w3.org/2000/01/rdf-schema#label', 'data_property', delimiter='#', namespace='rdfs')\n",
    "combo.add_term('http://www.w3.org/1999/02/22-rdf-syntax-ns#type', 'object_property', delimiter='#', namespace='rdf')"
   ]
  },
  {
   "cell_type": "code",
   "execution_count": 6,
   "id": "ae541ef0-08f7-416e-a593-db950b99197c",
   "metadata": {},
   "outputs": [
    {
     "ename": "ValueError",
     "evalue": "rdf:type not found in self.attributes",
     "output_type": "error",
     "traceback": [
      "\u001b[0;31m---------------------------------------------------------------------------\u001b[0m",
      "\u001b[0;31mValueError\u001b[0m                                Traceback (most recent call last)",
      "Cell \u001b[0;32mIn[6], line 8\u001b[0m\n\u001b[1;32m      6\u001b[0m combo\u001b[38;5;241m.\u001b[39madd_path((\u001b[38;5;124m'\u001b[39m\u001b[38;5;124mcmso:ComputationalSample\u001b[39m\u001b[38;5;124m'\u001b[39m, \u001b[38;5;124m'\u001b[39m\u001b[38;5;124mprov:wasGeneratedBy\u001b[39m\u001b[38;5;124m'\u001b[39m, \u001b[38;5;124m'\u001b[39m\u001b[38;5;124mmsmo:ComputationalMethod\u001b[39m\u001b[38;5;124m'\u001b[39m))\n\u001b[1;32m      7\u001b[0m combo\u001b[38;5;241m.\u001b[39madd_path((\u001b[38;5;124m'\u001b[39m\u001b[38;5;124mmsmo:ComputationalMethod\u001b[39m\u001b[38;5;124m'\u001b[39m, \u001b[38;5;124m'\u001b[39m\u001b[38;5;124mprov:wasAssociatedWith\u001b[39m\u001b[38;5;124m'\u001b[39m, \u001b[38;5;124m'\u001b[39m\u001b[38;5;124mprov:SoftwareAgent\u001b[39m\u001b[38;5;124m'\u001b[39m))\n\u001b[0;32m----> 8\u001b[0m \u001b[43mcombo\u001b[49m\u001b[38;5;241;43m.\u001b[39;49m\u001b[43madd_path\u001b[49m\u001b[43m(\u001b[49m\u001b[43m(\u001b[49m\u001b[38;5;124;43m'\u001b[39;49m\u001b[38;5;124;43mcmso:ComputationalSample\u001b[39;49m\u001b[38;5;124;43m'\u001b[39;49m\u001b[43m,\u001b[49m\u001b[43m \u001b[49m\u001b[38;5;124;43m'\u001b[39;49m\u001b[38;5;124;43mrdf:type\u001b[39;49m\u001b[38;5;124;43m'\u001b[39;49m\u001b[43m,\u001b[49m\u001b[43m \u001b[49m\u001b[38;5;124;43m'\u001b[39;49m\u001b[38;5;124;43mprov:Entity\u001b[39;49m\u001b[38;5;124;43m'\u001b[39;49m\u001b[43m)\u001b[49m\u001b[43m)\u001b[49m\n\u001b[1;32m      9\u001b[0m combo\u001b[38;5;241m.\u001b[39madd_path((\u001b[38;5;124m'\u001b[39m\u001b[38;5;124mmsmo:ComputationalMethod\u001b[39m\u001b[38;5;124m'\u001b[39m, \u001b[38;5;124m'\u001b[39m\u001b[38;5;124mrdf:type\u001b[39m\u001b[38;5;124m'\u001b[39m, \u001b[38;5;124m'\u001b[39m\u001b[38;5;124mprov:Activity\u001b[39m\u001b[38;5;124m'\u001b[39m))\n",
      "File \u001b[0;32m~/miniconda3/envs/rdf-wf-6/lib/python3.10/site-packages/pyscal_rdf/network/network.py:175\u001b[0m, in \u001b[0;36mOntologyNetwork.add_path\u001b[0;34m(self, triple)\u001b[0m\n\u001b[1;32m    172\u001b[0m     \u001b[38;5;28mself\u001b[39m\u001b[38;5;241m.\u001b[39mg\u001b[38;5;241m.\u001b[39madd_edge(pred, data_node)\n\u001b[1;32m    174\u001b[0m \u001b[38;5;28;01melse\u001b[39;00m:\n\u001b[0;32m--> 175\u001b[0m     \u001b[38;5;28;01mraise\u001b[39;00m \u001b[38;5;167;01mValueError\u001b[39;00m(\u001b[38;5;124mf\u001b[39m\u001b[38;5;124m'\u001b[39m\u001b[38;5;132;01m{\u001b[39;00mpred\u001b[38;5;132;01m}\u001b[39;00m\u001b[38;5;124m not found in self.attributes\u001b[39m\u001b[38;5;124m'\u001b[39m)\n",
      "\u001b[0;31mValueError\u001b[0m: rdf:type not found in self.attributes"
     ]
    }
   ],
   "source": [
    "combo.add_path(('cmso:Material', 'cmso:hasDefect', 'pldo:PlanarDefect'))\n",
    "combo.add_path(('cmso:Material', 'cmso:hasDefect', 'podo:Vacancy'))\n",
    "combo.add_path(('cmso:SimulationCell', 'podo:hasVacancyConcentration', 'float'))\n",
    "combo.add_path(('cmso:SimulationCell', 'podo:hasNumberOfVacancies', 'int'))\n",
    "combo.add_path(('cmso:ComputationalSample', 'prov:wasDerivedFrom', 'cmso:ComputationalSample'))\n",
    "combo.add_path(('cmso:ComputationalSample', 'prov:wasGeneratedBy', 'msmo:ComputationalMethod'))\n",
    "combo.add_path(('msmo:ComputationalMethod', 'prov:wasAssociatedWith', 'prov:SoftwareAgent'))\n",
    "combo.add_path(('cmso:ComputationalSample', 'rdf:type', 'prov:Entity'))\n",
    "combo.add_path(('msmo:ComputationalMethod', 'rdf:type', 'prov:Activity'))\n"
   ]
  },
  {
   "cell_type": "markdown",
   "id": "5f2e1c60-ac36-43d5-abd2-5828a1d8025c",
   "metadata": {},
   "source": [
    "Test a complex workflow query"
   ]
  },
  {
   "cell_type": "code",
   "execution_count": 8,
   "id": "3fa87ea8-8ab3-4381-9c52-1b9df2146fa8",
   "metadata": {},
   "outputs": [
    {
     "name": "stdout",
     "output_type": "stream",
     "text": [
      "PREFIX cmso: <http://purls.helmholtz-metadaten.de/cmso/>\n",
      "PREFIX qudt: <http://qudt.org/schema/qudt/>\n",
      "PREFIX pldo: <http://purls.helmholtz-metadaten.de/pldo/>\n",
      "PREFIX podo: <http://purls.helmholtz-metadaten.de/podo/>\n",
      "PREFIX msmo: <http://purls.helmholtz-metadaten.de/msmo/>\n",
      "PREFIX prov: <http://www.w3.org/ns/prov#>\n",
      "PREFIX rdf: <http://www.w3.org/1999/02/22-rdf-syntax-ns#>\n",
      "PREFIX rdfs: <http://www.w3.org/2000/01/rdf-schema#>\n",
      "PREFIX rdf: <http://www.w3.org/1999/02/22-rdf-syntax-ns#>\n",
      "SELECT DISTINCT ?ComputationalMethod ?SoftwareAgent\n",
      "WHERE {\n",
      "    ?ComputationalSample prov:wasGeneratedBy ?ComputationalMethod .\n",
      "    ?ComputationalSample prov:wasGeneratedBy ?AbinitioMolecularDynamics .\n",
      "    ?AbinitioMolecularDynamics prov:wasAssociatedWith ?SoftwareAgent .\n",
      "FILTER \n",
      "}\n"
     ]
    }
   ],
   "source": [
    "s = combo.create_query(combo.terms.cmso.ComputationalSample, [combo.terms.msmo.ComputationalMethod, combo.terms.prov.SoftwareAgent])\n",
    "print(s)"
   ]
  },
  {
   "cell_type": "markdown",
   "id": "74b3e951-a7dd-4a1e-9618-e2a86247dee3",
   "metadata": {},
   "source": [
    "Test a query"
   ]
  },
  {
   "cell_type": "code",
   "execution_count": 17,
   "id": "288f0e22-b16e-4bae-8c63-f01a3ed28e6f",
   "metadata": {},
   "outputs": [],
   "source": [
    "condition = (combo.terms.pldo.hasSigmaValue > 5)"
   ]
  },
  {
   "cell_type": "code",
   "execution_count": 18,
   "id": "6a34f8d9-d120-4560-b556-ca7836ac9151",
   "metadata": {},
   "outputs": [
    {
     "name": "stdout",
     "output_type": "stream",
     "text": [
      "PREFIX cmso: <http://purls.helmholtz-metadaten.de/cmso/>\n",
      "PREFIX qudt: <http://qudt.org/schema/qudt/>\n",
      "PREFIX pldo: <http://purls.helmholtz-metadaten.de/pldo/>\n",
      "PREFIX podo: <http://purls.helmholtz-metadaten.de/podo/>\n",
      "PREFIX prov: <http://www.w3.org/ns/prov#>\n",
      "PREFIX owl: <http://www.w3.org/2002/07/owl#>\n",
      "PREFIX msmo: <http://purls.helmholtz-metadaten.de/msmo/>\n",
      "PREFIX rdf: <http://www.w3.org/1999/02/22-rdf-syntax-ns#>\n",
      "SELECT DISTINCT ?hasSigmaValuevalue\n",
      "WHERE {\n",
      "    ?ComputationalSample cmso:hasMaterial ?AmorphousMaterial .\n",
      "    ?AmorphousMaterial cmso:hasDefect ?AntiphaseBoundary .\n",
      "    ?AntiphaseBoundary pldo:hasSigmaValue ?hasSigmaValuevalue .\n",
      "FILTER \n",
      "}\n"
     ]
    }
   ],
   "source": [
    "s = combo.create_query(combo.terms.cmso.ComputationalSample, \n",
    "                   [combo.terms.pldo.hasSigmaValue])\n",
    "print(s)"
   ]
  },
  {
   "cell_type": "code",
   "execution_count": null,
   "id": "337a7b2d-27e4-489f-9412-68efff19a337",
   "metadata": {},
   "outputs": [],
   "source": [
    "q = cmso.create_query('cmso:ComputationalSample', ['pldo:hasSigmaValuevalue', 'cmso:hasAngle_alphavalue'], values = ['val > 5 and val < 10'])\n",
    "print(q)"
   ]
  },
  {
   "cell_type": "code",
   "execution_count": 28,
   "id": "d06b0bc2-26f0-4474-a113-00b9563e09e4",
   "metadata": {},
   "outputs": [],
   "source": [
    "from rdflib import RDFS, RDF"
   ]
  },
  {
   "cell_type": "code",
   "execution_count": 29,
   "id": "1cc24b84-09ff-4e02-b397-c246d0b42c07",
   "metadata": {},
   "outputs": [
    {
     "data": {
      "text/plain": [
       "rdflib.term.URIRef('http://www.w3.org/1999/02/22-rdf-syntax-ns#type')"
      ]
     },
     "execution_count": 29,
     "metadata": {},
     "output_type": "execute_result"
    }
   ],
   "source": [
    "RDF.type"
   ]
  },
  {
   "cell_type": "code",
   "execution_count": null,
   "id": "234b1fa7-0d89-4a0f-b21b-cc04cfd6e10d",
   "metadata": {},
   "outputs": [],
   "source": []
  }
 ],
 "metadata": {
  "kernelspec": {
   "display_name": "Python 3 (ipykernel)",
   "language": "python",
   "name": "python3"
  },
  "language_info": {
   "codemirror_mode": {
    "name": "ipython",
    "version": 3
   },
   "file_extension": ".py",
   "mimetype": "text/x-python",
   "name": "python",
   "nbconvert_exporter": "python",
   "pygments_lexer": "ipython3",
   "version": "3.10.13"
  }
 },
 "nbformat": 4,
 "nbformat_minor": 5
}
