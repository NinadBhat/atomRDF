{
 "cells": [
  {
   "cell_type": "code",
   "execution_count": 31,
   "id": "9319ee4b-1fdd-4658-bbd3-7f2f0028782d",
   "metadata": {},
   "outputs": [],
   "source": [
    "from pyscal_rdf.network.network import OntologyNetwork"
   ]
  },
  {
   "cell_type": "code",
   "execution_count": 32,
   "id": "accb9d35-f1d2-4fa1-a937-17ab30cfe62d",
   "metadata": {},
   "outputs": [],
   "source": [
    "prov = OntologyNetwork('../pyscal_rdf/data/prov.rdf', delimiter='#')\n",
    "cmso = OntologyNetwork('../pyscal_rdf/data/cmso.owl')\n",
    "pldo = OntologyNetwork('../pyscal_rdf/data/pldo.owl')\n",
    "podo = OntologyNetwork('../pyscal_rdf/data/podo.owl')\n",
    "msmo = OntologyNetwork('../pyscal_rdf/data/msmo.owl')"
   ]
  },
  {
   "cell_type": "code",
   "execution_count": 33,
   "id": "e096bccb-dd53-4700-b2df-a4847128c1c1",
   "metadata": {},
   "outputs": [],
   "source": [
    "combo = cmso + pldo + podo + msmo"
   ]
  },
  {
   "cell_type": "code",
   "execution_count": 34,
   "id": "f1b55006-9fcd-44b1-81a0-4d7477515259",
   "metadata": {},
   "outputs": [
    {
     "data": {
      "text/plain": [
       "{'cmso': 'http://purls.helmholtz-metadaten.de/cmso/',\n",
       " 'qudt': 'http://qudt.org/schema/qudt/',\n",
       " 'pldo': 'http://purls.helmholtz-metadaten.de/pldo/',\n",
       " 'podo': 'http://purls.helmholtz-metadaten.de/podo/',\n",
       " 'msmo': 'http://purls.helmholtz-metadaten.de/msmo/'}"
      ]
     },
     "execution_count": 34,
     "metadata": {},
     "output_type": "execute_result"
    }
   ],
   "source": [
    "combo.namespaces"
   ]
  },
  {
   "cell_type": "code",
   "execution_count": 35,
   "id": "8dd74206-f633-4836-bf86-f0ecb8b2e3f3",
   "metadata": {},
   "outputs": [
    {
     "data": {
      "text/plain": [
       "{'prov': 'http://www.w3.org/ns/prov#', 'owl': 'http://www.w3.org/2002/07/owl#'}"
      ]
     },
     "execution_count": 35,
     "metadata": {},
     "output_type": "execute_result"
    }
   ],
   "source": [
    "prov.namespaces"
   ]
  },
  {
   "cell_type": "markdown",
   "id": "e56a515d-7116-4a37-b277-547bfb3c3f50",
   "metadata": {},
   "source": [
    "Manually add provo attributes"
   ]
  },
  {
   "cell_type": "code",
   "execution_count": 36,
   "id": "c980bd25-7f24-4651-abdd-8e99523e17ac",
   "metadata": {},
   "outputs": [],
   "source": [
    "combo.add_namespace('prov', 'http://www.w3.org/ns/prov#')\n",
    "combo.add_namespace('rdf', 'http://www.w3.org/1999/02/22-rdf-syntax-ns#')\n",
    "combo.add_namespace('rdfs', 'http://www.w3.org/2000/01/rdf-schema#')"
   ]
  },
  {
   "cell_type": "code",
   "execution_count": 37,
   "id": "abe9c395-6b88-450a-a447-0d3d43439f9c",
   "metadata": {},
   "outputs": [
    {
     "data": {
      "text/plain": [
       "{'cmso': 'http://purls.helmholtz-metadaten.de/cmso/',\n",
       " 'qudt': 'http://qudt.org/schema/qudt/',\n",
       " 'pldo': 'http://purls.helmholtz-metadaten.de/pldo/',\n",
       " 'podo': 'http://purls.helmholtz-metadaten.de/podo/',\n",
       " 'msmo': 'http://purls.helmholtz-metadaten.de/msmo/',\n",
       " 'prov': 'http://www.w3.org/ns/prov#',\n",
       " 'rdf': 'http://www.w3.org/1999/02/22-rdf-syntax-ns#',\n",
       " 'rdfs': 'http://www.w3.org/2000/01/rdf-schema#'}"
      ]
     },
     "execution_count": 37,
     "metadata": {},
     "output_type": "execute_result"
    }
   ],
   "source": [
    "combo.namespaces"
   ]
  },
  {
   "cell_type": "code",
   "execution_count": 38,
   "id": "b726d163-d708-4ced-8b8d-701950c5c517",
   "metadata": {},
   "outputs": [
    {
     "ename": "ValueError",
     "evalue": "Namespace not found, first add namespace",
     "output_type": "error",
     "traceback": [
      "\u001b[0;31m---------------------------------------------------------------------------\u001b[0m",
      "\u001b[0;31mValueError\u001b[0m                                Traceback (most recent call last)",
      "Cell \u001b[0;32mIn[38], line 6\u001b[0m\n\u001b[1;32m      4\u001b[0m combo\u001b[38;5;241m.\u001b[39madd_term(\u001b[38;5;124m'\u001b[39m\u001b[38;5;124mhttp://www.w3.org/ns/prov#wasAssociatedWith\u001b[39m\u001b[38;5;124m'\u001b[39m, \u001b[38;5;124m'\u001b[39m\u001b[38;5;124mobject_property\u001b[39m\u001b[38;5;124m'\u001b[39m, delimiter\u001b[38;5;241m=\u001b[39m\u001b[38;5;124m'\u001b[39m\u001b[38;5;124m#\u001b[39m\u001b[38;5;124m'\u001b[39m)\n\u001b[1;32m      5\u001b[0m combo\u001b[38;5;241m.\u001b[39madd_term(\u001b[38;5;124m'\u001b[39m\u001b[38;5;124mhttp://www.w3.org/ns/prov#actedOnBehalfOf\u001b[39m\u001b[38;5;124m'\u001b[39m, \u001b[38;5;124m'\u001b[39m\u001b[38;5;124mobject_property\u001b[39m\u001b[38;5;124m'\u001b[39m, delimiter\u001b[38;5;241m=\u001b[39m\u001b[38;5;124m'\u001b[39m\u001b[38;5;124m#\u001b[39m\u001b[38;5;124m'\u001b[39m)\n\u001b[0;32m----> 6\u001b[0m \u001b[43mcombo\u001b[49m\u001b[38;5;241;43m.\u001b[39;49m\u001b[43madd_term\u001b[49m\u001b[43m(\u001b[49m\u001b[38;5;124;43m'\u001b[39;49m\u001b[38;5;124;43mhttp://www.w3.org/2000/01/rdf-schema#label\u001b[39;49m\u001b[38;5;124;43m'\u001b[39;49m\u001b[43m,\u001b[49m\u001b[43m \u001b[49m\u001b[38;5;124;43m'\u001b[39;49m\u001b[38;5;124;43mobject_property\u001b[39;49m\u001b[38;5;124;43m'\u001b[39;49m\u001b[43m,\u001b[49m\u001b[43m \u001b[49m\u001b[43mdelimiter\u001b[49m\u001b[38;5;241;43m=\u001b[39;49m\u001b[38;5;124;43m'\u001b[39;49m\u001b[38;5;124;43m#\u001b[39;49m\u001b[38;5;124;43m'\u001b[39;49m\u001b[43m)\u001b[49m\n\u001b[1;32m      7\u001b[0m combo\u001b[38;5;241m.\u001b[39madd_term(\u001b[38;5;124m'\u001b[39m\u001b[38;5;124mhttp://www.w3.org/1999/02/22-rdf-syntax-ns#type\u001b[39m\u001b[38;5;124m'\u001b[39m, \u001b[38;5;124m'\u001b[39m\u001b[38;5;124mobject_property\u001b[39m\u001b[38;5;124m'\u001b[39m, delimiter\u001b[38;5;241m=\u001b[39m\u001b[38;5;124m'\u001b[39m\u001b[38;5;124m#\u001b[39m\u001b[38;5;124m'\u001b[39m)\n",
      "File \u001b[0;32m~/miniconda3/envs/rdf-wf-6/lib/python3.10/site-packages/pyscal_rdf/network/network.py:135\u001b[0m, in \u001b[0;36mOntologyNetwork.add_term\u001b[0;34m(self, uri, node_type, dm, rn, data_type, node_id, delimiter)\u001b[0m\n\u001b[1;32m    131\u001b[0m term \u001b[38;5;241m=\u001b[39m OntoTerm(uri, node_type\u001b[38;5;241m=\u001b[39mnode_type, dm \u001b[38;5;241m=\u001b[39mdm, \n\u001b[1;32m    132\u001b[0m     rn\u001b[38;5;241m=\u001b[39mrn, data_type\u001b[38;5;241m=\u001b[39mdata_type, node_id\u001b[38;5;241m=\u001b[39mnode_id,\n\u001b[1;32m    133\u001b[0m     delimiter\u001b[38;5;241m=\u001b[39mdelimiter)\n\u001b[1;32m    134\u001b[0m \u001b[38;5;28;01mif\u001b[39;00m \u001b[38;5;129;01mnot\u001b[39;00m namespace \u001b[38;5;129;01min\u001b[39;00m \u001b[38;5;28mself\u001b[39m\u001b[38;5;241m.\u001b[39monto\u001b[38;5;241m.\u001b[39mnamespaces\u001b[38;5;241m.\u001b[39mkeys():\n\u001b[0;32m--> 135\u001b[0m     \u001b[38;5;28;01mraise\u001b[39;00m \u001b[38;5;167;01mValueError\u001b[39;00m(\u001b[38;5;124m\"\u001b[39m\u001b[38;5;124mNamespace not found, first add namespace\u001b[39m\u001b[38;5;124m\"\u001b[39m)\n\u001b[1;32m    136\u001b[0m \u001b[38;5;28mself\u001b[39m\u001b[38;5;241m.\u001b[39monto\u001b[38;5;241m.\u001b[39mattributes[node_type][name] \u001b[38;5;241m=\u001b[39m term\n",
      "\u001b[0;31mValueError\u001b[0m: Namespace not found, first add namespace"
     ]
    }
   ],
   "source": [
    "combo.add_term('http://www.w3.org/ns/prov#Entity', 'class', delimiter='#')\n",
    "combo.add_term('http://www.w3.org/ns/prov#wasDerivedFrom', 'object_property', delimiter='#')\n",
    "combo.add_term('http://www.w3.org/ns/prov#wasGeneratedBy', 'object_property', delimiter='#')\n",
    "combo.add_term('http://www.w3.org/ns/prov#wasAssociatedWith', 'object_property', delimiter='#')\n",
    "combo.add_term('http://www.w3.org/ns/prov#actedOnBehalfOf', 'object_property', delimiter='#')\n",
    "combo.add_term('http://www.w3.org/2000/01/rdf-schema#label', 'object_property', delimiter='#')\n",
    "combo.add_term('http://www.w3.org/1999/02/22-rdf-syntax-ns#type', 'object_property', delimiter='#')"
   ]
  },
  {
   "cell_type": "code",
   "execution_count": 23,
   "id": "7a81aea6-aad5-4552-9c70-6405ab410d2b",
   "metadata": {},
   "outputs": [
    {
     "data": {
      "text/plain": [
       "'http://www.w3.org/ns/prov#actedOnBehalfOf'"
      ]
     },
     "execution_count": 23,
     "metadata": {},
     "output_type": "execute_result"
    }
   ],
   "source": [
    "prov.terms.prov.actedOnBehalfOf.uri"
   ]
  },
  {
   "cell_type": "code",
   "execution_count": 16,
   "id": "ae541ef0-08f7-416e-a593-db950b99197c",
   "metadata": {},
   "outputs": [],
   "source": [
    "combo.add_path(('cmso:Material', 'cmso:hasDefect', 'pldo:PlanarDefect'))\n",
    "combo.add_path(('cmso:Material', 'cmso:hasDefect', 'podo:Vacancy'))\n",
    "combo.add_path(('cmso:SimulationCell', 'podo:hasVacancyConcentration', 'float'))\n",
    "combo.add_path(('cmso:SimulationCell', 'podo:hasNumberOfVacancies', 'int'))\n",
    "combo.add_path(('cmso:ComputationalSample', 'prov:wasDerivedFrom', 'cmso:ComputationalSample'))\n",
    "combo.add_path(('cmso:ComputationalSample', 'prov:wasGeneratedBy', 'msmo:ComputationalMethod'))\n",
    "combo.add_path(('msmo:ComputationalMethod', 'prov:wasAssociatedWith', 'prov:SoftwareAgent'))\n",
    "#combo.add_path(('prov:SoftwareAgent', ))"
   ]
  },
  {
   "cell_type": "markdown",
   "id": "5f2e1c60-ac36-43d5-abd2-5828a1d8025c",
   "metadata": {},
   "source": [
    "Test a complex workflow query"
   ]
  },
  {
   "cell_type": "code",
   "execution_count": 22,
   "id": "3fa87ea8-8ab3-4381-9c52-1b9df2146fa8",
   "metadata": {},
   "outputs": [
    {
     "name": "stdout",
     "output_type": "stream",
     "text": [
      "PREFIX cmso: <http://purls.helmholtz-metadaten.de/cmso/>\n",
      "PREFIX qudt: <http://qudt.org/schema/qudt/>\n",
      "PREFIX pldo: <http://purls.helmholtz-metadaten.de/pldo/>\n",
      "PREFIX podo: <http://purls.helmholtz-metadaten.de/podo/>\n",
      "PREFIX prov: <http://www.w3.org/ns/prov#>\n",
      "PREFIX owl: <http://www.w3.org/2002/07/owl#>\n",
      "PREFIX msmo: <http://purls.helmholtz-metadaten.de/msmo/>\n",
      "PREFIX rdf: <http://www.w3.org/1999/02/22-rdf-syntax-ns#>\n",
      "SELECT DISTINCT ?ComputationalMethod ?SoftwareAgent\n",
      "WHERE {\n",
      "    ?ComputationalSample prov:wasGeneratedBy ?ComputationalMethod .\n",
      "    ?ComputationalSample prov:wasDerivedFrom ?Bundle .\n",
      "    ?Bundle prov:wasInfluencedBy ?SoftwareAgent .\n",
      "FILTER \n",
      "}\n"
     ]
    }
   ],
   "source": [
    "s = combo.create_query(combo.terms.cmso.ComputationalSample, [combo.terms.msmo.ComputationalMethod, combo.terms.prov.SoftwareAgent])\n",
    "print(s)"
   ]
  },
  {
   "cell_type": "markdown",
   "id": "74b3e951-a7dd-4a1e-9618-e2a86247dee3",
   "metadata": {},
   "source": [
    "Test a query"
   ]
  },
  {
   "cell_type": "code",
   "execution_count": 17,
   "id": "288f0e22-b16e-4bae-8c63-f01a3ed28e6f",
   "metadata": {},
   "outputs": [],
   "source": [
    "condition = (combo.terms.pldo.hasSigmaValue > 5)"
   ]
  },
  {
   "cell_type": "code",
   "execution_count": 18,
   "id": "6a34f8d9-d120-4560-b556-ca7836ac9151",
   "metadata": {},
   "outputs": [
    {
     "name": "stdout",
     "output_type": "stream",
     "text": [
      "PREFIX cmso: <http://purls.helmholtz-metadaten.de/cmso/>\n",
      "PREFIX qudt: <http://qudt.org/schema/qudt/>\n",
      "PREFIX pldo: <http://purls.helmholtz-metadaten.de/pldo/>\n",
      "PREFIX podo: <http://purls.helmholtz-metadaten.de/podo/>\n",
      "PREFIX prov: <http://www.w3.org/ns/prov#>\n",
      "PREFIX owl: <http://www.w3.org/2002/07/owl#>\n",
      "PREFIX msmo: <http://purls.helmholtz-metadaten.de/msmo/>\n",
      "PREFIX rdf: <http://www.w3.org/1999/02/22-rdf-syntax-ns#>\n",
      "SELECT DISTINCT ?hasSigmaValuevalue\n",
      "WHERE {\n",
      "    ?ComputationalSample cmso:hasMaterial ?AmorphousMaterial .\n",
      "    ?AmorphousMaterial cmso:hasDefect ?AntiphaseBoundary .\n",
      "    ?AntiphaseBoundary pldo:hasSigmaValue ?hasSigmaValuevalue .\n",
      "FILTER \n",
      "}\n"
     ]
    }
   ],
   "source": [
    "s = combo.create_query(combo.terms.cmso.ComputationalSample, \n",
    "                   [combo.terms.pldo.hasSigmaValue])\n",
    "print(s)"
   ]
  },
  {
   "cell_type": "code",
   "execution_count": null,
   "id": "337a7b2d-27e4-489f-9412-68efff19a337",
   "metadata": {},
   "outputs": [],
   "source": [
    "q = cmso.create_query('cmso:ComputationalSample', ['pldo:hasSigmaValuevalue', 'cmso:hasAngle_alphavalue'], values = ['val > 5 and val < 10'])\n",
    "print(q)"
   ]
  },
  {
   "cell_type": "code",
   "execution_count": 28,
   "id": "d06b0bc2-26f0-4474-a113-00b9563e09e4",
   "metadata": {},
   "outputs": [],
   "source": [
    "from rdflib import RDFS, RDF"
   ]
  },
  {
   "cell_type": "code",
   "execution_count": 29,
   "id": "1cc24b84-09ff-4e02-b397-c246d0b42c07",
   "metadata": {},
   "outputs": [
    {
     "data": {
      "text/plain": [
       "rdflib.term.URIRef('http://www.w3.org/1999/02/22-rdf-syntax-ns#type')"
      ]
     },
     "execution_count": 29,
     "metadata": {},
     "output_type": "execute_result"
    }
   ],
   "source": [
    "RDF.type"
   ]
  },
  {
   "cell_type": "code",
   "execution_count": null,
   "id": "234b1fa7-0d89-4a0f-b21b-cc04cfd6e10d",
   "metadata": {},
   "outputs": [],
   "source": []
  }
 ],
 "metadata": {
  "kernelspec": {
   "display_name": "Python 3 (ipykernel)",
   "language": "python",
   "name": "python3"
  },
  "language_info": {
   "codemirror_mode": {
    "name": "ipython",
    "version": 3
   },
   "file_extension": ".py",
   "mimetype": "text/x-python",
   "name": "python",
   "nbconvert_exporter": "python",
   "pygments_lexer": "ipython3",
   "version": "3.10.13"
  }
 },
 "nbformat": 4,
 "nbformat_minor": 5
}
