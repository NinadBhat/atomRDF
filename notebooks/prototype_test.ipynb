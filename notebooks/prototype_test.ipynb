{
 "cells": [
  {
   "cell_type": "code",
   "execution_count": 2,
   "id": "8c13e4ac-1e56-4bb0-bfa1-2007e83c3da6",
   "metadata": {
    "tags": []
   },
   "outputs": [],
   "source": [
    "from pyscal_rdf.encoder import NumpyArrayEncoder\n",
    "import json\n",
    "import numpy as np"
   ]
  },
  {
   "cell_type": "code",
   "execution_count": 3,
   "id": "9e125454-0356-496a-ada3-dfe6c9389a18",
   "metadata": {
    "tags": []
   },
   "outputs": [],
   "source": [
    "arr = np.linspace(0, 10, 100)"
   ]
  },
  {
   "cell_type": "code",
   "execution_count": 4,
   "id": "c9f9ba21-a7de-4a25-af60-7cfbe2b609ad",
   "metadata": {
    "tags": []
   },
   "outputs": [],
   "source": [
    "data = {\"array\": arr}"
   ]
  },
  {
   "cell_type": "code",
   "execution_count": 7,
   "id": "3a48f126-26e0-4603-9654-1dba32fcbcb2",
   "metadata": {
    "tags": []
   },
   "outputs": [],
   "source": [
    "dumpdata = json.dumps(data, cls=NumpyArrayEncoder)"
   ]
  },
  {
   "cell_type": "code",
   "execution_count": 14,
   "id": "6b935c5d-090e-40be-a0a3-cfa8a8d9bd6a",
   "metadata": {
    "tags": []
   },
   "outputs": [
    {
     "data": {
      "text/plain": [
       "(9.8989898989899, 9.8989898989899)"
      ]
     },
     "execution_count": 14,
     "metadata": {},
     "output_type": "execute_result"
    }
   ],
   "source": [
    "float(dumpdata.split(',')[-2]), arr[-2]"
   ]
  },
  {
   "cell_type": "code",
   "execution_count": 26,
   "id": "5beea807-12a0-4bd9-ba1b-ae3df5acfa1c",
   "metadata": {
    "tags": []
   },
   "outputs": [],
   "source": [
    "from pyscal.core import System\n",
    "from pyscal_rdf.rdfutils import convert_to_dict\n",
    "import pyscal_rdf.properties as prp"
   ]
  },
  {
   "cell_type": "code",
   "execution_count": 21,
   "id": "33accd2d-4383-4b81-a54c-e24a6dd8c2eb",
   "metadata": {
    "tags": []
   },
   "outputs": [
    {
     "name": "stdout",
     "output_type": "stream",
     "text": [
      "Fe\n"
     ]
    }
   ],
   "source": [
    "sys = System.from_structure(\"bcc\", repetitions=[1,1,1], element=\"Fe\")"
   ]
  },
  {
   "cell_type": "code",
   "execution_count": 25,
   "id": "820cf5e5-8eef-4404-8f44-54b1a4e80c25",
   "metadata": {
    "tags": []
   },
   "outputs": [],
   "source": [
    "info = convert_to_dict(sys)"
   ]
  },
  {
   "cell_type": "code",
   "execution_count": 38,
   "id": "79aba5b1-6f00-4d91-8247-5be9834e0eb5",
   "metadata": {
    "tags": []
   },
   "outputs": [],
   "source": [
    "from pyscal_rdf import StructureGraph\n",
    "from pyscal_rdf.queries import Query"
   ]
  },
  {
   "cell_type": "code",
   "execution_count": 39,
   "id": "6d7fbe7e-d110-4484-a69b-527468dc3173",
   "metadata": {
    "tags": []
   },
   "outputs": [],
   "source": [
    "s = StructureGraph()"
   ]
  },
  {
   "cell_type": "code",
   "execution_count": 40,
   "id": "7306af6b-57d6-46ab-bb24-0529b37bfd0a",
   "metadata": {
    "tags": []
   },
   "outputs": [
    {
     "name": "stdout",
     "output_type": "stream",
     "text": [
      "Fe\n"
     ]
    }
   ],
   "source": [
    "sys = s.create_element(\"Fe\")"
   ]
  },
  {
   "cell_type": "code",
   "execution_count": 41,
   "id": "4b24978c-688b-4c64-baf7-825bc6e11763",
   "metadata": {
    "tags": []
   },
   "outputs": [],
   "source": [
    "q = Query()"
   ]
  },
  {
   "cell_type": "code",
   "execution_count": 43,
   "id": "4c7ef429-c59b-4618-b0f7-2f55035f33ce",
   "metadata": {
    "tags": []
   },
   "outputs": [
    {
     "data": {
      "text/plain": [
       "[rdflib.term.BNode('N13cbfd6db6f84a0ca751446d94857ce7')]"
      ]
     },
     "execution_count": 43,
     "metadata": {},
     "output_type": "execute_result"
    }
   ],
   "source": [
    "q.sparql.sample_by_latticesystem(s, \"bcc\")"
   ]
  },
  {
   "cell_type": "code",
   "execution_count": 44,
   "id": "eb283bfe-a331-47f2-bf19-c2d4f253764e",
   "metadata": {
    "tags": []
   },
   "outputs": [],
   "source": [
    "struct_gb_1 = s.create_grain_boundary(axis=[0,0,1], \n",
    "                        sigma=5, \n",
    "                        gb_plane=[3, -1, 0],\n",
    "                        element='Fe')"
   ]
  },
  {
   "cell_type": "code",
   "execution_count": 46,
   "id": "cd08d556-7935-4678-96a2-314bcadb1af5",
   "metadata": {
    "tags": []
   },
   "outputs": [
    {
     "data": {
      "text/plain": [
       "[rdflib.term.BNode('Na1ff19039e73408d99c4b0c91b5f6982')]"
      ]
     },
     "execution_count": 46,
     "metadata": {},
     "output_type": "execute_result"
    }
   ],
   "source": [
    "q.sparql.sample_by_defect(s, \"symmetric tilt\")"
   ]
  },
  {
   "cell_type": "code",
   "execution_count": 47,
   "id": "b219b39e-151f-4a55-9524-df48ffc096fe",
   "metadata": {
    "tags": []
   },
   "outputs": [
    {
     "data": {
      "text/plain": [
       "[rdflib.term.BNode('Na1ff19039e73408d99c4b0c91b5f6982')]"
      ]
     },
     "execution_count": 47,
     "metadata": {},
     "output_type": "execute_result"
    }
   ],
   "source": [
    "q.sparql.sample_by_sigma(s, 5)"
   ]
  },
  {
   "cell_type": "code",
   "execution_count": 48,
   "id": "aef6ea4c-cd3a-4935-89ab-8b5bb8c6fcbf",
   "metadata": {
    "tags": []
   },
   "outputs": [
    {
     "data": {
      "text/plain": [
       "[rdflib.term.BNode('N13cbfd6db6f84a0ca751446d94857ce7'),\n",
       " rdflib.term.BNode('Na1ff19039e73408d99c4b0c91b5f6982')]"
      ]
     },
     "execution_count": 48,
     "metadata": {},
     "output_type": "execute_result"
    }
   ],
   "source": [
    "q.python.sample_by_altname(s, \"bcc\")"
   ]
  },
  {
   "cell_type": "code",
   "execution_count": null,
   "id": "6d2ef6b4-910e-427e-a8f5-625e0983334f",
   "metadata": {},
   "outputs": [],
   "source": []
  }
 ],
 "metadata": {
  "kernelspec": {
   "display_name": "Python 3 (ipykernel)",
   "language": "python",
   "name": "python3"
  },
  "language_info": {
   "codemirror_mode": {
    "name": "ipython",
    "version": 3
   },
   "file_extension": ".py",
   "mimetype": "text/x-python",
   "name": "python",
   "nbconvert_exporter": "python",
   "pygments_lexer": "ipython3",
   "version": "3.11.3"
  }
 },
 "nbformat": 4,
 "nbformat_minor": 5
}
