{
 "cells": [
  {
   "cell_type": "markdown",
   "metadata": {},
   "source": [
    "# Semantic operations\n",
    "\n",
    "This notebook demonstrates what the semantic operations between terms mean; and how they are useful for us"
   ]
  },
  {
   "cell_type": "code",
   "execution_count": 1,
   "metadata": {},
   "outputs": [],
   "source": [
    "from atomrdf import KnowledgeGraph"
   ]
  },
  {
   "cell_type": "code",
   "execution_count": 2,
   "metadata": {},
   "outputs": [],
   "source": [
    "kg = KnowledgeGraph()"
   ]
  },
  {
   "cell_type": "markdown",
   "metadata": {},
   "source": [
    "## Basic comparison operations\n",
    "\n",
    "Basic operators such as <, >, <=, >=, and =="
   ]
  },
  {
   "cell_type": "markdown",
   "metadata": {},
   "source": [
    "These operations are useful for adding conditions to the SPARQL query. When these operations are performed on a term, it is stored in its condition string. No other changes are needed. "
   ]
  },
  {
   "cell_type": "code",
   "execution_count": 3,
   "metadata": {},
   "outputs": [
    {
     "data": {
      "text/plain": [
       "cmso:hasElementRatio"
      ]
     },
     "execution_count": 3,
     "metadata": {},
     "output_type": "execute_result"
    }
   ],
   "source": [
    "kg.terms.cmso.hasElementRatio==1.0"
   ]
  },
  {
   "cell_type": "code",
   "execution_count": 4,
   "metadata": {},
   "outputs": [
    {
     "data": {
      "text/plain": [
       "'(?cmso:hasElementRatiovalue=\"1.0\"^^xsd:float)'"
      ]
     },
     "execution_count": 4,
     "metadata": {},
     "output_type": "execute_result"
    }
   ],
   "source": [
    "kg.terms.cmso.hasElementRatio._condition"
   ]
  },
  {
   "cell_type": "markdown",
   "metadata": {},
   "source": [
    "On calling it again, the condition is reset"
   ]
  },
  {
   "cell_type": "code",
   "execution_count": 5,
   "metadata": {},
   "outputs": [
    {
     "data": {
      "text/plain": [
       "cmso:hasElementRatio"
      ]
     },
     "execution_count": 5,
     "metadata": {},
     "output_type": "execute_result"
    }
   ],
   "source": [
    "kg.terms.cmso.hasElementRatio>=1.0"
   ]
  },
  {
   "cell_type": "code",
   "execution_count": 6,
   "metadata": {},
   "outputs": [
    {
     "data": {
      "text/plain": [
       "'(?cmso:hasElementRatiovalue>=\"1.0\"^^xsd:float)'"
      ]
     },
     "execution_count": 6,
     "metadata": {},
     "output_type": "execute_result"
    }
   ],
   "source": [
    "kg.terms.cmso.hasElementRatio._condition"
   ]
  },
  {
   "cell_type": "markdown",
   "metadata": {},
   "source": [
    "## Logical operators\n",
    "\n",
    "Logical operators currently supported are & and ||. These operators, when applied, aggregates the condition between two terms|"
   ]
  },
  {
   "cell_type": "code",
   "execution_count": 7,
   "metadata": {},
   "outputs": [
    {
     "data": {
      "text/plain": [
       "cmso:hasChemicalSymbol"
      ]
     },
     "execution_count": 7,
     "metadata": {},
     "output_type": "execute_result"
    }
   ],
   "source": [
    "(kg.terms.cmso.hasChemicalSymbol=='Al') & (kg.terms.cmso.hasElementRatio==1.0)"
   ]
  },
  {
   "cell_type": "markdown",
   "metadata": {},
   "source": [
    "The resulting hybrid condition is stored in the first term; the condition of the second term is refreshed"
   ]
  },
  {
   "cell_type": "code",
   "execution_count": 9,
   "metadata": {},
   "outputs": [],
   "source": [
    "kg.terms.cmso.hasElementRatio._condition"
   ]
  },
  {
   "cell_type": "markdown",
   "metadata": {},
   "source": [
    "An additional change that happens is that the condition parents of the term are also recorded"
   ]
  },
  {
   "cell_type": "code",
   "execution_count": 10,
   "metadata": {},
   "outputs": [
    {
     "data": {
      "text/plain": [
       "['cmso:hasElementRatiovalue']"
      ]
     },
     "execution_count": 10,
     "metadata": {},
     "output_type": "execute_result"
    }
   ],
   "source": [
    "kg.terms.cmso.hasChemicalSymbol._condition_parents"
   ]
  },
  {
   "cell_type": "markdown",
   "metadata": {},
   "source": [
    "## Shift operator\n",
    "\n",
    "The final class of operator we have is the >> operator. This can be used for resolving terms that has multiple paths. For example, rdfs:label which multiple entities can have. "
   ]
  },
  {
   "cell_type": "markdown",
   "metadata": {},
   "source": [
    "This operator simply adds to parents of the right-most one; therefore allowing the resolve the path correctly"
   ]
  },
  {
   "cell_type": "code",
   "execution_count": 11,
   "metadata": {},
   "outputs": [
    {
     "data": {
      "text/plain": [
       "rdfs:label"
      ]
     },
     "execution_count": 11,
     "metadata": {},
     "output_type": "execute_result"
    }
   ],
   "source": [
    "kg.terms.asmo.hasInputParameter>>kg.terms.rdfs.label"
   ]
  },
  {
   "cell_type": "code",
   "execution_count": 12,
   "metadata": {},
   "outputs": [
    {
     "data": {
      "text/plain": [
       "[asmo:hasInputParameter]"
      ]
     },
     "execution_count": 12,
     "metadata": {},
     "output_type": "execute_result"
    }
   ],
   "source": [
    "kg.terms.rdfs.label._parents"
   ]
  },
  {
   "cell_type": "code",
   "execution_count": 13,
   "metadata": {},
   "outputs": [
    {
     "data": {
      "text/plain": [
       "[]"
      ]
     },
     "execution_count": 13,
     "metadata": {},
     "output_type": "execute_result"
    }
   ],
   "source": [
    "kg.terms.asmo.hasInputParameter._parents"
   ]
  },
  {
   "cell_type": "markdown",
   "metadata": {},
   "source": [
    "That summarises all the possible options. Now we have to lay down the logic behind what will happen in a query formulation. "
   ]
  },
  {
   "cell_type": "markdown",
   "metadata": {},
   "source": [
    "## Query formulation\n",
    "\n",
    "A query has three main components:\n",
    "\n",
    "- source: term, from where the query originates. Should be returned.\n",
    "- destination(s): terms which should be found; these could have an associated condition or not.\n",
    "\n",
    "Let us consider the question: List all samples along with their space-group symbols with a composition of Al=1.0?\n",
    "\n",
    "In this particular case, our source is Sample, destinations are space group symbols (with no condition) and composition (with condition)\n",
    "\n",
    "The function call should therefore look like this:\n",
    "\n",
    "```\n",
    "query(source, [dest1, dest2=1.0 & dest3=40, dest4])\n",
    "```\n",
    "There can only be one destination with condition, this should raise an error otherwise."
   ]
  },
  {
   "cell_type": "markdown",
   "metadata": {},
   "source": [
    "Algorithm:\n",
    "\n",
    "- get destinations\n",
    "    - if single term, convert to list\n",
    "    - check if more than one of them have an associated condition -> if so throw error\n",
    "    - iterate through the list, if they have condition parents, add them explicitely\n",
    "- get source\n",
    "- construct the select distinct command:\n",
    "    - add source `variable_name`\n",
    "    - iterate over destinations, add their `variable_name`\n",
    "- constructing the spaql query path triples, by iterating over destinations\n",
    "    - for each destination:\n",
    "        - check if it has  parent by looking at `._parents`\n",
    "        - if it has `_parents`, called step path method\n",
    "        - else just get the path\n",
    "        - replace the ends of the path with `variable_name`\n",
    "        - if it deosnt exist in the collection of lines, add the lines\n",
    "- formulate the condition, given by the `FILTER` command:\n",
    "    - extract the filter text from the term\n",
    "    - loop over destinations:\n",
    "        - call `replace(destination.query_name, destination.variable_name)`\n",
    "- finish\n",
    "    \n"
   ]
  },
  {
   "cell_type": "markdown",
   "metadata": {},
   "source": []
  },
  {
   "cell_type": "code",
   "execution_count": null,
   "metadata": {},
   "outputs": [],
   "source": []
  },
  {
   "cell_type": "code",
   "execution_count": null,
   "metadata": {},
   "outputs": [],
   "source": []
  },
  {
   "cell_type": "code",
   "execution_count": null,
   "metadata": {},
   "outputs": [],
   "source": [
    "query = \"\"\"\n",
    "PREFIX cmso: <http://purls.helmholtz-metadaten.de/cmso/>\n",
    "SELECT DISTINCT ?symbol\n",
    "WHERE {\n",
    "    ?sample cmso:hasNumberOfAtoms ?number .\n",
    "    ?sample cmso:hasMaterial ?material .\n",
    "    ?material cmso:hasStructure ?structure .\n",
    "    ?structure cmso:hasSpaceGroupSymbol ?symbol .\n",
    "FILTER (?number=\"4\"^^xsd:integer)\n",
    "}\"\"\""
   ]
  },
  {
   "cell_type": "code",
   "execution_count": null,
   "metadata": {},
   "outputs": [],
   "source": [
    "kg.query_sample([kg.terms.cmso.hasSpaceGroupSymbol, kg.terms.cmso.hasNumberOfAtoms==4])"
   ]
  },
  {
   "cell_type": "code",
   "execution_count": null,
   "metadata": {},
   "outputs": [],
   "source": [
    "res = kg.query_sample( \n",
    "             [kg.ontology.terms.cmso.hasAltName=='bcc'])"
   ]
  },
  {
   "cell_type": "code",
   "execution_count": null,
   "metadata": {},
   "outputs": [],
   "source": [
    "res = kg.query_sample(kg.ontology.terms.pldo.SymmetricalTiltGrainBoundary)"
   ]
  },
  {
   "cell_type": "code",
   "execution_count": null,
   "metadata": {},
   "outputs": [],
   "source": [
    "res = kg.query_sample([kg.ontology.terms.pldo.SymmetricalTiltGrainBoundary, \n",
    "                     kg.ontology.terms.pldo.hasSigmaValue])"
   ]
  },
  {
   "cell_type": "code",
   "execution_count": null,
   "metadata": {},
   "outputs": [],
   "source": [
    "res = kg.query_sample(kg.ontology.terms.ldo.ScrewDislocation)\n"
   ]
  }
 ],
 "metadata": {
  "kernelspec": {
   "display_name": "workflow-rdf",
   "language": "python",
   "name": "python3"
  },
  "language_info": {
   "codemirror_mode": {
    "name": "ipython",
    "version": 3
   },
   "file_extension": ".py",
   "mimetype": "text/x-python",
   "name": "python",
   "nbconvert_exporter": "python",
   "pygments_lexer": "ipython3",
   "version": "3.1.-1"
  }
 },
 "nbformat": 4,
 "nbformat_minor": 2
}
