{
 "cells": [
  {
   "cell_type": "code",
   "execution_count": 1,
   "id": "a3392ffa-aa17-4b08-b7ff-94d21bd61f6d",
   "metadata": {
    "tags": []
   },
   "outputs": [],
   "source": [
    "from pyscal_rdf.network import OntologyNetwork"
   ]
  },
  {
   "cell_type": "code",
   "execution_count": 2,
   "id": "9a21e979-8497-4d0e-88f3-4452bab8b85d",
   "metadata": {
    "tags": []
   },
   "outputs": [],
   "source": [
    "n = OntologyNetwork()"
   ]
  },
  {
   "cell_type": "code",
   "execution_count": 10,
   "id": "1ce29502-3322-41fd-960b-e7d3d792cd74",
   "metadata": {
    "tags": []
   },
   "outputs": [
    {
     "name": "stdout",
     "output_type": "stream",
     "text": [
      "I3m\n",
      "[['Sample', 'cmso:hasMaterial', 'Material'], ['Material', 'cmso:hasStructure', 'CrystalStructure'], ['CrystalStructure', 'cmso:hasSpaceGroup', 'SpaceGroup'], ['SpaceGroup', 'cmso:hasSpaceGroupSymbol', 'SpaceGroupSymbol']]\n",
      "['I3m'] single_string\n"
     ]
    },
    {
     "data": {
      "text/plain": [
       "'PREFIX cmso: <https://purls.helmholtz-metadaten.de/cmso/> PREFIX pldo: <https://purls.helmholtz-metadaten.de/pldo/> PREFIX podo: <https://purls.helmholtz-metadaten.de/podo/> PREFIX rdf: <http://www.w3.org/1999/02/22-rdf-syntax-ns#> SELECT DISTINCT ?sample WHERE {     ?sample cmso:hasMaterial ?material .     ?material cmso:hasStructure ?crystalstructure .     ?crystalstructure cmso:hasSpaceGroup ?spacegroup .     ?spacegroup cmso:hasSpaceGroupSymbol ?spacegroupsymbol . FILTER (?spacegroupsymbol=\"I3m\"^^xsd:string) }'"
      ]
     },
     "execution_count": 10,
     "metadata": {},
     "output_type": "execute_result"
    }
   ],
   "source": [
    "triplets = n.formulate_query(\"SpaceGroupSymbol\", \"I3m\")\n",
    "triplets"
   ]
  },
  {
   "cell_type": "code",
   "execution_count": 9,
   "id": "4f8d7425-24ed-4d62-a562-22cb7be78130",
   "metadata": {},
   "outputs": [
    {
     "data": {
      "text/plain": [
       "['PREFIX cmso: <https://purls.helmholtz-metadaten.de/cmso/>',\n",
       " 'PREFIX pldo: <https://purls.helmholtz-metadaten.de/pldo/>',\n",
       " 'PREFIX podo: <https://purls.helmholtz-metadaten.de/podo/>',\n",
       " 'PREFIX rdf: <http://www.w3.org/1999/02/22-rdf-syntax-ns#>',\n",
       " 'SELECT DISTINCT ?sample',\n",
       " 'WHERE {',\n",
       " '    ?sample cmso:hasMaterial ?material .',\n",
       " '    ?material cmso:hasStructure ?crystalstructure .',\n",
       " '    ?crystalstructure cmso:hasSpaceGroup ?spacegroup .',\n",
       " '    ?spacegroup cmso:hasSpaceGroupSymbol ?spacegroupsymbol .']"
      ]
     },
     "execution_count": 9,
     "metadata": {},
     "output_type": "execute_result"
    }
   ],
   "source": [
    "query = n._formulate_query_path(triplets)\n",
    "query"
   ]
  },
  {
   "cell_type": "code",
   "execution_count": null,
   "id": "a8915d92-1e95-4612-ac71-fab71e662c86",
   "metadata": {
    "tags": []
   },
   "outputs": [],
   "source": [
    "xx"
   ]
  },
  {
   "cell_type": "code",
   "execution_count": null,
   "id": "150ff24b-9a17-4d14-aeda-ddc314a2a27b",
   "metadata": {},
   "outputs": [],
   "source": []
  }
 ],
 "metadata": {
  "kernelspec": {
   "display_name": "Python 3 (ipykernel)",
   "language": "python",
   "name": "python3"
  },
  "language_info": {
   "codemirror_mode": {
    "name": "ipython",
    "version": 3
   },
   "file_extension": ".py",
   "mimetype": "text/x-python",
   "name": "python",
   "nbconvert_exporter": "python",
   "pygments_lexer": "ipython3",
   "version": "3.11.3"
  }
 },
 "nbformat": 4,
 "nbformat_minor": 5
}
