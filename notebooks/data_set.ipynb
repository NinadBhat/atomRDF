{
 "cells": [
  {
   "cell_type": "code",
   "execution_count": 55,
   "id": "9a603df5-b7c8-49a7-8745-4055f8b2b31b",
   "metadata": {
    "tags": []
   },
   "outputs": [],
   "source": [
    "from pyscal_rdf import StructureGraph\n",
    "from pyscal3.core import System\n",
    "from pyscal_rdf.network.network import OntologyNetwork\n",
    "from rdflib import Graph, Literal, Namespace\n",
    "import copy\n",
    "import json\n",
    "from deepmerge import always_merger"
   ]
  },
  {
   "cell_type": "code",
   "execution_count": 2,
   "id": "b020cf69-527c-4e96-8f24-d1dbb3a91267",
   "metadata": {
    "tags": []
   },
   "outputs": [],
   "source": [
    "o = OntologyNetwork()"
   ]
  },
  {
   "cell_type": "code",
   "execution_count": 67,
   "id": "3b3d2dff-9f05-4722-9497-e7e4dbca5343",
   "metadata": {
    "tags": []
   },
   "outputs": [
    {
     "data": {
      "text/plain": [
       "{'cmso:hasAltName': cmso:hasAltName, 'cmso:hasName': cmso:hasName, 'cmso:hasAngle_alpha': cmso:hasAngle_alpha, 'cmso:hasAngle_beta': cmso:hasAngle_beta, 'cmso:hasAngle_gamma': cmso:hasAngle_gamma, 'cmso:hasChemicalSymbol': cmso:hasChemicalSymbol, 'cmso:hasSymbol': cmso:hasSymbol, 'cmso:hasComponent_x': cmso:hasComponent_x, 'cmso:hasComponent_y': cmso:hasComponent_y, 'cmso:hasComponent_z': cmso:hasComponent_z, 'cmso:hasCoordinationNumber': cmso:hasCoordinationNumber, 'cmso:hasElementRatio': cmso:hasElementRatio, 'cmso:hasLatticeSystem': cmso:hasLatticeSystem, 'cmso:hasLength_x': cmso:hasLength_x, 'cmso:hasLength_y': cmso:hasLength_y, 'cmso:hasLength_z': cmso:hasLength_z, 'cmso:hasNumberOfAtoms': cmso:hasNumberOfAtoms, 'cmso:hasRepetition_x': cmso:hasRepetition_x, 'cmso:hasRepetition_y': cmso:hasRepetition_y, 'cmso:hasRepetition_z': cmso:hasRepetition_z, 'cmso:hasSpaceGroupNumber': cmso:hasSpaceGroupNumber, 'cmso:hasSpaceGroupSymbol': cmso:hasSpaceGroupSymbol, 'cmso:hasVolume': cmso:hasVolume}"
      ]
     },
     "execution_count": 67,
     "metadata": {},
     "output_type": "execute_result"
    }
   ],
   "source": [
    "o.attributes['data_property']"
   ]
  },
  {
   "cell_type": "code",
   "execution_count": 60,
   "id": "477862f5-5b1c-4e8a-b877-ac2fb86ec6a3",
   "metadata": {
    "tags": []
   },
   "outputs": [],
   "source": [
    "def dict_merge(dct, merge_dct):\n",
    "    for k, v in merge_dct.items():\n",
    "        if (k in dct and isinstance(dct[k], dict) and isinstance(merge_dct[k], dict)):  #noqa\n",
    "            dict_merge(dct[k], merge_dct[k])\n",
    "        else:\n",
    "            dct[k] = merge_dct[k]\n",
    "            \n",
    "def create_dict(datadict, path):\n",
    "    for p in path:\n",
    "        datadict[str(p[0])] ={}\n",
    "        datadict = datadict[str(p[0])]\n",
    "            #exists\n",
    "    datadict[str(p[0])] = {str(p[-1]): None}\n",
    "    \n",
    "collected_dicts = []\n",
    "\n",
    "for key in o.attributes['data_node']:\n",
    "    try:\n",
    "        path = o.get_path_from_sample(key)\n",
    "        datadict = {}\n",
    "        create_dict(datadict, path)\n",
    "        collected_dicts.append(copy.deepcopy(datadict))\n",
    "    except:\n",
    "        pass"
   ]
  },
  {
   "cell_type": "code",
   "execution_count": 61,
   "id": "465233b0-fbe3-4483-bbe4-074a6863bf47",
   "metadata": {
    "tags": []
   },
   "outputs": [],
   "source": [
    "org_dict = collected_dicts[0]\n",
    "for dd in collected_dicts[1:]:\n",
    "    always_merger.merge(org_dict, dd)"
   ]
  },
  {
   "cell_type": "code",
   "execution_count": 62,
   "id": "be9abaae-15f6-4259-8858-00ac559fdb1c",
   "metadata": {
    "tags": []
   },
   "outputs": [],
   "source": [
    "with open('a.json', 'w') as fout:\n",
    "    json.dump(org_dict, fout)"
   ]
  },
  {
   "cell_type": "code",
   "execution_count": 63,
   "id": "ba801924-bc8d-482a-90aa-1978a11189dd",
   "metadata": {
    "tags": []
   },
   "outputs": [],
   "source": [
    "with open('a.yaml', 'w') as fout:\n",
    "    yaml.safe_dump(org_dict, fout)"
   ]
  },
  {
   "cell_type": "code",
   "execution_count": null,
   "id": "3ad6b74c-adf5-47c9-a6e5-4c193640abf4",
   "metadata": {},
   "outputs": [],
   "source": []
  }
 ],
 "metadata": {
  "kernelspec": {
   "display_name": "Python 3 (ipykernel)",
   "language": "python",
   "name": "python3"
  },
  "language_info": {
   "codemirror_mode": {
    "name": "ipython",
    "version": 3
   },
   "file_extension": ".py",
   "mimetype": "text/x-python",
   "name": "python",
   "nbconvert_exporter": "python",
   "pygments_lexer": "ipython3",
   "version": "3.11.5"
  }
 },
 "nbformat": 4,
 "nbformat_minor": 5
}
