{
 "cells": [
  {
   "cell_type": "code",
   "execution_count": 9,
   "id": "0480f3cb-a9df-4dff-89b6-95747572fb39",
   "metadata": {},
   "outputs": [],
   "source": [
    "from owlready2 import *"
   ]
  },
  {
   "cell_type": "code",
   "execution_count": 10,
   "id": "cdab09a3-b991-4c6f-ab11-3d630293e2a9",
   "metadata": {},
   "outputs": [],
   "source": [
    "onto = get_ontology(\"http://purls.helmholtz-metadaten.de/msmo/\")"
   ]
  },
  {
   "cell_type": "code",
   "execution_count": 11,
   "id": "8f470001-3a9c-4cd0-817f-57fa06a10da0",
   "metadata": {},
   "outputs": [],
   "source": [
    "class Calculation(Thing):\n",
    "    namespace = onto\n",
    "\n",
    "class hasMethod(Calculation >> ComputationalMethod):\n",
    "    pass\n",
    "    \n",
    "class ComputationalMethod(Thing):\n",
    "    namespace = onto\n",
    "\n",
    "#Atomistic Method\n",
    "class AtomisticMethod(ComputationalMethod):\n",
    "    pass\n",
    "\n",
    "class DensityFunctionalTheory(AtomisticMethod):\n",
    "    pass\n",
    "\n",
    "class MolecularDynamics(AtomisticMethod):\n",
    "    pass\n",
    "\n",
    "class MolecularDynamicsMinimization(MolecularDynamics):\n",
    "    pass\n",
    "\n",
    "class MolecularDynamicsNPT(MolecularDynamics):\n",
    "    pass\n",
    "\n",
    "class MolecularDynamicsNVT(MolecularDynamics):\n",
    "    pass\n",
    "\n",
    "#data properties\n",
    "class hasPressure(MolecularDynamics >> float):\n",
    "    pass\n",
    "\n",
    "class hasTemperature(MolecularDynamics >> float):\n",
    "    pass\n",
    "\n",
    "class usesPotential(MolecularDynamics >> str):\n",
    "    pass\n",
    "\n",
    "class AbinitioMolecularDynamics(AtomisticMethod):\n",
    "    pass\n",
    "\n",
    "\n",
    "#Monte Carlo\n",
    "class MonteCarloMethod(ComputationalMethod):\n",
    "    pass\n",
    "\n",
    "class KineticMonteCarloMethod(MonteCarloMethod):\n",
    "    pass"
   ]
  },
  {
   "cell_type": "code",
   "execution_count": 12,
   "id": "677852fc-e05a-4922-a808-47761f25ffcb",
   "metadata": {},
   "outputs": [],
   "source": [
    "onto.save(file = \"msmo.owl\", format = \"rdfxml\")"
   ]
  },
  {
   "cell_type": "code",
   "execution_count": null,
   "id": "22b6e284-2b54-4851-a379-1a8df26f4705",
   "metadata": {},
   "outputs": [],
   "source": []
  }
 ],
 "metadata": {
  "kernelspec": {
   "display_name": "Python 3 (ipykernel)",
   "language": "python",
   "name": "python3"
  },
  "language_info": {
   "codemirror_mode": {
    "name": "ipython",
    "version": 3
   },
   "file_extension": ".py",
   "mimetype": "text/x-python",
   "name": "python",
   "nbconvert_exporter": "python",
   "pygments_lexer": "ipython3",
   "version": "3.10.13"
  }
 },
 "nbformat": 4,
 "nbformat_minor": 5
}
