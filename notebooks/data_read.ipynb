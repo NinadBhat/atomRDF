{
 "cells": [
  {
   "cell_type": "markdown",
   "id": "bec4e0e1-2e16-4241-89e0-a7bbf8a53d8c",
   "metadata": {},
   "source": [
    "# DC3 dataset"
   ]
  },
  {
   "cell_type": "code",
   "execution_count": 5,
   "id": "df95f07a-00a8-42f9-9a18-ba8532a5a512",
   "metadata": {
    "tags": []
   },
   "outputs": [],
   "source": [
    "from pyscal3.core import System\n",
    "import pyscal3.crystal_structures as pcs"
   ]
  },
  {
   "cell_type": "code",
   "execution_count": 3,
   "id": "00abae5c-4123-4456-8144-cf6362ea2bfd",
   "metadata": {
    "tags": []
   },
   "outputs": [],
   "source": [
    "sys = System('datasets/T_0.04Tm_snapshot_1')"
   ]
  },
  {
   "cell_type": "markdown",
   "id": "2be601e0-9ea5-4c63-9cd6-67e99fa95306",
   "metadata": {},
   "source": [
    "Lacks all information about the underlying structure:\n",
    "\n",
    "- species (LAMMPS)\n",
    "- lattice constant \n",
    "- Crystal structure name\n",
    "- Bravais lattice\n",
    "- Basis positions\n",
    "- Basis occupancy\n",
    "- Lattice vectors\n",
    "- Space group symbol (?)\n",
    "- Space group name (?)"
   ]
  },
  {
   "cell_type": "markdown",
   "id": "5ba58cff-3b6b-44b9-ad5b-92e14e61d517",
   "metadata": {},
   "source": [
    "How we do currently"
   ]
  },
  {
   "cell_type": "code",
   "execution_count": 6,
   "id": "dd472cdf-ef2c-4ad4-9852-39370c715f5a",
   "metadata": {
    "tags": []
   },
   "outputs": [
    {
     "name": "stdout",
     "output_type": "stream",
     "text": [
      "Al\n"
     ]
    }
   ],
   "source": [
    "atoms, box, sdict = pcs.make_crystal('fcc', lattice_constant=1,\n",
    "     element='Al', return_structure_dict=True)"
   ]
  },
  {
   "cell_type": "code",
   "execution_count": 7,
   "id": "aed4d624-b25a-48b3-8bbe-6140acc5e711",
   "metadata": {
    "tags": []
   },
   "outputs": [
    {
     "data": {
      "text/plain": [
       "{'natoms': 4,\n",
       " 'species': [1, 1, 1, 1],\n",
       " 'scaling_factors': [1.0, 1.0, 1.0],\n",
       " 'positions': [[0.0, 0.0, 0.0],\n",
       "  [0.5, 0.0, 0.5],\n",
       "  [0.0, 0.5, 0.5],\n",
       "  [0.5, 0.5, 0.0]]}"
      ]
     },
     "execution_count": 7,
     "metadata": {},
     "output_type": "execute_result"
    }
   ],
   "source": [
    "sdict"
   ]
  },
  {
   "cell_type": "code",
   "execution_count": null,
   "id": "712b32c7-1d6b-4fbb-ae65-64dbebc5a3b2",
   "metadata": {},
   "outputs": [],
   "source": []
  }
 ],
 "metadata": {
  "kernelspec": {
   "display_name": "Python 3 (ipykernel)",
   "language": "python",
   "name": "python3"
  },
  "language_info": {
   "codemirror_mode": {
    "name": "ipython",
    "version": 3
   },
   "file_extension": ".py",
   "mimetype": "text/x-python",
   "name": "python",
   "nbconvert_exporter": "python",
   "pygments_lexer": "ipython3",
   "version": "3.11.5"
  }
 },
 "nbformat": 4,
 "nbformat_minor": 5
}
