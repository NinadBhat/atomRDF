{
 "cells": [
  {
   "cell_type": "code",
   "execution_count": 1,
   "id": "d1ada248-cd8d-4132-b677-7c92bffd7ce6",
   "metadata": {
    "tags": []
   },
   "outputs": [],
   "source": [
    "from pyscal_rdf import StructureGraph"
   ]
  },
  {
   "cell_type": "markdown",
   "id": "81da30b2-a9a4-453c-be6e-b29bbe1e74f8",
   "metadata": {},
   "source": [
    "Start two graphs"
   ]
  },
  {
   "cell_type": "code",
   "execution_count": 2,
   "id": "7d906960-ffc2-4437-abae-e8247b68e65b",
   "metadata": {
    "tags": []
   },
   "outputs": [],
   "source": [
    "g1 = StructureGraph(store='SQLAlchemy', store_file=\"testfile_multi_1.db\")\n",
    "g2 = StructureGraph(store='SQLAlchemy', store_file=\"testfile_multi_1.db\")"
   ]
  },
  {
   "cell_type": "markdown",
   "id": "e5dbb572-02e7-423a-8b45-f9a06cdbd01b",
   "metadata": {},
   "source": [
    "Create some structures in g1"
   ]
  },
  {
   "cell_type": "code",
   "execution_count": 3,
   "id": "7791ad71-3048-4dcd-85c5-258c8f69ad39",
   "metadata": {
    "tags": []
   },
   "outputs": [
    {
     "name": "stdout",
     "output_type": "stream",
     "text": [
      "Fe\n"
     ]
    }
   ],
   "source": [
    "struct_Fe = g1.create_element(\"Fe\")"
   ]
  },
  {
   "cell_type": "markdown",
   "id": "01aebaf1-2df0-4e50-a898-7892cb8aa316",
   "metadata": {},
   "source": [
    "Check samples in g1"
   ]
  },
  {
   "cell_type": "code",
   "execution_count": 4,
   "id": "2a7a84f0-18cf-4fba-9229-a2dfa8758ece",
   "metadata": {
    "tags": []
   },
   "outputs": [
    {
     "data": {
      "text/plain": [
       "1"
      ]
     },
     "execution_count": 4,
     "metadata": {},
     "output_type": "execute_result"
    }
   ],
   "source": [
    "g1.n_samples"
   ]
  },
  {
   "cell_type": "markdown",
   "id": "93d7d162-ae22-4808-b30b-255ed371222d",
   "metadata": {},
   "source": [
    "Check samples in g2"
   ]
  },
  {
   "cell_type": "code",
   "execution_count": 5,
   "id": "231ab4aa-7f12-4773-a183-9d347b366e56",
   "metadata": {
    "tags": []
   },
   "outputs": [
    {
     "data": {
      "text/plain": [
       "1"
      ]
     },
     "execution_count": 5,
     "metadata": {},
     "output_type": "execute_result"
    }
   ],
   "source": [
    "g2.n_samples"
   ]
  },
  {
   "cell_type": "markdown",
   "id": "d3ca1eed-96e3-435f-acdc-73c6c143bd1b",
   "metadata": {},
   "source": [
    "Create some structures in g2"
   ]
  },
  {
   "cell_type": "code",
   "execution_count": 6,
   "id": "39b71054-a038-408b-8ce9-11825de18d1a",
   "metadata": {
    "tags": []
   },
   "outputs": [
    {
     "name": "stdout",
     "output_type": "stream",
     "text": [
      "Si\n"
     ]
    }
   ],
   "source": [
    "struct = g2.create_element(\"Si\")"
   ]
  },
  {
   "cell_type": "markdown",
   "id": "4d56db8a-af5a-4cc2-ade8-5fedc0ccb0cf",
   "metadata": {},
   "source": [
    "Check samples in g1 again"
   ]
  },
  {
   "cell_type": "code",
   "execution_count": 7,
   "id": "8b3a0366-71f8-4820-8186-88d2050d6beb",
   "metadata": {
    "tags": []
   },
   "outputs": [
    {
     "data": {
      "text/plain": [
       "2"
      ]
     },
     "execution_count": 7,
     "metadata": {},
     "output_type": "execute_result"
    }
   ],
   "source": [
    "g1.n_samples"
   ]
  },
  {
   "cell_type": "markdown",
   "id": "d454f6b6-6d13-48d1-93dd-0d1e4888e49d",
   "metadata": {},
   "source": [
    "Start a new graph with the same file"
   ]
  },
  {
   "cell_type": "code",
   "execution_count": 8,
   "id": "da183896-c014-42ba-8bc7-1a7a01a54266",
   "metadata": {
    "tags": []
   },
   "outputs": [],
   "source": [
    "g3 = StructureGraph(store='SQLAlchemy', store_file=\"testfile_multi_1.db\")"
   ]
  },
  {
   "cell_type": "code",
   "execution_count": 9,
   "id": "93d9a52f-1764-4e2c-b873-3cf88194e1a3",
   "metadata": {
    "tags": []
   },
   "outputs": [
    {
     "data": {
      "text/plain": [
       "2"
      ]
     },
     "execution_count": 9,
     "metadata": {},
     "output_type": "execute_result"
    }
   ],
   "source": [
    "g3.n_samples"
   ]
  },
  {
   "cell_type": "markdown",
   "id": "dbdac1c2-bebf-439b-b937-e623a78bcada",
   "metadata": {},
   "source": [
    "Start a new graph with same file but different identifier"
   ]
  },
  {
   "cell_type": "code",
   "execution_count": 10,
   "id": "9c8703ce-4d96-4931-9179-c831dd8b2114",
   "metadata": {
    "tags": []
   },
   "outputs": [],
   "source": [
    "g4 = StructureGraph(store='SQLAlchemy', store_file=\"testfile_multi_1.db\", identifier=\"second graph\")"
   ]
  },
  {
   "cell_type": "code",
   "execution_count": 11,
   "id": "f3076282-bed6-4de8-a153-a38efae40790",
   "metadata": {
    "tags": []
   },
   "outputs": [
    {
     "data": {
      "text/plain": [
       "0"
      ]
     },
     "execution_count": 11,
     "metadata": {},
     "output_type": "execute_result"
    }
   ],
   "source": [
    "g4.n_samples"
   ]
  },
  {
   "cell_type": "markdown",
   "id": "d04c9b2d-004c-4b14-8b35-dc7afd651ec6",
   "metadata": {},
   "source": [
    "No samples are recorded there"
   ]
  }
 ],
 "metadata": {
  "kernelspec": {
   "display_name": "Python 3 (ipykernel)",
   "language": "python",
   "name": "python3"
  },
  "language_info": {
   "codemirror_mode": {
    "name": "ipython",
    "version": 3
   },
   "file_extension": ".py",
   "mimetype": "text/x-python",
   "name": "python",
   "nbconvert_exporter": "python",
   "pygments_lexer": "ipython3",
   "version": "3.10.11"
  }
 },
 "nbformat": 4,
 "nbformat_minor": 5
}
