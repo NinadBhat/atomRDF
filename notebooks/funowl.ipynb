{
 "cells": [
  {
   "cell_type": "code",
   "execution_count": 15,
   "id": "209bed88-6265-46bf-858c-f172024aa4db",
   "metadata": {
    "scrolled": true
   },
   "outputs": [],
   "source": [
    "from rdflib import Graph\n",
    "from funowl.converters.functional_converter import to_python\n",
    "\n",
    "# The functional syntax input can be a string, URL, file loc or open file\n",
    "onto = to_python(\"pyscal_rdf/data/cmso.owl\")"
   ]
  },
  {
   "cell_type": "code",
   "execution_count": 17,
   "id": "6f78142c-ce92-41c6-b267-85c169eabdd9",
   "metadata": {},
   "outputs": [
    {
     "data": {
      "text/plain": [
       "OntologyDocument(prefixDeclarations=<funowl.prefix_declarations.PrefixDeclarations object at 0x7fdc06947730>, ontology=Ontology(iri=None, version=None, directlyImportsDocuments=[], axioms=[], annotations=[]))"
      ]
     },
     "execution_count": 17,
     "metadata": {},
     "output_type": "execute_result"
    }
   ],
   "source": [
    "onto"
   ]
  },
  {
   "cell_type": "code",
   "execution_count": null,
   "id": "f8b21676-2bcf-48a0-a8d3-99d80f3f13d9",
   "metadata": {},
   "outputs": [],
   "source": []
  }
 ],
 "metadata": {
  "kernelspec": {
   "display_name": "Python 3 (ipykernel)",
   "language": "python",
   "name": "python3"
  },
  "language_info": {
   "codemirror_mode": {
    "name": "ipython",
    "version": 3
   },
   "file_extension": ".py",
   "mimetype": "text/x-python",
   "name": "python",
   "nbconvert_exporter": "python",
   "pygments_lexer": "ipython3",
   "version": "3.10.12"
  }
 },
 "nbformat": 4,
 "nbformat_minor": 5
}
