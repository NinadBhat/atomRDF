{
 "cells": [
  {
   "cell_type": "code",
   "execution_count": 52,
   "id": "01a625df-df2b-4e77-bc5d-10d56309001d",
   "metadata": {},
   "outputs": [],
   "source": [
    "from rdflib import Graph, URIRef, BNode\n",
    "import networkx as nx\n",
    "from pyscal_rdf.network import Network\n",
    "import numpy as np"
   ]
  },
  {
   "cell_type": "code",
   "execution_count": 5,
   "id": "43951a55-2676-4c2f-99a6-9f206b4be357",
   "metadata": {},
   "outputs": [
    {
     "data": {
      "text/plain": [
       "<Graph identifier=Nf404f6609b18440595f7166a76a14b67 (<class 'rdflib.graph.Graph'>)>"
      ]
     },
     "execution_count": 5,
     "metadata": {},
     "output_type": "execute_result"
    }
   ],
   "source": [
    "g = Graph()\n",
    "#g.parse(\"http://purls.helmholtz-metadaten.de/cmso/\", format=\"xml\")\n",
    "g.parse(\"../pyscal_rdf/data/cmso.owl\", format='xml')"
   ]
  },
  {
   "cell_type": "markdown",
   "id": "ac8731b4-dfb5-4180-a30d-0fcf5b7a5d45",
   "metadata": {},
   "source": [
    "Interesting quantities we need:\n",
    "\n",
    "- http://www.w3.org/2000/01/rdf-schema#domain\n",
    "- http://www.w3.org/2000/01/rdf-schema#range\n",
    "- http://www.w3.org/2002/07/owl#ObjectProperty\n",
    "- http://www.w3.org/2002/07/owl#DatatypeProperty\n",
    "- http://www.w3.org/2002/07/owl#Class\n",
    "- http://www.w3.org/2002/07/owl#AnnotationProperty"
   ]
  },
  {
   "cell_type": "code",
   "execution_count": 53,
   "id": "c46db803-a0a5-4eca-8375-34c700100931",
   "metadata": {},
   "outputs": [],
   "source": [
    "class OntologyNetwork:\n",
    "    def __init__(self, owlfile=None):\n",
    "        #super().__init__()\n",
    "        self.object_property_list = None\n",
    "        self.data_property_list = None\n",
    "        self.class_list = None\n",
    "        if owlfile is not None:\n",
    "            self.parse(owlfile)\n",
    "        \n",
    "    def parse(self, owlfile):\n",
    "        self.g = Graph()\n",
    "        self.ng = nx.DiGraph()\n",
    "        self.g.parse(owlfile, format='xml')\n",
    "        self._get_object_property()\n",
    "        self._get_datatype_property()\n",
    "        self._get_classes()\n",
    "        \n",
    "    def _get_object_property(self):\n",
    "        obj_props = []\n",
    "        for s in self.g.triples((None, None, URIRef(\"http://www.w3.org/2002/07/owl#ObjectProperty\"))):\n",
    "            obj_props.append(s[0])\n",
    "        self.object_property_list = obj_props\n",
    "\n",
    "    def _get_datatype_property(self):\n",
    "        data_props = []\n",
    "        for s in self.g.triples((None, None, URIRef(\"http://www.w3.org/2002/07/owl#DatatypeProperty\"))):\n",
    "            data_props.append(s[0])\n",
    "        self.data_property_list = data_props\n",
    "\n",
    "    def _get_classes(self):\n",
    "        classes = []\n",
    "        for s in self.g.triples((None, None, URIRef(\"http://www.w3.org/2002/07/owl#Class\"))):\n",
    "            classes.append(s[0])\n",
    "            self.ng.add_node(s[0], node_type='class')\n",
    "        self.class_list = classes\n",
    "\n",
    "    def _get_domain_and_range(self):\n",
    "        for prop in self.object_property_list:\n",
    "            domain = list([s[2] for s in self.g.triples((prop, URIRef('http://www.w3.org/2000/01/rdf-schema#domain'), None))])\n",
    "            range = list([s[2] for s in self.g.triples((prop, URIRef('http://www.w3.org/2000/01/rdf-schema#range'), None))])\n",
    "            print(\"-------------------------\")\n",
    "            print(prop)\n",
    "            print(domain)\n",
    "            print(range)\n",
    "\n",
    "    def _parse_bnode(self, bnode, class_to_add=[], class_to_delete=[]):\n",
    "        \"\"\"\n",
    "        Parse a bnode\n",
    "\n",
    "        Notes\n",
    "        -----\n",
    "        There are three possibilities: (1) unionOf: which gives another BNode\n",
    "        then (2) first: gives one class of the union\n",
    "        then (3) rest: gives a Bnode\n",
    "            rest BNode -> first -> Class\n",
    "            rest -> Nil\n",
    "        \"\"\"\n",
    "        #first search for union, then its a base node\n",
    "        res = list([s for s in self.g.triples((bnode, URIRef('http://www.w3.org/2002/07/owl#unionOf'), None))])\n",
    "        if len(res)>0:\n",
    "            target_bnode = res[0][2]\n",
    "            #now chec if instead we get the first term\n",
    "            #call this func again\n",
    "            self._parse_bnode(target_bnode, class_to_add, class_to_delete)\n",
    "        res = list([s for s in self.g.triples((bnode, URIRef('http://www.w3.org/1999/02/22-rdf-syntax-ns#first'), None))])\n",
    "        if len(res)>0:\n",
    "            class_to_add.append(res[0][2])\n",
    "            class_to_delete.append(res[0][0])\n",
    "            #we would also get a rest term\n",
    "            r_res = list([s for s in self.g.triples((bnode, URIRef('http://www.w3.org/1999/02/22-rdf-syntax-ns#rest'), None))])\n",
    "            if len(r_res)>0:\n",
    "                #we can get either nil\n",
    "                if r_res[0][2] == URIRef('http://www.w3.org/1999/02/22-rdf-syntax-ns#nil'):\n",
    "                    #we are done\n",
    "                    return class_to_add, class_to_delete\n",
    "                else:\n",
    "                    target_bnode = r_res[0][2]\n",
    "                    self._parse_bnode(target_bnode, class_to_add, class_to_delete)\n",
    "    def parse_bnodes(self):\n",
    "        class_to_add = []\n",
    "        class_to_delete = []\n",
    "        for cls in self.class_list:\n",
    "            if isinstance(cls,BNode):\n",
    "                self._parse_bnode(cls, class_to_add, class_to_delete)\n",
    "        class_to_add = np.unique(class_to_add)\n",
    "        class_to_delete = np.unique(class_to_delete)\n",
    "        "
   ]
  },
  {
   "cell_type": "code",
   "execution_count": 54,
   "id": "9eda2d60-9473-4575-8a41-b65140f8f2be",
   "metadata": {},
   "outputs": [],
   "source": [
    "o = OntologyNetwork(\"../pyscal_rdf/data/cmso.owl\")"
   ]
  },
  {
   "cell_type": "code",
   "execution_count": 55,
   "id": "dc3aebfa-fe59-4b73-9635-ce09b109fa59",
   "metadata": {
    "scrolled": true
   },
   "outputs": [
    {
     "data": {
      "text/plain": [
       "(array(['http://purls.helmholtz-metadaten.de/cmso/Atom',\n",
       "        'http://purls.helmholtz-metadaten.de/cmso/Basis',\n",
       "        'http://purls.helmholtz-metadaten.de/cmso/LatticeParameter',\n",
       "        'http://purls.helmholtz-metadaten.de/cmso/Length',\n",
       "        'http://purls.helmholtz-metadaten.de/cmso/SimulationCell',\n",
       "        'http://purls.helmholtz-metadaten.de/cmso/UnitCell'], dtype='<U57'),\n",
       " array(['N250aafdf40244753a02df505dae3ca8a',\n",
       "        'N33afaa42a8b74d5d9aafcac60027e0fc',\n",
       "        'N4340c32be14f45e39175f798466b5e44',\n",
       "        'N579ec6001b06409cb7566c14790fcd9b',\n",
       "        'N6b4530a20f6648b2ba5b46560276da85',\n",
       "        'N7a1b6a4a889943abae2a95c419ec3979',\n",
       "        'N7a573e1b217045f29311c434bb8ca795',\n",
       "        'N8dbe204392c94de08c1bf4ba3eefb19c',\n",
       "        'Nbee36b7f12b442f0b8369298248d2f5b',\n",
       "        'Nd4eb367b4e1b48da88b00cea293610bf',\n",
       "        'Ndf3fa3ff3eef4230954cd317a4040a08',\n",
       "        'Neb51e55aba7045f999aaa6aad984712b'], dtype='<U33'))"
      ]
     },
     "execution_count": 55,
     "metadata": {},
     "output_type": "execute_result"
    }
   ],
   "source": [
    "o.parse_bnodes()"
   ]
  },
  {
   "cell_type": "code",
   "execution_count": null,
   "id": "ec1894b9-6a86-4266-b53b-44f9a0a6ebe2",
   "metadata": {},
   "outputs": [],
   "source": [
    "def parse_bnodes(bnode):\n",
    "    "
   ]
  },
  {
   "cell_type": "code",
   "execution_count": 39,
   "id": "2d756c4a-ebff-4aa3-a0d2-532629c1ce2e",
   "metadata": {},
   "outputs": [
    {
     "name": "stdout",
     "output_type": "stream",
     "text": [
      "(rdflib.term.BNode('Nac2cb41d1f7945998d81e8db5cca8cec'), rdflib.term.URIRef('http://www.w3.org/2002/07/owl#unionOf'), rdflib.term.BNode('Nbb9ef20d990a4eee9da802828006194c'))\n",
      "(rdflib.term.BNode('Nac2cb41d1f7945998d81e8db5cca8cec'), rdflib.term.URIRef('http://www.w3.org/1999/02/22-rdf-syntax-ns#type'), rdflib.term.URIRef('http://www.w3.org/2002/07/owl#Class'))\n"
     ]
    }
   ],
   "source": [
    "for s in o.g:\n",
    "    if s[0] == BNode('Nac2cb41d1f7945998d81e8db5cca8cec'):\n",
    "        print(s)"
   ]
  },
  {
   "cell_type": "code",
   "execution_count": 40,
   "id": "b153048d-e4b5-4c51-86be-ec9812c9fcb0",
   "metadata": {},
   "outputs": [
    {
     "name": "stdout",
     "output_type": "stream",
     "text": [
      "(rdflib.term.BNode('Nbb9ef20d990a4eee9da802828006194c'), rdflib.term.URIRef('http://www.w3.org/1999/02/22-rdf-syntax-ns#first'), rdflib.term.URIRef('http://purls.helmholtz-metadaten.de/cmso/SimulationCell'))\n",
      "(rdflib.term.BNode('Nbb9ef20d990a4eee9da802828006194c'), rdflib.term.URIRef('http://www.w3.org/1999/02/22-rdf-syntax-ns#rest'), rdflib.term.BNode('N28fec1db343247ea85888e9360c561e1'))\n"
     ]
    }
   ],
   "source": [
    "for s in o.g:\n",
    "    if s[0] == BNode('Nbb9ef20d990a4eee9da802828006194c'):\n",
    "        print(s)"
   ]
  },
  {
   "cell_type": "code",
   "execution_count": 41,
   "id": "95fb4216-6828-48e1-bc55-30bdaaf60a1c",
   "metadata": {},
   "outputs": [
    {
     "name": "stdout",
     "output_type": "stream",
     "text": [
      "(rdflib.term.BNode('N28fec1db343247ea85888e9360c561e1'), rdflib.term.URIRef('http://www.w3.org/1999/02/22-rdf-syntax-ns#rest'), rdflib.term.URIRef('http://www.w3.org/1999/02/22-rdf-syntax-ns#nil'))\n",
      "(rdflib.term.BNode('N28fec1db343247ea85888e9360c561e1'), rdflib.term.URIRef('http://www.w3.org/1999/02/22-rdf-syntax-ns#first'), rdflib.term.URIRef('http://purls.helmholtz-metadaten.de/cmso/UnitCell'))\n"
     ]
    }
   ],
   "source": [
    "for s in o.g:\n",
    "    if s[0] == BNode('N28fec1db343247ea85888e9360c561e1'):\n",
    "        print(s)"
   ]
  },
  {
   "cell_type": "code",
   "execution_count": null,
   "id": "7e935f32-df96-47fa-a5cc-51e30a0d53d9",
   "metadata": {},
   "outputs": [],
   "source": []
  }
 ],
 "metadata": {
  "kernelspec": {
   "display_name": "Python 3 (ipykernel)",
   "language": "python",
   "name": "python3"
  },
  "language_info": {
   "codemirror_mode": {
    "name": "ipython",
    "version": 3
   },
   "file_extension": ".py",
   "mimetype": "text/x-python",
   "name": "python",
   "nbconvert_exporter": "python",
   "pygments_lexer": "ipython3",
   "version": "3.10.11"
  }
 },
 "nbformat": 4,
 "nbformat_minor": 5
}
