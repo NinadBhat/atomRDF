{
 "cells": [
  {
   "cell_type": "markdown",
   "metadata": {},
   "source": [
    "# Generate dataset\n",
    "\n",
    "The aim of this notebook is to create a varied dataset with atomRDF that can be used testing quering methods, and also to show to variety of tasks that can be done. This should be runnable top to bottom."
   ]
  },
  {
   "cell_type": "code",
   "execution_count": 4,
   "metadata": {},
   "outputs": [],
   "source": [
    "%config IPCompleter.evaluation='unsafe'"
   ]
  },
  {
   "cell_type": "markdown",
   "metadata": {},
   "source": [
    "Create a project"
   ]
  },
  {
   "cell_type": "code",
   "execution_count": 5,
   "metadata": {},
   "outputs": [],
   "source": [
    "from pyiron_atomistics import Project\n",
    "from atomrdf import KnowledgeGraph, System\n",
    "import numpy as np"
   ]
  },
  {
   "cell_type": "code",
   "execution_count": 6,
   "metadata": {},
   "outputs": [],
   "source": [
    "project = 'data_gen_1'\n",
    "pr = Project(project)"
   ]
  },
  {
   "cell_type": "code",
   "execution_count": 7,
   "metadata": {},
   "outputs": [],
   "source": [
    "kg = KnowledgeGraph(store='db', store_file=f'{project}.db')\n",
    "kg.enable_workflow(pr, workflow_environment='pyiron')"
   ]
  },
  {
   "cell_type": "markdown",
   "metadata": {},
   "source": [
    "Regular structures"
   ]
  },
  {
   "cell_type": "code",
   "execution_count": 8,
   "metadata": {},
   "outputs": [],
   "source": [
    "struct_Fe = System.create.element.Fe(graph=kg)\n",
    "struct_Si = System.create.element.Si(graph=kg)\n",
    "struct_l12 = System.create.lattice.l12(element=['Al', 'Ni'], \n",
    "                         lattice_constant=3.57, graph=kg)\n"
   ]
  },
  {
   "cell_type": "code",
   "execution_count": 9,
   "metadata": {},
   "outputs": [],
   "source": [
    "struct_gb_1 = System.create.defect.grain_boundary(axis=[0,0,1], \n",
    "                        sigma=5, \n",
    "                        gb_plane=[3, -1, 0],\n",
    "                        element='Fe',\n",
    "                        graph=kg)\n",
    "struct_gb_2 = System.create.defect.grain_boundary(axis=[1,1,1], \n",
    "                        sigma=19, \n",
    "                        gb_plane=[-3, 2, 0],\n",
    "                        element='Fe',\n",
    "                        graph=kg)\n",
    "\n",
    "struct_gb_3 = System.create.defect.grain_boundary(axis=[1,1,1], \n",
    "                        sigma=19, \n",
    "                        gb_plane=[-1, -1, -1],\n",
    "                        element='Fe',\n",
    "                        graph=kg)\n"
   ]
  },
  {
   "cell_type": "code",
   "execution_count": 10,
   "metadata": {},
   "outputs": [
    {
     "data": {
      "text/plain": [
       "<atomrdf.structure.System at 0x7f4efc336490>"
      ]
     },
     "execution_count": 10,
     "metadata": {},
     "output_type": "execute_result"
    }
   ],
   "source": [
    "struct_Fe = System.create.element.Fe(graph=kg)\n",
    "struct_with_vacancy = struct_Fe.delete(indices=[0], copy_structure=True)\n",
    "struct_Al = System.create.element.Al(graph=kg)\n",
    "struct_Al.substitute_atoms('Mg', indices=[0], copy_structure=True)"
   ]
  },
  {
   "cell_type": "code",
   "execution_count": 11,
   "metadata": {},
   "outputs": [],
   "source": [
    "slip_direction = np.array([1, 0, -1])\n",
    "slip_plane = np.array([1, 1, 1])\n",
    "slip_system = [slip_direction, slip_plane]\n",
    "burgers_vector = 0.5\n",
    "dislocation_line = np.array([1, 0, -1])\n",
    "elastic_constant_dict = {'C11': 169, 'C12': 122, 'C44': 75.4}\n",
    "sys = System.create.defect.dislocation(slip_system,\n",
    "                                        dislocation_line,\n",
    "                                        elastic_constant_dict,\n",
    "                                        burgers_vector=burgers_vector,\n",
    "                                        element='Cu',\n",
    "                                        dislocation_type='monopole',\n",
    "                                        graph=kg,\n",
    "                                        )"
   ]
  },
  {
   "cell_type": "code",
   "execution_count": 12,
   "metadata": {},
   "outputs": [
    {
     "name": "stdout",
     "output_type": "stream",
     "text": [
      "The job j1 was saved and received the ID: 1106\n"
     ]
    }
   ],
   "source": [
    "structure = pr.create.structure.annotated_structure.bulk('Cu', cubic=True)\n",
    "job = pr.create.job.Lammps('j1', delete_existing_job=True, delete_aborted_job=True)\n",
    "job.structure = structure\n",
    "job.potential = '2001--Mishin-Y--Cu-1--LAMMPS--ipr1'\n",
    "job.calc_md(pressure=0, temperature=500)\n",
    "job.run()\n",
    "kg.add_workflow(job, workflow_environment='pyiron')"
   ]
  },
  {
   "cell_type": "code",
   "execution_count": 13,
   "metadata": {},
   "outputs": [
    {
     "name": "stdout",
     "output_type": "stream",
     "text": [
      "The job murn_job was saved and received the ID: 1106\n",
      "The job murn_job_0_9 was saved and received the ID: 1107\n",
      "The job murn_job_0_95 was saved and received the ID: 1108\n",
      "The job murn_job_1_0 was saved and received the ID: 1109\n",
      "The job murn_job_1_05 was saved and received the ID: 1110\n",
      "The job murn_job_1_1 was saved and received the ID: 1111\n"
     ]
    }
   ],
   "source": [
    "structure = pr.create.structure.annotated_structure.bulk('Cu', cubic=True)\n",
    "ref_job = pr.create.job.Lammps('j1', delete_existing_job=True, delete_aborted_job=True)\n",
    "ref_job.structure = structure\n",
    "ref_job.potential = '2001--Mishin-Y--Cu-1--LAMMPS--ipr1'\n",
    "ref_job.calc_minimize()\n",
    "murn_job = ref_job.create_job(pr.job_type.Murnaghan, 'murn_job')\n",
    "murn_job.input[\"num_points\"] = 5\n",
    "murn_job.run()\n",
    "kg.add_workflow(murn_job, workflow_environment='pyiron', add_intermediate_jobs=True)"
   ]
  },
  {
   "cell_type": "code",
   "execution_count": 14,
   "metadata": {},
   "outputs": [
    {
     "name": "stdout",
     "output_type": "stream",
     "text": [
      "The job quasi was saved and received the ID: 1112\n",
      "The job quasi_0_9 was saved and received the ID: 1113\n",
      "The job reflmp_0 was saved and received the ID: 1114\n",
      "The job quasi_0_92 was saved and received the ID: 1115\n",
      "The job reflmp_0 was saved and received the ID: 1116\n",
      "The job quasi_0_94 was saved and received the ID: 1117\n",
      "The job reflmp_0 was saved and received the ID: 1118\n",
      "The job quasi_0_96 was saved and received the ID: 1119\n",
      "The job reflmp_0 was saved and received the ID: 1120\n",
      "The job quasi_0_98 was saved and received the ID: 1121\n",
      "The job reflmp_0 was saved and received the ID: 1122\n",
      "The job quasi_1_0 was saved and received the ID: 1123\n",
      "The job reflmp_0 was saved and received the ID: 1124\n",
      "The job quasi_1_02 was saved and received the ID: 1125\n",
      "The job reflmp_0 was saved and received the ID: 1126\n",
      "The job quasi_1_04 was saved and received the ID: 1127\n",
      "The job reflmp_0 was saved and received the ID: 1128\n",
      "The job quasi_1_06 was saved and received the ID: 1129\n",
      "The job reflmp_0 was saved and received the ID: 1130\n",
      "The job quasi_1_08 was saved and received the ID: 1131\n",
      "The job reflmp_0 was saved and received the ID: 1132\n",
      "The job quasi_1_1 was saved and received the ID: 1133\n",
      "The job reflmp_0 was saved and received the ID: 1134\n"
     ]
    },
    {
     "name": "stderr",
     "output_type": "stream",
     "text": [
      "/home/srmnitc/miniconda3/envs/workflow-rdf/lib/python3.11/site-packages/atomrdf/graph.py:376: UserWarning: asmo:hasValue has a range with unspecified datatype!\n",
      "  warnings.warn(f\"{triple[1].name} has a range with unspecified datatype!\")\n"
     ]
    }
   ],
   "source": [
    "struct = pr.create.structure.annotated_structure.bulk('Cu')\n",
    "refjob = pr.create.job.Lammps('reflmp')\n",
    "refjob.structure = struct\n",
    "refjob.potential = '2009--Mendelev-M-I--Cu-Zr--LAMMPS--ipr1'\n",
    "phono = pr.create.job.PhonopyJob('phono')\n",
    "phono.ref_job = refjob\n",
    "quasi = pr.create.job.QuasiHarmonicJob('quasi')\n",
    "quasi.ref_job = phono\n",
    "quasi.input[\"temperature_end\"] = 500\n",
    "quasi.input[\"temperature_steps\"] = 2\n",
    "quasi.input[\"axes\"]=[\"x\",\"y\",\"z\"]\n",
    "quasi.input[\"strains\"] = None\n",
    "quasi.run()\n",
    "kg.add_workflow(quasi, workflow_environment='pyiron')"
   ]
  },
  {
   "cell_type": "code",
   "execution_count": 15,
   "metadata": {},
   "outputs": [],
   "source": [
    "kg.archive('dataset')"
   ]
  }
 ],
 "metadata": {
  "kernelspec": {
   "display_name": "workflow-rdf",
   "language": "python",
   "name": "python3"
  },
  "language_info": {
   "codemirror_mode": {
    "name": "ipython",
    "version": 3
   },
   "file_extension": ".py",
   "mimetype": "text/x-python",
   "name": "python",
   "nbconvert_exporter": "python",
   "pygments_lexer": "ipython3",
   "version": "3.11.8"
  }
 },
 "nbformat": 4,
 "nbformat_minor": 2
}
