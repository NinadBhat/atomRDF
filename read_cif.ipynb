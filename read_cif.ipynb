{
 "cells": [
  {
   "cell_type": "code",
   "execution_count": 1,
   "id": "0dd795c1-3a50-4a6c-a5bd-1e25974b20e8",
   "metadata": {},
   "outputs": [],
   "source": [
    "import numpy as np\n",
    "import io\n",
    "import re"
   ]
  },
  {
   "cell_type": "code",
   "execution_count": 11,
   "id": "a51992f5-24ea-4fc9-87c2-269aff5a7e37",
   "metadata": {},
   "outputs": [
    {
     "name": "stdout",
     "output_type": "stream",
     "text": [
      "[[4.03892969, 0, 0], [0, 4.03892969, 0], [0, 0, 4.03892969]]\n",
      "{'Al': 4}\n",
      "4\n",
      "{'_atom_site_type_symbol': [], '_atom_site_label': [], '_atom_site_symmetry_multiplicity': [], '_atom_site_fract_x': [], '_atom_site_fract_y': [], '_atom_site_fract_z': [], '_atom_site_occupancy': []}\n"
     ]
    }
   ],
   "source": [
    "with open(\"al_data/Al.cif\", \"r\") as fin:\n",
    "    \n",
    "    natoms = 0\n",
    "    atom_key_dict = {}\n",
    "    \n",
    "    for count, line in enumerate(fin):\n",
    "        raw = line.strip().split()\n",
    "        if raw[0] == '_cell_length_a':\n",
    "            a = float(raw[1])\n",
    "        elif raw[0] == '_cell_length_b':\n",
    "            b = float(raw[1])\n",
    "        elif raw[0] == '_cell_length_c':\n",
    "            c = float(raw[1])\n",
    "        \n",
    "        #get chemical formula and no of atoms\n",
    "        elif raw[0] == '_chemical_formula_sum':\n",
    "            elements = re.split('\\d+', raw[1])\n",
    "            counts = re.findall('\\d+', raw[1])\n",
    "            #convert to dict\n",
    "            type_dict = {x: int(y) for (x, y) in zip(elements, counts)}\n",
    "            natoms = np.sum([val for key, val in type_dict.items()])\n",
    "        \n",
    "        elif \"atom\" in raw[0].split('_'):\n",
    "            atom_key_dict[raw[0]] = []\n",
    "            \n",
    "    #now parse positions, species\n",
    "    box = [[a, 0, 0], [0, b, 0], [0, 0, c]]\n",
    "    print(box)\n",
    "    print(type_dict)\n",
    "    print(natoms)\n",
    "    print(atom_key_dict)\n",
    "    \n",
    "    #now restart reading, this time to get atom keys"
   ]
  },
  {
   "cell_type": "code",
   "execution_count": 4,
   "id": "411af7e8-c7c5-49ee-9541-b846b4859a77",
   "metadata": {},
   "outputs": [
    {
     "data": {
      "text/plain": [
       "['2343', '34324', '3243']"
      ]
     },
     "execution_count": 4,
     "metadata": {},
     "output_type": "execute_result"
    }
   ],
   "source": []
  },
  {
   "cell_type": "code",
   "execution_count": 5,
   "id": "a7631564-3dab-45fe-a741-50df3c92a16e",
   "metadata": {},
   "outputs": [
    {
     "data": {
      "text/plain": [
       "['abcd', 'abw', 'abc', '']"
      ]
     },
     "execution_count": 5,
     "metadata": {},
     "output_type": "execute_result"
    }
   ],
   "source": []
  },
  {
   "cell_type": "code",
   "execution_count": null,
   "id": "ffcd7e27-be2b-4d59-83c3-cb8b6cc17bc0",
   "metadata": {},
   "outputs": [],
   "source": []
  }
 ],
 "metadata": {
  "kernelspec": {
   "display_name": "Python 3 (ipykernel)",
   "language": "python",
   "name": "python3"
  },
  "language_info": {
   "codemirror_mode": {
    "name": "ipython",
    "version": 3
   },
   "file_extension": ".py",
   "mimetype": "text/x-python",
   "name": "python",
   "nbconvert_exporter": "python",
   "pygments_lexer": "ipython3",
   "version": "3.8.13"
  }
 },
 "nbformat": 4,
 "nbformat_minor": 5
}
