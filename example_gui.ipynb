{
 "cells": [
  {
   "cell_type": "markdown",
   "id": "34d96ba9-5a94-4b25-9ba3-f7c80c8685a5",
   "metadata": {},
   "source": [
    "<img src=\"logo.png\" width=\"10%\">"
   ]
  },
  {
   "cell_type": "code",
   "execution_count": 1,
   "id": "ba8b3a9a-2a16-4874-a04b-f02e2febbb0c",
   "metadata": {
    "tags": []
   },
   "outputs": [],
   "source": [
    "import ipywidgets as widgets\n",
    "from ipywidgets import HBox, VBox, Layout\n",
    "import numpy as np\n",
    "import matplotlib.pyplot as plt\n",
    "from IPython.display import display\n",
    "import matplotlib.pyplot as plt\n",
    "from ase.visualize import view\n",
    "\n",
    "from pyscal.crystal_structures import elements, structures\n",
    "from pyscal_rdf.structure import StructureGraph\n",
    "\n",
    "import pyvista as pv\n",
    "\n",
    "el_list = list(elements.keys())\n",
    "st_list = list(structures.keys())"
   ]
  },
  {
   "cell_type": "code",
   "execution_count": 2,
   "id": "5710f2a4-d149-4d06-b739-5f19a5b62496",
   "metadata": {
    "tags": []
   },
   "outputs": [],
   "source": [
    "el_dropdown = widgets.Dropdown(\n",
    "    options = el_list,\n",
    "    value = \"Fe\",\n",
    "    description = 'Element',\n",
    "    disabled=False,\n",
    ")\n",
    "\n",
    "el_run_button = widgets.Button(\n",
    "    description='Generate',\n",
    "    disabled=False,\n",
    "    button_style='info', # 'success', 'info', 'warning', 'danger' or ''\n",
    "    tooltip='Click me',\n",
    ")\n",
    "\n",
    "el_add_to_graph_check = widgets.Checkbox(\n",
    "    value=True,\n",
    "    description='Add to graph',\n",
    "    disabled=False\n",
    ")\n",
    "\n",
    "el_repetition_box = widgets.IntText(\n",
    "    value=1,\n",
    "    description='Repetitions',\n",
    "    disabled=False\n",
    ")\n",
    "\n",
    "el_out = widgets.Output(layout={'border': '1px solid black'})\n",
    "\n",
    "def create_element(b=None):\n",
    "    element = el_dropdown.value\n",
    "    add_to_graph = el_add_to_graph_check.value\n",
    "    rep = el_repetition_box.value\n",
    "    sys = g.create_element(element, add_to_graph=add_to_graph, \n",
    "                          repetitions=[rep, rep, rep])\n",
    "    with el_out:\n",
    "        pl = pv.Plotter()\n",
    "        pl.add_points(np.array(sys.atoms.positions), render_points_as_spheres=True,\n",
    "                     point_size=30);\n",
    "        box_color = \"#90a4ae\"\n",
    "        width=3\n",
    "        pl.add_lines(np.array([[0,0,0], sys.box[0]]), color=box_color, width=width);\n",
    "        pl.add_lines(np.array([[0,0,0], sys.box[1]]), color=box_color, width=width);\n",
    "        pl.add_lines(np.array([[0,0,0], sys.box[2]]), color=box_color, width=width);\n",
    "        second_apex = [sys.box[0][0], sys.box[1][1], sys.box[2][2]]\n",
    "        boxdims = sys.box_dimensions\n",
    "        pl.add_lines(np.array([[0, 0+boxdims[1], 0+boxdims[2]], second_apex]), color=box_color, width=width);\n",
    "        pl.add_lines(np.array([[0+boxdims[0], 0, 0+boxdims[2]], second_apex]), color=box_color, width=width);\n",
    "        pl.add_lines(np.array([[0+boxdims[0], 0+boxdims[1], 0], second_apex]), color=box_color, width=width);\n",
    "        pl.add_lines(np.array([[0, 0, 0+boxdims[2]], [0, 0+boxdims[1], 0+boxdims[2]]]), color=box_color, width=width);\n",
    "        pl.add_lines(np.array([[0, 0, 0+boxdims[2]], [0+boxdims[0], 0, 0+boxdims[2]]]), color=box_color, width=width);\n",
    "        pl.add_lines(np.array([[0+boxdims[0], 0, 0+boxdims[2]], [0+boxdims[0], 0, 0]]), color=box_color, width=width);\n",
    "        pl.add_lines(np.array([[0+boxdims[0], 0+boxdims[1], 0], [0, 0+boxdims[1], 0]]), color=box_color, width=width);\n",
    "        pl.add_lines(np.array([[0+boxdims[0], 0+boxdims[1], 0], [0+boxdims[0], 0, 0]]), color=box_color, width=width);\n",
    "        pl.add_lines(np.array([[0, 0+boxdims[1], 0+boxdims[2]], [0, 0+boxdims[1], 0]]), color=box_color, width=width);\n",
    "        pl.set_background('white')\n",
    "        pl.show()\n",
    "    \n",
    "@el_run_button.on_click\n",
    "def element_plot_on_click(b):\n",
    "    create_element()\n",
    "    \n",
    "element_tab = VBox(children=[el_dropdown,\n",
    "                      el_add_to_graph_check,\n",
    "                      el_repetition_box,\n",
    "                      el_run_button,\n",
    "                      el_out])"
   ]
  },
  {
   "cell_type": "code",
   "execution_count": 3,
   "id": "d5aad460-1f54-4e05-b835-0e2ea134a927",
   "metadata": {},
   "outputs": [],
   "source": [
    "st_dropdown = widgets.Dropdown(\n",
    "    options = st_list,\n",
    "    value = \"bcc\",\n",
    "    description = 'Structure',\n",
    "    disabled=False,\n",
    ")\n",
    "\n",
    "st_run_button = widgets.Button(\n",
    "    description='Generate',\n",
    "    disabled=False,\n",
    "    button_style='info', # 'success', 'info', 'warning', 'danger' or ''\n",
    "    tooltip='Click me',\n",
    ")\n",
    "\n",
    "st_add_to_graph_check = widgets.Checkbox(\n",
    "    value=True,\n",
    "    description='Add to graph',\n",
    "    disabled=False\n",
    ")\n",
    "\n",
    "st_repetition_box = widgets.IntText(\n",
    "    value=1,\n",
    "    description='Repetitions',\n",
    "    disabled=False\n",
    ")\n",
    "\n",
    "st_lattice_parameter_box = widgets.FloatText(\n",
    "    value=1,\n",
    "    description='Lattice Parameter',\n",
    "    disabled=False\n",
    ")\n",
    "\n",
    "st_element_box = widgets.Text(\n",
    "    value='Fe',\n",
    "    description='Element',\n",
    "    disabled=False\n",
    ")\n",
    "\n",
    "def create_structure(b=None):\n",
    "    structure = st_dropdown.value\n",
    "    add_to_graph = st_add_to_graph_check.value\n",
    "    rep = st_repetition_box.value\n",
    "    lattice_parameter = st_lattice_parameter_box.value\n",
    "    element = st_element_box.value\n",
    "    sys = g.create_structure(structure, \n",
    "                             lattice_constant=lattice_parameter,\n",
    "                             repetitions=[rep, rep, rep],\n",
    "                             add_to_graph=add_to_graph,\n",
    "                             element=element)\n",
    "    print(\"done\")\n",
    "    \n",
    "@st_run_button.on_click\n",
    "def structure_plot_on_click(b):\n",
    "    create_structure()\n",
    "    \n",
    "structure_tab = VBox(children=[st_dropdown,\n",
    "                      st_add_to_graph_check,\n",
    "                      st_repetition_box,\n",
    "                      st_lattice_parameter_box,\n",
    "                      st_element_box,\n",
    "                      st_run_button,])"
   ]
  },
  {
   "cell_type": "code",
   "execution_count": 4,
   "id": "d7fe9b83-d218-4828-9986-24e56e9d3e36",
   "metadata": {
    "tags": []
   },
   "outputs": [],
   "source": [
    "qt_query_box = widgets.Textarea(\n",
    "    value=\"\"\"\n",
    "        PREFIX cmso: <https://purls.helmholtz-metadaten.de/cmso/>\n",
    "        SELECT DISTINCT ?symbol\n",
    "        WHERE {\n",
    "            ?sample cmso:hasNumberOfAtoms ?number .\n",
    "            ?sample cmso:hasMaterial ?material .\n",
    "            ?material cmso:hasStructure ?structure .\n",
    "            ?structure cmso:hasSpaceGroup ?spacegroup .\n",
    "            ?spacegroup cmso:hasSpaceGroupSymbol ?symbol .\n",
    "        FILTER (?number=\"4\"^^xsd:integer)\n",
    "}\"\"\",\n",
    "    description='Element',\n",
    "    disabled=False,\n",
    "    layout=Layout(width=\"auto\", height=\"100%\")\n",
    ")\n",
    "\n",
    "out = widgets.Output(layout={'border': '1px solid black'})\n",
    "\n",
    "qt_run_button = widgets.Button(\n",
    "    description='Query',\n",
    "    disabled=False,\n",
    "    button_style='info', # 'success', 'info', 'warning', 'danger' or ''\n",
    "    tooltip='Click me',\n",
    ")\n",
    "\n",
    "@qt_run_button.on_click\n",
    "def query_plot_on_click(b):\n",
    "    run_query()\n",
    "    \n",
    "def run_query(b=None):\n",
    "    query = qt_query_box.value\n",
    "    res = g.graph.query(query)\n",
    "    with out:\n",
    "        for r in res:\n",
    "            print(r[0])\n",
    "\n",
    "query_tab = VBox(children=[qt_query_box,\n",
    "                      qt_run_button,\n",
    "                          out])"
   ]
  },
  {
   "cell_type": "code",
   "execution_count": 5,
   "id": "fa99d883-1515-4a90-a90e-fc50bb18dc22",
   "metadata": {
    "tags": []
   },
   "outputs": [],
   "source": [
    "g = StructureGraph()"
   ]
  },
  {
   "cell_type": "code",
   "execution_count": 6,
   "id": "d7abf947-17a4-4308-a69d-32fdc5bba567",
   "metadata": {
    "tags": []
   },
   "outputs": [
    {
     "data": {
      "application/vnd.jupyter.widget-view+json": {
       "model_id": "e2bcae2f9e83400d9895f27178c84c08",
       "version_major": 2,
       "version_minor": 0
      },
      "text/plain": [
       "Tab(children=(VBox(children=(Dropdown(description='Element', index=17, options=('Ac', 'Ag', 'Al', 'Ar', 'Au', …"
      ]
     },
     "execution_count": 6,
     "metadata": {},
     "output_type": "execute_result"
    }
   ],
   "source": [
    "#tab2 = VBox(children=[])\n",
    "\n",
    "tab = widgets.Tab(children=[element_tab, structure_tab, query_tab])\n",
    "tab.set_title(0, 'create element')\n",
    "tab.set_title(1, 'create structure')\n",
    "tab.set_title(2, 'run query')\n",
    "#VBox(children=[tab, run_button])\n",
    "\n",
    "tab"
   ]
  },
  {
   "cell_type": "code",
   "execution_count": null,
   "id": "9d975498-ca13-49ef-9adb-f2e5eaba5f54",
   "metadata": {},
   "outputs": [],
   "source": []
  },
  {
   "cell_type": "code",
   "execution_count": null,
   "id": "04b89a86-1506-4c5f-a5e5-24a0a1d3456e",
   "metadata": {},
   "outputs": [],
   "source": []
  },
  {
   "cell_type": "code",
   "execution_count": 7,
   "id": "7ba44187-ba9e-48b3-a9b8-fd378d8ddfae",
   "metadata": {
    "tags": []
   },
   "outputs": [],
   "source": [
    "outx = widgets.Output(layout={'border': '1px solid black'})\n",
    "with outx:\n",
    "    sys = g.create_element(\"Fe\")\n",
    "    pl = pv.Plotter()\n",
    "    pl.add_points(np.array(sys.atoms.positions), render_points_as_spheres=True,\n",
    "                 point_size=30);\n",
    "    box_color = \"#90a4ae\"\n",
    "    width=3\n",
    "    pl.add_lines(np.array([[0,0,0], sys.box[0]]), color=box_color, width=width);\n",
    "    pl.add_lines(np.array([[0,0,0], sys.box[1]]), color=box_color, width=width);\n",
    "    pl.add_lines(np.array([[0,0,0], sys.box[2]]), color=box_color, width=width);\n",
    "    second_apex = [sys.box[0][0], sys.box[1][1], sys.box[2][2]]\n",
    "    boxdims = sys.box_dimensions\n",
    "    pl.add_lines(np.array([[0, 0+boxdims[1], 0+boxdims[2]], second_apex]), color=box_color, width=width);\n",
    "    pl.add_lines(np.array([[0+boxdims[0], 0, 0+boxdims[2]], second_apex]), color=box_color, width=width);\n",
    "    pl.add_lines(np.array([[0+boxdims[0], 0+boxdims[1], 0], second_apex]), color=box_color, width=width);\n",
    "    pl.add_lines(np.array([[0, 0, 0+boxdims[2]], [0, 0+boxdims[1], 0+boxdims[2]]]), color=box_color, width=width);\n",
    "    pl.add_lines(np.array([[0, 0, 0+boxdims[2]], [0+boxdims[0], 0, 0+boxdims[2]]]), color=box_color, width=width);\n",
    "    pl.add_lines(np.array([[0+boxdims[0], 0, 0+boxdims[2]], [0+boxdims[0], 0, 0]]), color=box_color, width=width);\n",
    "    pl.add_lines(np.array([[0+boxdims[0], 0+boxdims[1], 0], [0, 0+boxdims[1], 0]]), color=box_color, width=width);\n",
    "    pl.add_lines(np.array([[0+boxdims[0], 0+boxdims[1], 0], [0+boxdims[0], 0, 0]]), color=box_color, width=width);\n",
    "    pl.add_lines(np.array([[0, 0+boxdims[1], 0+boxdims[2]], [0, 0+boxdims[1], 0]]), color=box_color, width=width);\n",
    "    pl.set_background('white')\n",
    "    pl.show()"
   ]
  },
  {
   "cell_type": "code",
   "execution_count": 8,
   "id": "ede31a79-69d3-4afd-b527-85954b550996",
   "metadata": {
    "tags": []
   },
   "outputs": [
    {
     "data": {
      "application/vnd.jupyter.widget-view+json": {
       "model_id": "5026765c92734af9bfde24a767c33d6f",
       "version_major": 2,
       "version_minor": 0
      },
      "text/plain": [
       "Output(layout=Layout(border_bottom='1px solid black', border_left='1px solid black', border_right='1px solid b…"
      ]
     },
     "execution_count": 8,
     "metadata": {},
     "output_type": "execute_result"
    }
   ],
   "source": [
    "outx"
   ]
  },
  {
   "cell_type": "code",
   "execution_count": null,
   "id": "b128c289-9f76-42e2-9b0a-f5c28abc7ffc",
   "metadata": {},
   "outputs": [],
   "source": []
  }
 ],
 "metadata": {
  "kernelspec": {
   "display_name": "Python 3 (ipykernel)",
   "language": "python",
   "name": "python3"
  },
  "language_info": {
   "codemirror_mode": {
    "name": "ipython",
    "version": 3
   },
   "file_extension": ".py",
   "mimetype": "text/x-python",
   "name": "python",
   "nbconvert_exporter": "python",
   "pygments_lexer": "ipython3",
   "version": "3.9.16"
  }
 },
 "nbformat": 4,
 "nbformat_minor": 5
}
