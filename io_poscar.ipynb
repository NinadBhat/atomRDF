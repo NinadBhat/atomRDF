{
 "cells": [
  {
   "cell_type": "code",
   "execution_count": 1,
   "id": "3d725a3f-590a-4e35-8e30-d4d8965ca5df",
   "metadata": {},
   "outputs": [],
   "source": [
    "from pyscal.core import System\n",
    "from pyscal.crystal_structures import Structure\n",
    "from pyscal.operations.symmetry import Symmetry\n",
    "import pyscal_rdf.properties as prp\n",
    "from pyscal_rdf.json_io import write_file\n",
    "import numpy as np"
   ]
  },
  {
   "cell_type": "code",
   "execution_count": 2,
   "id": "b7662958-60ae-4a72-9252-69e1e607742b",
   "metadata": {},
   "outputs": [],
   "source": [
    "def convert_to_dict(sys):\n",
    "    \"\"\"\n",
    "    Convert a pyscal System object to data dictionary\n",
    "    \n",
    "    Parameters\n",
    "    ----------\n",
    "    sys: pyscal System\n",
    "        input system\n",
    "    \n",
    "    Returns\n",
    "    -------\n",
    "    info: dict\n",
    "        dict with parsed information\n",
    "    \"\"\"\n",
    "    info = {}\n",
    "    \n",
    "    #Unit cell properties\n",
    "    info[\"LatticeParameter\"] = sys.atoms._lattice_constant\n",
    "    \n",
    "    #Simulation cell properties\n",
    "    info[\"Coordination\"] = prp.get_coordination(sys)\n",
    "    symbol, number = prp.get_space_group(sys)\n",
    "    info[\"SpaceGroupSymbol\"] = symbol\n",
    "    info[\"SpaceGroupNumber\"] = number\n",
    "    \n",
    "    #needs to be defined\n",
    "    if sys.atoms.species[0] is not None:\n",
    "        info[\"Element\"] = np.unique(sys.atoms.species)\n",
    "        info[\"Occupancy\"] = sys.atoms.species\n",
    "    else:\n",
    "        info[\"Element\"] = np.unique(sys.atoms.types)\n",
    "        info[\"Occupancy\"] = sys.atoms.types\n",
    "    \n",
    "    info[\"BravaisLattice\"] = sys.atoms._lattice \n",
    "    info[\"CellVolume\"] = sys.volume\n",
    "    info[\"NumberOfAtoms\"] = sys.natoms\n",
    "    \n",
    "    box_dims = sys.box_dimensions\n",
    "    info[\"SimulationCellLengthX\"] = box_dims[0]\n",
    "    info[\"SimulationCellLengthY\"] = box_dims[1]\n",
    "    info[\"SimulationCellLengthZ\"] = box_dims[2]\n",
    "\n",
    "    info[\"SimulationCellVectorA\"] = sys.box[0]\n",
    "    info[\"SimulationCellVectorB\"] = sys.box[1]\n",
    "    info[\"SimulationCellVectorC\"] = sys.box[2]\n",
    "    \n",
    "    info[\"SimulationCellAngleAlpha\"] = prp.get_angle(sys.box[0], sys.box[1])\n",
    "    info[\"SimulationCellAngleBeta\"] = prp.get_angle(sys.box[1], sys.box[2])\n",
    "    info[\"SimulationCellAngleGamma\"] = prp.get_angle(sys.box[2], sys.box[0])    \n",
    "    \n",
    "    return info"
   ]
  },
  {
   "cell_type": "markdown",
   "id": "6366ad20-62ee-4675-8efe-4305807d5def",
   "metadata": {},
   "source": [
    "## POSCAR"
   ]
  },
  {
   "cell_type": "code",
   "execution_count": 3,
   "id": "390bf2ec-0bfe-4cc0-9c64-b4a99d4576dc",
   "metadata": {},
   "outputs": [],
   "source": [
    "sys = System(\"al_data/Al.poscar\", format=\"poscar\")"
   ]
  },
  {
   "cell_type": "code",
   "execution_count": 4,
   "id": "def2282e-944a-4e7a-8be6-95305dd8aee3",
   "metadata": {},
   "outputs": [],
   "source": [
    "convert_to_dict(sys)\n",
    "write_file(\"dump\", convert_to_dict(sys))"
   ]
  },
  {
   "cell_type": "markdown",
   "id": "9b7559f4-78fd-43b7-bc62-e2ccb1a77038",
   "metadata": {},
   "source": [
    "## LAMMPS - dump"
   ]
  },
  {
   "cell_type": "code",
   "execution_count": 5,
   "id": "b9b1601a-02f0-4b50-9108-885a9f6b3499",
   "metadata": {},
   "outputs": [],
   "source": [
    "sys = System(\"al_data/Al.dump\")"
   ]
  },
  {
   "cell_type": "code",
   "execution_count": 6,
   "id": "5218591e-7075-4b6c-bc39-b717d147d560",
   "metadata": {},
   "outputs": [],
   "source": [
    "convert_to_dict(sys)\n",
    "write_file(\"dump2\", convert_to_dict(sys))"
   ]
  },
  {
   "cell_type": "markdown",
   "id": "1405d30b-7ae5-4fbb-ab42-bd4d769f6135",
   "metadata": {
    "tags": []
   },
   "source": [
    "## CIF/ ASE"
   ]
  },
  {
   "cell_type": "code",
   "execution_count": 7,
   "id": "90781c8e-e9f1-48c6-830f-ebfdc938eead",
   "metadata": {},
   "outputs": [],
   "source": [
    "from ase.io import read"
   ]
  },
  {
   "cell_type": "code",
   "execution_count": 8,
   "id": "8252ea07-f982-4398-8ef1-4d446a25d3aa",
   "metadata": {},
   "outputs": [],
   "source": [
    "aseobj = read(\"al_data/Al.cif\", format=\"cif\")"
   ]
  },
  {
   "cell_type": "code",
   "execution_count": 9,
   "id": "d5196db2-2b95-47f9-b29b-bcfa72ea41a9",
   "metadata": {},
   "outputs": [],
   "source": [
    "sys = System(aseobj, format=\"ase\")"
   ]
  },
  {
   "cell_type": "code",
   "execution_count": 10,
   "id": "307592ee-de1f-4785-87b9-9dc8ba6737b8",
   "metadata": {},
   "outputs": [],
   "source": [
    "convert_to_dict(sys)\n",
    "write_file(\"dump3\", convert_to_dict(sys))"
   ]
  },
  {
   "cell_type": "code",
   "execution_count": 11,
   "id": "2802abf9-1512-4d52-98b6-43913883ebd9",
   "metadata": {},
   "outputs": [],
   "source": [
    "data = convert_to_dict(sys)"
   ]
  },
  {
   "cell_type": "markdown",
   "id": "474aa390-7d04-4880-9cd9-8dddc5e2a938",
   "metadata": {},
   "source": [
    "## Creating structure from pyscal"
   ]
  },
  {
   "cell_type": "code",
   "execution_count": 18,
   "id": "bfd789a1-38c8-47e2-b693-e6a5e3c56a0b",
   "metadata": {},
   "outputs": [],
   "source": [
    "struct = Structure()"
   ]
  },
  {
   "cell_type": "code",
   "execution_count": 19,
   "id": "7ed5dfe5-5f72-4845-9f90-2b8a5dc0eb7d",
   "metadata": {},
   "outputs": [
    {
     "name": "stdout",
     "output_type": "stream",
     "text": [
      "Ag\n"
     ]
    }
   ],
   "source": [
    "sys = struct.element.Ag()\n",
    "sym = Symmetry(sys)\n",
    "sym.calculate()"
   ]
  },
  {
   "cell_type": "code",
   "execution_count": 22,
   "id": "06b2adce-726a-48c9-879a-78a43a98111e",
   "metadata": {},
   "outputs": [
    {
     "data": {
      "text/plain": [
       "(225, 'Fm-3m', 'm-3m')"
      ]
     },
     "execution_count": 22,
     "metadata": {},
     "output_type": "execute_result"
    }
   ],
   "source": [
    "sym.output.international_space_group_number, sym.output.international_symbol, sym.output.point_group"
   ]
  },
  {
   "cell_type": "code",
   "execution_count": 24,
   "id": "3a9fe154-2d21-4592-821a-404ecfd26de1",
   "metadata": {},
   "outputs": [
    {
     "data": {
      "text/plain": [
       "\u001b[0;31mType:\u001b[0m        property\n",
       "\u001b[0;31mString form:\u001b[0m <property object at 0x7f50fb4f1850>\n",
       "\u001b[0;31mDocstring:\u001b[0m  \n",
       "The (full) Hermann–Mauguin notation of space group type  \n",
       "Unit: None\n",
       "Default: None\n",
       "url: https://www.chemeurope.com/en/encyclopedia/Hermann-Mauguin_notation.html\n",
       "Optional: False\n",
       "type: None"
      ]
     },
     "metadata": {},
     "output_type": "display_data"
    }
   ],
   "source": [
    "sym.output.international_symbol?"
   ]
  },
  {
   "cell_type": "code",
   "execution_count": null,
   "id": "098d686e-e662-4903-b9a4-215dfc611a5f",
   "metadata": {},
   "outputs": [],
   "source": []
  },
  {
   "cell_type": "code",
   "execution_count": null,
   "id": "0b8ff2f9-304c-4e65-87b4-f41b62593979",
   "metadata": {},
   "outputs": [],
   "source": []
  },
  {
   "cell_type": "code",
   "execution_count": 13,
   "id": "c7aa32d3-04fa-47c5-b011-b5e4fca6c44c",
   "metadata": {
    "tags": []
   },
   "outputs": [
    {
     "name": "stdout",
     "output_type": "stream",
     "text": [
      "['Ni', 'Al']\n"
     ]
    }
   ],
   "source": [
    "sys = struct.lattice.b2(lattice_constant=4, element=[\"Ni\", \"Al\"])"
   ]
  },
  {
   "cell_type": "code",
   "execution_count": 14,
   "id": "ae12832a-d188-4a60-a1b3-01c885da2708",
   "metadata": {},
   "outputs": [
    {
     "data": {
      "text/plain": [
       "{'latticeparameter': 4,\n",
       " 'Coordination': [14, 14],\n",
       " 'SpaceGroup': None,\n",
       " 'Element': array(['Al', 'Ni'], dtype='<U2'),\n",
       " 'Occupancy': ['Ni', 'Al'],\n",
       " 'Lattice': 'b2',\n",
       " 'CellVolume': 1728.0,\n",
       " 'NumberOfAtoms': 2,\n",
       " 'X_AxisCoordinate': 4.0,\n",
       " 'Y_AxisCoordinate': 4.0,\n",
       " 'Z_AxisCoordinate': 4.0,\n",
       " 'FirstAxisComponent': [4.0, 0, 0],\n",
       " 'SecondAxisComponent': [0, 4.0, 0],\n",
       " 'ThirdAxisComponent': [0, 0, 4.0],\n",
       " 'LatticeParameterLengthA': 4.0,\n",
       " 'LatticeParameterLengthB': 4.0,\n",
       " 'LatticeParameterLengthC': 4.0,\n",
       " 'LatticeParameterAngleAlpha': 90.0,\n",
       " 'LatticeParameterAngleBeta': 90.0,\n",
       " 'LatticeParameterAngleGamma': 90.0}"
      ]
     },
     "execution_count": 14,
     "metadata": {},
     "output_type": "execute_result"
    }
   ],
   "source": [
    "convert_to_dict(sys)"
   ]
  },
  {
   "cell_type": "code",
   "execution_count": 15,
   "id": "70b4244e-70c9-4ebe-98dd-eb2215c78e91",
   "metadata": {},
   "outputs": [
    {
     "name": "stdout",
     "output_type": "stream",
     "text": [
      "Si\n"
     ]
    }
   ],
   "source": [
    "sys = struct.element.Si()"
   ]
  },
  {
   "cell_type": "code",
   "execution_count": 16,
   "id": "0b470184-3dab-4dd1-b343-4b6f945f7811",
   "metadata": {},
   "outputs": [
    {
     "data": {
      "text/plain": [
       "{'latticeparameter': 5.43,\n",
       " 'Coordination': [4, 4, 4, 4, 4, 4, 4, 4],\n",
       " 'SpaceGroup': None,\n",
       " 'Element': array(['Si'], dtype='<U2'),\n",
       " 'Occupancy': ['Si', 'Si', 'Si', 'Si', 'Si', 'Si', 'Si', 'Si'],\n",
       " 'Lattice': 'diamond',\n",
       " 'CellVolume': 4322.781188999999,\n",
       " 'NumberOfAtoms': 8,\n",
       " 'X_AxisCoordinate': 5.43,\n",
       " 'Y_AxisCoordinate': 5.43,\n",
       " 'Z_AxisCoordinate': 5.43,\n",
       " 'FirstAxisComponent': [5.43, 0, 0],\n",
       " 'SecondAxisComponent': [0, 5.43, 0],\n",
       " 'ThirdAxisComponent': [0, 0, 5.43],\n",
       " 'LatticeParameterLengthA': 5.43,\n",
       " 'LatticeParameterLengthB': 5.43,\n",
       " 'LatticeParameterLengthC': 5.43,\n",
       " 'LatticeParameterAngleAlpha': 90.0,\n",
       " 'LatticeParameterAngleBeta': 90.0,\n",
       " 'LatticeParameterAngleGamma': 90.0}"
      ]
     },
     "execution_count": 16,
     "metadata": {},
     "output_type": "execute_result"
    }
   ],
   "source": [
    "convert_to_dict(sys)"
   ]
  },
  {
   "cell_type": "markdown",
   "id": "f6a590e6-9c0a-4fa3-aad5-ef831db08560",
   "metadata": {},
   "source": [
    "## TODO: pyscal side\n",
    "\n",
    "- ~~Take a list of elements (optionally)~~ \n",
    "- ~~Lattice constant is not multipled to structure creation~~\n",
    "- Units should always be Angstroms\n",
    "- ~~Lattice constant is wrong in the above example ; should be 3 - but 9 is used~~\n",
    "- ~~Always use Cartesian coordinates~~\n",
    "- Space group"
   ]
  },
  {
   "cell_type": "markdown",
   "id": "84c38b88-7c72-4351-866c-b8092e2dbcb3",
   "metadata": {},
   "source": [
    "RDFLIB"
   ]
  },
  {
   "cell_type": "code",
   "execution_count": null,
   "id": "1605d520-17b3-4533-83d6-5d500e325a57",
   "metadata": {},
   "outputs": [],
   "source": [
    "from rdflib import FOAF, Graph, Literal, Namespace, XSD, RDF, RDFS, URIRef, BNode, SDO\n",
    "from rdflib import term"
   ]
  },
  {
   "cell_type": "code",
   "execution_count": null,
   "id": "c7b9e1f0-7c09-4616-a02b-29979e6165cb",
   "metadata": {},
   "outputs": [],
   "source": [
    "CSO = Namespace(\"https://purls.helmholtz-metadaten.de/disos/cso/\")\n",
    "MDO = Namespace(\"https://w3id.org/mdo/structure/1.1/\")"
   ]
  },
  {
   "cell_type": "code",
   "execution_count": null,
   "id": "1f9c939b-cc71-4661-ad74-85b57eb34565",
   "metadata": {},
   "outputs": [],
   "source": [
    "g = Graph()\n",
    "#g.bind(\"cso\", CSO)\n",
    "#g.bind(\"mdo\", MDO)"
   ]
  },
  {
   "cell_type": "code",
   "execution_count": null,
   "id": "cbd78f80-3514-40b5-bf6d-8ff7ce251be8",
   "metadata": {},
   "outputs": [],
   "source": [
    "struct1 = BNode()\n",
    "struct2 = BNode()"
   ]
  },
  {
   "cell_type": "code",
   "execution_count": null,
   "id": "aa7537be-e840-43a4-af9c-8f006cd824a1",
   "metadata": {},
   "outputs": [],
   "source": [
    "g.add((struct1, RDF.type, MDO.Structure))\n",
    "g.add((struct2, RDF.type, MDO.Structure))\n",
    "g.add((struct1, FOAF.name, Literal(\"struct1\")))\n",
    "g.add((struct2, FOAF.name, Literal(\"struct2\")))\n"
   ]
  },
  {
   "cell_type": "code",
   "execution_count": null,
   "id": "3ef82338-4c02-4b69-8f87-01f49b8d83de",
   "metadata": {},
   "outputs": [],
   "source": [
    "print(g.serialize(format=\"json-ld\"))"
   ]
  },
  {
   "cell_type": "code",
   "execution_count": null,
   "id": "a200a2c3-ae3e-4d78-bae9-34316cd16c97",
   "metadata": {},
   "outputs": [],
   "source": [
    "MDO.Structure"
   ]
  },
  {
   "cell_type": "code",
   "execution_count": null,
   "id": "7919a7ef-16c9-4974-869a-ca7738d92e2b",
   "metadata": {},
   "outputs": [],
   "source": [
    "Coordinate_Vector = URIRef(\"https://w3id.org/mdo/structure/CoordinateVector\")\n",
    "Lattice = URIRef(\"https://purls.helmholtz-metadaten.de/disos/cso#Lattice\")\n",
    "Structure"
   ]
  },
  {
   "cell_type": "code",
   "execution_count": null,
   "id": "55915048-1d0a-4e87-b205-1ac7f3b5edf8",
   "metadata": {},
   "outputs": [],
   "source": [
    "\n",
    "g.add((Coordinate_Vector, MDO.X_axisCoordinate, Literal(data[\"X_AxisCoordinate\"])))\n",
    "g.add((Coordinate_Vector, MDO.Y_axisCoordinate, Literal(data[\"Y_AxisCoordinate\"])))\n",
    "g.add((Coordinate_Vector, MDO.Z_axisCoordinate, Literal(data[\"Z_AxisCoordinate\"])))"
   ]
  },
  {
   "cell_type": "code",
   "execution_count": null,
   "id": "fe5a8a02-60f0-48d2-860e-13aaf9552e49",
   "metadata": {},
   "outputs": [],
   "source": [
    "with open(\"dump-ld.json\", \"w\") as fout:\n",
    "    fout.write(g.serialize(format=\"json-ld\"))"
   ]
  },
  {
   "cell_type": "code",
   "execution_count": null,
   "id": "92469cb2-9418-42cb-a764-f06576016bd4",
   "metadata": {},
   "outputs": [],
   "source": [
    "print(g.serialize(format=\"json-ld\"))"
   ]
  },
  {
   "cell_type": "markdown",
   "id": "9b8ca80b-1d18-44d9-8116-30125761741b",
   "metadata": {},
   "source": [
    "- Map the terms (see above)\n",
    "- Terms for type annotations\n",
    "- Use BNode to add multiple structures\n",
    "- Add visualisation\n",
    "- Space group calculation\n",
    "- try saving to database\n",
    "- Query the graph (range queries possible?)\n",
    "- Make a package out of it\n",
    "- Extend...."
   ]
  },
  {
   "cell_type": "code",
   "execution_count": null,
   "id": "b786c0ad-c9de-46e9-8d05-7595c12aa1d7",
   "metadata": {},
   "outputs": [],
   "source": []
  }
 ],
 "metadata": {
  "kernelspec": {
   "display_name": "pyscal",
   "language": "python",
   "name": "pyscal"
  },
  "language_info": {
   "codemirror_mode": {
    "name": "ipython",
    "version": 3
   },
   "file_extension": ".py",
   "mimetype": "text/x-python",
   "name": "python",
   "nbconvert_exporter": "python",
   "pygments_lexer": "ipython3",
   "version": "3.11.0"
  }
 },
 "nbformat": 4,
 "nbformat_minor": 5
}
