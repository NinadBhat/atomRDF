{
 "cells": [
  {
   "cell_type": "code",
   "execution_count": 1,
   "id": "3d725a3f-590a-4e35-8e30-d4d8965ca5df",
   "metadata": {
    "tags": []
   },
   "outputs": [],
   "source": [
    "from pyscal_rdf import StructureGraph\n",
    "from pyscal_rdf.visualize import visualize_sample\n",
    "from rdflib import URIRef, Namespace, BNode, Literal, XSD, RDF, Graph"
   ]
  },
  {
   "cell_type": "code",
   "execution_count": 2,
   "id": "c527dd7e-ad96-4929-a449-dcc3dc23f1cc",
   "metadata": {
    "tags": []
   },
   "outputs": [],
   "source": [
    "CMSO = Namespace(\"https://purls.helmholtz-metadaten.de/cmso/\")"
   ]
  },
  {
   "cell_type": "code",
   "execution_count": 3,
   "id": "226b8829-23fa-4763-b89f-8e868f8f4711",
   "metadata": {
    "tags": []
   },
   "outputs": [],
   "source": [
    "g = StructureGraph()"
   ]
  },
  {
   "cell_type": "code",
   "execution_count": 4,
   "id": "43c69a31-c1f0-4984-b972-dae7a29a3ee8",
   "metadata": {
    "tags": []
   },
   "outputs": [
    {
     "name": "stdout",
     "output_type": "stream",
     "text": [
      "Fe\n"
     ]
    }
   ],
   "source": [
    "struct_Fe = g.create_element(\"Fe\")"
   ]
  },
  {
   "cell_type": "code",
   "execution_count": 6,
   "id": "271d785c-e84d-4009-836f-add6a14af569",
   "metadata": {
    "tags": []
   },
   "outputs": [
    {
     "name": "stdout",
     "output_type": "stream",
     "text": [
      "Si\n"
     ]
    }
   ],
   "source": [
    "struct_Fe = g.create_element(\"Si\")"
   ]
  },
  {
   "cell_type": "code",
   "execution_count": 7,
   "id": "3f68f7dc-582c-44ba-8080-86f3ebd0428d",
   "metadata": {
    "tags": []
   },
   "outputs": [
    {
     "data": {
      "text/plain": [
       "2"
      ]
     },
     "execution_count": 7,
     "metadata": {},
     "output_type": "execute_result"
    }
   ],
   "source": [
    "g.n_samples"
   ]
  },
  {
   "cell_type": "code",
   "execution_count": 6,
   "id": "804bc28e-de7d-4c71-8a75-6234a0edc501",
   "metadata": {
    "tags": []
   },
   "outputs": [
    {
     "data": {
      "text/plain": [
       "rdflib.term.BNode('Ne8a9e5eee4b84b10ba91c6e1fa3138a4')"
      ]
     },
     "execution_count": 6,
     "metadata": {},
     "output_type": "execute_result"
    }
   ],
   "source": [
    "c = samples[0][0]\n",
    "c"
   ]
  },
  {
   "cell_type": "code",
   "execution_count": 7,
   "id": "29060720-3077-4ee7-a5c8-02db28588018",
   "metadata": {
    "tags": []
   },
   "outputs": [
    {
     "data": {
      "application/vnd.jupyter.widget-view+json": {
       "model_id": "4bfe437a08884ed8afb43eafa0fd7b94",
       "version_major": 2,
       "version_minor": 0
      },
      "text/plain": [
       "CytoscapeWidget(cytoscape_layout={'name': 'cola', 'avoidOverlap': True, 'animate': True}, cytoscape_style=[{'s…"
      ]
     },
     "execution_count": 7,
     "metadata": {},
     "output_type": "execute_result"
    }
   ],
   "source": [
    "g.visualise(sample=c)"
   ]
  },
  {
   "cell_type": "code",
   "execution_count": null,
   "id": "f0639a57-3b55-44ba-ba12-1ba98172de47",
   "metadata": {},
   "outputs": [],
   "source": []
  }
 ],
 "metadata": {
  "kernelspec": {
   "display_name": "Python 3 (ipykernel)",
   "language": "python",
   "name": "python3"
  },
  "language_info": {
   "codemirror_mode": {
    "name": "ipython",
    "version": 3
   },
   "file_extension": ".py",
   "mimetype": "text/x-python",
   "name": "python",
   "nbconvert_exporter": "python",
   "pygments_lexer": "ipython3",
   "version": "3.9.16"
  }
 },
 "nbformat": 4,
 "nbformat_minor": 5
}
