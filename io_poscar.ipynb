{
 "cells": [
  {
   "cell_type": "code",
   "execution_count": 1,
   "id": "3d725a3f-590a-4e35-8e30-d4d8965ca5df",
   "metadata": {
    "tags": []
   },
   "outputs": [],
   "source": [
    "from pyscal.crystal_structures import Structure\n",
    "from pyscal_rdf.graph import StructureGraph\n",
    "from pyscal_rdf.queries import Query\n",
    "from pyscal.core import System"
   ]
  },
  {
   "cell_type": "markdown",
   "id": "0ccec4c4-ab84-4c13-aa33-553edd358d46",
   "metadata": {},
   "source": [
    "Update hedgedoc [here](https://iffmd.fz-juelich.de/BRIkKGLlQduS8dA0sXKoZw)"
   ]
  },
  {
   "cell_type": "code",
   "execution_count": 2,
   "id": "226b8829-23fa-4763-b89f-8e868f8f4711",
   "metadata": {
    "tags": []
   },
   "outputs": [],
   "source": [
    "sys = System(\"tests/al_data/Al.poscar\", format='poscar')"
   ]
  },
  {
   "cell_type": "code",
   "execution_count": 3,
   "id": "ccf9dd3f-3f20-4a01-8b0f-767625965198",
   "metadata": {
    "tags": []
   },
   "outputs": [],
   "source": [
    "g = StructureGraph()"
   ]
  },
  {
   "cell_type": "code",
   "execution_count": 4,
   "id": "b6975766-17d3-4591-bdff-792f51dd4f8c",
   "metadata": {
    "tags": []
   },
   "outputs": [],
   "source": [
    "g.add_structure_to_graph(sys)"
   ]
  },
  {
   "cell_type": "code",
   "execution_count": 5,
   "id": "43c69a31-c1f0-4984-b972-dae7a29a3ee8",
   "metadata": {
    "tags": []
   },
   "outputs": [
    {
     "data": {
      "application/vnd.jupyter.widget-view+json": {
       "model_id": "2adfcf00fcb3433eb2e817bc0f5eebb6",
       "version_major": 2,
       "version_minor": 0
      },
      "text/plain": [
       "CytoscapeWidget(cytoscape_layout={'name': 'cola', 'avoidOverlap': True, 'animate': True}, cytoscape_style=[{'s…"
      ]
     },
     "execution_count": 5,
     "metadata": {},
     "output_type": "execute_result"
    }
   ],
   "source": [
    "g.visualise()"
   ]
  },
  {
   "cell_type": "code",
   "execution_count": null,
   "id": "afa7d446-4c82-4d0e-8e99-06fc45426fc6",
   "metadata": {},
   "outputs": [],
   "source": []
  }
 ],
 "metadata": {
  "kernelspec": {
   "display_name": "Python 3 (ipykernel)",
   "language": "python",
   "name": "python3"
  },
  "language_info": {
   "codemirror_mode": {
    "name": "ipython",
    "version": 3
   },
   "file_extension": ".py",
   "mimetype": "text/x-python",
   "name": "python",
   "nbconvert_exporter": "python",
   "pygments_lexer": "ipython3",
   "version": "3.9.16"
  }
 },
 "nbformat": 4,
 "nbformat_minor": 5
}
