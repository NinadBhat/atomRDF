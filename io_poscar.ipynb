{
 "cells": [
  {
   "cell_type": "code",
   "execution_count": 1,
   "id": "3d725a3f-590a-4e35-8e30-d4d8965ca5df",
   "metadata": {
    "tags": []
   },
   "outputs": [],
   "source": [
    "from pyscal_rdf import StructureGraph\n",
    "from pyscal_rdf.visualize import visualize_sample\n",
    "from rdflib import URIRef, Namespace, BNode, Literal, XSD, RDF, Graph"
   ]
  },
  {
   "cell_type": "code",
   "execution_count": 2,
   "id": "c527dd7e-ad96-4929-a449-dcc3dc23f1cc",
   "metadata": {
    "tags": []
   },
   "outputs": [],
   "source": [
    "CMSO = Namespace(\"https://purls.helmholtz-metadaten.de/cmso/\")"
   ]
  },
  {
   "cell_type": "code",
   "execution_count": 3,
   "id": "226b8829-23fa-4763-b89f-8e868f8f4711",
   "metadata": {
    "tags": []
   },
   "outputs": [],
   "source": [
    "g = StructureGraph()"
   ]
  },
  {
   "cell_type": "code",
   "execution_count": 4,
   "id": "43c69a31-c1f0-4984-b972-dae7a29a3ee8",
   "metadata": {
    "tags": []
   },
   "outputs": [
    {
     "name": "stdout",
     "output_type": "stream",
     "text": [
      "Fe\n"
     ]
    }
   ],
   "source": [
    "struct_Fe = g.create_element(\"Fe\")"
   ]
  },
  {
   "cell_type": "code",
   "execution_count": 5,
   "id": "6f4ea718-7d04-4abc-9821-ac2e92b18996",
   "metadata": {
    "tags": []
   },
   "outputs": [],
   "source": [
    "samples = []\n",
    "for x in g.graph.triples((None, RDF.type, CMSO.AtomicScaleSample)):\n",
    "    samples.append(x)"
   ]
  },
  {
   "cell_type": "code",
   "execution_count": 6,
   "id": "804bc28e-de7d-4c71-8a75-6234a0edc501",
   "metadata": {
    "tags": []
   },
   "outputs": [
    {
     "data": {
      "text/plain": [
       "rdflib.term.BNode('N9ab434fb9e5b4695bc7a009629f870e0')"
      ]
     },
     "execution_count": 6,
     "metadata": {},
     "output_type": "execute_result"
    }
   ],
   "source": [
    "c = samples[0][0]\n",
    "c"
   ]
  },
  {
   "cell_type": "code",
   "execution_count": 8,
   "id": "29060720-3077-4ee7-a5c8-02db28588018",
   "metadata": {
    "tags": []
   },
   "outputs": [
    {
     "name": "stdout",
     "output_type": "stream",
     "text": [
      "Object `g.visualise_sample` not found.\n"
     ]
    }
   ],
   "source": [
    "g.visualize_sample?"
   ]
  },
  {
   "cell_type": "code",
   "execution_count": 7,
   "id": "c46f69e8-ed02-4152-a21c-f79fede2d8db",
   "metadata": {
    "tags": []
   },
   "outputs": [
    {
     "ename": "KeyError",
     "evalue": "'fontsize'",
     "output_type": "error",
     "traceback": [
      "\u001b[0;31m---------------------------------------------------------------------------\u001b[0m",
      "\u001b[0;31mKeyError\u001b[0m                                  Traceback (most recent call last)",
      "Cell \u001b[0;32mIn[7], line 1\u001b[0m\n\u001b[0;32m----> 1\u001b[0m gg \u001b[38;5;241m=\u001b[39m \u001b[43mvisualize_sample\u001b[49m\u001b[43m(\u001b[49m\u001b[43mg\u001b[49m\u001b[38;5;241;43m.\u001b[39;49m\u001b[43mgraph\u001b[49m\u001b[43m,\u001b[49m\u001b[43m \u001b[49m\u001b[43mc\u001b[49m\u001b[43m)\u001b[49m\n",
      "File \u001b[0;32m/mnt/c/Users/menon/Documents/winrepos/pyscal_rdf/pyscal_rdf/visualize.py:219\u001b[0m, in \u001b[0;36mvisualize_sample\u001b[0;34m(g, sample, edge_color, styledict, layoutname)\u001b[0m\n\u001b[1;32m    212\u001b[0m string1, istype1 \u001b[38;5;241m=\u001b[39m parse_object(k[\u001b[38;5;241m0\u001b[39m])\n\u001b[1;32m    213\u001b[0m id1 \u001b[38;5;241m=\u001b[39m _fix_id(string1, istype1)\n\u001b[1;32m    214\u001b[0m d \u001b[38;5;241m=\u001b[39m {\u001b[38;5;124m\"\u001b[39m\u001b[38;5;124mdata\u001b[39m\u001b[38;5;124m\"\u001b[39m: {\u001b[38;5;124m\"\u001b[39m\u001b[38;5;124mid\u001b[39m\u001b[38;5;124m\"\u001b[39m: \u001b[38;5;28mstr\u001b[39m(id1), \n\u001b[1;32m    215\u001b[0m               \u001b[38;5;124m\"\u001b[39m\u001b[38;5;124mlabel\u001b[39m\u001b[38;5;124m\"\u001b[39m: \u001b[38;5;28mstr\u001b[39m(string1), \n\u001b[1;32m    216\u001b[0m               \u001b[38;5;124m\"\u001b[39m\u001b[38;5;124mclasses\u001b[39m\u001b[38;5;124m\"\u001b[39m: \u001b[38;5;28mstr\u001b[39m(istype1),\n\u001b[1;32m    217\u001b[0m               \u001b[38;5;124m\"\u001b[39m\u001b[38;5;124mshape\u001b[39m\u001b[38;5;124m\"\u001b[39m: _switch_box(styledict[istype1][\u001b[38;5;124m'\u001b[39m\u001b[38;5;124mshape\u001b[39m\u001b[38;5;124m'\u001b[39m]),\n\u001b[1;32m    218\u001b[0m               \u001b[38;5;124m\"\u001b[39m\u001b[38;5;124mwidth\u001b[39m\u001b[38;5;124m\"\u001b[39m: \u001b[38;5;28mlen\u001b[39m(string1)\u001b[38;5;241m*\u001b[39m\u001b[38;5;241m7\u001b[39m,\n\u001b[0;32m--> 219\u001b[0m               \u001b[38;5;124m\"\u001b[39m\u001b[38;5;124mfontsize\u001b[39m\u001b[38;5;124m\"\u001b[39m: \u001b[43mstyledict\u001b[49m\u001b[43m[\u001b[49m\u001b[43mistype1\u001b[49m\u001b[43m]\u001b[49m\u001b[43m[\u001b[49m\u001b[38;5;124;43m'\u001b[39;49m\u001b[38;5;124;43mfontsize\u001b[39;49m\u001b[38;5;124;43m'\u001b[39;49m\u001b[43m]\u001b[49m}}\n\u001b[1;32m    220\u001b[0m gdict[\u001b[38;5;124m\"\u001b[39m\u001b[38;5;124mnodes\u001b[39m\u001b[38;5;124m\"\u001b[39m]\u001b[38;5;241m.\u001b[39mappend(d)\n\u001b[1;32m    222\u001b[0m string2, istype2 \u001b[38;5;241m=\u001b[39m parse_object(k[\u001b[38;5;241m2\u001b[39m])\n",
      "\u001b[0;31mKeyError\u001b[0m: 'fontsize'"
     ]
    }
   ],
   "source": [
    "gg = visualize_sample(g.graph, c)"
   ]
  },
  {
   "cell_type": "code",
   "execution_count": 8,
   "id": "d87d651b-aaf9-4eec-8ab7-e9adca367f85",
   "metadata": {
    "tags": []
   },
   "outputs": [
    {
     "data": {
      "application/vnd.jupyter.widget-view+json": {
       "model_id": "8618e3d23009467189c1f69e98fe2602",
       "version_major": 2,
       "version_minor": 0
      },
      "text/plain": [
       "CytoscapeWidget(cytoscape_layout={'name': 'cola', 'avoidOverlap': True, 'animate': True}, cytoscape_style=[{'s…"
      ]
     },
     "execution_count": 8,
     "metadata": {},
     "output_type": "execute_result"
    }
   ],
   "source": [
    "gg"
   ]
  },
  {
   "cell_type": "code",
   "execution_count": null,
   "id": "f0639a57-3b55-44ba-ba12-1ba98172de47",
   "metadata": {},
   "outputs": [],
   "source": []
  }
 ],
 "metadata": {
  "kernelspec": {
   "display_name": "Python 3 (ipykernel)",
   "language": "python",
   "name": "python3"
  },
  "language_info": {
   "codemirror_mode": {
    "name": "ipython",
    "version": 3
   },
   "file_extension": ".py",
   "mimetype": "text/x-python",
   "name": "python",
   "nbconvert_exporter": "python",
   "pygments_lexer": "ipython3",
   "version": "3.9.16"
  }
 },
 "nbformat": 4,
 "nbformat_minor": 5
}
