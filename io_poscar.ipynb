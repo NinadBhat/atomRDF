{
 "cells": [
  {
   "cell_type": "code",
   "execution_count": 1,
   "id": "3d725a3f-590a-4e35-8e30-d4d8965ca5df",
   "metadata": {},
   "outputs": [],
   "source": [
    "from pyscal.core import System\n",
    "from pyscal.crystal_structures import Structure\n",
    "import json\n",
    "import yaml\n",
    "import numpy as np\n",
    "from json import JSONEncoder"
   ]
  },
  {
   "cell_type": "code",
   "execution_count": 2,
   "id": "b7662958-60ae-4a72-9252-69e1e607742b",
   "metadata": {},
   "outputs": [],
   "source": [
    "class NumpyArrayEncoder(JSONEncoder):\n",
    "    \"\"\"\n",
    "    Encode numpy to dump in json\n",
    "    \"\"\"\n",
    "    def default(self, obj):\n",
    "        if isinstance(obj, np.integer):\n",
    "            return int(obj)\n",
    "        elif isinstance(obj, np.floating):\n",
    "            return float(obj)\n",
    "        elif isinstance(obj, np.ndarray):\n",
    "            return obj.tolist()\n",
    "        else:\n",
    "            return super(NumpyArrayEncoder, self).default(obj)\n",
    "    \n",
    "def get_angle(vec1, vec2):\n",
    "    \"\"\"\n",
    "    Get angle between two vectors in degrees\n",
    "    \n",
    "    Parameters\n",
    "    ----------\n",
    "    vec1: list\n",
    "        first vector\n",
    "    \n",
    "    vec2: list\n",
    "        second vector\n",
    "    \n",
    "    Returns\n",
    "    -------\n",
    "    angle: float\n",
    "        angle in degrees\n",
    "    \n",
    "    Notes\n",
    "    -----\n",
    "    Angle is rounded to two decimal points\n",
    "    \n",
    "    \"\"\"\n",
    "    return np.round(np.arccos(np.dot(vec1, vec2)/(np.linalg.norm(vec1)*np.linalg.norm(vec2)))*180/np.pi, decimals=2)\n",
    "\n",
    "def get_coordination(sys):\n",
    "    sys.find_neighbors(method=\"cutoff\")\n",
    "    coordination = [len(x) for x in sys.atoms.neighbors.index]\n",
    "    return coordination\n",
    "\n",
    "def write_file(outfile, data):\n",
    "    \"\"\"\n",
    "    Write a given dict as json file\n",
    "    \n",
    "    Parameters\n",
    "    ----------\n",
    "    outfile: string\n",
    "        name of output file. `.json` will be added to the given file name\n",
    "    \n",
    "    data: dict\n",
    "        input data dict\n",
    "    \n",
    "    Returns\n",
    "    -------\n",
    "    None\n",
    "    \"\"\"\n",
    "    with open(\".\".join([outfile, \"json\"]), \"w\") as fout:\n",
    "        json.dump(convert_to_dict(sys), fout, cls=NumpyArrayEncoder)\n",
    "    #with open(\".\".join([outfile, \"yaml\"]), \"w\") as fout:\n",
    "    #    yaml.unsafe_dump(convert_to_dict(sys), fout)\n",
    "        \n",
    "def convert_to_dict(sys):\n",
    "    \"\"\"\n",
    "    Convert a pyscal System object to data dictionary\n",
    "    \n",
    "    Parameters\n",
    "    ----------\n",
    "    sys: pyscal System\n",
    "        input system\n",
    "    \n",
    "    Returns\n",
    "    -------\n",
    "    info: dict\n",
    "        dict with parsed information\n",
    "    \"\"\"\n",
    "    info = {}\n",
    "    \n",
    "    #not available\n",
    "    info[\"latticeparameter\"] = sys.atoms._lattice_constant\n",
    "    info[\"Coordination\"] = get_coordination(sys)\n",
    "    info[\"SpaceGroup\"] = None #add this on pyscal side (ID and symbol)\n",
    "    \n",
    "    #needs to be defined\n",
    "    if sys.atoms.species[0] is not None:\n",
    "        info[\"Element\"] = np.unique(sys.atoms.species)\n",
    "        info[\"Occupancy\"] = sys.atoms.species\n",
    "    else:\n",
    "        info[\"Element\"] = np.unique(sys.atoms.types)\n",
    "        info[\"Occupancy\"] = sys.atoms.types\n",
    "    \n",
    "    info[\"Lattice\"] = sys.atoms._lattice \n",
    "    info[\"CellVolume\"] = sys.volume\n",
    "    info[\"NumberOfAtoms\"] = sys.natoms\n",
    "\n",
    "    info[\"X_AxisCoordinate\"] = np.array(sys.atoms.positions)[:,0]\n",
    "    info[\"Y_AxisCoordinate\"] = np.array(sys.atoms.positions)[:,1]\n",
    "    info[\"Z_AxisCoordinate\"] = np.array(sys.atoms.positions)[:,2]\n",
    "\n",
    "    #available \n",
    "    info[\"FirstAxisComponent\"] = sys.box[0]\n",
    "    info[\"SecondAxisComponent\"] = sys.box[1]\n",
    "    info[\"ThirdAxisComponent\"] = sys.box[2]\n",
    "    info[\"LatticeParameterLengthA\"] = np.linalg.norm(sys.box[0])\n",
    "    info[\"LatticeParameterLengthB\"] = np.linalg.norm(sys.box[1])\n",
    "    info[\"LatticeParameterLengthC\"] = np.linalg.norm(sys.box[2])\n",
    "    \n",
    "    info[\"LatticeParameterAngleAlpha\"] = get_angle(sys.box[0], sys.box[1])\n",
    "    info[\"LatticeParameterAngleBeta\"] = get_angle(sys.box[1], sys.box[2])\n",
    "    info[\"LatticeParameterAngleGamma\"] = get_angle(sys.box[2], sys.box[0])    \n",
    "    \n",
    "    return info"
   ]
  },
  {
   "cell_type": "markdown",
   "id": "6366ad20-62ee-4675-8efe-4305807d5def",
   "metadata": {},
   "source": [
    "## POSCAR"
   ]
  },
  {
   "cell_type": "code",
   "execution_count": 3,
   "id": "390bf2ec-0bfe-4cc0-9c64-b4a99d4576dc",
   "metadata": {},
   "outputs": [],
   "source": [
    "sys = System(\"al_data/Al.poscar\", format=\"poscar\")"
   ]
  },
  {
   "cell_type": "code",
   "execution_count": 4,
   "id": "def2282e-944a-4e7a-8be6-95305dd8aee3",
   "metadata": {},
   "outputs": [],
   "source": [
    "convert_to_dict(sys)\n",
    "write_file(\"dump\", convert_to_dict(sys))"
   ]
  },
  {
   "cell_type": "markdown",
   "id": "9b7559f4-78fd-43b7-bc62-e2ccb1a77038",
   "metadata": {},
   "source": [
    "## LAMMPS - dump"
   ]
  },
  {
   "cell_type": "code",
   "execution_count": 5,
   "id": "b9b1601a-02f0-4b50-9108-885a9f6b3499",
   "metadata": {},
   "outputs": [],
   "source": [
    "sys = System(\"al_data/Al.dump\")"
   ]
  },
  {
   "cell_type": "code",
   "execution_count": 6,
   "id": "5218591e-7075-4b6c-bc39-b717d147d560",
   "metadata": {},
   "outputs": [],
   "source": [
    "convert_to_dict(sys)\n",
    "write_file(\"dump2\", convert_to_dict(sys))"
   ]
  },
  {
   "cell_type": "markdown",
   "id": "1405d30b-7ae5-4fbb-ab42-bd4d769f6135",
   "metadata": {
    "tags": []
   },
   "source": [
    "## CIF/ ASE"
   ]
  },
  {
   "cell_type": "code",
   "execution_count": 14,
   "id": "90781c8e-e9f1-48c6-830f-ebfdc938eead",
   "metadata": {},
   "outputs": [],
   "source": [
    "from ase.io import read"
   ]
  },
  {
   "cell_type": "code",
   "execution_count": 15,
   "id": "8252ea07-f982-4398-8ef1-4d446a25d3aa",
   "metadata": {},
   "outputs": [],
   "source": [
    "aseobj = read(\"al_data/Al.cif\", format=\"cif\")"
   ]
  },
  {
   "cell_type": "code",
   "execution_count": 16,
   "id": "d5196db2-2b95-47f9-b29b-bcfa72ea41a9",
   "metadata": {},
   "outputs": [],
   "source": [
    "sys = System(aseobj, format=\"ase\")"
   ]
  },
  {
   "cell_type": "code",
   "execution_count": 17,
   "id": "307592ee-de1f-4785-87b9-9dc8ba6737b8",
   "metadata": {},
   "outputs": [],
   "source": [
    "convert_to_dict(sys)\n",
    "write_file(\"dump3\", convert_to_dict(sys))"
   ]
  },
  {
   "cell_type": "code",
   "execution_count": 18,
   "id": "2802abf9-1512-4d52-98b6-43913883ebd9",
   "metadata": {},
   "outputs": [],
   "source": [
    "data = convert_to_dict(sys)"
   ]
  },
  {
   "cell_type": "markdown",
   "id": "474aa390-7d04-4880-9cd9-8dddc5e2a938",
   "metadata": {},
   "source": [
    "## Creating structure from pyscal"
   ]
  },
  {
   "cell_type": "code",
   "execution_count": 12,
   "id": "bfd789a1-38c8-47e2-b693-e6a5e3c56a0b",
   "metadata": {},
   "outputs": [],
   "source": [
    "struct = Structure()"
   ]
  },
  {
   "cell_type": "code",
   "execution_count": 13,
   "id": "c7aa32d3-04fa-47c5-b011-b5e4fca6c44c",
   "metadata": {
    "collapsed": true,
    "jupyter": {
     "outputs_hidden": true
    },
    "tags": []
   },
   "outputs": [
    {
     "name": "stdout",
     "output_type": "stream",
     "text": [
      "['Ni', 'Al']\n"
     ]
    },
    {
     "ename": "ValueError",
     "evalue": "The truth value of an array with more than one element is ambiguous. Use a.any() or a.all()",
     "output_type": "error",
     "traceback": [
      "\u001b[0;31m---------------------------------------------------------------------------\u001b[0m",
      "\u001b[0;31mValueError\u001b[0m                                Traceback (most recent call last)",
      "Cell \u001b[0;32mIn[13], line 1\u001b[0m\n\u001b[0;32m----> 1\u001b[0m sys \u001b[38;5;241m=\u001b[39m \u001b[43mstruct\u001b[49m\u001b[38;5;241;43m.\u001b[39;49m\u001b[43mlattice\u001b[49m\u001b[38;5;241;43m.\u001b[39;49m\u001b[43mb2\u001b[49m\u001b[43m(\u001b[49m\u001b[43mlattice_constant\u001b[49m\u001b[38;5;241;43m=\u001b[39;49m\u001b[38;5;241;43m4\u001b[39;49m\u001b[43m,\u001b[49m\u001b[43m \u001b[49m\u001b[43melement\u001b[49m\u001b[38;5;241;43m=\u001b[39;49m\u001b[43m[\u001b[49m\u001b[38;5;124;43m\"\u001b[39;49m\u001b[38;5;124;43mNi\u001b[39;49m\u001b[38;5;124;43m\"\u001b[39;49m\u001b[43m,\u001b[49m\u001b[43m \u001b[49m\u001b[38;5;124;43m\"\u001b[39;49m\u001b[38;5;124;43mAl\u001b[39;49m\u001b[38;5;124;43m\"\u001b[39;49m\u001b[43m]\u001b[49m\u001b[43m)\u001b[49m\n",
      "File \u001b[0;32m~/envs/pyscal/lib/python3.11/site-packages/pyscal-2.10.15-py3.11-linux-x86_64.egg/pyscal/crystal_structures.py:63\u001b[0m, in \u001b[0;36mstructure_creator\u001b[0;34m(structure, lattice_constant, repetitions, ca_ratio, noise, element, chemical_symbol)\u001b[0m\n\u001b[1;32m     20\u001b[0m \u001b[38;5;28;01mdef\u001b[39;00m \u001b[38;5;21mstructure_creator\u001b[39m(structure, \n\u001b[1;32m     21\u001b[0m              lattice_constant \u001b[38;5;241m=\u001b[39m \u001b[38;5;241m1.00\u001b[39m, \n\u001b[1;32m     22\u001b[0m              repetitions \u001b[38;5;241m=\u001b[39m \u001b[38;5;28;01mNone\u001b[39;00m, \n\u001b[0;32m   (...)\u001b[0m\n\u001b[1;32m     25\u001b[0m              element\u001b[38;5;241m=\u001b[39m\u001b[38;5;28;01mNone\u001b[39;00m,\n\u001b[1;32m     26\u001b[0m              chemical_symbol\u001b[38;5;241m=\u001b[39m\u001b[38;5;28;01mNone\u001b[39;00m):\n\u001b[1;32m     27\u001b[0m \u001b[38;5;250m    \u001b[39m\u001b[38;5;124;03m\"\"\"\u001b[39;00m\n\u001b[1;32m     28\u001b[0m \u001b[38;5;124;03m    Create a crystal structure and return it as a System object.\u001b[39;00m\n\u001b[1;32m     29\u001b[0m \n\u001b[0;32m   (...)\u001b[0m\n\u001b[1;32m     61\u001b[0m \u001b[38;5;124;03m    >>> sys = structure_creator('bcc', lattice_constant=3.48, repetitions=[2,2,2])\u001b[39;00m\n\u001b[1;32m     62\u001b[0m \u001b[38;5;124;03m    \"\"\"\u001b[39;00m    \n\u001b[0;32m---> 63\u001b[0m     \u001b[38;5;28;01mreturn\u001b[39;00m \u001b[43mSystem\u001b[49m\u001b[38;5;241;43m.\u001b[39;49m\u001b[43mfrom_structure\u001b[49m\u001b[43m(\u001b[49m\u001b[43mstructure\u001b[49m\u001b[43m,\u001b[49m\u001b[43m \u001b[49m\u001b[43mlattice_constant\u001b[49m\u001b[38;5;241;43m=\u001b[39;49m\u001b[43mlattice_constant\u001b[49m\u001b[43m,\u001b[49m\n\u001b[1;32m     64\u001b[0m \u001b[43m             \u001b[49m\u001b[43mrepetitions\u001b[49m\u001b[38;5;241;43m=\u001b[39;49m\u001b[43mrepetitions\u001b[49m\u001b[43m,\u001b[49m\u001b[43m \u001b[49m\u001b[43mca_ratio\u001b[49m\u001b[38;5;241;43m=\u001b[39;49m\u001b[43mca_ratio\u001b[49m\u001b[43m,\u001b[49m\n\u001b[1;32m     65\u001b[0m \u001b[43m             \u001b[49m\u001b[43mnoise\u001b[49m\u001b[38;5;241;43m=\u001b[39;49m\u001b[43mnoise\u001b[49m\u001b[43m,\u001b[49m\u001b[43m \u001b[49m\u001b[43melement\u001b[49m\u001b[38;5;241;43m=\u001b[39;49m\u001b[43melement\u001b[49m\u001b[43m)\u001b[49m\n",
      "File \u001b[0;32m~/envs/pyscal/lib/python3.11/site-packages/pyscal-2.10.15-py3.11-linux-x86_64.egg/pyscal/core.py:53\u001b[0m, in \u001b[0;36mSystem.from_structure\u001b[0;34m(cls, structure, lattice_constant, repetitions, ca_ratio, noise, element, chemical_symbol)\u001b[0m\n\u001b[1;32m     51\u001b[0m \u001b[38;5;129m@classmethod\u001b[39m\n\u001b[1;32m     52\u001b[0m \u001b[38;5;28;01mdef\u001b[39;00m \u001b[38;5;21mfrom_structure\u001b[39m(\u001b[38;5;28mcls\u001b[39m, structure, lattice_constant \u001b[38;5;241m=\u001b[39m \u001b[38;5;241m1.00\u001b[39m, repetitions \u001b[38;5;241m=\u001b[39m \u001b[38;5;28;01mNone\u001b[39;00m, ca_ratio \u001b[38;5;241m=\u001b[39m \u001b[38;5;241m1.633\u001b[39m, noise \u001b[38;5;241m=\u001b[39m \u001b[38;5;241m0\u001b[39m, element\u001b[38;5;241m=\u001b[39m\u001b[38;5;28;01mNone\u001b[39;00m, chemical_symbol\u001b[38;5;241m=\u001b[39m\u001b[38;5;28;01mNone\u001b[39;00m):\n\u001b[0;32m---> 53\u001b[0m     atoms, box \u001b[38;5;241m=\u001b[39m \u001b[43mpcs\u001b[49m\u001b[38;5;241;43m.\u001b[39;49m\u001b[43mmake_crystal\u001b[49m\u001b[43m(\u001b[49m\u001b[43mstructure\u001b[49m\u001b[43m,\u001b[49m\u001b[43m \u001b[49m\u001b[43mlattice_constant\u001b[49m\u001b[38;5;241;43m=\u001b[39;49m\u001b[43mlattice_constant\u001b[49m\u001b[43m,\u001b[49m\n\u001b[1;32m     54\u001b[0m \u001b[43m         \u001b[49m\u001b[43mrepetitions\u001b[49m\u001b[38;5;241;43m=\u001b[39;49m\u001b[43mrepetitions\u001b[49m\u001b[43m,\u001b[49m\u001b[43m \u001b[49m\u001b[43mca_ratio\u001b[49m\u001b[38;5;241;43m=\u001b[39;49m\u001b[43mca_ratio\u001b[49m\u001b[43m,\u001b[49m\n\u001b[1;32m     55\u001b[0m \u001b[43m         \u001b[49m\u001b[43mnoise\u001b[49m\u001b[38;5;241;43m=\u001b[39;49m\u001b[43mnoise\u001b[49m\u001b[43m,\u001b[49m\u001b[43m \u001b[49m\u001b[43melement\u001b[49m\u001b[38;5;241;43m=\u001b[39;49m\u001b[43melement\u001b[49m\u001b[43m)\u001b[49m\n\u001b[1;32m     56\u001b[0m     obj \u001b[38;5;241m=\u001b[39m \u001b[38;5;28mcls\u001b[39m()\n\u001b[1;32m     57\u001b[0m     obj\u001b[38;5;241m.\u001b[39mbox \u001b[38;5;241m=\u001b[39m box\n",
      "File \u001b[0;32m~/envs/pyscal/lib/python3.11/site-packages/pyscal-2.10.15-py3.11-linux-x86_64.egg/pyscal/structure_creator.py:72\u001b[0m, in \u001b[0;36mmake_crystal\u001b[0;34m(structure, lattice_constant, repetitions, ca_ratio, noise, element)\u001b[0m\n\u001b[1;32m     70\u001b[0m \u001b[38;5;28;01mif\u001b[39;00m \u001b[38;5;28misinstance\u001b[39m(element, \u001b[38;5;28mstr\u001b[39m):\n\u001b[1;32m     71\u001b[0m     element \u001b[38;5;241m=\u001b[39m [element]\n\u001b[0;32m---> 72\u001b[0m \u001b[38;5;28;01mif\u001b[39;00m \u001b[38;5;129;01mnot\u001b[39;00m (\u001b[38;5;28mlen\u001b[39m(element) \u001b[38;5;241m==\u001b[39m unique_types):\n\u001b[1;32m     73\u001b[0m     \u001b[38;5;28;01mraise\u001b[39;00m \u001b[38;5;167;01mValueError\u001b[39;00m(\u001b[38;5;124m\"\u001b[39m\u001b[38;5;124mElements should equal number of species in the system\u001b[39m\u001b[38;5;124m\"\u001b[39m)\n\u001b[1;32m     75\u001b[0m element_dict \u001b[38;5;241m=\u001b[39m \u001b[38;5;28mdict\u001b[39m([x \u001b[38;5;28;01mfor\u001b[39;00m x \u001b[38;5;129;01min\u001b[39;00m \u001b[38;5;28mzip\u001b[39m(unique_types, element)])\n",
      "\u001b[0;31mValueError\u001b[0m: The truth value of an array with more than one element is ambiguous. Use a.any() or a.all()"
     ]
    }
   ],
   "source": [
    "sys = struct.lattice.b2(lattice_constant=4, element=[\"Ni\", \"Al\"])"
   ]
  },
  {
   "cell_type": "code",
   "execution_count": null,
   "id": "ae12832a-d188-4a60-a1b3-01c885da2708",
   "metadata": {},
   "outputs": [],
   "source": [
    "convert_to_dict(sys)"
   ]
  },
  {
   "cell_type": "code",
   "execution_count": null,
   "id": "70b4244e-70c9-4ebe-98dd-eb2215c78e91",
   "metadata": {},
   "outputs": [],
   "source": [
    "sys = struct.element.Si()"
   ]
  },
  {
   "cell_type": "code",
   "execution_count": null,
   "id": "0b470184-3dab-4dd1-b343-4b6f945f7811",
   "metadata": {},
   "outputs": [],
   "source": [
    "convert_to_dict(sys)"
   ]
  },
  {
   "cell_type": "markdown",
   "id": "f6a590e6-9c0a-4fa3-aad5-ef831db08560",
   "metadata": {},
   "source": [
    "## TODO: pyscal side\n",
    "\n",
    "- ~~Take a list of elements (optionally)~~ \n",
    "- ~~Lattice constant is not multipled to structure creation~~\n",
    "- Units should always be Angstroms\n",
    "- ~~Lattice constant is wrong in the above example ; should be 3 - but 9 is used~~\n",
    "- ~~Always use Cartesian coordinates~~\n",
    "- Space group"
   ]
  },
  {
   "cell_type": "markdown",
   "id": "84c38b88-7c72-4351-866c-b8092e2dbcb3",
   "metadata": {},
   "source": [
    "RDFLIB"
   ]
  },
  {
   "cell_type": "code",
   "execution_count": 35,
   "id": "1605d520-17b3-4533-83d6-5d500e325a57",
   "metadata": {},
   "outputs": [],
   "source": [
    "from rdflib import FOAF, Graph, Literal, Namespace, XSD, RDF, RDFS, URIRef, BNode, SDO\n",
    "from rdflib import term"
   ]
  },
  {
   "cell_type": "code",
   "execution_count": 36,
   "id": "c7b9e1f0-7c09-4616-a02b-29979e6165cb",
   "metadata": {},
   "outputs": [],
   "source": [
    "CSO = Namespace(\"https://purls.helmholtz-metadaten.de/disos/cso/\")\n",
    "MDO = Namespace(\"https://w3id.org/mdo/structure/1.1/\")"
   ]
  },
  {
   "cell_type": "code",
   "execution_count": 37,
   "id": "1f9c939b-cc71-4661-ad74-85b57eb34565",
   "metadata": {},
   "outputs": [],
   "source": [
    "g = Graph()\n",
    "#g.bind(\"cso\", CSO)\n",
    "#g.bind(\"mdo\", MDO)"
   ]
  },
  {
   "cell_type": "code",
   "execution_count": 38,
   "id": "cbd78f80-3514-40b5-bf6d-8ff7ce251be8",
   "metadata": {},
   "outputs": [],
   "source": [
    "struct1 = BNode()\n",
    "struct2 = BNode()"
   ]
  },
  {
   "cell_type": "code",
   "execution_count": 39,
   "id": "aa7537be-e840-43a4-af9c-8f006cd824a1",
   "metadata": {},
   "outputs": [
    {
     "data": {
      "text/plain": [
       "<Graph identifier=N7d9455e95b59454889f7e722bf4b33c4 (<class 'rdflib.graph.Graph'>)>"
      ]
     },
     "execution_count": 39,
     "metadata": {},
     "output_type": "execute_result"
    }
   ],
   "source": [
    "g.add((struct1, RDF.type, MDO.Structure))\n",
    "g.add((struct2, RDF.type, MDO.Structure))\n",
    "g.add((struct1, FOAF.name, Literal(\"struct1\")))\n",
    "g.add((struct2, FOAF.name, Literal(\"struct2\")))\n"
   ]
  },
  {
   "cell_type": "code",
   "execution_count": 40,
   "id": "3ef82338-4c02-4b69-8f87-01f49b8d83de",
   "metadata": {},
   "outputs": [
    {
     "name": "stdout",
     "output_type": "stream",
     "text": [
      "[\n",
      "  {\n",
      "    \"@id\": \"_:N158d2ff330d94e43a085b3e337f1d2ab\",\n",
      "    \"@type\": [\n",
      "      \"https://w3id.org/mdo/structure/1.1/Structure\"\n",
      "    ],\n",
      "    \"http://xmlns.com/foaf/0.1/name\": [\n",
      "      {\n",
      "        \"@value\": \"struct1\"\n",
      "      }\n",
      "    ]\n",
      "  },\n",
      "  {\n",
      "    \"@id\": \"_:N4feb78915261486abac67873d757f88a\",\n",
      "    \"@type\": [\n",
      "      \"https://w3id.org/mdo/structure/1.1/Structure\"\n",
      "    ],\n",
      "    \"http://xmlns.com/foaf/0.1/name\": [\n",
      "      {\n",
      "        \"@value\": \"struct2\"\n",
      "      }\n",
      "    ]\n",
      "  }\n",
      "]\n"
     ]
    }
   ],
   "source": [
    "print(g.serialize(format=\"json-ld\"))"
   ]
  },
  {
   "cell_type": "code",
   "execution_count": 29,
   "id": "a200a2c3-ae3e-4d78-bae9-34316cd16c97",
   "metadata": {},
   "outputs": [
    {
     "data": {
      "text/plain": [
       "rdflib.term.URIRef('https://w3id.org/mdo/structure/1.1/Structure')"
      ]
     },
     "execution_count": 29,
     "metadata": {},
     "output_type": "execute_result"
    }
   ],
   "source": [
    "MDO.Structure"
   ]
  },
  {
   "cell_type": "code",
   "execution_count": 22,
   "id": "7919a7ef-16c9-4974-869a-ca7738d92e2b",
   "metadata": {},
   "outputs": [],
   "source": [
    "Coordinate_Vector = URIRef(\"https://w3id.org/mdo/structure/CoordinateVector\")\n",
    "Lattice = URIRef(\"https://purls.helmholtz-metadaten.de/disos/cso#Lattice\")\n",
    "Structure"
   ]
  },
  {
   "cell_type": "code",
   "execution_count": 23,
   "id": "55915048-1d0a-4e87-b205-1ac7f3b5edf8",
   "metadata": {},
   "outputs": [
    {
     "data": {
      "text/plain": [
       "<Graph identifier=N4a938d188e1144a09a7d15b75c83a184 (<class 'rdflib.graph.Graph'>)>"
      ]
     },
     "execution_count": 23,
     "metadata": {},
     "output_type": "execute_result"
    }
   ],
   "source": [
    "\n",
    "g.add((Coordinate_Vector, MDO.X_axisCoordinate, Literal(data[\"X_AxisCoordinate\"])))\n",
    "g.add((Coordinate_Vector, MDO.Y_axisCoordinate, Literal(data[\"Y_AxisCoordinate\"])))\n",
    "g.add((Coordinate_Vector, MDO.Z_axisCoordinate, Literal(data[\"Z_AxisCoordinate\"])))"
   ]
  },
  {
   "cell_type": "code",
   "execution_count": 24,
   "id": "fe5a8a02-60f0-48d2-860e-13aaf9552e49",
   "metadata": {},
   "outputs": [],
   "source": [
    "with open(\"dump-ld.json\", \"w\") as fout:\n",
    "    fout.write(g.serialize(format=\"json-ld\"))"
   ]
  },
  {
   "cell_type": "code",
   "execution_count": 25,
   "id": "92469cb2-9418-42cb-a764-f06576016bd4",
   "metadata": {},
   "outputs": [
    {
     "name": "stdout",
     "output_type": "stream",
     "text": [
      "[\n",
      "  {\n",
      "    \"@id\": \"https://w3id.org/mdo/structure/CoordinateVector\",\n",
      "    \"https://w3id.org/mdo/structure/1.1/X_axisCoordinate\": [\n",
      "      {\n",
      "        \"@value\": \"[0.         0.         2.01946484 2.01946484]\"\n",
      "      }\n",
      "    ],\n",
      "    \"https://w3id.org/mdo/structure/1.1/Y_axisCoordinate\": [\n",
      "      {\n",
      "        \"@value\": \"[0.         2.01946484 0.         2.01946484]\"\n",
      "      }\n",
      "    ],\n",
      "    \"https://w3id.org/mdo/structure/1.1/Z_axisCoordinate\": [\n",
      "      {\n",
      "        \"@value\": \"[0.         2.01946484 2.01946484 0.        ]\"\n",
      "      }\n",
      "    ]\n",
      "  }\n",
      "]\n"
     ]
    }
   ],
   "source": [
    "print(g.serialize(format=\"json-ld\"))"
   ]
  },
  {
   "cell_type": "markdown",
   "id": "9b8ca80b-1d18-44d9-8116-30125761741b",
   "metadata": {},
   "source": [
    "- Map the terms (see above)\n",
    "- Terms for type annotations\n",
    "- Use BNode to add multiple structures\n",
    "- Add visualisation\n",
    "- Space group calculation\n",
    "- try saving to database\n",
    "- Query the graph (range queries possible?)\n",
    "- Make a package out of it\n",
    "- Extend...."
   ]
  },
  {
   "cell_type": "code",
   "execution_count": null,
   "id": "b786c0ad-c9de-46e9-8d05-7595c12aa1d7",
   "metadata": {},
   "outputs": [],
   "source": []
  }
 ],
 "metadata": {
  "kernelspec": {
   "display_name": "pyscal",
   "language": "python",
   "name": "pyscal"
  },
  "language_info": {
   "codemirror_mode": {
    "name": "ipython",
    "version": 3
   },
   "file_extension": ".py",
   "mimetype": "text/x-python",
   "name": "python",
   "nbconvert_exporter": "python",
   "pygments_lexer": "ipython3",
   "version": "3.11.0"
  }
 },
 "nbformat": 4,
 "nbformat_minor": 5
}
