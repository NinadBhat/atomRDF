{
 "cells": [
  {
   "cell_type": "code",
   "execution_count": 1,
   "id": "3d725a3f-590a-4e35-8e30-d4d8965ca5df",
   "metadata": {
    "tags": []
   },
   "outputs": [],
   "source": [
    "from pyscal.crystal_structures import Structure\n",
    "from pyscal_rdf.graph import StructureGraph\n",
    "from pyscal_rdf.queries import Query"
   ]
  },
  {
   "cell_type": "markdown",
   "id": "0ccec4c4-ab84-4c13-aa33-553edd358d46",
   "metadata": {},
   "source": [
    "Update hedgedoc [here](https://iffmd.fz-juelich.de/BRIkKGLlQduS8dA0sXKoZw)"
   ]
  },
  {
   "cell_type": "markdown",
   "id": "133fc6b5-0dc8-4c06-9b58-7c544eb406c5",
   "metadata": {},
   "source": [
    "## Creating structure and add to graph"
   ]
  },
  {
   "cell_type": "code",
   "execution_count": 2,
   "id": "14aaf426-efd3-4f08-b252-14181754f0dc",
   "metadata": {
    "tags": []
   },
   "outputs": [],
   "source": [
    "struct = Structure()"
   ]
  },
  {
   "cell_type": "code",
   "execution_count": 3,
   "id": "f09746c8-3590-4043-aecb-0061b26f157a",
   "metadata": {
    "tags": []
   },
   "outputs": [
    {
     "name": "stdout",
     "output_type": "stream",
     "text": [
      "['Al', 'Ni']\n"
     ]
    }
   ],
   "source": [
    "sys = struct.lattice.l12(element=['Al', 'Ni'], \n",
    "                         lattice_constant=3.57)"
   ]
  },
  {
   "cell_type": "markdown",
   "id": "7e8a6ae7-092b-4de7-8a0a-231153dc7e20",
   "metadata": {},
   "source": [
    "Create a new graph and add data"
   ]
  },
  {
   "cell_type": "code",
   "execution_count": 4,
   "id": "7339cedb-8ab6-478f-9215-922ce616288c",
   "metadata": {
    "tags": []
   },
   "outputs": [],
   "source": [
    "g = StructureGraph()\n",
    "g.add_structure_to_graph(sys)"
   ]
  },
  {
   "cell_type": "markdown",
   "id": "17e5645c-12cc-4623-8108-1b22f5dfc1c4",
   "metadata": {},
   "source": [
    "Create a new structure and add it"
   ]
  },
  {
   "cell_type": "code",
   "execution_count": 5,
   "id": "f58fc4f4-9d7a-4510-94e9-2d94e3a362eb",
   "metadata": {
    "tags": []
   },
   "outputs": [
    {
     "name": "stdout",
     "output_type": "stream",
     "text": [
      "Fe\n"
     ]
    }
   ],
   "source": [
    "sys = struct.element.Fe()"
   ]
  },
  {
   "cell_type": "markdown",
   "id": "1226a57d-7c0c-48e3-b6ae-d9b4c280fafc",
   "metadata": {},
   "source": [
    "Add this too to the graph"
   ]
  },
  {
   "cell_type": "code",
   "execution_count": 6,
   "id": "1c984ebe-afcf-4463-8851-d6865d6be43c",
   "metadata": {
    "tags": []
   },
   "outputs": [],
   "source": [
    "g.add_structure_to_graph(sys)"
   ]
  },
  {
   "cell_type": "markdown",
   "id": "1246cdcb-0f21-431b-9910-6141f78bc843",
   "metadata": {},
   "source": [
    "Write graph"
   ]
  },
  {
   "cell_type": "code",
   "execution_count": 7,
   "id": "e96d6207-b431-4978-9c43-fb2342ac7b7c",
   "metadata": {
    "tags": []
   },
   "outputs": [],
   "source": [
    "g.write(\"out.json\")"
   ]
  },
  {
   "cell_type": "markdown",
   "id": "7f5013f5-bb13-4eeb-9c34-be7c394b4a81",
   "metadata": {
    "tags": []
   },
   "source": [
    "## Querying data"
   ]
  },
  {
   "cell_type": "markdown",
   "id": "f1e1fe31-67ec-41dc-9215-b55af25baca8",
   "metadata": {},
   "source": [
    "We can use some prepared queries"
   ]
  },
  {
   "cell_type": "code",
   "execution_count": 8,
   "id": "2485cf5c-10f6-4015-89ff-e9023341e3c4",
   "metadata": {
    "tags": []
   },
   "outputs": [],
   "source": [
    "q = Query()"
   ]
  },
  {
   "cell_type": "markdown",
   "id": "55aaa167-2119-4cb2-b114-ceb93badd331",
   "metadata": {},
   "source": [
    "Queries can be done using SPARQL backend or RDFLIB"
   ]
  },
  {
   "cell_type": "markdown",
   "id": "a972c875-b0f7-47b5-a6d0-8f73bfcc4c76",
   "metadata": {},
   "source": [
    "The below query gets samples with given altname"
   ]
  },
  {
   "cell_type": "code",
   "execution_count": 9,
   "id": "57000af7-4f7e-4ea1-8105-cc80b8a6775e",
   "metadata": {
    "tags": []
   },
   "outputs": [],
   "source": [
    "samples = q.sparql.sample_by_altname(g, 'bcc')"
   ]
  },
  {
   "cell_type": "code",
   "execution_count": 10,
   "id": "e41bc2ee-7c64-4b34-a3bd-b6885af8992a",
   "metadata": {
    "tags": []
   },
   "outputs": [],
   "source": [
    "samples = q.python.sample_by_altname(g, 'bcc')"
   ]
  },
  {
   "cell_type": "markdown",
   "id": "e3d895db-e28b-4865-ba2b-f78ba2ac77f3",
   "metadata": {},
   "source": [
    "How many samples were found?"
   ]
  },
  {
   "cell_type": "code",
   "execution_count": 11,
   "id": "d319d332-52b5-4510-bf73-55e4ce39aa12",
   "metadata": {
    "tags": []
   },
   "outputs": [
    {
     "data": {
      "text/plain": [
       "1"
      ]
     },
     "execution_count": 11,
     "metadata": {},
     "output_type": "execute_result"
    }
   ],
   "source": [
    "len(samples)"
   ]
  },
  {
   "cell_type": "markdown",
   "id": "ecfaf023-ec64-4a30-b216-8383c27ef9e5",
   "metadata": {},
   "source": [
    "Write out the given sample to a format, first lammps"
   ]
  },
  {
   "cell_type": "code",
   "execution_count": 12,
   "id": "a062986e-1178-41eb-809d-60269b1c92d4",
   "metadata": {
    "tags": []
   },
   "outputs": [],
   "source": [
    "g.to_file(samples[0], \"sample.dump\")"
   ]
  },
  {
   "cell_type": "markdown",
   "id": "b6a128a6-8786-4d86-bae4-74512f7fd801",
   "metadata": {},
   "source": [
    "Convert to ase"
   ]
  },
  {
   "cell_type": "code",
   "execution_count": 14,
   "id": "731eeb82-489e-45fa-a6b7-7f97299c9ee8",
   "metadata": {
    "tags": []
   },
   "outputs": [],
   "source": [
    "aseobj = g.to_file(samples[0], format=\"ase\")"
   ]
  },
  {
   "cell_type": "code",
   "execution_count": 16,
   "id": "05516edb-6061-4a59-a1d4-324238724bb1",
   "metadata": {
    "tags": []
   },
   "outputs": [
    {
     "data": {
      "text/plain": [
       "Atoms(symbols='Fe2', pbc=True, cell=[2.87, 2.87, 2.87])"
      ]
     },
     "execution_count": 16,
     "metadata": {},
     "output_type": "execute_result"
    }
   ],
   "source": [
    "aseobj"
   ]
  },
  {
   "cell_type": "markdown",
   "id": "c09db051-f0c0-48fe-9194-d3b2ef29002f",
   "metadata": {},
   "source": []
  },
  {
   "cell_type": "code",
   "execution_count": null,
   "id": "5ccbaf23-7462-40ee-b124-568b270e7fca",
   "metadata": {},
   "outputs": [],
   "source": []
  },
  {
   "cell_type": "markdown",
   "id": "7a52e680-f724-4934-a44e-ecbc9a459726",
   "metadata": {},
   "source": [
    "We use `BNode` for the moment, is it really the best option? Please check"
   ]
  },
  {
   "cell_type": "markdown",
   "id": "b2ef20c6-dac2-4ae1-bcc3-5fecabd91e42",
   "metadata": {},
   "source": [
    "- Control decimal points\n",
    "- Add references\n",
    "- Plot: add fig size\n",
    "- Plot: add font size\n",
    "- Plot: add duplicate labels\n",
    "- Dont hardcode lattice angles"
   ]
  },
  {
   "cell_type": "markdown",
   "id": "47b9a340-bb9d-4882-b41f-5a0414301681",
   "metadata": {
    "tags": []
   },
   "source": [
    "`DCTERMS.http://purl.org/dc/terms/bibliographicCitation`"
   ]
  }
 ],
 "metadata": {
  "kernelspec": {
   "display_name": "Python 3 (ipykernel)",
   "language": "python",
   "name": "python3"
  },
  "language_info": {
   "codemirror_mode": {
    "name": "ipython",
    "version": 3
   },
   "file_extension": ".py",
   "mimetype": "text/x-python",
   "name": "python",
   "nbconvert_exporter": "python",
   "pygments_lexer": "ipython3",
   "version": "3.9.16"
  }
 },
 "nbformat": 4,
 "nbformat_minor": 5
}
