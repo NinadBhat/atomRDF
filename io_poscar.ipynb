{
 "cells": [
  {
   "cell_type": "code",
   "execution_count": 1,
   "id": "3d725a3f-590a-4e35-8e30-d4d8965ca5df",
   "metadata": {},
   "outputs": [],
   "source": [
    "from pyscal.core import System\n",
    "import json\n",
    "import yaml\n",
    "import numpy as np\n",
    "from json import JSONEncoder"
   ]
  },
  {
   "cell_type": "code",
   "execution_count": 13,
   "id": "b7662958-60ae-4a72-9252-69e1e607742b",
   "metadata": {},
   "outputs": [],
   "source": [
    "class NumpyArrayEncoder(JSONEncoder):\n",
    "    \"\"\"\n",
    "    Encode numpy to dump in json\n",
    "    \"\"\"\n",
    "    def default(self, obj):\n",
    "        if isinstance(obj, np.integer):\n",
    "            return int(obj)\n",
    "        elif isinstance(obj, np.floating):\n",
    "            return float(obj)\n",
    "        elif isinstance(obj, np.ndarray):\n",
    "            return obj.tolist()\n",
    "        else:\n",
    "            return super(NumpyArrayEncoder, self).default(obj)\n",
    "    \n",
    "def get_angle(vec1, vec2):\n",
    "    \"\"\"\n",
    "    Get angle between two vectors in degrees\n",
    "    \n",
    "    Parameters\n",
    "    ----------\n",
    "    vec1: list\n",
    "        first vector\n",
    "    \n",
    "    vec2: list\n",
    "        second vector\n",
    "    \n",
    "    Returns\n",
    "    -------\n",
    "    angle: float\n",
    "        angle in degrees\n",
    "    \n",
    "    Notes\n",
    "    -----\n",
    "    Angle is rounded to two decimal points\n",
    "    \n",
    "    \"\"\"\n",
    "    return np.round(np.arccos(np.dot(vec1, vec2)/(np.linalg.norm(vec1)*np.linalg.norm(vec2)))*180/np.pi, decimals=2)\n",
    "\n",
    "def write_file(outfile, data):\n",
    "    \"\"\"\n",
    "    Write a given dict as json file\n",
    "    \n",
    "    Parameters\n",
    "    ----------\n",
    "    outfile: string\n",
    "        name of output file. `.json` will be added to the given file name\n",
    "    \n",
    "    data: dict\n",
    "        input data dict\n",
    "    \n",
    "    Returns\n",
    "    -------\n",
    "    None\n",
    "    \"\"\"\n",
    "    with open(\".\".join([outfile, \"json\"]), \"w\") as fout:\n",
    "        json.dump(convert_to_dict(sys), fout, cls=NumpyArrayEncoder)\n",
    "    #with open(\".\".join([outfile, \"yaml\"]), \"w\") as fout:\n",
    "    #    yaml.unsafe_dump(convert_to_dict(sys), fout)\n",
    "        \n",
    "def convert_to_dict(sys):\n",
    "    \"\"\"\n",
    "    Convert a pyscal System object to data dictionary\n",
    "    \n",
    "    Parameters\n",
    "    ----------\n",
    "    sys: pyscal System\n",
    "        input system\n",
    "    \n",
    "    Returns\n",
    "    -------\n",
    "    info: dict\n",
    "        dict with parsed information\n",
    "    \"\"\"\n",
    "    info = {}\n",
    "    \n",
    "    #not available\n",
    "    info[\"latticeparameter\"] = None\n",
    "    \n",
    "    #needs to be defined\n",
    "    info[\"Occupancy\"] = sys.atoms.species\n",
    "    info[\"Element\"] = np.unique(sys.atoms.species)\n",
    "    info[\"CellVolume\"] = sys.volume\n",
    "    info[\"NumberOfAtoms\"] = sys.natoms\n",
    "\n",
    "    info[\"X_AxisCoordinate\"] = np.array(sys.atoms.positions)[:,0]\n",
    "    info[\"Y_AxisCoordinate\"] = np.array(sys.atoms.positions)[:,1]\n",
    "    info[\"Z_AxisCoordinate\"] = np.array(sys.atoms.positions)[:,2]\n",
    "\n",
    "    #available \n",
    "    info[\"FirstAxisComponent\"] = sys.box[0]\n",
    "    info[\"SecondAxisComponent\"] = sys.box[1]\n",
    "    info[\"ThirdAxisComponent\"] = sys.box[2]\n",
    "    info[\"LatticeParameterLengthA\"] = sys.boxdims[0]\n",
    "    info[\"LatticeParameterLengthB\"] = sys.boxdims[1]\n",
    "    info[\"LatticeParameterLengthC\"] = sys.boxdims[2]\n",
    "    \n",
    "    info[\"LatticeParameterAngleAlpha\"] = get_angle(sys.box[0], sys.box[1])\n",
    "    info[\"LatticeParameterAngleBeta\"] = get_angle(sys.box[1], sys.box[2])\n",
    "    info[\"LatticeParameterAngleGamma\"] = get_angle(sys.box[2], sys.box[0])    \n",
    "    \n",
    "    return info"
   ]
  },
  {
   "cell_type": "markdown",
   "id": "6366ad20-62ee-4675-8efe-4305807d5def",
   "metadata": {},
   "source": [
    "## POSCAR"
   ]
  },
  {
   "cell_type": "code",
   "execution_count": 14,
   "id": "390bf2ec-0bfe-4cc0-9c64-b4a99d4576dc",
   "metadata": {},
   "outputs": [],
   "source": [
    "sys = System()\n",
    "sys.read_inputfile(\"al_data/Al.poscar\", format=\"poscar\")"
   ]
  },
  {
   "cell_type": "code",
   "execution_count": 15,
   "id": "def2282e-944a-4e7a-8be6-95305dd8aee3",
   "metadata": {},
   "outputs": [],
   "source": [
    "convert_to_dict(sys)\n",
    "write_file(\"dump\", convert_to_dict(sys))"
   ]
  },
  {
   "cell_type": "markdown",
   "id": "9b7559f4-78fd-43b7-bc62-e2ccb1a77038",
   "metadata": {},
   "source": [
    "## LAMMPS - dump"
   ]
  },
  {
   "cell_type": "code",
   "execution_count": 16,
   "id": "b9b1601a-02f0-4b50-9108-885a9f6b3499",
   "metadata": {},
   "outputs": [],
   "source": [
    "sys = System()\n",
    "sys.read_inputfile(\"al_data/Al.dump\")"
   ]
  },
  {
   "cell_type": "code",
   "execution_count": 17,
   "id": "5218591e-7075-4b6c-bc39-b717d147d560",
   "metadata": {},
   "outputs": [],
   "source": [
    "convert_to_dict(sys)\n",
    "write_file(\"dump2\", convert_to_dict(sys))"
   ]
  },
  {
   "cell_type": "markdown",
   "id": "1405d30b-7ae5-4fbb-ab42-bd4d769f6135",
   "metadata": {},
   "source": [
    "## CIF/ ASE"
   ]
  },
  {
   "cell_type": "code",
   "execution_count": 18,
   "id": "90781c8e-e9f1-48c6-830f-ebfdc938eead",
   "metadata": {},
   "outputs": [],
   "source": [
    "from ase.io import read"
   ]
  },
  {
   "cell_type": "code",
   "execution_count": 19,
   "id": "8252ea07-f982-4398-8ef1-4d446a25d3aa",
   "metadata": {},
   "outputs": [],
   "source": [
    "aseobj = read(\"al_data/Al.cif\", format=\"cif\")"
   ]
  },
  {
   "cell_type": "code",
   "execution_count": 20,
   "id": "d5196db2-2b95-47f9-b29b-bcfa72ea41a9",
   "metadata": {},
   "outputs": [],
   "source": [
    "sys = System()\n",
    "sys.read_inputfile(aseobj, format=\"ase\")"
   ]
  },
  {
   "cell_type": "code",
   "execution_count": 21,
   "id": "307592ee-de1f-4785-87b9-9dc8ba6737b8",
   "metadata": {},
   "outputs": [],
   "source": [
    "convert_to_dict(sys)\n",
    "write_file(\"dump3\", convert_to_dict(sys))"
   ]
  },
  {
   "cell_type": "code",
   "execution_count": 22,
   "id": "2802abf9-1512-4d52-98b6-43913883ebd9",
   "metadata": {},
   "outputs": [],
   "source": [
    "data = convert_to_dict(sys)"
   ]
  },
  {
   "cell_type": "markdown",
   "id": "474aa390-7d04-4880-9cd9-8dddc5e2a938",
   "metadata": {},
   "source": [
    "## Creating structure from pyscal"
   ]
  },
  {
   "cell_type": "code",
   "execution_count": 40,
   "id": "1e33e4e6-b70d-467f-9a60-e31fc0d4b349",
   "metadata": {},
   "outputs": [],
   "source": [
    "import pyscal.crystal_structures as pcs "
   ]
  },
  {
   "cell_type": "code",
   "execution_count": 43,
   "id": "a6e9a59a-fe68-4194-8e04-7da2cee96603",
   "metadata": {},
   "outputs": [],
   "source": [
    "atoms, box = pcs.make_crystal(structure=\"fcc\", lattice_constant=3)"
   ]
  },
  {
   "cell_type": "code",
   "execution_count": 47,
   "id": "78f8fa0a-36c8-48c1-afa6-e27cc721e684",
   "metadata": {},
   "outputs": [
    {
     "data": {
      "text/plain": [
       "[[0.0, 0.0, 0.0], [0.5, 0.0, 0.5], [0.0, 0.5, 0.5], [0.5, 0.5, 0.0]]"
      ]
     },
     "execution_count": 47,
     "metadata": {},
     "output_type": "execute_result"
    }
   ],
   "source": [
    "atoms.positions"
   ]
  },
  {
   "cell_type": "code",
   "execution_count": 44,
   "id": "c3a69128-5834-4835-a0c6-49019cc52087",
   "metadata": {},
   "outputs": [],
   "source": [
    "sys = System()\n",
    "sys.box = box\n",
    "sys.atoms = atoms"
   ]
  },
  {
   "cell_type": "code",
   "execution_count": 45,
   "id": "ae12832a-d188-4a60-a1b3-01c885da2708",
   "metadata": {},
   "outputs": [
    {
     "data": {
      "text/plain": [
       "{'latticeparameter': None,\n",
       " 'Occupancy': [1, 1, 1, 1],\n",
       " 'Element': array([1]),\n",
       " 'CellVolume': 729.0,\n",
       " 'NumberOfAtoms': 4,\n",
       " 'X_AxisCoordinate': array([0. , 0.5, 0. , 0.5]),\n",
       " 'Y_AxisCoordinate': array([0. , 0. , 0.5, 0.5]),\n",
       " 'Z_AxisCoordinate': array([0. , 0.5, 0.5, 0. ]),\n",
       " 'FirstAxisComponent': [3.0, 0, 0],\n",
       " 'SecondAxisComponent': [0, 3.0, 0],\n",
       " 'ThirdAxisComponent': [0, 0, 3.0],\n",
       " 'LatticeParameterLengthA': 9.0,\n",
       " 'LatticeParameterLengthB': 9.0,\n",
       " 'LatticeParameterLengthC': 9.0,\n",
       " 'LatticeParameterAngleAlpha': 90.0,\n",
       " 'LatticeParameterAngleBeta': 90.0,\n",
       " 'LatticeParameterAngleGamma': 90.0}"
      ]
     },
     "execution_count": 45,
     "metadata": {},
     "output_type": "execute_result"
    }
   ],
   "source": [
    "convert_to_dict(sys)"
   ]
  },
  {
   "cell_type": "markdown",
   "id": "f6a590e6-9c0a-4fa3-aad5-ef831db08560",
   "metadata": {},
   "source": [
    "## TODO: pyscal side\n",
    "\n",
    "- Take a list of elements (optionally) \n",
    "- Lattice constant is not multipled to structure creation\n",
    "- Units should always be Angstroms\n",
    "- Lattice constant is wrong in the above example ; should be 3 - but 9 is used\n",
    "- Always use Cartesian coordinates"
   ]
  },
  {
   "cell_type": "markdown",
   "id": "84c38b88-7c72-4351-866c-b8092e2dbcb3",
   "metadata": {},
   "source": [
    "RDFLIB"
   ]
  },
  {
   "cell_type": "code",
   "execution_count": 23,
   "id": "1605d520-17b3-4533-83d6-5d500e325a57",
   "metadata": {},
   "outputs": [],
   "source": [
    "from rdflib import Graph, Literal, Namespace, XSD, RDF, RDFS, URIRef, BNode, SDO\n",
    "from rdflib import term"
   ]
  },
  {
   "cell_type": "code",
   "execution_count": 30,
   "id": "c7b9e1f0-7c09-4616-a02b-29979e6165cb",
   "metadata": {},
   "outputs": [],
   "source": [
    "CSO = Namespace(\"https://purls.helmholtz-metadaten.de/disos/cso/\")\n",
    "MDO = Namespace(\"https://w3id.org/mdo/structure/1.1/\")"
   ]
  },
  {
   "cell_type": "code",
   "execution_count": 31,
   "id": "1f9c939b-cc71-4661-ad74-85b57eb34565",
   "metadata": {},
   "outputs": [],
   "source": [
    "g = Graph()\n",
    "#g.bind(\"cso\", CSO)\n",
    "#g.bind(\"mdo\", MDO)"
   ]
  },
  {
   "cell_type": "code",
   "execution_count": 32,
   "id": "7919a7ef-16c9-4974-869a-ca7738d92e2b",
   "metadata": {},
   "outputs": [],
   "source": [
    "Coordinate_Vector = URIRef(\"https://w3id.org/mdo/structure/CoordinateVector\")\n",
    "Atom = URIRef(\"https://w3id.org/mdo/structure/Atom\")"
   ]
  },
  {
   "cell_type": "code",
   "execution_count": 33,
   "id": "55915048-1d0a-4e87-b205-1ac7f3b5edf8",
   "metadata": {},
   "outputs": [
    {
     "data": {
      "text/plain": [
       "<Graph identifier=N18dead145d324084a8c8c8cb6148e1e7 (<class 'rdflib.graph.Graph'>)>"
      ]
     },
     "execution_count": 33,
     "metadata": {},
     "output_type": "execute_result"
    }
   ],
   "source": [
    "g.add((Coordinate_Vector, MDO.X_axisCoordinate, Literal(data[\"X_AxisCoordinate\"])))\n",
    "g.add((Coordinate_Vector, MDO.Y_axisCoordinate, Literal(data[\"Y_AxisCoordinate\"])))\n",
    "g.add((Coordinate_Vector, MDO.Z_axisCoordinate, Literal(data[\"Z_AxisCoordinate\"])))\n",
    "g.add((Atom, MDO.))"
   ]
  },
  {
   "cell_type": "code",
   "execution_count": 36,
   "id": "fe5a8a02-60f0-48d2-860e-13aaf9552e49",
   "metadata": {},
   "outputs": [],
   "source": [
    "with open(\"dump-ld.json\", \"w\") as fout:\n",
    "    fout.write(g.serialize(format=\"json-ld\"))"
   ]
  },
  {
   "cell_type": "code",
   "execution_count": 39,
   "id": "92469cb2-9418-42cb-a764-f06576016bd4",
   "metadata": {},
   "outputs": [
    {
     "name": "stdout",
     "output_type": "stream",
     "text": [
      "[\n",
      "  {\n",
      "    \"@id\": \"https://w3id.org/mdo/structure/CoordinateVector\",\n",
      "    \"https://w3id.org/mdo/structure/1.1/X_axisCoordinate\": [\n",
      "      {\n",
      "        \"@value\": \"[0.         0.         2.01946484 2.01946484]\"\n",
      "      }\n",
      "    ],\n",
      "    \"https://w3id.org/mdo/structure/1.1/Y_axisCoordinate\": [\n",
      "      {\n",
      "        \"@value\": \"[0.         2.01946484 0.         2.01946484]\"\n",
      "      }\n",
      "    ],\n",
      "    \"https://w3id.org/mdo/structure/1.1/Z_axisCoordinate\": [\n",
      "      {\n",
      "        \"@value\": \"[0.         2.01946484 2.01946484 0.        ]\"\n",
      "      }\n",
      "    ]\n",
      "  }\n",
      "]\n"
     ]
    }
   ],
   "source": [
    "print(g.serialize(format=\"json-ld\"))"
   ]
  },
  {
   "cell_type": "code",
   "execution_count": null,
   "id": "fb6e9c73-2131-4a19-bce1-6884e562766b",
   "metadata": {},
   "outputs": [],
   "source": []
  }
 ],
 "metadata": {
  "kernelspec": {
   "display_name": "Python 3 (ipykernel)",
   "language": "python",
   "name": "python3"
  },
  "language_info": {
   "codemirror_mode": {
    "name": "ipython",
    "version": 3
   },
   "file_extension": ".py",
   "mimetype": "text/x-python",
   "name": "python",
   "nbconvert_exporter": "python",
   "pygments_lexer": "ipython3",
   "version": "3.8.13"
  }
 },
 "nbformat": 4,
 "nbformat_minor": 5
}
