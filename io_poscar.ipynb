{
 "cells": [
  {
   "cell_type": "code",
   "execution_count": 14,
   "id": "3d725a3f-590a-4e35-8e30-d4d8965ca5df",
   "metadata": {
    "tags": []
   },
   "outputs": [],
   "source": [
    "from pyscal_rdf import StructureGraph\n",
    "from pyscal_rdf.visualize import visualize_sample\n",
    "from rdflib import URIRef, Namespace, BNode, Literal, XSD, RDF, Graph"
   ]
  },
  {
   "cell_type": "code",
   "execution_count": 15,
   "id": "c527dd7e-ad96-4929-a449-dcc3dc23f1cc",
   "metadata": {
    "tags": []
   },
   "outputs": [],
   "source": [
    "CMSO = Namespace(\"https://purls.helmholtz-metadaten.de/cmso/\")"
   ]
  },
  {
   "cell_type": "code",
   "execution_count": 36,
   "id": "517c7df8-65ab-469b-8542-f9e8490ef1b0",
   "metadata": {
    "tags": []
   },
   "outputs": [],
   "source": [
    "class SampleGraph(StructureGraph):\n",
    "    def __init__(self, graph_file=None):\n",
    "        super().__init__(graph_file=graph_file)\n",
    "        self.sgraph = None\n",
    "        \n",
    "    def iterate_graph(self, item, create_new_graph=False):\n",
    "        if create_new_graph:\n",
    "            self.sgraph = StructureGraph()\n",
    "        #first step query for all triples\n",
    "        triples = list(self.graph.triples((item, None, None)))\n",
    "        #this list has all triples with given item\n",
    "        #add them to graph\n",
    "        for triple in triples:\n",
    "            self.sgraph.graph.add(triple)\n",
    "            #now for each, we go and scan for further triples, therevy building graph\n",
    "            self.iterate_graph(triple[2])\n",
    "            \n",
    "        "
   ]
  },
  {
   "cell_type": "markdown",
   "id": "a0db892a-cbc4-48f9-aaff-97efb3e4614b",
   "metadata": {},
   "source": [
    "Get the main sample triple"
   ]
  },
  {
   "cell_type": "code",
   "execution_count": 52,
   "id": "66d10b1c-2d57-4d62-84ca-fd70611d4e41",
   "metadata": {
    "tags": []
   },
   "outputs": [
    {
     "name": "stdout",
     "output_type": "stream",
     "text": [
      "Fe\n",
      "Si\n"
     ]
    }
   ],
   "source": [
    "g = SampleGraph()\n",
    "struct_Fe = g.create_element(\"Fe\")\n",
    "struct_Fe = g.create_element(\"Si\")\n",
    "sample = g.samples[0]"
   ]
  },
  {
   "cell_type": "code",
   "execution_count": 53,
   "id": "4827f24b-b4c7-49b2-8867-2da18ec51992",
   "metadata": {
    "tags": []
   },
   "outputs": [],
   "source": [
    "g.iterate_graph(sample, create_new_graph=True)"
   ]
  },
  {
   "cell_type": "code",
   "execution_count": 54,
   "id": "08af91fd-44e1-48dd-914e-7198020dba4c",
   "metadata": {
    "tags": []
   },
   "outputs": [],
   "source": [
    "g.sgraph.write(\"a.ttl\")"
   ]
  },
  {
   "cell_type": "code",
   "execution_count": 51,
   "id": "69ec5d1c-8fb9-4def-8305-53208105a3d5",
   "metadata": {
    "tags": []
   },
   "outputs": [],
   "source": [
    "g.write(\"b.ttl\")"
   ]
  }
 ],
 "metadata": {
  "kernelspec": {
   "display_name": "Python 3 (ipykernel)",
   "language": "python",
   "name": "python3"
  },
  "language_info": {
   "codemirror_mode": {
    "name": "ipython",
    "version": 3
   },
   "file_extension": ".py",
   "mimetype": "text/x-python",
   "name": "python",
   "nbconvert_exporter": "python",
   "pygments_lexer": "ipython3",
   "version": "3.9.16"
  }
 },
 "nbformat": 4,
 "nbformat_minor": 5
}
