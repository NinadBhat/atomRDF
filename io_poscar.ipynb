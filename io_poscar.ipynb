{
 "cells": [
  {
   "cell_type": "code",
   "execution_count": 1,
   "id": "3d725a3f-590a-4e35-8e30-d4d8965ca5df",
   "metadata": {
    "tags": []
   },
   "outputs": [],
   "source": [
    "from pyscal.core import System\n",
    "from pyscal.crystal_structures import Structure\n",
    "from pyscal.operations.symmetry import Symmetry\n",
    "import pyscal_rdf.properties as prp\n",
    "from pyscal_rdf.json_io import write_file\n",
    "import numpy as np\n",
    "import graphviz"
   ]
  },
  {
   "cell_type": "markdown",
   "id": "0ccec4c4-ab84-4c13-aa33-553edd358d46",
   "metadata": {},
   "source": [
    "Update hedgedoc [here](https://iffmd.fz-juelich.de/BRIkKGLlQduS8dA0sXKoZw)"
   ]
  },
  {
   "cell_type": "code",
   "execution_count": 2,
   "id": "b7662958-60ae-4a72-9252-69e1e607742b",
   "metadata": {
    "tags": []
   },
   "outputs": [],
   "source": [
    "def convert_to_dict(sys):\n",
    "    \"\"\"\n",
    "    Convert a pyscal System object to data dictionary\n",
    "    \n",
    "    Parameters\n",
    "    ----------\n",
    "    sys: pyscal System\n",
    "        input system\n",
    "    \n",
    "    Returns\n",
    "    -------\n",
    "    info: dict\n",
    "        dict with parsed information\n",
    "    \"\"\"\n",
    "    info = {}\n",
    "    \n",
    "    \n",
    "    #Simulation cell properties\n",
    "    #--------------------------------------------------------------    \n",
    "    info[\"ChemicalCompositionElement\"] = list(sys.composition.keys())\n",
    "    info[\"ChemicalCompositionRatio\"] = [val for key, val in sys.composition.items()]    \n",
    "    info[\"CellVolume\"] = sys.volume\n",
    "    info[\"NumberOfAtoms\"] = sys.natoms\n",
    "    \n",
    "    box_dims = sys.box_dimensions\n",
    "    info[\"SimulationCellLengthX\"] = box_dims[0]\n",
    "    info[\"SimulationCellLengthY\"] = box_dims[1]\n",
    "    info[\"SimulationCellLengthZ\"] = box_dims[2]\n",
    "\n",
    "    info[\"SimulationCellVectorA\"] = sys.box[0]\n",
    "    info[\"SimulationCellVectorB\"] = sys.box[1]\n",
    "    info[\"SimulationCellVectorC\"] = sys.box[2]\n",
    "    \n",
    "    info[\"SimulationCellAngleAlpha\"] = prp.get_angle(sys.box[0], sys.box[1])\n",
    "    info[\"SimulationCellAngleBeta\"] = prp.get_angle(sys.box[1], sys.box[2])\n",
    "    info[\"SimulationCellAngleGamma\"] = prp.get_angle(sys.box[2], sys.box[0])    \n",
    "    \n",
    "    #Atom properties\n",
    "    #--------------------------------------------------\n",
    "    if sys.atoms.species[0] is not None:\n",
    "        info[\"Element\"] = sys.atoms.species\n",
    "    else:\n",
    "        info[\"Element\"] = sys.atoms.types\n",
    "    info[\"Coordination\"] = prp.get_coordination(sys)\n",
    "    info[\"Positions\"] = sys.atoms.positions\n",
    "    \n",
    "    #unit cell things\n",
    "    #--------------------------------------------------\n",
    "    #Unit cell properties\n",
    "    info[\"LatticeParameter\"] = sys.atoms._lattice_constant\n",
    "    \n",
    "    #do only for unit cell\n",
    "    if sys._structure_dict is None:\n",
    "        pass\n",
    "        #maybe try to find space group with warnings!\n",
    "    else:\n",
    "        symbol, number = prp.get_space_group(sys)\n",
    "        info[\"SpaceGroupSymbol\"] = symbol\n",
    "        info[\"SpaceGroupNumber\"] = number\n",
    "        info[\"CrystalStructureName\"] = sys.atoms._lattice \n",
    "        info[\"BravaisLattice\"] = prp.get_bravais_lattice(sys)\n",
    "        info[\"BasisPositions\"] = sys._structure_dict['positions']\n",
    "        info[\"BasisOccupancy\"] = prp.get_basis(sys)\n",
    "        info[\"LatticeVectors\"] = prp.get_lattice_vector(sys)\n",
    "        \n",
    "    return info"
   ]
  },
  {
   "cell_type": "markdown",
   "id": "133fc6b5-0dc8-4c06-9b58-7c544eb406c5",
   "metadata": {},
   "source": [
    "## Creating structure from pyscal"
   ]
  },
  {
   "cell_type": "code",
   "execution_count": 3,
   "id": "14aaf426-efd3-4f08-b252-14181754f0dc",
   "metadata": {
    "tags": []
   },
   "outputs": [],
   "source": [
    "struct = Structure()"
   ]
  },
  {
   "cell_type": "code",
   "execution_count": 4,
   "id": "f09746c8-3590-4043-aecb-0061b26f157a",
   "metadata": {
    "tags": []
   },
   "outputs": [
    {
     "name": "stdout",
     "output_type": "stream",
     "text": [
      "['Al', 'Ni']\n"
     ]
    }
   ],
   "source": [
    "sys = struct.lattice.l12(element=['Al', 'Ni'], \n",
    "                         lattice_constant=3)"
   ]
  },
  {
   "cell_type": "code",
   "execution_count": 5,
   "id": "2fda081b-b7b2-480f-8a36-187dc6811416",
   "metadata": {
    "tags": []
   },
   "outputs": [],
   "source": [
    "sysdict = convert_to_dict(sys)"
   ]
  },
  {
   "cell_type": "code",
   "execution_count": 6,
   "id": "b76b0b5a-3eae-4b82-a447-d2f92d11666c",
   "metadata": {
    "tags": []
   },
   "outputs": [],
   "source": [
    "write_file(\"structure.json\", sysdict)"
   ]
  },
  {
   "cell_type": "markdown",
   "id": "db5d24bd-c397-4521-b5ce-92f416b0fc07",
   "metadata": {
    "tags": []
   },
   "source": [
    "## RDFLIB Mapping"
   ]
  },
  {
   "cell_type": "markdown",
   "id": "7dfdf97e-0e30-4bfe-bc5a-c1adf36efcc0",
   "metadata": {},
   "source": [
    "Assuming one structure dictionary"
   ]
  },
  {
   "cell_type": "code",
   "execution_count": 7,
   "id": "1605d520-17b3-4533-83d6-5d500e325a57",
   "metadata": {
    "tags": []
   },
   "outputs": [],
   "source": [
    "from rdflib import Graph, Literal, Namespace, XSD, RDF, RDFS, BNode, URIRef, FOAF, SKOS"
   ]
  },
  {
   "cell_type": "code",
   "execution_count": 8,
   "id": "c7b9e1f0-7c09-4616-a02b-29979e6165cb",
   "metadata": {
    "tags": []
   },
   "outputs": [],
   "source": [
    "CMSO = Namespace(\"https://purls.helmholtz-metadaten.de/cmso/\")"
   ]
  },
  {
   "cell_type": "code",
   "execution_count": 9,
   "id": "aa7537be-e840-43a4-af9c-8f006cd824a1",
   "metadata": {
    "tags": []
   },
   "outputs": [
    {
     "data": {
      "text/plain": [
       "<Graph identifier=Nfc3759375ac64870864fe4a78cf71167 (<class 'rdflib.graph.Graph'>)>"
      ]
     },
     "execution_count": 9,
     "metadata": {},
     "output_type": "execute_result"
    }
   ],
   "source": [
    "g = Graph()\n",
    "sample = BNode('Sample')\n",
    "g.add((sample, RDF.type, CMSO.AtomicScaleSample))\n",
    "#g.add((sample, SKOS.altLabel, Literal(\"A\")))\n",
    "\n",
    "material = BNode('Material')\n",
    "g.add((sample, CMSO.hasMaterial, material))\n",
    "g.add((material, RDF.type, CMSO.CrystallineMaterial))\n",
    "#g.add(())"
   ]
  },
  {
   "cell_type": "code",
   "execution_count": null,
   "id": "7919a7ef-16c9-4974-869a-ca7738d92e2b",
   "metadata": {},
   "outputs": [],
   "source": [
    "Coordinate_Vector = URIRef(\"https://w3id.org/mdo/structure/CoordinateVector\")\n",
    "Lattice = URIRef(\"https://purls.helmholtz-metadaten.de/disos/cso#Lattice\")\n",
    "Structure"
   ]
  },
  {
   "cell_type": "code",
   "execution_count": null,
   "id": "55915048-1d0a-4e87-b205-1ac7f3b5edf8",
   "metadata": {},
   "outputs": [],
   "source": [
    "\n",
    "g.add((Coordinate_Vector, MDO.X_axisCoordinate, Literal(data[\"X_AxisCoordinate\"])))\n",
    "g.add((Coordinate_Vector, MDO.Y_axisCoordinate, Literal(data[\"Y_AxisCoordinate\"])))\n",
    "g.add((Coordinate_Vector, MDO.Z_axisCoordinate, Literal(data[\"Z_AxisCoordinate\"])))"
   ]
  },
  {
   "cell_type": "code",
   "execution_count": null,
   "id": "fe5a8a02-60f0-48d2-860e-13aaf9552e49",
   "metadata": {},
   "outputs": [],
   "source": [
    "with open(\"dump-ld.json\", \"w\") as fout:\n",
    "    fout.write(g.serialize(format=\"json-ld\"))"
   ]
  },
  {
   "cell_type": "code",
   "execution_count": null,
   "id": "92469cb2-9418-42cb-a764-f06576016bd4",
   "metadata": {},
   "outputs": [],
   "source": [
    "print(g.serialize(format=\"json-ld\"))"
   ]
  },
  {
   "cell_type": "markdown",
   "id": "dc098d2a-1e8a-42fa-909d-20e3085350fb",
   "metadata": {},
   "source": [
    "- Map the terms (see above)\n",
    "- Terms for type annotations\n",
    "- Use BNode to add multiple structures\n",
    "- Add visualisation\n",
    "- Space group calculation\n",
    "- try saving to database\n",
    "- Query the graph (range queries possible?)\n",
    "- Make a package out of it\n",
    "- Extend...."
   ]
  },
  {
   "cell_type": "markdown",
   "id": "66ce09b0-e3e8-40be-ac66-a747bcf8b46d",
   "metadata": {},
   "source": [
    "## Examples"
   ]
  },
  {
   "cell_type": "markdown",
   "id": "6366ad20-62ee-4675-8efe-4305807d5def",
   "metadata": {},
   "source": [
    "### POSCAR"
   ]
  },
  {
   "cell_type": "code",
   "execution_count": 4,
   "id": "390bf2ec-0bfe-4cc0-9c64-b4a99d4576dc",
   "metadata": {
    "tags": []
   },
   "outputs": [],
   "source": [
    "sys = System(\"al_data/Al.poscar\", format=\"poscar\")"
   ]
  },
  {
   "cell_type": "code",
   "execution_count": 5,
   "id": "def2282e-944a-4e7a-8be6-95305dd8aee3",
   "metadata": {
    "tags": []
   },
   "outputs": [],
   "source": [
    "convert_to_dict(sys)\n",
    "write_file(\"dump\", convert_to_dict(sys))"
   ]
  },
  {
   "cell_type": "code",
   "execution_count": 6,
   "id": "5a98713c-a968-4d1a-a795-1bcd3c3f61e1",
   "metadata": {
    "tags": []
   },
   "outputs": [
    {
     "data": {
      "text/plain": [
       "{'Al': 1.0}"
      ]
     },
     "execution_count": 6,
     "metadata": {},
     "output_type": "execute_result"
    }
   ],
   "source": [
    "sys.composition"
   ]
  },
  {
   "cell_type": "markdown",
   "id": "9b7559f4-78fd-43b7-bc62-e2ccb1a77038",
   "metadata": {},
   "source": [
    "### LAMMPS - dump"
   ]
  },
  {
   "cell_type": "code",
   "execution_count": 7,
   "id": "b9b1601a-02f0-4b50-9108-885a9f6b3499",
   "metadata": {
    "tags": []
   },
   "outputs": [],
   "source": [
    "sys = System(\"al_data/Al.dump\")"
   ]
  },
  {
   "cell_type": "code",
   "execution_count": 8,
   "id": "5218591e-7075-4b6c-bc39-b717d147d560",
   "metadata": {
    "tags": []
   },
   "outputs": [],
   "source": [
    "convert_to_dict(sys)\n",
    "write_file(\"dump2\", convert_to_dict(sys))"
   ]
  },
  {
   "cell_type": "code",
   "execution_count": 9,
   "id": "8a59d096-37cf-4a73-b10f-121e9c5ce147",
   "metadata": {
    "tags": []
   },
   "outputs": [
    {
     "data": {
      "text/plain": [
       "{1: 1.0}"
      ]
     },
     "execution_count": 9,
     "metadata": {},
     "output_type": "execute_result"
    }
   ],
   "source": [
    "sys.composition"
   ]
  },
  {
   "cell_type": "markdown",
   "id": "1405d30b-7ae5-4fbb-ab42-bd4d769f6135",
   "metadata": {
    "tags": []
   },
   "source": [
    "### CIF/ ASE"
   ]
  },
  {
   "cell_type": "code",
   "execution_count": 7,
   "id": "90781c8e-e9f1-48c6-830f-ebfdc938eead",
   "metadata": {
    "tags": []
   },
   "outputs": [],
   "source": [
    "from ase.io import read"
   ]
  },
  {
   "cell_type": "code",
   "execution_count": 8,
   "id": "8252ea07-f982-4398-8ef1-4d446a25d3aa",
   "metadata": {
    "tags": []
   },
   "outputs": [],
   "source": [
    "aseobj = read(\"al_data/Al.cif\", format=\"cif\")"
   ]
  },
  {
   "cell_type": "code",
   "execution_count": 9,
   "id": "d5196db2-2b95-47f9-b29b-bcfa72ea41a9",
   "metadata": {
    "tags": []
   },
   "outputs": [],
   "source": [
    "sys = System(aseobj, format=\"ase\")"
   ]
  },
  {
   "cell_type": "code",
   "execution_count": 10,
   "id": "307592ee-de1f-4785-87b9-9dc8ba6737b8",
   "metadata": {
    "tags": []
   },
   "outputs": [],
   "source": [
    "convert_to_dict(sys)\n",
    "write_file(\"dump3\", convert_to_dict(sys))"
   ]
  },
  {
   "cell_type": "code",
   "execution_count": 11,
   "id": "2802abf9-1512-4d52-98b6-43913883ebd9",
   "metadata": {
    "tags": []
   },
   "outputs": [],
   "source": [
    "data = convert_to_dict(sys)"
   ]
  },
  {
   "cell_type": "code",
   "execution_count": null,
   "id": "b786c0ad-c9de-46e9-8d05-7595c12aa1d7",
   "metadata": {},
   "outputs": [],
   "source": []
  }
 ],
 "metadata": {
  "kernelspec": {
   "display_name": "Python 3 (ipykernel)",
   "language": "python",
   "name": "python3"
  },
  "language_info": {
   "codemirror_mode": {
    "name": "ipython",
    "version": 3
   },
   "file_extension": ".py",
   "mimetype": "text/x-python",
   "name": "python",
   "nbconvert_exporter": "python",
   "pygments_lexer": "ipython3",
   "version": "3.9.16"
  }
 },
 "nbformat": 4,
 "nbformat_minor": 5
}
