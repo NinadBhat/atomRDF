{
 "cells": [
  {
   "cell_type": "code",
   "execution_count": 1,
   "id": "a3392ffa-aa17-4b08-b7ff-94d21bd61f6d",
   "metadata": {
    "tags": []
   },
   "outputs": [],
   "source": [
    "from pyscal_rdf import StructureGraph"
   ]
  },
  {
   "cell_type": "code",
   "execution_count": 3,
   "id": "9a21e979-8497-4d0e-88f3-4452bab8b85d",
   "metadata": {
    "tags": []
   },
   "outputs": [],
   "source": [
    "sg = StructureGraph()"
   ]
  },
  {
   "cell_type": "code",
   "execution_count": 4,
   "id": "4f8d7425-24ed-4d62-a562-22cb7be78130",
   "metadata": {},
   "outputs": [
    {
     "name": "stdout",
     "output_type": "stream",
     "text": [
      "Fe\n"
     ]
    }
   ],
   "source": [
    "sys =  sg.create_element(\"Fe\")"
   ]
  },
  {
   "cell_type": "code",
   "execution_count": 5,
   "id": "a8915d92-1e95-4612-ac71-fab71e662c86",
   "metadata": {
    "tags": []
   },
   "outputs": [
    {
     "data": {
      "application/vnd.jupyter.widget-view+json": {
       "model_id": "b82e539b32664ccfbf6a2963d562b1b9",
       "version_major": 2,
       "version_minor": 0
      },
      "text/plain": [
       "CytoscapeWidget(cytoscape_layout={'name': 'cola', 'avoidOverlap': True, 'animate': True}, cytoscape_style=[{'s…"
      ]
     },
     "execution_count": 5,
     "metadata": {},
     "output_type": "execute_result"
    }
   ],
   "source": [
    "sg.visualise()"
   ]
  },
  {
   "cell_type": "code",
   "execution_count": null,
   "id": "150ff24b-9a17-4d14-aeda-ddc314a2a27b",
   "metadata": {},
   "outputs": [],
   "source": []
  }
 ],
 "metadata": {
  "kernelspec": {
   "display_name": "Python 3 (ipykernel)",
   "language": "python",
   "name": "python3"
  },
  "language_info": {
   "codemirror_mode": {
    "name": "ipython",
    "version": 3
   },
   "file_extension": ".py",
   "mimetype": "text/x-python",
   "name": "python",
   "nbconvert_exporter": "python",
   "pygments_lexer": "ipython3",
   "version": "3.9.16"
  }
 },
 "nbformat": 4,
 "nbformat_minor": 5
}
