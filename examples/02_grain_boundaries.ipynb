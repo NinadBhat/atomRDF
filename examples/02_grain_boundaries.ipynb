{
 "cells": [
  {
   "cell_type": "markdown",
   "id": "c4e13f9a-8d8e-4fa7-bc0b-7cd1ae952220",
   "metadata": {},
   "source": [
    "# Creating Grain Boundaries"
   ]
  },
  {
   "cell_type": "markdown",
   "id": "5f761562-002e-4b60-85ac-d837cdf87159",
   "metadata": {},
   "source": [
    "In this notebook, creation and querying of GBs are discussed. These features are still under active development."
   ]
  },
  {
   "cell_type": "code",
   "execution_count": 1,
   "id": "f88eacd6-1bdc-4321-9e80-3d2720d318a1",
   "metadata": {},
   "outputs": [],
   "source": [
    "from atomrdf import KnowledgeGraph, System"
   ]
  },
  {
   "cell_type": "code",
   "execution_count": 2,
   "id": "0d94b8db-5ac8-4c24-9353-adf76ffef865",
   "metadata": {},
   "outputs": [],
   "source": [
    "kg = KnowledgeGraph()"
   ]
  },
  {
   "cell_type": "markdown",
   "id": "3e0f6b30-7f4b-4d6a-aeca-a2c72d78ae60",
   "metadata": {},
   "source": [
    "We start by creating a $\\Sigma 5 (3 \\bar{1} 0)$"
   ]
  },
  {
   "cell_type": "code",
   "execution_count": 3,
   "id": "39d31155-30e2-4b02-91a6-35a25b04c8d4",
   "metadata": {
    "scrolled": true
   },
   "outputs": [
    {
     "ename": "ValueError",
     "evalue": "http://purls.helmholtz-metadaten.de/pldo/SymmetricalTiltGrainBoundary not in range of cmso:hasDefect",
     "output_type": "error",
     "traceback": [
      "\u001b[0;31m---------------------------------------------------------------------------\u001b[0m",
      "\u001b[0;31mValueError\u001b[0m                                Traceback (most recent call last)",
      "Cell \u001b[0;32mIn[3], line 1\u001b[0m\n\u001b[0;32m----> 1\u001b[0m struct_gb_1 \u001b[38;5;241m=\u001b[39m \u001b[43mSystem\u001b[49m\u001b[38;5;241;43m.\u001b[39;49m\u001b[43mcreate\u001b[49m\u001b[38;5;241;43m.\u001b[39;49m\u001b[43mdefect\u001b[49m\u001b[38;5;241;43m.\u001b[39;49m\u001b[43mgrain_boundary\u001b[49m\u001b[43m(\u001b[49m\u001b[43maxis\u001b[49m\u001b[38;5;241;43m=\u001b[39;49m\u001b[43m[\u001b[49m\u001b[38;5;241;43m0\u001b[39;49m\u001b[43m,\u001b[49m\u001b[38;5;241;43m0\u001b[39;49m\u001b[43m,\u001b[49m\u001b[38;5;241;43m1\u001b[39;49m\u001b[43m]\u001b[49m\u001b[43m,\u001b[49m\u001b[43m \u001b[49m\n\u001b[1;32m      2\u001b[0m \u001b[43m                        \u001b[49m\u001b[43msigma\u001b[49m\u001b[38;5;241;43m=\u001b[39;49m\u001b[38;5;241;43m5\u001b[39;49m\u001b[43m,\u001b[49m\u001b[43m \u001b[49m\n\u001b[1;32m      3\u001b[0m \u001b[43m                        \u001b[49m\u001b[43mgb_plane\u001b[49m\u001b[38;5;241;43m=\u001b[39;49m\u001b[43m[\u001b[49m\u001b[38;5;241;43m3\u001b[39;49m\u001b[43m,\u001b[49m\u001b[43m \u001b[49m\u001b[38;5;241;43m-\u001b[39;49m\u001b[38;5;241;43m1\u001b[39;49m\u001b[43m,\u001b[49m\u001b[43m \u001b[49m\u001b[38;5;241;43m0\u001b[39;49m\u001b[43m]\u001b[49m\u001b[43m,\u001b[49m\n\u001b[1;32m      4\u001b[0m \u001b[43m                        \u001b[49m\u001b[43melement\u001b[49m\u001b[38;5;241;43m=\u001b[39;49m\u001b[38;5;124;43m'\u001b[39;49m\u001b[38;5;124;43mFe\u001b[39;49m\u001b[38;5;124;43m'\u001b[39;49m\u001b[43m,\u001b[49m\n\u001b[1;32m      5\u001b[0m \u001b[43m                        \u001b[49m\u001b[43mgraph\u001b[49m\u001b[38;5;241;43m=\u001b[39;49m\u001b[43mkg\u001b[49m\u001b[43m)\u001b[49m\n",
      "File \u001b[0;32m~/miniconda3/envs/workflow-rdf-v0.2/lib/python3.11/site-packages/atomrdf/structure.py:126\u001b[0m, in \u001b[0;36m_make_grain_boundary\u001b[0;34m(axis, sigma, gb_plane, structure, element, lattice_constant, repetitions, overlap, graph, names)\u001b[0m\n\u001b[1;32m    119\u001b[0m s\u001b[38;5;241m.\u001b[39mto_graph()\n\u001b[1;32m    120\u001b[0m gb_dict \u001b[38;5;241m=\u001b[39m {\u001b[38;5;124m\"\u001b[39m\u001b[38;5;124mGBPlane\u001b[39m\u001b[38;5;124m\"\u001b[39m: \u001b[38;5;124m\"\u001b[39m\u001b[38;5;124m \u001b[39m\u001b[38;5;124m\"\u001b[39m\u001b[38;5;241m.\u001b[39mjoin(np\u001b[38;5;241m.\u001b[39marray(gb_plane)\u001b[38;5;241m.\u001b[39mastype(\u001b[38;5;28mstr\u001b[39m)),\n\u001b[1;32m    121\u001b[0m           \u001b[38;5;124m\"\u001b[39m\u001b[38;5;124mRotationAxis\u001b[39m\u001b[38;5;124m\"\u001b[39m: axis,\n\u001b[1;32m    122\u001b[0m           \u001b[38;5;124m\"\u001b[39m\u001b[38;5;124mMisorientationAngle\u001b[39m\u001b[38;5;124m\"\u001b[39m: gb\u001b[38;5;241m.\u001b[39mtheta,\n\u001b[1;32m    123\u001b[0m           \u001b[38;5;124m\"\u001b[39m\u001b[38;5;124mGBType\u001b[39m\u001b[38;5;124m\"\u001b[39m: gb\u001b[38;5;241m.\u001b[39mfind_gb_character(),\n\u001b[1;32m    124\u001b[0m           \u001b[38;5;124m\"\u001b[39m\u001b[38;5;124msigma\u001b[39m\u001b[38;5;124m\"\u001b[39m: gb\u001b[38;5;241m.\u001b[39msigma,\n\u001b[1;32m    125\u001b[0m           }\n\u001b[0;32m--> 126\u001b[0m \u001b[43ms\u001b[49m\u001b[38;5;241;43m.\u001b[39;49m\u001b[43madd_gb\u001b[49m\u001b[43m(\u001b[49m\u001b[43mgb_dict\u001b[49m\u001b[43m)\u001b[49m\n\u001b[1;32m    127\u001b[0m \u001b[38;5;28;01mreturn\u001b[39;00m s\n",
      "File \u001b[0;32m~/miniconda3/envs/workflow-rdf-v0.2/lib/python3.11/site-packages/atomrdf/structure.py:890\u001b[0m, in \u001b[0;36mSystem.add_gb\u001b[0;34m(self, gb_dict)\u001b[0m\n\u001b[1;32m    887\u001b[0m     plane_defect \u001b[38;5;241m=\u001b[39m URIRef(\u001b[38;5;124mf\u001b[39m\u001b[38;5;124m'\u001b[39m\u001b[38;5;132;01m{\u001b[39;00m\u001b[38;5;28mself\u001b[39m\u001b[38;5;241m.\u001b[39m_name\u001b[38;5;132;01m}\u001b[39;00m\u001b[38;5;124m_MixedGrainBoundary\u001b[39m\u001b[38;5;124m'\u001b[39m)\n\u001b[1;32m    888\u001b[0m     \u001b[38;5;28mself\u001b[39m\u001b[38;5;241m.\u001b[39mgraph\u001b[38;5;241m.\u001b[39madd((plane_defect, RDF\u001b[38;5;241m.\u001b[39mtype, PLDO\u001b[38;5;241m.\u001b[39mMixedGrainBoundary))\n\u001b[0;32m--> 890\u001b[0m \u001b[38;5;28;43mself\u001b[39;49m\u001b[38;5;241;43m.\u001b[39;49m\u001b[43mgraph\u001b[49m\u001b[38;5;241;43m.\u001b[39;49m\u001b[43madd\u001b[49m\u001b[43m(\u001b[49m\u001b[43m(\u001b[49m\u001b[38;5;28;43mself\u001b[39;49m\u001b[38;5;241;43m.\u001b[39;49m\u001b[43mmaterial\u001b[49m\u001b[43m,\u001b[49m\u001b[43m \u001b[49m\u001b[43mCMSO\u001b[49m\u001b[38;5;241;43m.\u001b[39;49m\u001b[43mhasDefect\u001b[49m\u001b[43m,\u001b[49m\u001b[43m \u001b[49m\u001b[43mplane_defect\u001b[49m\u001b[43m)\u001b[49m\u001b[43m)\u001b[49m\n\u001b[1;32m    891\u001b[0m \u001b[38;5;28mself\u001b[39m\u001b[38;5;241m.\u001b[39mgraph\u001b[38;5;241m.\u001b[39madd((plane_defect, PLDO\u001b[38;5;241m.\u001b[39mhasSigmaValue, Literal(gb_dict[\u001b[38;5;124m\"\u001b[39m\u001b[38;5;124msigma\u001b[39m\u001b[38;5;124m\"\u001b[39m], datatype\u001b[38;5;241m=\u001b[39mXSD\u001b[38;5;241m.\u001b[39minteger)))\n\u001b[1;32m    892\u001b[0m \u001b[38;5;28mself\u001b[39m\u001b[38;5;241m.\u001b[39mgraph\u001b[38;5;241m.\u001b[39madd((plane_defect, PLDO\u001b[38;5;241m.\u001b[39mhasGBplane, Literal(gb_dict[\u001b[38;5;124m\"\u001b[39m\u001b[38;5;124mGBPlane\u001b[39m\u001b[38;5;124m\"\u001b[39m], \n\u001b[1;32m    893\u001b[0m                                                      datatype\u001b[38;5;241m=\u001b[39mXSD\u001b[38;5;241m.\u001b[39mstring)))\n",
      "File \u001b[0;32m~/miniconda3/envs/workflow-rdf-v0.2/lib/python3.11/site-packages/atomrdf/graph.py:265\u001b[0m, in \u001b[0;36mKnowledgeGraph.add\u001b[0;34m(self, triple, validate)\u001b[0m\n\u001b[1;32m    263\u001b[0m \u001b[38;5;28;01mif\u001b[39;00m validate:\n\u001b[1;32m    264\u001b[0m     \u001b[38;5;28mself\u001b[39m\u001b[38;5;241m.\u001b[39m_check_domain(triple)\n\u001b[0;32m--> 265\u001b[0m     \u001b[38;5;28;43mself\u001b[39;49m\u001b[38;5;241;43m.\u001b[39;49m\u001b[43m_check_range\u001b[49m\u001b[43m(\u001b[49m\u001b[43mtriple\u001b[49m\u001b[43m)\u001b[49m\n\u001b[1;32m    267\u001b[0m \u001b[38;5;28;01mif\u001b[39;00m \u001b[38;5;28mstr\u001b[39m(modified_triple[\u001b[38;5;241m2\u001b[39m]\u001b[38;5;241m.\u001b[39mtoPython()) \u001b[38;5;241m==\u001b[39m \u001b[38;5;124m'\u001b[39m\u001b[38;5;124mNone\u001b[39m\u001b[38;5;124m'\u001b[39m:\n\u001b[1;32m    268\u001b[0m     \u001b[38;5;28mself\u001b[39m\u001b[38;5;241m.\u001b[39mlog(\u001b[38;5;124mf\u001b[39m\u001b[38;5;124m'\u001b[39m\u001b[38;5;124mrejecting None valued triple\u001b[39m\u001b[38;5;124m'\u001b[39m)\n",
      "File \u001b[0;32m~/miniconda3/envs/workflow-rdf-v0.2/lib/python3.11/site-packages/atomrdf/graph.py:246\u001b[0m, in \u001b[0;36mKnowledgeGraph._check_range\u001b[0;34m(self, triple)\u001b[0m\n\u001b[1;32m    243\u001b[0m     found, dm \u001b[38;5;241m=\u001b[39m \u001b[38;5;28mself\u001b[39m\u001b[38;5;241m.\u001b[39m_check_range_if_literal(triple)\n\u001b[1;32m    245\u001b[0m \u001b[38;5;28;01mif\u001b[39;00m \u001b[38;5;129;01mnot\u001b[39;00m found:\n\u001b[0;32m--> 246\u001b[0m     \u001b[38;5;28;01mraise\u001b[39;00m \u001b[38;5;167;01mValueError\u001b[39;00m(\u001b[38;5;124mf\u001b[39m\u001b[38;5;124m'\u001b[39m\u001b[38;5;132;01m{\u001b[39;00mdm\u001b[38;5;132;01m}\u001b[39;00m\u001b[38;5;124m not in range of \u001b[39m\u001b[38;5;132;01m{\u001b[39;00mtriple[\u001b[38;5;241m1\u001b[39m]\u001b[38;5;241m.\u001b[39mname\u001b[38;5;132;01m}\u001b[39;00m\u001b[38;5;124m'\u001b[39m)\n\u001b[1;32m    248\u001b[0m \u001b[38;5;28mself\u001b[39m\u001b[38;5;241m.\u001b[39mlog(\u001b[38;5;124mf\u001b[39m\u001b[38;5;124m'\u001b[39m\u001b[38;5;124mchecked \u001b[39m\u001b[38;5;132;01m{\u001b[39;00mtriple[\u001b[38;5;241m1\u001b[39m]\u001b[38;5;241m.\u001b[39mname\u001b[38;5;132;01m}\u001b[39;00m\u001b[38;5;124m against range \u001b[39m\u001b[38;5;132;01m{\u001b[39;00mdm\u001b[38;5;132;01m}\u001b[39;00m\u001b[38;5;124m'\u001b[39m)\n",
      "\u001b[0;31mValueError\u001b[0m: http://purls.helmholtz-metadaten.de/pldo/SymmetricalTiltGrainBoundary not in range of cmso:hasDefect"
     ]
    }
   ],
   "source": [
    "struct_gb_1 = System.create.defect.grain_boundary(axis=[0,0,1], \n",
    "                        sigma=5, \n",
    "                        gb_plane=[3, -1, 0],\n",
    "                        element='Fe',\n",
    "                        graph=kg)"
   ]
  },
  {
   "cell_type": "markdown",
   "id": "717626e5-3672-470e-a9d9-2878310268ca",
   "metadata": {},
   "source": [
    "We can visualise the structure"
   ]
  },
  {
   "cell_type": "code",
   "execution_count": null,
   "id": "a70df0e4-caa4-40c6-82b8-a1f32d477479",
   "metadata": {},
   "outputs": [],
   "source": [
    "struct_gb_1.show.all()"
   ]
  },
  {
   "cell_type": "markdown",
   "id": "8146e662-d087-46a5-8ca3-dc3b3cd0342a",
   "metadata": {},
   "source": [
    "Some other examples, $\\Sigma 19 (\\bar{3}20)$ and $\\Sigma 19 (111)$"
   ]
  },
  {
   "cell_type": "code",
   "execution_count": null,
   "id": "27649a14-c9c9-415a-8bf2-c471a04101e7",
   "metadata": {},
   "outputs": [],
   "source": [
    "struct_gb_2 = System.create.defect.grain_boundary(axis=[1,1,1], \n",
    "                        sigma=19, \n",
    "                        gb_plane=[-3, 2, 0],\n",
    "                        element='Fe',\n",
    "                        graph=kg)\n",
    "\n",
    "struct_gb_3 = System.create.defect.grain_boundary(axis=[1,1,1], \n",
    "                        sigma=19, \n",
    "                        gb_plane=[-1, -1, -1],\n",
    "                        element='Fe',\n",
    "                        graph=kg)"
   ]
  },
  {
   "cell_type": "markdown",
   "id": "8d2074ca-ba5d-4160-82a0-af5e0cbbf6fd",
   "metadata": {},
   "source": [
    "**What are all the samples with symmetric tilt grain boundaries?**"
   ]
  },
  {
   "cell_type": "code",
   "execution_count": null,
   "id": "552c7609-68db-4b1c-ab5c-e2fb3d705454",
   "metadata": {},
   "outputs": [],
   "source": [
    "res = kg.query_sample(kg.ontology.terms.pldo.SymmetricalTiltGrainBoundary)\n",
    "res"
   ]
  },
  {
   "cell_type": "markdown",
   "id": "5f58ccd9-6b97-478f-a8ba-ca25c50a79b7",
   "metadata": {},
   "source": [
    "We see we have one structure in the database. We can also find what is the sigma value of this structure by modifying our query."
   ]
  },
  {
   "cell_type": "code",
   "execution_count": null,
   "id": "8ddf5046-7458-4643-a8fb-f9ecaa15e390",
   "metadata": {
    "scrolled": true
   },
   "outputs": [],
   "source": [
    "res = kg.query_sample([kg.ontology.terms.pldo.SymmetricalTiltGrainBoundary, \n",
    "                     kg.ontology.terms.pldo.hasSigmaValue])\n",
    "res"
   ]
  },
  {
   "cell_type": "markdown",
   "id": "ed5b2b0b-6c28-429d-b417-5a4d5734275a",
   "metadata": {},
   "source": [
    "We can choose the sample, and save it"
   ]
  },
  {
   "cell_type": "code",
   "execution_count": null,
   "id": "c77e2361-e9d1-480e-ba6d-e7b1f3b46c4f",
   "metadata": {},
   "outputs": [],
   "source": [
    "sample = res.AtomicScaleSample[0]\n",
    "sample"
   ]
  },
  {
   "cell_type": "code",
   "execution_count": null,
   "id": "75fc304a-9c07-43ef-8ccf-155c72ce548f",
   "metadata": {},
   "outputs": [],
   "source": [
    "kg.to_file(sample, filename=\"POSCAR\", format=\"vasp\")"
   ]
  },
  {
   "cell_type": "code",
   "execution_count": null,
   "id": "9672a585-a7bf-4457-9773-f8ab01b3f8bb",
   "metadata": {},
   "outputs": [],
   "source": [
    "! head -20 POSCAR"
   ]
  }
 ],
 "metadata": {
  "kernelspec": {
   "display_name": "Python 3 (ipykernel)",
   "language": "python",
   "name": "python3"
  },
  "language_info": {
   "codemirror_mode": {
    "name": "ipython",
    "version": 3
   },
   "file_extension": ".py",
   "mimetype": "text/x-python",
   "name": "python",
   "nbconvert_exporter": "python",
   "pygments_lexer": "ipython3",
   "version": "3.11.8"
  }
 },
 "nbformat": 4,
 "nbformat_minor": 5
}
