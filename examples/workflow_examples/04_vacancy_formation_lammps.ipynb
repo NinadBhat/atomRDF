{
 "cells": [
  {
   "cell_type": "code",
   "execution_count": 1,
   "metadata": {},
   "outputs": [],
   "source": [
    "%config IPCompleter.evaluation='unsafe'"
   ]
  },
  {
   "cell_type": "code",
   "execution_count": 2,
   "metadata": {},
   "outputs": [
    {
     "data": {
      "application/vnd.jupyter.widget-view+json": {
       "model_id": "e1afa8ae889f49c3b22e02cb941d0126",
       "version_major": 2,
       "version_minor": 0
      },
      "text/plain": []
     },
     "metadata": {},
     "output_type": "display_data"
    }
   ],
   "source": [
    "from pyiron_atomistics import Project\n",
    "from atomrdf import KnowledgeGraph\n",
    "import numpy as np"
   ]
  },
  {
   "cell_type": "code",
   "execution_count": 3,
   "metadata": {},
   "outputs": [],
   "source": [
    "project = 'wfa23'\n",
    "pr = Project(project)\n",
    "kg = KnowledgeGraph(store='db', store_file=f'{project}.db')\n",
    "kg.enable_workflow(pr, workflow_environment='pyiron')"
   ]
  },
  {
   "cell_type": "code",
   "execution_count": 4,
   "metadata": {},
   "outputs": [
    {
     "name": "stdout",
     "output_type": "stream",
     "text": [
      "The job bulk was saved and received the ID: 381\n"
     ]
    }
   ],
   "source": [
    "structure = pr.create.structure.annotated_structure.bulk('Cu', cubic=True, label='cu md', repetitions=(3, 3, 3))\n",
    "job = pr.create.job.Lammps('bulk', delete_existing_job=True, delete_aborted_job=True)\n",
    "job.structure = structure\n",
    "job.potential = '2001--Mishin-Y--Cu-1--LAMMPS--ipr1'\n",
    "job.calc_md(pressure=0, temperature=500)\n",
    "job.run()\n",
    "kg.add_workflow(job, workflow_environment='pyiron')"
   ]
  },
  {
   "cell_type": "code",
   "execution_count": 5,
   "metadata": {},
   "outputs": [
    {
     "data": {
      "text/plain": [
       "[cu_md, sample:e46e449d-fd6a-4ecf-b91b-f32cfece2a82_from_cu_md]"
      ]
     },
     "execution_count": 5,
     "metadata": {},
     "output_type": "execute_result"
    }
   ],
   "source": [
    "kg.samples"
   ]
  },
  {
   "cell_type": "code",
   "execution_count": 6,
   "metadata": {},
   "outputs": [],
   "source": [
    "sample = kg.samples[1]"
   ]
  },
  {
   "cell_type": "code",
   "execution_count": 8,
   "metadata": {},
   "outputs": [],
   "source": [
    "min_struct = sample.structure"
   ]
  },
  {
   "cell_type": "code",
   "execution_count": 10,
   "metadata": {},
   "outputs": [],
   "source": [
    "del min_struct[3]"
   ]
  },
  {
   "cell_type": "code",
   "execution_count": 11,
   "metadata": {},
   "outputs": [
    {
     "name": "stdout",
     "output_type": "stream",
     "text": [
      "The job vacancy was saved and received the ID: 382\n"
     ]
    }
   ],
   "source": [
    "job = pr.create.job.Lammps('vacancy', delete_existing_job=True, delete_aborted_job=True)\n",
    "job.structure = min_struct.write.pyiron()\n",
    "job.potential = '2001--Mishin-Y--Cu-1--LAMMPS--ipr1'\n",
    "job.calc_static()\n",
    "job.run()\n",
    "kg.add_workflow(job, workflow_environment='pyiron')"
   ]
  },
  {
   "cell_type": "markdown",
   "metadata": {},
   "source": [
    "form_energy = energy_vac - ((number_atoms-1)/number_atoms)*energy_bulk"
   ]
  },
  {
   "cell_type": "code",
   "execution_count": 12,
   "metadata": {},
   "outputs": [
    {
     "data": {
      "text/plain": [
       "[cu_md,\n",
       " sample:e46e449d-fd6a-4ecf-b91b-f32cfece2a82_from_cu_md,\n",
       " sample:9c646b19-c69a-448f-8091-870405b4b335_from_sample:e46e449d-fd6a-4ecf-b91b-f32cfece2a82_from_cu_md]"
      ]
     },
     "execution_count": 12,
     "metadata": {},
     "output_type": "execute_result"
    }
   ],
   "source": [
    "kg.samples"
   ]
  },
  {
   "cell_type": "code",
   "execution_count": 13,
   "metadata": {},
   "outputs": [],
   "source": [
    "vac_sample = kg.samples[2]\n",
    "bulk_sample = kg.samples[1]"
   ]
  },
  {
   "cell_type": "code",
   "execution_count": 14,
   "metadata": {},
   "outputs": [],
   "source": [
    "e_form = vac_sample.outputs.TotalEnergy - ((bulk_sample.properties.no_of_atoms - 1)/bulk_sample.properties.no_of_atoms)*bulk_sample.outputs.TotalEnergy"
   ]
  },
  {
   "cell_type": "code",
   "execution_count": 18,
   "metadata": {},
   "outputs": [
    {
     "data": {
      "text/plain": [
       "-5.688631775700969"
      ]
     },
     "execution_count": 18,
     "metadata": {},
     "output_type": "execute_result"
    }
   ],
   "source": [
    "e_form.value"
   ]
  },
  {
   "cell_type": "code",
   "execution_count": 16,
   "metadata": {},
   "outputs": [],
   "source": [
    "e_form.label = 'VacancyFormationEnergy'"
   ]
  },
  {
   "cell_type": "code",
   "execution_count": 17,
   "metadata": {},
   "outputs": [
    {
     "data": {
      "image/svg+xml": [
       "<?xml version=\"1.0\" encoding=\"UTF-8\" standalone=\"no\"?>\n",
       "<!DOCTYPE svg PUBLIC \"-//W3C//DTD SVG 1.1//EN\"\n",
       " \"http://www.w3.org/Graphics/SVG/1.1/DTD/svg11.dtd\">\n",
       "<!-- Generated by graphviz version 9.0.0 (20231125.0833)\n",
       " -->\n",
       "<!-- Pages: 1 -->\n",
       "<svg width=\"764pt\" height=\"806pt\"\n",
       " viewBox=\"0.00 0.00 763.88 806.00\" xmlns=\"http://www.w3.org/2000/svg\" xmlns:xlink=\"http://www.w3.org/1999/xlink\">\n",
       "<g id=\"graph0\" class=\"graph\" transform=\"scale(1 1) rotate(0) translate(4 802)\">\n",
       "<polygon fill=\"white\" stroke=\"none\" points=\"-4,4 -4,-802 759.88,-802 759.88,4 -4,4\"/>\n",
       "<!-- property_547da1b4&#45;d4a7&#45;439c&#45;a440&#45;bdbc5251b489 -->\n",
       "<g id=\"node1\" class=\"node\">\n",
       "<title>property_547da1b4&#45;d4a7&#45;439c&#45;a440&#45;bdbc5251b489</title>\n",
       "<polygon fill=\"#c9daf8\" stroke=\"#c9daf8\" points=\"483.88,-36 364.38,-36 364.38,0 483.88,0 483.88,-36\"/>\n",
       "<text text-anchor=\"middle\" x=\"424.12\" y=\"-15.28\" font-family=\"Helvetica,sans-Serif\" font-size=\"8.00\">VacancyFormationEnergy</text>\n",
       "</g>\n",
       "<!-- activity_b920bf8f&#45;7827&#45;4b9a&#45;b60d&#45;a2d4ba9973a1_TotalEnergy -->\n",
       "<g id=\"node2\" class=\"node\">\n",
       "<title>activity_b920bf8f&#45;7827&#45;4b9a&#45;b60d&#45;a2d4ba9973a1_TotalEnergy</title>\n",
       "<polygon fill=\"#c9daf8\" stroke=\"#c9daf8\" points=\"372.12,-199.5 308.12,-199.5 308.12,-163.5 372.12,-163.5 372.12,-199.5\"/>\n",
       "<text text-anchor=\"middle\" x=\"340.12\" y=\"-178.78\" font-family=\"Helvetica,sans-Serif\" font-size=\"8.00\">TotalEnergy</text>\n",
       "</g>\n",
       "<!-- 284ec855&#45;5bfa&#45;422f&#45;b9c7&#45;d14baca2541f -->\n",
       "<g id=\"node13\" class=\"node\">\n",
       "<title>284ec855&#45;5bfa&#45;422f&#45;b9c7&#45;d14baca2541f</title>\n",
       "<polygon fill=\"#e6b8af\" stroke=\"#e6b8af\" points=\"455.38,-117.75 392.88,-117.75 392.88,-81.75 455.38,-81.75 455.38,-117.75\"/>\n",
       "<text text-anchor=\"middle\" x=\"424.12\" y=\"-97.03\" font-family=\"Helvetica,sans-Serif\" font-size=\"8.00\">subtraction</text>\n",
       "</g>\n",
       "<!-- activity_b920bf8f&#45;7827&#45;4b9a&#45;b60d&#45;a2d4ba9973a1_TotalEnergy&#45;&gt;284ec855&#45;5bfa&#45;422f&#45;b9c7&#45;d14baca2541f -->\n",
       "<g id=\"edge1\" class=\"edge\">\n",
       "<title>activity_b920bf8f&#45;7827&#45;4b9a&#45;b60d&#45;a2d4ba9973a1_TotalEnergy&#45;&gt;284ec855&#45;5bfa&#45;422f&#45;b9c7&#45;d14baca2541f</title>\n",
       "<path fill=\"none\" stroke=\"#263238\" d=\"M358.35,-163.2C369.91,-152.22 385.05,-137.85 397.89,-125.66\"/>\n",
       "<polygon fill=\"#263238\" stroke=\"#263238\" points=\"399.99,-128.49 404.84,-119.06 395.17,-123.41 399.99,-128.49\"/>\n",
       "<text text-anchor=\"middle\" x=\"398.62\" y=\"-137.9\" font-family=\"Helvetica,sans-Serif\" font-size=\"8.00\">input</text>\n",
       "</g>\n",
       "<!-- property_5cbd4c35&#45;3ff7&#45;41a3&#45;93b6&#45;ed0de515bf18 -->\n",
       "<g id=\"node3\" class=\"node\">\n",
       "<title>property_5cbd4c35&#45;3ff7&#45;41a3&#45;93b6&#45;ed0de515bf18</title>\n",
       "<polygon fill=\"#c9daf8\" stroke=\"#c9daf8\" points=\"632.62,-199.5 397.62,-199.5 397.62,-163.5 632.62,-163.5 632.62,-199.5\"/>\n",
       "<text text-anchor=\"middle\" x=\"515.12\" y=\"-178.78\" font-family=\"Helvetica,sans-Serif\" font-size=\"8.00\">(((NumberOfAtoms&#45;v1)/NumberOfAtoms)*TotalEnergy)</text>\n",
       "</g>\n",
       "<!-- property_5cbd4c35&#45;3ff7&#45;41a3&#45;93b6&#45;ed0de515bf18&#45;&gt;284ec855&#45;5bfa&#45;422f&#45;b9c7&#45;d14baca2541f -->\n",
       "<g id=\"edge2\" class=\"edge\">\n",
       "<title>property_5cbd4c35&#45;3ff7&#45;41a3&#45;93b6&#45;ed0de515bf18&#45;&gt;284ec855&#45;5bfa&#45;422f&#45;b9c7&#45;d14baca2541f</title>\n",
       "<path fill=\"none\" stroke=\"#263238\" d=\"M495.38,-163.2C482.74,-152.12 466.14,-137.57 452.15,-125.31\"/>\n",
       "<polygon fill=\"#263238\" stroke=\"#263238\" points=\"454.8,-122.98 444.97,-119.02 450.18,-128.24 454.8,-122.98\"/>\n",
       "<text text-anchor=\"middle\" x=\"485.62\" y=\"-137.9\" font-family=\"Helvetica,sans-Serif\" font-size=\"8.00\">input</text>\n",
       "</g>\n",
       "<!-- activity_b920bf8f&#45;7827&#45;4b9a&#45;b60d&#45;a2d4ba9973a1 -->\n",
       "<g id=\"node4\" class=\"node\">\n",
       "<title>activity_b920bf8f&#45;7827&#45;4b9a&#45;b60d&#45;a2d4ba9973a1</title>\n",
       "<polygon fill=\"#c9daf8\" stroke=\"#c9daf8\" points=\"297.88,-281.25 214.38,-281.25 214.38,-245.25 297.88,-245.25 297.88,-281.25\"/>\n",
       "<text text-anchor=\"middle\" x=\"256.12\" y=\"-260.52\" font-family=\"Helvetica,sans-Serif\" font-size=\"8.00\">MolecularStatics</text>\n",
       "</g>\n",
       "<!-- activity_b920bf8f&#45;7827&#45;4b9a&#45;b60d&#45;a2d4ba9973a1&#45;&gt;activity_b920bf8f&#45;7827&#45;4b9a&#45;b60d&#45;a2d4ba9973a1_TotalEnergy -->\n",
       "<g id=\"edge4\" class=\"edge\">\n",
       "<title>activity_b920bf8f&#45;7827&#45;4b9a&#45;b60d&#45;a2d4ba9973a1&#45;&gt;activity_b920bf8f&#45;7827&#45;4b9a&#45;b60d&#45;a2d4ba9973a1_TotalEnergy</title>\n",
       "<path fill=\"none\" stroke=\"#263238\" d=\"M274.35,-244.95C285.91,-233.97 301.05,-219.6 313.89,-207.41\"/>\n",
       "<polygon fill=\"#263238\" stroke=\"#263238\" points=\"315.99,-210.24 320.84,-200.81 311.17,-205.16 315.99,-210.24\"/>\n",
       "<text text-anchor=\"middle\" x=\"332.62\" y=\"-219.65\" font-family=\"Helvetica,sans-Serif\" font-size=\"8.00\">output_param</text>\n",
       "</g>\n",
       "<!-- sample_9c646b19&#45;c69a&#45;448f&#45;8091&#45;870405b4b335 -->\n",
       "<g id=\"node5\" class=\"node\">\n",
       "<title>sample_9c646b19&#45;c69a&#45;448f&#45;8091&#45;870405b4b335</title>\n",
       "<polygon fill=\"#c9daf8\" stroke=\"#c9daf8\" points=\"504.25,-363 0,-363 0,-327 504.25,-327 504.25,-363\"/>\n",
       "<text text-anchor=\"middle\" x=\"252.12\" y=\"-342.27\" font-family=\"Helvetica,sans-Serif\" font-size=\"8.00\">sample:9c646b19&#45;c69a&#45;448f&#45;8091&#45;870405b4b335_from_sample:e46e449d&#45;fd6a&#45;4ecf&#45;b91b&#45;f32cfece2a82_from_cu_md</text>\n",
       "</g>\n",
       "<!-- sample_9c646b19&#45;c69a&#45;448f&#45;8091&#45;870405b4b335&#45;&gt;activity_b920bf8f&#45;7827&#45;4b9a&#45;b60d&#45;a2d4ba9973a1 -->\n",
       "<g id=\"edge8\" class=\"edge\">\n",
       "<title>sample_9c646b19&#45;c69a&#45;448f&#45;8091&#45;870405b4b335&#45;&gt;activity_b920bf8f&#45;7827&#45;4b9a&#45;b60d&#45;a2d4ba9973a1</title>\n",
       "<path fill=\"none\" stroke=\"#263238\" d=\"M252.99,-326.7C253.49,-316.77 254.13,-304.06 254.7,-292.7\"/>\n",
       "<polygon fill=\"#263238\" stroke=\"#263238\" points=\"258.18,-293.2 255.18,-283.03 251.19,-292.84 258.18,-293.2\"/>\n",
       "<text text-anchor=\"middle\" x=\"282.5\" y=\"-301.4\" font-family=\"Helvetica,sans-Serif\" font-size=\"8.00\">input_sample</text>\n",
       "</g>\n",
       "<!-- property_9c62ea8e&#45;69d4&#45;4d86&#45;b7dd&#45;841afcaf4f81 -->\n",
       "<g id=\"node6\" class=\"node\">\n",
       "<title>property_9c62ea8e&#45;69d4&#45;4d86&#45;b7dd&#45;841afcaf4f81</title>\n",
       "<polygon fill=\"#c9daf8\" stroke=\"#c9daf8\" points=\"737.75,-363 560.5,-363 560.5,-327 737.75,-327 737.75,-363\"/>\n",
       "<text text-anchor=\"middle\" x=\"649.12\" y=\"-342.27\" font-family=\"Helvetica,sans-Serif\" font-size=\"8.00\">((NumberOfAtoms&#45;v1)/NumberOfAtoms)</text>\n",
       "</g>\n",
       "<!-- cc46c51c&#45;8857&#45;4ca8&#45;9174&#45;337afe3ca0a4 -->\n",
       "<g id=\"node14\" class=\"node\">\n",
       "<title>cc46c51c&#45;8857&#45;4ca8&#45;9174&#45;337afe3ca0a4</title>\n",
       "<polygon fill=\"#e6b8af\" stroke=\"#e6b8af\" points=\"567.88,-281.25 496.38,-281.25 496.38,-245.25 567.88,-245.25 567.88,-281.25\"/>\n",
       "<text text-anchor=\"middle\" x=\"532.12\" y=\"-260.52\" font-family=\"Helvetica,sans-Serif\" font-size=\"8.00\">multiplication</text>\n",
       "</g>\n",
       "<!-- property_9c62ea8e&#45;69d4&#45;4d86&#45;b7dd&#45;841afcaf4f81&#45;&gt;cc46c51c&#45;8857&#45;4ca8&#45;9174&#45;337afe3ca0a4 -->\n",
       "<g id=\"edge5\" class=\"edge\">\n",
       "<title>property_9c62ea8e&#45;69d4&#45;4d86&#45;b7dd&#45;841afcaf4f81&#45;&gt;cc46c51c&#45;8857&#45;4ca8&#45;9174&#45;337afe3ca0a4</title>\n",
       "<path fill=\"none\" stroke=\"#263238\" d=\"M623.74,-326.7C607.1,-315.36 585.14,-300.39 566.89,-287.95\"/>\n",
       "<polygon fill=\"#263238\" stroke=\"#263238\" points=\"568.95,-285.11 558.71,-282.37 565.01,-290.9 568.95,-285.11\"/>\n",
       "<text text-anchor=\"middle\" x=\"608.62\" y=\"-301.4\" font-family=\"Helvetica,sans-Serif\" font-size=\"8.00\">input</text>\n",
       "</g>\n",
       "<!-- activity_9004cde2&#45;ad39&#45;4395&#45;a167&#45;bc72432af47b_TotalEnergy -->\n",
       "<g id=\"node7\" class=\"node\">\n",
       "<title>activity_9004cde2&#45;ad39&#45;4395&#45;a167&#45;bc72432af47b_TotalEnergy</title>\n",
       "<polygon fill=\"#c9daf8\" stroke=\"#c9daf8\" points=\"564.12,-580.5 500.12,-580.5 500.12,-544.5 564.12,-544.5 564.12,-580.5\"/>\n",
       "<text text-anchor=\"middle\" x=\"532.12\" y=\"-559.77\" font-family=\"Helvetica,sans-Serif\" font-size=\"8.00\">TotalEnergy</text>\n",
       "</g>\n",
       "<!-- activity_9004cde2&#45;ad39&#45;4395&#45;a167&#45;bc72432af47b_TotalEnergy&#45;&gt;cc46c51c&#45;8857&#45;4ca8&#45;9174&#45;337afe3ca0a4 -->\n",
       "<g id=\"edge6\" class=\"edge\">\n",
       "<title>activity_9004cde2&#45;ad39&#45;4395&#45;a167&#45;bc72432af47b_TotalEnergy&#45;&gt;cc46c51c&#45;8857&#45;4ca8&#45;9174&#45;337afe3ca0a4</title>\n",
       "<path fill=\"none\" stroke=\"#263238\" d=\"M532.12,-544.04C532.12,-525.37 532.12,-494.91 532.12,-468.62 532.12,-468.62 532.12,-468.62 532.12,-344 532.12,-327.07 532.12,-308.11 532.12,-292.93\"/>\n",
       "<polygon fill=\"#263238\" stroke=\"#263238\" points=\"535.63,-293.19 532.13,-283.19 528.63,-293.19 535.63,-293.19\"/>\n",
       "<text text-anchor=\"middle\" x=\"542.62\" y=\"-424.02\" font-family=\"Helvetica,sans-Serif\" font-size=\"8.00\">input</text>\n",
       "</g>\n",
       "<!-- property_a4f8f6ed&#45;cd21&#45;4262&#45;bafc&#45;858ccb532418 -->\n",
       "<g id=\"node8\" class=\"node\">\n",
       "<title>property_a4f8f6ed&#45;cd21&#45;4262&#45;bafc&#45;858ccb532418</title>\n",
       "<polygon fill=\"#c9daf8\" stroke=\"#c9daf8\" points=\"682.88,-526.5 581.38,-526.5 581.38,-490.5 682.88,-490.5 682.88,-526.5\"/>\n",
       "<text text-anchor=\"middle\" x=\"632.12\" y=\"-505.77\" font-family=\"Helvetica,sans-Serif\" font-size=\"8.00\">(NumberOfAtoms&#45;v1)</text>\n",
       "</g>\n",
       "<!-- f93885fb&#45;6594&#45;43ca&#45;8e38&#45;0564b9301201 -->\n",
       "<g id=\"node15\" class=\"node\">\n",
       "<title>f93885fb&#45;6594&#45;43ca&#45;8e38&#45;0564b9301201</title>\n",
       "<polygon fill=\"#e6b8af\" stroke=\"#e6b8af\" points=\"676.12,-444.75 622.12,-444.75 622.12,-408.75 676.12,-408.75 676.12,-444.75\"/>\n",
       "<text text-anchor=\"middle\" x=\"649.12\" y=\"-424.02\" font-family=\"Helvetica,sans-Serif\" font-size=\"8.00\">division</text>\n",
       "</g>\n",
       "<!-- property_a4f8f6ed&#45;cd21&#45;4262&#45;bafc&#45;858ccb532418&#45;&gt;f93885fb&#45;6594&#45;43ca&#45;8e38&#45;0564b9301201 -->\n",
       "<g id=\"edge9\" class=\"edge\">\n",
       "<title>property_a4f8f6ed&#45;cd21&#45;4262&#45;bafc&#45;858ccb532418&#45;&gt;f93885fb&#45;6594&#45;43ca&#45;8e38&#45;0564b9301201</title>\n",
       "<path fill=\"none\" stroke=\"#263238\" d=\"M635.81,-490.2C637.93,-480.27 640.64,-467.56 643.06,-456.2\"/>\n",
       "<polygon fill=\"#263238\" stroke=\"#263238\" points=\"646.47,-457.01 645.13,-446.5 639.62,-455.55 646.47,-457.01\"/>\n",
       "<text text-anchor=\"middle\" x=\"651.62\" y=\"-464.9\" font-family=\"Helvetica,sans-Serif\" font-size=\"8.00\">input</text>\n",
       "</g>\n",
       "<!-- property_9eb6a4fb&#45;7968&#45;4597&#45;8e11&#45;a92326fe5e1b -->\n",
       "<g id=\"node9\" class=\"node\">\n",
       "<title>property_9eb6a4fb&#45;7968&#45;4597&#45;8e11&#45;a92326fe5e1b</title>\n",
       "<polygon fill=\"#c9daf8\" stroke=\"#c9daf8\" points=\"752.5,-716.25 669.75,-716.25 669.75,-680.25 752.5,-680.25 752.5,-716.25\"/>\n",
       "<text text-anchor=\"middle\" x=\"711.12\" y=\"-695.52\" font-family=\"Helvetica,sans-Serif\" font-size=\"8.00\">NumberOfAtoms</text>\n",
       "</g>\n",
       "<!-- property_9eb6a4fb&#45;7968&#45;4597&#45;8e11&#45;a92326fe5e1b&#45;&gt;f93885fb&#45;6594&#45;43ca&#45;8e38&#45;0564b9301201 -->\n",
       "<g id=\"edge10\" class=\"edge\">\n",
       "<title>property_9eb6a4fb&#45;7968&#45;4597&#45;8e11&#45;a92326fe5e1b&#45;&gt;f93885fb&#45;6594&#45;43ca&#45;8e38&#45;0564b9301201</title>\n",
       "<path fill=\"none\" stroke=\"#263238\" d=\"M712.4,-680.01C714.48,-643.72 716.22,-557.3 692.12,-490.5 687.46,-477.56 679.47,-464.77 671.64,-454.14\"/>\n",
       "<polygon fill=\"#263238\" stroke=\"#263238\" points=\"674.41,-452.01 665.52,-446.25 668.88,-456.29 674.41,-452.01\"/>\n",
       "<text text-anchor=\"middle\" x=\"720.62\" y=\"-559.77\" font-family=\"Helvetica,sans-Serif\" font-size=\"8.00\">input</text>\n",
       "</g>\n",
       "<!-- 0aa5bbcb&#45;ccf4&#45;4c4f&#45;8332&#45;11d286fe375d -->\n",
       "<g id=\"node16\" class=\"node\">\n",
       "<title>0aa5bbcb&#45;ccf4&#45;4c4f&#45;8332&#45;11d286fe375d</title>\n",
       "<polygon fill=\"#e6b8af\" stroke=\"#e6b8af\" points=\"663.38,-634.5 600.88,-634.5 600.88,-598.5 663.38,-598.5 663.38,-634.5\"/>\n",
       "<text text-anchor=\"middle\" x=\"632.12\" y=\"-613.77\" font-family=\"Helvetica,sans-Serif\" font-size=\"8.00\">subtraction</text>\n",
       "</g>\n",
       "<!-- property_9eb6a4fb&#45;7968&#45;4597&#45;8e11&#45;a92326fe5e1b&#45;&gt;0aa5bbcb&#45;ccf4&#45;4c4f&#45;8332&#45;11d286fe375d -->\n",
       "<g id=\"edge13\" class=\"edge\">\n",
       "<title>property_9eb6a4fb&#45;7968&#45;4597&#45;8e11&#45;a92326fe5e1b&#45;&gt;0aa5bbcb&#45;ccf4&#45;4c4f&#45;8332&#45;11d286fe375d</title>\n",
       "<path fill=\"none\" stroke=\"#263238\" d=\"M693.65,-679.83C688.04,-674.23 681.81,-667.99 676.12,-662.25 670.01,-656.08 663.43,-649.41 657.28,-643.15\"/>\n",
       "<polygon fill=\"#263238\" stroke=\"#263238\" points=\"659.79,-640.72 650.29,-636.04 654.8,-645.63 659.79,-640.72\"/>\n",
       "<text text-anchor=\"middle\" x=\"686.62\" y=\"-654.65\" font-family=\"Helvetica,sans-Serif\" font-size=\"8.00\">input</text>\n",
       "</g>\n",
       "<!-- activity_9004cde2&#45;ad39&#45;4395&#45;a167&#45;bc72432af47b -->\n",
       "<g id=\"node10\" class=\"node\">\n",
       "<title>activity_9004cde2&#45;ad39&#45;4395&#45;a167&#45;bc72432af47b</title>\n",
       "<polygon fill=\"#c9daf8\" stroke=\"#c9daf8\" points=\"579.88,-716.25 484.38,-716.25 484.38,-680.25 579.88,-680.25 579.88,-716.25\"/>\n",
       "<text text-anchor=\"middle\" x=\"532.12\" y=\"-695.52\" font-family=\"Helvetica,sans-Serif\" font-size=\"8.00\">MolecularDynamics</text>\n",
       "</g>\n",
       "<!-- activity_9004cde2&#45;ad39&#45;4395&#45;a167&#45;bc72432af47b&#45;&gt;activity_9004cde2&#45;ad39&#45;4395&#45;a167&#45;bc72432af47b_TotalEnergy -->\n",
       "<g id=\"edge12\" class=\"edge\">\n",
       "<title>activity_9004cde2&#45;ad39&#45;4395&#45;a167&#45;bc72432af47b&#45;&gt;activity_9004cde2&#45;ad39&#45;4395&#45;a167&#45;bc72432af47b_TotalEnergy</title>\n",
       "<path fill=\"none\" stroke=\"#263238\" d=\"M532.12,-679.76C532.12,-657.54 532.12,-618.86 532.12,-592.26\"/>\n",
       "<polygon fill=\"#263238\" stroke=\"#263238\" points=\"535.63,-592.5 532.13,-582.5 528.63,-592.5 535.63,-592.5\"/>\n",
       "<text text-anchor=\"middle\" x=\"560.62\" y=\"-654.65\" font-family=\"Helvetica,sans-Serif\" font-size=\"8.00\">output_param</text>\n",
       "</g>\n",
       "<!-- sample_e46e449d&#45;fd6a&#45;4ecf&#45;b91b&#45;f32cfece2a82 -->\n",
       "<g id=\"node11\" class=\"node\">\n",
       "<title>sample_e46e449d&#45;fd6a&#45;4ecf&#45;b91b&#45;f32cfece2a82</title>\n",
       "<polygon fill=\"#c9daf8\" stroke=\"#c9daf8\" points=\"755.88,-798 486.38,-798 486.38,-762 755.88,-762 755.88,-798\"/>\n",
       "<text text-anchor=\"middle\" x=\"621.12\" y=\"-777.27\" font-family=\"Helvetica,sans-Serif\" font-size=\"8.00\">sample:e46e449d&#45;fd6a&#45;4ecf&#45;b91b&#45;f32cfece2a82_from_cu_md</text>\n",
       "</g>\n",
       "<!-- sample_e46e449d&#45;fd6a&#45;4ecf&#45;b91b&#45;f32cfece2a82&#45;&gt;property_9eb6a4fb&#45;7968&#45;4597&#45;8e11&#45;a92326fe5e1b -->\n",
       "<g id=\"edge16\" class=\"edge\">\n",
       "<title>sample_e46e449d&#45;fd6a&#45;4ecf&#45;b91b&#45;f32cfece2a82&#45;&gt;property_9eb6a4fb&#45;7968&#45;4597&#45;8e11&#45;a92326fe5e1b</title>\n",
       "<path fill=\"none\" stroke=\"#263238\" d=\"M640.65,-761.7C653.16,-750.62 669.57,-736.07 683.41,-723.81\"/>\n",
       "<polygon fill=\"#263238\" stroke=\"#263238\" points=\"685.34,-726.78 690.5,-717.52 680.7,-721.54 685.34,-726.78\"/>\n",
       "<text text-anchor=\"middle\" x=\"699.62\" y=\"-736.4\" font-family=\"Helvetica,sans-Serif\" font-size=\"8.00\">output_param</text>\n",
       "</g>\n",
       "<!-- sample_e46e449d&#45;fd6a&#45;4ecf&#45;b91b&#45;f32cfece2a82&#45;&gt;activity_9004cde2&#45;ad39&#45;4395&#45;a167&#45;bc72432af47b -->\n",
       "<g id=\"edge17\" class=\"edge\">\n",
       "<title>sample_e46e449d&#45;fd6a&#45;4ecf&#45;b91b&#45;f32cfece2a82&#45;&gt;activity_9004cde2&#45;ad39&#45;4395&#45;a167&#45;bc72432af47b</title>\n",
       "<path fill=\"none\" stroke=\"#263238\" d=\"M601.81,-761.7C589.57,-750.72 573.53,-736.35 559.92,-724.16\"/>\n",
       "<polygon fill=\"#263238\" stroke=\"#263238\" points=\"562.31,-721.6 552.53,-717.53 557.64,-726.81 562.31,-721.6\"/>\n",
       "<text text-anchor=\"middle\" x=\"609.5\" y=\"-736.4\" font-family=\"Helvetica,sans-Serif\" font-size=\"8.00\">input_sample</text>\n",
       "</g>\n",
       "<!-- 1 -->\n",
       "<g id=\"node12\" class=\"node\">\n",
       "<title>1</title>\n",
       "<polygon fill=\"#c9daf8\" stroke=\"#c9daf8\" points=\"652.12,-716.25 598.12,-716.25 598.12,-680.25 652.12,-680.25 652.12,-716.25\"/>\n",
       "<text text-anchor=\"middle\" x=\"625.12\" y=\"-695.52\" font-family=\"Helvetica,sans-Serif\" font-size=\"8.00\">1</text>\n",
       "</g>\n",
       "<!-- 1&#45;&gt;0aa5bbcb&#45;ccf4&#45;4c4f&#45;8332&#45;11d286fe375d -->\n",
       "<g id=\"edge14\" class=\"edge\">\n",
       "<title>1&#45;&gt;0aa5bbcb&#45;ccf4&#45;4c4f&#45;8332&#45;11d286fe375d</title>\n",
       "<path fill=\"none\" stroke=\"#263238\" d=\"M626.64,-679.95C627.52,-670.02 628.63,-657.31 629.63,-645.95\"/>\n",
       "<polygon fill=\"#263238\" stroke=\"#263238\" points=\"633.09,-646.55 630.48,-636.28 626.12,-645.93 633.09,-646.55\"/>\n",
       "<text text-anchor=\"middle\" x=\"638.62\" y=\"-654.65\" font-family=\"Helvetica,sans-Serif\" font-size=\"8.00\">input</text>\n",
       "</g>\n",
       "<!-- 284ec855&#45;5bfa&#45;422f&#45;b9c7&#45;d14baca2541f&#45;&gt;property_547da1b4&#45;d4a7&#45;439c&#45;a440&#45;bdbc5251b489 -->\n",
       "<g id=\"edge3\" class=\"edge\">\n",
       "<title>284ec855&#45;5bfa&#45;422f&#45;b9c7&#45;d14baca2541f&#45;&gt;property_547da1b4&#45;d4a7&#45;439c&#45;a440&#45;bdbc5251b489</title>\n",
       "<path fill=\"none\" stroke=\"#263238\" d=\"M424.12,-81.45C424.12,-71.52 424.12,-58.81 424.12,-47.45\"/>\n",
       "<polygon fill=\"#263238\" stroke=\"#263238\" points=\"427.63,-47.78 424.13,-37.78 420.63,-47.78 427.63,-47.78\"/>\n",
       "<text text-anchor=\"middle\" x=\"437.62\" y=\"-56.15\" font-family=\"Helvetica,sans-Serif\" font-size=\"8.00\">output</text>\n",
       "</g>\n",
       "<!-- cc46c51c&#45;8857&#45;4ca8&#45;9174&#45;337afe3ca0a4&#45;&gt;property_5cbd4c35&#45;3ff7&#45;41a3&#45;93b6&#45;ed0de515bf18 -->\n",
       "<g id=\"edge7\" class=\"edge\">\n",
       "<title>cc46c51c&#45;8857&#45;4ca8&#45;9174&#45;337afe3ca0a4&#45;&gt;property_5cbd4c35&#45;3ff7&#45;41a3&#45;93b6&#45;ed0de515bf18</title>\n",
       "<path fill=\"none\" stroke=\"#263238\" d=\"M528.44,-244.95C526.32,-235.02 523.61,-222.31 521.19,-210.95\"/>\n",
       "<polygon fill=\"#263238\" stroke=\"#263238\" points=\"524.63,-210.3 519.12,-201.25 517.78,-211.76 524.63,-210.3\"/>\n",
       "<text text-anchor=\"middle\" x=\"538.62\" y=\"-219.65\" font-family=\"Helvetica,sans-Serif\" font-size=\"8.00\">output</text>\n",
       "</g>\n",
       "<!-- f93885fb&#45;6594&#45;43ca&#45;8e38&#45;0564b9301201&#45;&gt;property_9c62ea8e&#45;69d4&#45;4d86&#45;b7dd&#45;841afcaf4f81 -->\n",
       "<g id=\"edge11\" class=\"edge\">\n",
       "<title>f93885fb&#45;6594&#45;43ca&#45;8e38&#45;0564b9301201&#45;&gt;property_9c62ea8e&#45;69d4&#45;4d86&#45;b7dd&#45;841afcaf4f81</title>\n",
       "<path fill=\"none\" stroke=\"#263238\" d=\"M649.12,-408.45C649.12,-398.52 649.12,-385.81 649.12,-374.45\"/>\n",
       "<polygon fill=\"#263238\" stroke=\"#263238\" points=\"652.63,-374.78 649.13,-364.78 645.63,-374.78 652.63,-374.78\"/>\n",
       "<text text-anchor=\"middle\" x=\"662.62\" y=\"-383.15\" font-family=\"Helvetica,sans-Serif\" font-size=\"8.00\">output</text>\n",
       "</g>\n",
       "<!-- 0aa5bbcb&#45;ccf4&#45;4c4f&#45;8332&#45;11d286fe375d&#45;&gt;property_a4f8f6ed&#45;cd21&#45;4262&#45;bafc&#45;858ccb532418 -->\n",
       "<g id=\"edge15\" class=\"edge\">\n",
       "<title>0aa5bbcb&#45;ccf4&#45;4c4f&#45;8332&#45;11d286fe375d&#45;&gt;property_a4f8f6ed&#45;cd21&#45;4262&#45;bafc&#45;858ccb532418</title>\n",
       "<path fill=\"none\" stroke=\"#263238\" d=\"M632.12,-598.47C632.12,-582.26 632.12,-557.56 632.12,-538.29\"/>\n",
       "<polygon fill=\"#263238\" stroke=\"#263238\" points=\"635.63,-538.35 632.13,-528.35 628.63,-538.35 635.63,-538.35\"/>\n",
       "<text text-anchor=\"middle\" x=\"645.62\" y=\"-559.77\" font-family=\"Helvetica,sans-Serif\" font-size=\"8.00\">output</text>\n",
       "</g>\n",
       "</g>\n",
       "</svg>\n"
      ],
      "text/plain": [
       "<graphviz.graphs.Digraph at 0x7fa8bee5eb90>"
      ]
     },
     "execution_count": 17,
     "metadata": {},
     "output_type": "execute_result"
    }
   ],
   "source": [
    "kg.generate_provenance(label='VacancyFormationEnergy', visualize=True)"
   ]
  },
  {
   "cell_type": "code",
   "execution_count": null,
   "metadata": {},
   "outputs": [],
   "source": []
  }
 ],
 "metadata": {
  "kernelspec": {
   "display_name": "Python 3 (ipykernel)",
   "language": "python",
   "name": "python3"
  },
  "language_info": {
   "codemirror_mode": {
    "name": "ipython",
    "version": 3
   },
   "file_extension": ".py",
   "mimetype": "text/x-python",
   "name": "python",
   "nbconvert_exporter": "python",
   "pygments_lexer": "ipython3",
   "version": "3.1.-1"
  }
 },
 "nbformat": 4,
 "nbformat_minor": 4
}
