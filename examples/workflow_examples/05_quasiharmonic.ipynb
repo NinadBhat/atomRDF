{
 "cells": [
  {
   "cell_type": "code",
   "execution_count": 1,
   "id": "13bfd2b5-a74f-4db1-9122-bdb1c6a289a0",
   "metadata": {},
   "outputs": [],
   "source": [
    "%config IPCompleter.evaluation='unsafe'"
   ]
  },
  {
   "cell_type": "code",
   "execution_count": 2,
   "id": "ab42358e-f6c8-4012-964e-935999ee0a27",
   "metadata": {},
   "outputs": [
    {
     "data": {
      "application/vnd.jupyter.widget-view+json": {
       "model_id": "24db67c7f6fc48ae80ae2b4a7af0186c",
       "version_major": 2,
       "version_minor": 0
      },
      "text/plain": []
     },
     "metadata": {},
     "output_type": "display_data"
    }
   ],
   "source": [
    "from pyiron_atomistics import Project\n",
    "import numpy as np\n",
    "import matplotlib.pyplot as plt\n",
    "from atomrdf import KnowledgeGraph, System"
   ]
  },
  {
   "cell_type": "code",
   "execution_count": 3,
   "id": "09e084dc-a882-485b-81cd-7e67b6459353",
   "metadata": {},
   "outputs": [],
   "source": [
    "project = 'sf4'\n",
    "pr = Project(project)\n",
    "kg = KnowledgeGraph(store='db', store_file=f'{project}.db')\n",
    "kg.enable_workflow(pr, workflow_environment='pyiron')"
   ]
  },
  {
   "cell_type": "code",
   "execution_count": 4,
   "id": "c29a2e0b-9808-4fe9-b3ef-a459954a36f0",
   "metadata": {},
   "outputs": [],
   "source": [
    "struct = pr.create.structure.annotated_structure.bulk('Cu')"
   ]
  },
  {
   "cell_type": "code",
   "execution_count": 5,
   "id": "d09f3f9b-85fb-4cb1-86ae-e082d81909f9",
   "metadata": {},
   "outputs": [],
   "source": [
    "refjob = pr.create.job.Lammps('reflmp')\n",
    "refjob.structure = struct\n",
    "refjob.potential = '2009--Mendelev-M-I--Cu-Zr--LAMMPS--ipr1'"
   ]
  },
  {
   "cell_type": "code",
   "execution_count": 6,
   "id": "206c8e96-72fb-4779-a2b8-945e3c4f70c7",
   "metadata": {},
   "outputs": [],
   "source": [
    "phono = pr.create.job.PhonopyJob('phono')\n",
    "phono.ref_job = refjob"
   ]
  },
  {
   "cell_type": "code",
   "execution_count": 7,
   "id": "3d855baf-720d-45d7-92c0-89b248c58357",
   "metadata": {},
   "outputs": [],
   "source": [
    "quasi = pr.create.job.QuasiHarmonicJob('quasi')\n",
    "quasi.ref_job = phono"
   ]
  },
  {
   "cell_type": "code",
   "execution_count": 8,
   "id": "a43dd040-9310-4964-9f38-143bd471cdeb",
   "metadata": {},
   "outputs": [],
   "source": [
    "quasi.input[\"temperature_end\"] = 500\n",
    "quasi.input[\"temperature_steps\"] = 3\n",
    "quasi.input[\"axes\"]=[\"x\",\"y\",\"z\"]\n",
    "quasi.input[\"strains\"] = None"
   ]
  },
  {
   "cell_type": "code",
   "execution_count": 9,
   "id": "2912b3be-bc45-430b-b65a-21504d261b28",
   "metadata": {},
   "outputs": [
    {
     "name": "stdout",
     "output_type": "stream",
     "text": [
      "The job quasi was saved and received the ID: 350\n",
      "The job quasi_0_9 was saved and received the ID: 351\n",
      "The job reflmp_0 was saved and received the ID: 352\n",
      "The job quasi_0_92 was saved and received the ID: 353\n",
      "The job reflmp_0 was saved and received the ID: 354\n",
      "The job quasi_0_94 was saved and received the ID: 355\n",
      "The job reflmp_0 was saved and received the ID: 356\n",
      "The job quasi_0_96 was saved and received the ID: 357\n",
      "The job reflmp_0 was saved and received the ID: 358\n",
      "The job quasi_0_98 was saved and received the ID: 359\n",
      "The job reflmp_0 was saved and received the ID: 360\n",
      "The job quasi_1_0 was saved and received the ID: 361\n",
      "The job reflmp_0 was saved and received the ID: 362\n",
      "The job quasi_1_02 was saved and received the ID: 363\n",
      "The job reflmp_0 was saved and received the ID: 364\n",
      "The job quasi_1_04 was saved and received the ID: 365\n",
      "The job reflmp_0 was saved and received the ID: 366\n",
      "The job quasi_1_06 was saved and received the ID: 367\n",
      "The job reflmp_0 was saved and received the ID: 368\n",
      "The job quasi_1_08 was saved and received the ID: 369\n",
      "The job reflmp_0 was saved and received the ID: 370\n",
      "The job quasi_1_1 was saved and received the ID: 371\n",
      "The job reflmp_0 was saved and received the ID: 372\n"
     ]
    }
   ],
   "source": [
    "quasi.run()"
   ]
  },
  {
   "cell_type": "code",
   "execution_count": 10,
   "id": "a14d721e-b54a-4aa5-8da3-966e39f47bdd",
   "metadata": {},
   "outputs": [
    {
     "name": "stderr",
     "output_type": "stream",
     "text": [
      "/home/srmnitc/miniconda3/envs/workflow-rdf/lib/python3.11/site-packages/atomrdf/graph.py:376: UserWarning: asmo:hasValue has a range with unspecified datatype!\n",
      "  warnings.warn(f\"{triple[1].name} has a range with unspecified datatype!\")\n"
     ]
    }
   ],
   "source": [
    "kg.add_workflow(quasi, workflow_environment='pyiron')"
   ]
  },
  {
   "cell_type": "code",
   "execution_count": 13,
   "id": "aee28015-0d13-404d-916a-7b1cbe6a641d",
   "metadata": {},
   "outputs": [
    {
     "data": {
      "image/svg+xml": [
       "<?xml version=\"1.0\" encoding=\"UTF-8\" standalone=\"no\"?>\n",
       "<!DOCTYPE svg PUBLIC \"-//W3C//DTD SVG 1.1//EN\"\n",
       " \"http://www.w3.org/Graphics/SVG/1.1/DTD/svg11.dtd\">\n",
       "<!-- Generated by graphviz version 9.0.0 (20231125.0833)\n",
       " -->\n",
       "<!-- Pages: 1 -->\n",
       "<svg width=\"472pt\" height=\"126pt\"\n",
       " viewBox=\"0.00 0.00 471.62 125.75\" xmlns=\"http://www.w3.org/2000/svg\" xmlns:xlink=\"http://www.w3.org/1999/xlink\">\n",
       "<g id=\"graph0\" class=\"graph\" transform=\"scale(1 1) rotate(0) translate(4 121.75)\">\n",
       "<polygon fill=\"white\" stroke=\"none\" points=\"-4,4 -4,-121.75 467.62,-121.75 467.62,4 -4,4\"/>\n",
       "<!-- sample_b9e9d85b&#45;8fb1&#45;4122&#45;9c83&#45;836117cf8f53 -->\n",
       "<g id=\"node1\" class=\"node\">\n",
       "<title>sample_b9e9d85b&#45;8fb1&#45;4122&#45;9c83&#45;836117cf8f53</title>\n",
       "<polygon fill=\"#d9d9d9\" stroke=\"#d9d9d9\" points=\"341.12,-36 119.62,-36 119.62,0 341.12,0 341.12,-36\"/>\n",
       "<text text-anchor=\"middle\" x=\"230.38\" y=\"-15.28\" font-family=\"Helvetica,sans-Serif\" font-size=\"8.00\">sample_b9e9d85b&#45;8fb1&#45;4122&#45;9c83&#45;836117cf8f53</text>\n",
       "</g>\n",
       "<!-- sample_272a17b6&#45;f37f&#45;466e&#45;a99d&#45;f240c1bd4b5c -->\n",
       "<g id=\"node2\" class=\"node\">\n",
       "<title>sample_272a17b6&#45;f37f&#45;466e&#45;a99d&#45;f240c1bd4b5c</title>\n",
       "<polygon fill=\"#d9d9d9\" stroke=\"#d9d9d9\" points=\"220.75,-117.75 0,-117.75 0,-81.75 220.75,-81.75 220.75,-117.75\"/>\n",
       "<text text-anchor=\"middle\" x=\"110.38\" y=\"-97.03\" font-family=\"Helvetica,sans-Serif\" font-size=\"8.00\">sample_272a17b6&#45;f37f&#45;466e&#45;a99d&#45;f240c1bd4b5c</text>\n",
       "</g>\n",
       "<!-- sample_b9e9d85b&#45;8fb1&#45;4122&#45;9c83&#45;836117cf8f53&#45;&gt;sample_272a17b6&#45;f37f&#45;466e&#45;a99d&#45;f240c1bd4b5c -->\n",
       "<g id=\"edge1\" class=\"edge\">\n",
       "<title>sample_b9e9d85b&#45;8fb1&#45;4122&#45;9c83&#45;836117cf8f53&#45;&gt;sample_272a17b6&#45;f37f&#45;466e&#45;a99d&#45;f240c1bd4b5c</title>\n",
       "<path fill=\"none\" stroke=\"#263238\" d=\"M204.34,-36.3C187.2,-47.7 164.54,-62.75 145.77,-75.22\"/>\n",
       "<polygon fill=\"#263238\" stroke=\"#263238\" points=\"144.01,-72.19 137.62,-80.64 147.89,-78.02 144.01,-72.19\"/>\n",
       "<text text-anchor=\"middle\" x=\"212.12\" y=\"-56.15\" font-family=\"Helvetica,sans-Serif\" font-size=\"8.00\">wasDerivedFrom</text>\n",
       "</g>\n",
       "<!-- activity_3265296f&#45;30bb&#45;494c&#45;b589&#45;c8a37de4626e -->\n",
       "<g id=\"node3\" class=\"node\">\n",
       "<title>activity_3265296f&#45;30bb&#45;494c&#45;b589&#45;c8a37de4626e</title>\n",
       "<polygon fill=\"#d9d9d9\" stroke=\"#d9d9d9\" points=\"463.62,-117.75 239.12,-117.75 239.12,-81.75 463.62,-81.75 463.62,-117.75\"/>\n",
       "<text text-anchor=\"middle\" x=\"351.38\" y=\"-97.03\" font-family=\"Helvetica,sans-Serif\" font-size=\"8.00\">activity_3265296f&#45;30bb&#45;494c&#45;b589&#45;c8a37de4626e</text>\n",
       "</g>\n",
       "<!-- sample_b9e9d85b&#45;8fb1&#45;4122&#45;9c83&#45;836117cf8f53&#45;&gt;activity_3265296f&#45;30bb&#45;494c&#45;b589&#45;c8a37de4626e -->\n",
       "<g id=\"edge2\" class=\"edge\">\n",
       "<title>sample_b9e9d85b&#45;8fb1&#45;4122&#45;9c83&#45;836117cf8f53&#45;&gt;activity_3265296f&#45;30bb&#45;494c&#45;b589&#45;c8a37de4626e</title>\n",
       "<path fill=\"none\" stroke=\"#263238\" d=\"M256.63,-36.3C273.91,-47.7 296.76,-62.75 315.68,-75.22\"/>\n",
       "<polygon fill=\"#263238\" stroke=\"#263238\" points=\"313.63,-78.07 323.91,-80.65 317.48,-72.22 313.63,-78.07\"/>\n",
       "<text text-anchor=\"middle\" x=\"332.25\" y=\"-56.15\" font-family=\"Helvetica,sans-Serif\" font-size=\"8.00\">wasGeneratedBy</text>\n",
       "</g>\n",
       "</g>\n",
       "</svg>\n"
      ],
      "text/plain": [
       "<graphviz.graphs.Digraph at 0x7f841c5ff3d0>"
      ]
     },
     "execution_count": 13,
     "metadata": {},
     "output_type": "execute_result"
    }
   ],
   "source": [
    "kg.visualise(sample_view=True, layout='dot')"
   ]
  },
  {
   "cell_type": "code",
   "execution_count": 14,
   "id": "a24c7ef6-756c-4784-aaac-bf8b5be86217",
   "metadata": {},
   "outputs": [
    {
     "data": {
      "text/plain": [
       "[sample:272a17b6-f37f-466e-a99d-f240c1bd4b5c,\n",
       " sample:b9e9d85b-8fb1-4122-9c83-836117cf8f53_from_sample:272a17b6-f37f-466e-a99d-f240c1bd4b5c]"
      ]
     },
     "execution_count": 14,
     "metadata": {},
     "output_type": "execute_result"
    }
   ],
   "source": [
    "kg.samples"
   ]
  },
  {
   "cell_type": "code",
   "execution_count": 16,
   "id": "e476efde-e714-48f9-a7ce-291b5f949356",
   "metadata": {},
   "outputs": [],
   "source": [
    "sample = kg.samples[1]"
   ]
  },
  {
   "cell_type": "code",
   "execution_count": 19,
   "id": "227068a2-d1a7-4c81-98be-f5336e0bd084",
   "metadata": {},
   "outputs": [
    {
     "data": {
      "text/plain": [
       "[  0. 250. 500.] K"
      ]
     },
     "execution_count": 19,
     "metadata": {},
     "output_type": "execute_result"
    }
   ],
   "source": [
    "sample.outputs.QuasiHarmonicTemperature"
   ]
  },
  {
   "cell_type": "code",
   "execution_count": 30,
   "id": "cbdafe5e-d5f8-49f0-80bb-20a7331b5fa8",
   "metadata": {},
   "outputs": [
    {
     "data": {
      "text/plain": [
       "[[ 1.414e-01  1.390e-01  1.360e-01  1.328e-01  1.292e-01  1.255e-01\n",
       "   1.230e-01  1.207e-01  1.186e-01  1.170e-01  1.155e-01]\n",
       " [ 2.560e-02  2.100e-02  1.490e-02  7.800e-03 -4.000e-04 -9.400e-03\n",
       "  -1.630e-02 -2.250e-02 -2.850e-02 -3.320e-02 -3.710e-02]\n",
       " [-3.276e-01 -3.361e-01 -3.475e-01 -3.609e-01 -3.764e-01 -3.934e-01\n",
       "  -4.066e-01 -4.186e-01 -4.302e-01 -4.392e-01 -4.467e-01]] EV"
      ]
     },
     "execution_count": 30,
     "metadata": {},
     "output_type": "execute_result"
    }
   ],
   "source": [
    "sample.outputs.QuasiHarmonicFreeEnergy"
   ]
  }
 ],
 "metadata": {
  "kernelspec": {
   "display_name": "Python 3 (ipykernel)",
   "language": "python",
   "name": "python3"
  },
  "language_info": {
   "codemirror_mode": {
    "name": "ipython",
    "version": 3
   },
   "file_extension": ".py",
   "mimetype": "text/x-python",
   "name": "python",
   "nbconvert_exporter": "python",
   "pygments_lexer": "ipython3",
   "version": "3.11.8"
  }
 },
 "nbformat": 4,
 "nbformat_minor": 5
}
