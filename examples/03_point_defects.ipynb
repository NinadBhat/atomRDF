{
 "cells": [
  {
   "cell_type": "markdown",
   "id": "c4e13f9a-8d8e-4fa7-bc0b-7cd1ae952220",
   "metadata": {},
   "source": [
    "# Point defects"
   ]
  },
  {
   "cell_type": "markdown",
   "id": "5f761562-002e-4b60-85ac-d837cdf87159",
   "metadata": {},
   "source": [
    "Here, the creation of different point defect structures are presented. These features are still under active development."
   ]
  },
  {
   "cell_type": "code",
   "execution_count": 1,
   "id": "f88eacd6-1bdc-4321-9e80-3d2720d318a1",
   "metadata": {},
   "outputs": [
    {
     "data": {
      "application/vnd.jupyter.widget-view+json": {
       "model_id": "7385bbcd23fe494ca43d1ae0ad5c7653",
       "version_major": 2,
       "version_minor": 0
      },
      "text/plain": []
     },
     "metadata": {},
     "output_type": "display_data"
    }
   ],
   "source": [
    "from atomrdf import KnowledgeGraph, System"
   ]
  },
  {
   "cell_type": "code",
   "execution_count": 5,
   "id": "6ac4ae0b-874b-4a1e-ba23-9e47fc70b3ff",
   "metadata": {},
   "outputs": [],
   "source": [
    "kg = KnowledgeGraph()"
   ]
  },
  {
   "cell_type": "markdown",
   "id": "d6330c22-cec7-4ff4-a0a0-247109a74160",
   "metadata": {},
   "source": [
    "First a FCC Al structure"
   ]
  },
  {
   "cell_type": "code",
   "execution_count": 6,
   "id": "12394f6e-4be7-46e8-800d-557747db4189",
   "metadata": {},
   "outputs": [],
   "source": [
    "struct_Al = System.create.element.Al(graph=kg)"
   ]
  },
  {
   "cell_type": "code",
   "execution_count": 9,
   "id": "01ace418-9582-44a8-8847-464988f5b13d",
   "metadata": {},
   "outputs": [
    {
     "data": {
      "application/vnd.plotly.v1+json": {
       "config": {
        "plotlyServerURL": "https://plot.ly"
       },
       "data": [
        {
         "line": {
          "color": "#263238",
          "width": 2
         },
         "mode": "lines",
         "name": "lines",
         "showlegend": false,
         "type": "scatter3d",
         "x": [
          0,
          4.05,
          4.05,
          0,
          0
         ],
         "y": [
          0,
          0,
          4.05,
          4.05,
          0
         ],
         "z": [
          0,
          0,
          0,
          0,
          0
         ]
        },
        {
         "line": {
          "color": "#263238",
          "width": 2
         },
         "mode": "lines",
         "name": "lines",
         "showlegend": false,
         "type": "scatter3d",
         "x": [
          0,
          4.05,
          4.05,
          0,
          0
         ],
         "y": [
          0,
          0,
          4.05,
          4.05,
          0
         ],
         "z": [
          4.05,
          4.05,
          4.05,
          4.05,
          4.05
         ]
        },
        {
         "line": {
          "color": "#263238",
          "width": 2
         },
         "mode": "lines",
         "name": "lines",
         "showlegend": false,
         "type": "scatter3d",
         "x": [
          0,
          4.05,
          4.05,
          0,
          0
         ],
         "y": [
          0,
          0,
          0,
          0,
          0
         ],
         "z": [
          0,
          0,
          4.05,
          4.05,
          0
         ]
        },
        {
         "line": {
          "color": "#263238",
          "width": 2
         },
         "mode": "lines",
         "name": "lines",
         "showlegend": false,
         "type": "scatter3d",
         "x": [
          0,
          4.05,
          4.05,
          0,
          0
         ],
         "y": [
          4.05,
          4.05,
          4.05,
          4.05,
          4.05
         ],
         "z": [
          0,
          0,
          4.05,
          4.05,
          0
         ]
        },
        {
         "line": {
          "color": "#263238",
          "width": 2
         },
         "mode": "lines",
         "name": "lines",
         "showlegend": false,
         "type": "scatter3d",
         "x": [
          0,
          0,
          0,
          0,
          0
         ],
         "y": [
          0,
          4.05,
          4.05,
          0,
          0
         ],
         "z": [
          0,
          0,
          4.05,
          4.05,
          0
         ]
        },
        {
         "line": {
          "color": "#263238",
          "width": 2
         },
         "mode": "lines",
         "name": "lines",
         "showlegend": false,
         "type": "scatter3d",
         "x": [
          4.05,
          4.05,
          4.05,
          4.05,
          4.05
         ],
         "y": [
          0,
          4.05,
          4.05,
          0,
          0
         ],
         "z": [
          0,
          0,
          4.05,
          4.05,
          0
         ]
        },
        {
         "marker": {
          "color": "#33a02c",
          "line": {
           "color": "#455A64",
           "width": 0.5
          },
          "opacity": 1,
          "size": 10,
          "sizemode": "diameter",
          "sizeref": 750
         },
         "mode": "markers",
         "opacity": 1,
         "type": "scatter3d",
         "x": [
          0,
          2.025,
          0,
          2.025
         ],
         "y": [
          0,
          0,
          2.025,
          2.025
         ],
         "z": [
          0,
          2.025,
          2.025,
          0
         ]
        }
       ],
       "layout": {
        "margin": {
         "b": 10,
         "l": 10,
         "r": 10,
         "t": 10
        },
        "scene": {
         "aspectmode": "data",
         "xaxis": {
          "showbackground": false,
          "showticklabels": false,
          "title": {
           "text": ""
          },
          "zerolinecolor": "#455A64"
         },
         "yaxis": {
          "showbackground": false,
          "showticklabels": false,
          "title": {
           "text": ""
          },
          "zerolinecolor": "#455A64"
         },
         "zaxis": {
          "showbackground": false,
          "showticklabels": false,
          "title": {
           "text": ""
          },
          "zerolinecolor": "#455A64"
         }
        },
        "showlegend": false,
        "template": {
         "data": {
          "bar": [
           {
            "error_x": {
             "color": "#2a3f5f"
            },
            "error_y": {
             "color": "#2a3f5f"
            },
            "marker": {
             "line": {
              "color": "#E5ECF6",
              "width": 0.5
             },
             "pattern": {
              "fillmode": "overlay",
              "size": 10,
              "solidity": 0.2
             }
            },
            "type": "bar"
           }
          ],
          "barpolar": [
           {
            "marker": {
             "line": {
              "color": "#E5ECF6",
              "width": 0.5
             },
             "pattern": {
              "fillmode": "overlay",
              "size": 10,
              "solidity": 0.2
             }
            },
            "type": "barpolar"
           }
          ],
          "carpet": [
           {
            "aaxis": {
             "endlinecolor": "#2a3f5f",
             "gridcolor": "white",
             "linecolor": "white",
             "minorgridcolor": "white",
             "startlinecolor": "#2a3f5f"
            },
            "baxis": {
             "endlinecolor": "#2a3f5f",
             "gridcolor": "white",
             "linecolor": "white",
             "minorgridcolor": "white",
             "startlinecolor": "#2a3f5f"
            },
            "type": "carpet"
           }
          ],
          "choropleth": [
           {
            "colorbar": {
             "outlinewidth": 0,
             "ticks": ""
            },
            "type": "choropleth"
           }
          ],
          "contour": [
           {
            "colorbar": {
             "outlinewidth": 0,
             "ticks": ""
            },
            "colorscale": [
             [
              0,
              "#0d0887"
             ],
             [
              0.1111111111111111,
              "#46039f"
             ],
             [
              0.2222222222222222,
              "#7201a8"
             ],
             [
              0.3333333333333333,
              "#9c179e"
             ],
             [
              0.4444444444444444,
              "#bd3786"
             ],
             [
              0.5555555555555556,
              "#d8576b"
             ],
             [
              0.6666666666666666,
              "#ed7953"
             ],
             [
              0.7777777777777778,
              "#fb9f3a"
             ],
             [
              0.8888888888888888,
              "#fdca26"
             ],
             [
              1,
              "#f0f921"
             ]
            ],
            "type": "contour"
           }
          ],
          "contourcarpet": [
           {
            "colorbar": {
             "outlinewidth": 0,
             "ticks": ""
            },
            "type": "contourcarpet"
           }
          ],
          "heatmap": [
           {
            "colorbar": {
             "outlinewidth": 0,
             "ticks": ""
            },
            "colorscale": [
             [
              0,
              "#0d0887"
             ],
             [
              0.1111111111111111,
              "#46039f"
             ],
             [
              0.2222222222222222,
              "#7201a8"
             ],
             [
              0.3333333333333333,
              "#9c179e"
             ],
             [
              0.4444444444444444,
              "#bd3786"
             ],
             [
              0.5555555555555556,
              "#d8576b"
             ],
             [
              0.6666666666666666,
              "#ed7953"
             ],
             [
              0.7777777777777778,
              "#fb9f3a"
             ],
             [
              0.8888888888888888,
              "#fdca26"
             ],
             [
              1,
              "#f0f921"
             ]
            ],
            "type": "heatmap"
           }
          ],
          "heatmapgl": [
           {
            "colorbar": {
             "outlinewidth": 0,
             "ticks": ""
            },
            "colorscale": [
             [
              0,
              "#0d0887"
             ],
             [
              0.1111111111111111,
              "#46039f"
             ],
             [
              0.2222222222222222,
              "#7201a8"
             ],
             [
              0.3333333333333333,
              "#9c179e"
             ],
             [
              0.4444444444444444,
              "#bd3786"
             ],
             [
              0.5555555555555556,
              "#d8576b"
             ],
             [
              0.6666666666666666,
              "#ed7953"
             ],
             [
              0.7777777777777778,
              "#fb9f3a"
             ],
             [
              0.8888888888888888,
              "#fdca26"
             ],
             [
              1,
              "#f0f921"
             ]
            ],
            "type": "heatmapgl"
           }
          ],
          "histogram": [
           {
            "marker": {
             "pattern": {
              "fillmode": "overlay",
              "size": 10,
              "solidity": 0.2
             }
            },
            "type": "histogram"
           }
          ],
          "histogram2d": [
           {
            "colorbar": {
             "outlinewidth": 0,
             "ticks": ""
            },
            "colorscale": [
             [
              0,
              "#0d0887"
             ],
             [
              0.1111111111111111,
              "#46039f"
             ],
             [
              0.2222222222222222,
              "#7201a8"
             ],
             [
              0.3333333333333333,
              "#9c179e"
             ],
             [
              0.4444444444444444,
              "#bd3786"
             ],
             [
              0.5555555555555556,
              "#d8576b"
             ],
             [
              0.6666666666666666,
              "#ed7953"
             ],
             [
              0.7777777777777778,
              "#fb9f3a"
             ],
             [
              0.8888888888888888,
              "#fdca26"
             ],
             [
              1,
              "#f0f921"
             ]
            ],
            "type": "histogram2d"
           }
          ],
          "histogram2dcontour": [
           {
            "colorbar": {
             "outlinewidth": 0,
             "ticks": ""
            },
            "colorscale": [
             [
              0,
              "#0d0887"
             ],
             [
              0.1111111111111111,
              "#46039f"
             ],
             [
              0.2222222222222222,
              "#7201a8"
             ],
             [
              0.3333333333333333,
              "#9c179e"
             ],
             [
              0.4444444444444444,
              "#bd3786"
             ],
             [
              0.5555555555555556,
              "#d8576b"
             ],
             [
              0.6666666666666666,
              "#ed7953"
             ],
             [
              0.7777777777777778,
              "#fb9f3a"
             ],
             [
              0.8888888888888888,
              "#fdca26"
             ],
             [
              1,
              "#f0f921"
             ]
            ],
            "type": "histogram2dcontour"
           }
          ],
          "mesh3d": [
           {
            "colorbar": {
             "outlinewidth": 0,
             "ticks": ""
            },
            "type": "mesh3d"
           }
          ],
          "parcoords": [
           {
            "line": {
             "colorbar": {
              "outlinewidth": 0,
              "ticks": ""
             }
            },
            "type": "parcoords"
           }
          ],
          "pie": [
           {
            "automargin": true,
            "type": "pie"
           }
          ],
          "scatter": [
           {
            "fillpattern": {
             "fillmode": "overlay",
             "size": 10,
             "solidity": 0.2
            },
            "type": "scatter"
           }
          ],
          "scatter3d": [
           {
            "line": {
             "colorbar": {
              "outlinewidth": 0,
              "ticks": ""
             }
            },
            "marker": {
             "colorbar": {
              "outlinewidth": 0,
              "ticks": ""
             }
            },
            "type": "scatter3d"
           }
          ],
          "scattercarpet": [
           {
            "marker": {
             "colorbar": {
              "outlinewidth": 0,
              "ticks": ""
             }
            },
            "type": "scattercarpet"
           }
          ],
          "scattergeo": [
           {
            "marker": {
             "colorbar": {
              "outlinewidth": 0,
              "ticks": ""
             }
            },
            "type": "scattergeo"
           }
          ],
          "scattergl": [
           {
            "marker": {
             "colorbar": {
              "outlinewidth": 0,
              "ticks": ""
             }
            },
            "type": "scattergl"
           }
          ],
          "scattermapbox": [
           {
            "marker": {
             "colorbar": {
              "outlinewidth": 0,
              "ticks": ""
             }
            },
            "type": "scattermapbox"
           }
          ],
          "scatterpolar": [
           {
            "marker": {
             "colorbar": {
              "outlinewidth": 0,
              "ticks": ""
             }
            },
            "type": "scatterpolar"
           }
          ],
          "scatterpolargl": [
           {
            "marker": {
             "colorbar": {
              "outlinewidth": 0,
              "ticks": ""
             }
            },
            "type": "scatterpolargl"
           }
          ],
          "scatterternary": [
           {
            "marker": {
             "colorbar": {
              "outlinewidth": 0,
              "ticks": ""
             }
            },
            "type": "scatterternary"
           }
          ],
          "surface": [
           {
            "colorbar": {
             "outlinewidth": 0,
             "ticks": ""
            },
            "colorscale": [
             [
              0,
              "#0d0887"
             ],
             [
              0.1111111111111111,
              "#46039f"
             ],
             [
              0.2222222222222222,
              "#7201a8"
             ],
             [
              0.3333333333333333,
              "#9c179e"
             ],
             [
              0.4444444444444444,
              "#bd3786"
             ],
             [
              0.5555555555555556,
              "#d8576b"
             ],
             [
              0.6666666666666666,
              "#ed7953"
             ],
             [
              0.7777777777777778,
              "#fb9f3a"
             ],
             [
              0.8888888888888888,
              "#fdca26"
             ],
             [
              1,
              "#f0f921"
             ]
            ],
            "type": "surface"
           }
          ],
          "table": [
           {
            "cells": {
             "fill": {
              "color": "#EBF0F8"
             },
             "line": {
              "color": "white"
             }
            },
            "header": {
             "fill": {
              "color": "#C8D4E3"
             },
             "line": {
              "color": "white"
             }
            },
            "type": "table"
           }
          ]
         },
         "layout": {
          "annotationdefaults": {
           "arrowcolor": "#2a3f5f",
           "arrowhead": 0,
           "arrowwidth": 1
          },
          "autotypenumbers": "strict",
          "coloraxis": {
           "colorbar": {
            "outlinewidth": 0,
            "ticks": ""
           }
          },
          "colorscale": {
           "diverging": [
            [
             0,
             "#8e0152"
            ],
            [
             0.1,
             "#c51b7d"
            ],
            [
             0.2,
             "#de77ae"
            ],
            [
             0.3,
             "#f1b6da"
            ],
            [
             0.4,
             "#fde0ef"
            ],
            [
             0.5,
             "#f7f7f7"
            ],
            [
             0.6,
             "#e6f5d0"
            ],
            [
             0.7,
             "#b8e186"
            ],
            [
             0.8,
             "#7fbc41"
            ],
            [
             0.9,
             "#4d9221"
            ],
            [
             1,
             "#276419"
            ]
           ],
           "sequential": [
            [
             0,
             "#0d0887"
            ],
            [
             0.1111111111111111,
             "#46039f"
            ],
            [
             0.2222222222222222,
             "#7201a8"
            ],
            [
             0.3333333333333333,
             "#9c179e"
            ],
            [
             0.4444444444444444,
             "#bd3786"
            ],
            [
             0.5555555555555556,
             "#d8576b"
            ],
            [
             0.6666666666666666,
             "#ed7953"
            ],
            [
             0.7777777777777778,
             "#fb9f3a"
            ],
            [
             0.8888888888888888,
             "#fdca26"
            ],
            [
             1,
             "#f0f921"
            ]
           ],
           "sequentialminus": [
            [
             0,
             "#0d0887"
            ],
            [
             0.1111111111111111,
             "#46039f"
            ],
            [
             0.2222222222222222,
             "#7201a8"
            ],
            [
             0.3333333333333333,
             "#9c179e"
            ],
            [
             0.4444444444444444,
             "#bd3786"
            ],
            [
             0.5555555555555556,
             "#d8576b"
            ],
            [
             0.6666666666666666,
             "#ed7953"
            ],
            [
             0.7777777777777778,
             "#fb9f3a"
            ],
            [
             0.8888888888888888,
             "#fdca26"
            ],
            [
             1,
             "#f0f921"
            ]
           ]
          },
          "colorway": [
           "#636efa",
           "#EF553B",
           "#00cc96",
           "#ab63fa",
           "#FFA15A",
           "#19d3f3",
           "#FF6692",
           "#B6E880",
           "#FF97FF",
           "#FECB52"
          ],
          "font": {
           "color": "#2a3f5f"
          },
          "geo": {
           "bgcolor": "white",
           "lakecolor": "white",
           "landcolor": "#E5ECF6",
           "showlakes": true,
           "showland": true,
           "subunitcolor": "white"
          },
          "hoverlabel": {
           "align": "left"
          },
          "hovermode": "closest",
          "mapbox": {
           "style": "light"
          },
          "paper_bgcolor": "white",
          "plot_bgcolor": "#E5ECF6",
          "polar": {
           "angularaxis": {
            "gridcolor": "white",
            "linecolor": "white",
            "ticks": ""
           },
           "bgcolor": "#E5ECF6",
           "radialaxis": {
            "gridcolor": "white",
            "linecolor": "white",
            "ticks": ""
           }
          },
          "scene": {
           "xaxis": {
            "backgroundcolor": "#E5ECF6",
            "gridcolor": "white",
            "gridwidth": 2,
            "linecolor": "white",
            "showbackground": true,
            "ticks": "",
            "zerolinecolor": "white"
           },
           "yaxis": {
            "backgroundcolor": "#E5ECF6",
            "gridcolor": "white",
            "gridwidth": 2,
            "linecolor": "white",
            "showbackground": true,
            "ticks": "",
            "zerolinecolor": "white"
           },
           "zaxis": {
            "backgroundcolor": "#E5ECF6",
            "gridcolor": "white",
            "gridwidth": 2,
            "linecolor": "white",
            "showbackground": true,
            "ticks": "",
            "zerolinecolor": "white"
           }
          },
          "shapedefaults": {
           "line": {
            "color": "#2a3f5f"
           }
          },
          "ternary": {
           "aaxis": {
            "gridcolor": "white",
            "linecolor": "white",
            "ticks": ""
           },
           "baxis": {
            "gridcolor": "white",
            "linecolor": "white",
            "ticks": ""
           },
           "bgcolor": "#E5ECF6",
           "caxis": {
            "gridcolor": "white",
            "linecolor": "white",
            "ticks": ""
           }
          },
          "title": {
           "x": 0.05
          },
          "xaxis": {
           "automargin": true,
           "gridcolor": "white",
           "linecolor": "white",
           "ticks": "",
           "title": {
            "standoff": 15
           },
           "zerolinecolor": "white",
           "zerolinewidth": 2
          },
          "yaxis": {
           "automargin": true,
           "gridcolor": "white",
           "linecolor": "white",
           "ticks": "",
           "title": {
            "standoff": 15
           },
           "zerolinecolor": "white",
           "zerolinewidth": 2
          }
         }
        },
        "width": 700
       }
      },
      "text/html": [
       "<div>                            <div id=\"584da082-a797-4284-ba9b-22eddd053c75\" class=\"plotly-graph-div\" style=\"height:525px; width:700px;\"></div>            <script type=\"text/javascript\">                require([\"plotly\"], function(Plotly) {                    window.PLOTLYENV=window.PLOTLYENV || {};                                    if (document.getElementById(\"584da082-a797-4284-ba9b-22eddd053c75\")) {                    Plotly.newPlot(                        \"584da082-a797-4284-ba9b-22eddd053c75\",                        [{\"line\":{\"color\":\"#263238\",\"width\":2.0},\"mode\":\"lines\",\"name\":\"lines\",\"showlegend\":false,\"x\":[0.0,4.05,4.05,0.0,0.0],\"y\":[0.0,0.0,4.05,4.05,0.0],\"z\":[0.0,0.0,0.0,0.0,0.0],\"type\":\"scatter3d\"},{\"line\":{\"color\":\"#263238\",\"width\":2.0},\"mode\":\"lines\",\"name\":\"lines\",\"showlegend\":false,\"x\":[0.0,4.05,4.05,0.0,0.0],\"y\":[0.0,0.0,4.05,4.05,0.0],\"z\":[4.05,4.05,4.05,4.05,4.05],\"type\":\"scatter3d\"},{\"line\":{\"color\":\"#263238\",\"width\":2.0},\"mode\":\"lines\",\"name\":\"lines\",\"showlegend\":false,\"x\":[0.0,4.05,4.05,0.0,0.0],\"y\":[0.0,0.0,0.0,0.0,0.0],\"z\":[0.0,0.0,4.05,4.05,0.0],\"type\":\"scatter3d\"},{\"line\":{\"color\":\"#263238\",\"width\":2.0},\"mode\":\"lines\",\"name\":\"lines\",\"showlegend\":false,\"x\":[0.0,4.05,4.05,0.0,0.0],\"y\":[4.05,4.05,4.05,4.05,4.05],\"z\":[0.0,0.0,4.05,4.05,0.0],\"type\":\"scatter3d\"},{\"line\":{\"color\":\"#263238\",\"width\":2.0},\"mode\":\"lines\",\"name\":\"lines\",\"showlegend\":false,\"x\":[0.0,0.0,0.0,0.0,0.0],\"y\":[0.0,4.05,4.05,0.0,0.0],\"z\":[0.0,0.0,4.05,4.05,0.0],\"type\":\"scatter3d\"},{\"line\":{\"color\":\"#263238\",\"width\":2.0},\"mode\":\"lines\",\"name\":\"lines\",\"showlegend\":false,\"x\":[4.05,4.05,4.05,4.05,4.05],\"y\":[0.0,4.05,4.05,0.0,0.0],\"z\":[0.0,0.0,4.05,4.05,0.0],\"type\":\"scatter3d\"},{\"marker\":{\"color\":\"#33a02c\",\"line\":{\"color\":\"#455A64\",\"width\":0.5},\"opacity\":1.0,\"size\":10,\"sizemode\":\"diameter\",\"sizeref\":750},\"mode\":\"markers\",\"opacity\":1.0,\"x\":[0.0,2.025,0.0,2.025],\"y\":[0.0,0.0,2.025,2.025],\"z\":[0.0,2.025,2.025,0.0],\"type\":\"scatter3d\"}],                        {\"template\":{\"data\":{\"histogram2dcontour\":[{\"type\":\"histogram2dcontour\",\"colorbar\":{\"outlinewidth\":0,\"ticks\":\"\"},\"colorscale\":[[0.0,\"#0d0887\"],[0.1111111111111111,\"#46039f\"],[0.2222222222222222,\"#7201a8\"],[0.3333333333333333,\"#9c179e\"],[0.4444444444444444,\"#bd3786\"],[0.5555555555555556,\"#d8576b\"],[0.6666666666666666,\"#ed7953\"],[0.7777777777777778,\"#fb9f3a\"],[0.8888888888888888,\"#fdca26\"],[1.0,\"#f0f921\"]]}],\"choropleth\":[{\"type\":\"choropleth\",\"colorbar\":{\"outlinewidth\":0,\"ticks\":\"\"}}],\"histogram2d\":[{\"type\":\"histogram2d\",\"colorbar\":{\"outlinewidth\":0,\"ticks\":\"\"},\"colorscale\":[[0.0,\"#0d0887\"],[0.1111111111111111,\"#46039f\"],[0.2222222222222222,\"#7201a8\"],[0.3333333333333333,\"#9c179e\"],[0.4444444444444444,\"#bd3786\"],[0.5555555555555556,\"#d8576b\"],[0.6666666666666666,\"#ed7953\"],[0.7777777777777778,\"#fb9f3a\"],[0.8888888888888888,\"#fdca26\"],[1.0,\"#f0f921\"]]}],\"heatmap\":[{\"type\":\"heatmap\",\"colorbar\":{\"outlinewidth\":0,\"ticks\":\"\"},\"colorscale\":[[0.0,\"#0d0887\"],[0.1111111111111111,\"#46039f\"],[0.2222222222222222,\"#7201a8\"],[0.3333333333333333,\"#9c179e\"],[0.4444444444444444,\"#bd3786\"],[0.5555555555555556,\"#d8576b\"],[0.6666666666666666,\"#ed7953\"],[0.7777777777777778,\"#fb9f3a\"],[0.8888888888888888,\"#fdca26\"],[1.0,\"#f0f921\"]]}],\"heatmapgl\":[{\"type\":\"heatmapgl\",\"colorbar\":{\"outlinewidth\":0,\"ticks\":\"\"},\"colorscale\":[[0.0,\"#0d0887\"],[0.1111111111111111,\"#46039f\"],[0.2222222222222222,\"#7201a8\"],[0.3333333333333333,\"#9c179e\"],[0.4444444444444444,\"#bd3786\"],[0.5555555555555556,\"#d8576b\"],[0.6666666666666666,\"#ed7953\"],[0.7777777777777778,\"#fb9f3a\"],[0.8888888888888888,\"#fdca26\"],[1.0,\"#f0f921\"]]}],\"contourcarpet\":[{\"type\":\"contourcarpet\",\"colorbar\":{\"outlinewidth\":0,\"ticks\":\"\"}}],\"contour\":[{\"type\":\"contour\",\"colorbar\":{\"outlinewidth\":0,\"ticks\":\"\"},\"colorscale\":[[0.0,\"#0d0887\"],[0.1111111111111111,\"#46039f\"],[0.2222222222222222,\"#7201a8\"],[0.3333333333333333,\"#9c179e\"],[0.4444444444444444,\"#bd3786\"],[0.5555555555555556,\"#d8576b\"],[0.6666666666666666,\"#ed7953\"],[0.7777777777777778,\"#fb9f3a\"],[0.8888888888888888,\"#fdca26\"],[1.0,\"#f0f921\"]]}],\"surface\":[{\"type\":\"surface\",\"colorbar\":{\"outlinewidth\":0,\"ticks\":\"\"},\"colorscale\":[[0.0,\"#0d0887\"],[0.1111111111111111,\"#46039f\"],[0.2222222222222222,\"#7201a8\"],[0.3333333333333333,\"#9c179e\"],[0.4444444444444444,\"#bd3786\"],[0.5555555555555556,\"#d8576b\"],[0.6666666666666666,\"#ed7953\"],[0.7777777777777778,\"#fb9f3a\"],[0.8888888888888888,\"#fdca26\"],[1.0,\"#f0f921\"]]}],\"mesh3d\":[{\"type\":\"mesh3d\",\"colorbar\":{\"outlinewidth\":0,\"ticks\":\"\"}}],\"scatter\":[{\"fillpattern\":{\"fillmode\":\"overlay\",\"size\":10,\"solidity\":0.2},\"type\":\"scatter\"}],\"parcoords\":[{\"type\":\"parcoords\",\"line\":{\"colorbar\":{\"outlinewidth\":0,\"ticks\":\"\"}}}],\"scatterpolargl\":[{\"type\":\"scatterpolargl\",\"marker\":{\"colorbar\":{\"outlinewidth\":0,\"ticks\":\"\"}}}],\"bar\":[{\"error_x\":{\"color\":\"#2a3f5f\"},\"error_y\":{\"color\":\"#2a3f5f\"},\"marker\":{\"line\":{\"color\":\"#E5ECF6\",\"width\":0.5},\"pattern\":{\"fillmode\":\"overlay\",\"size\":10,\"solidity\":0.2}},\"type\":\"bar\"}],\"scattergeo\":[{\"type\":\"scattergeo\",\"marker\":{\"colorbar\":{\"outlinewidth\":0,\"ticks\":\"\"}}}],\"scatterpolar\":[{\"type\":\"scatterpolar\",\"marker\":{\"colorbar\":{\"outlinewidth\":0,\"ticks\":\"\"}}}],\"histogram\":[{\"marker\":{\"pattern\":{\"fillmode\":\"overlay\",\"size\":10,\"solidity\":0.2}},\"type\":\"histogram\"}],\"scattergl\":[{\"type\":\"scattergl\",\"marker\":{\"colorbar\":{\"outlinewidth\":0,\"ticks\":\"\"}}}],\"scatter3d\":[{\"type\":\"scatter3d\",\"line\":{\"colorbar\":{\"outlinewidth\":0,\"ticks\":\"\"}},\"marker\":{\"colorbar\":{\"outlinewidth\":0,\"ticks\":\"\"}}}],\"scattermapbox\":[{\"type\":\"scattermapbox\",\"marker\":{\"colorbar\":{\"outlinewidth\":0,\"ticks\":\"\"}}}],\"scatterternary\":[{\"type\":\"scatterternary\",\"marker\":{\"colorbar\":{\"outlinewidth\":0,\"ticks\":\"\"}}}],\"scattercarpet\":[{\"type\":\"scattercarpet\",\"marker\":{\"colorbar\":{\"outlinewidth\":0,\"ticks\":\"\"}}}],\"carpet\":[{\"aaxis\":{\"endlinecolor\":\"#2a3f5f\",\"gridcolor\":\"white\",\"linecolor\":\"white\",\"minorgridcolor\":\"white\",\"startlinecolor\":\"#2a3f5f\"},\"baxis\":{\"endlinecolor\":\"#2a3f5f\",\"gridcolor\":\"white\",\"linecolor\":\"white\",\"minorgridcolor\":\"white\",\"startlinecolor\":\"#2a3f5f\"},\"type\":\"carpet\"}],\"table\":[{\"cells\":{\"fill\":{\"color\":\"#EBF0F8\"},\"line\":{\"color\":\"white\"}},\"header\":{\"fill\":{\"color\":\"#C8D4E3\"},\"line\":{\"color\":\"white\"}},\"type\":\"table\"}],\"barpolar\":[{\"marker\":{\"line\":{\"color\":\"#E5ECF6\",\"width\":0.5},\"pattern\":{\"fillmode\":\"overlay\",\"size\":10,\"solidity\":0.2}},\"type\":\"barpolar\"}],\"pie\":[{\"automargin\":true,\"type\":\"pie\"}]},\"layout\":{\"autotypenumbers\":\"strict\",\"colorway\":[\"#636efa\",\"#EF553B\",\"#00cc96\",\"#ab63fa\",\"#FFA15A\",\"#19d3f3\",\"#FF6692\",\"#B6E880\",\"#FF97FF\",\"#FECB52\"],\"font\":{\"color\":\"#2a3f5f\"},\"hovermode\":\"closest\",\"hoverlabel\":{\"align\":\"left\"},\"paper_bgcolor\":\"white\",\"plot_bgcolor\":\"#E5ECF6\",\"polar\":{\"bgcolor\":\"#E5ECF6\",\"angularaxis\":{\"gridcolor\":\"white\",\"linecolor\":\"white\",\"ticks\":\"\"},\"radialaxis\":{\"gridcolor\":\"white\",\"linecolor\":\"white\",\"ticks\":\"\"}},\"ternary\":{\"bgcolor\":\"#E5ECF6\",\"aaxis\":{\"gridcolor\":\"white\",\"linecolor\":\"white\",\"ticks\":\"\"},\"baxis\":{\"gridcolor\":\"white\",\"linecolor\":\"white\",\"ticks\":\"\"},\"caxis\":{\"gridcolor\":\"white\",\"linecolor\":\"white\",\"ticks\":\"\"}},\"coloraxis\":{\"colorbar\":{\"outlinewidth\":0,\"ticks\":\"\"}},\"colorscale\":{\"sequential\":[[0.0,\"#0d0887\"],[0.1111111111111111,\"#46039f\"],[0.2222222222222222,\"#7201a8\"],[0.3333333333333333,\"#9c179e\"],[0.4444444444444444,\"#bd3786\"],[0.5555555555555556,\"#d8576b\"],[0.6666666666666666,\"#ed7953\"],[0.7777777777777778,\"#fb9f3a\"],[0.8888888888888888,\"#fdca26\"],[1.0,\"#f0f921\"]],\"sequentialminus\":[[0.0,\"#0d0887\"],[0.1111111111111111,\"#46039f\"],[0.2222222222222222,\"#7201a8\"],[0.3333333333333333,\"#9c179e\"],[0.4444444444444444,\"#bd3786\"],[0.5555555555555556,\"#d8576b\"],[0.6666666666666666,\"#ed7953\"],[0.7777777777777778,\"#fb9f3a\"],[0.8888888888888888,\"#fdca26\"],[1.0,\"#f0f921\"]],\"diverging\":[[0,\"#8e0152\"],[0.1,\"#c51b7d\"],[0.2,\"#de77ae\"],[0.3,\"#f1b6da\"],[0.4,\"#fde0ef\"],[0.5,\"#f7f7f7\"],[0.6,\"#e6f5d0\"],[0.7,\"#b8e186\"],[0.8,\"#7fbc41\"],[0.9,\"#4d9221\"],[1,\"#276419\"]]},\"xaxis\":{\"gridcolor\":\"white\",\"linecolor\":\"white\",\"ticks\":\"\",\"title\":{\"standoff\":15},\"zerolinecolor\":\"white\",\"automargin\":true,\"zerolinewidth\":2},\"yaxis\":{\"gridcolor\":\"white\",\"linecolor\":\"white\",\"ticks\":\"\",\"title\":{\"standoff\":15},\"zerolinecolor\":\"white\",\"automargin\":true,\"zerolinewidth\":2},\"scene\":{\"xaxis\":{\"backgroundcolor\":\"#E5ECF6\",\"gridcolor\":\"white\",\"linecolor\":\"white\",\"showbackground\":true,\"ticks\":\"\",\"zerolinecolor\":\"white\",\"gridwidth\":2},\"yaxis\":{\"backgroundcolor\":\"#E5ECF6\",\"gridcolor\":\"white\",\"linecolor\":\"white\",\"showbackground\":true,\"ticks\":\"\",\"zerolinecolor\":\"white\",\"gridwidth\":2},\"zaxis\":{\"backgroundcolor\":\"#E5ECF6\",\"gridcolor\":\"white\",\"linecolor\":\"white\",\"showbackground\":true,\"ticks\":\"\",\"zerolinecolor\":\"white\",\"gridwidth\":2}},\"shapedefaults\":{\"line\":{\"color\":\"#2a3f5f\"}},\"annotationdefaults\":{\"arrowcolor\":\"#2a3f5f\",\"arrowhead\":0,\"arrowwidth\":1},\"geo\":{\"bgcolor\":\"white\",\"landcolor\":\"#E5ECF6\",\"subunitcolor\":\"white\",\"showland\":true,\"showlakes\":true,\"lakecolor\":\"white\"},\"title\":{\"x\":0.05},\"mapbox\":{\"style\":\"light\"}}},\"scene\":{\"xaxis\":{\"title\":{\"text\":\"\"},\"showticklabels\":false,\"showbackground\":false,\"zerolinecolor\":\"#455A64\"},\"yaxis\":{\"title\":{\"text\":\"\"},\"showticklabels\":false,\"showbackground\":false,\"zerolinecolor\":\"#455A64\"},\"zaxis\":{\"title\":{\"text\":\"\"},\"showticklabels\":false,\"showbackground\":false,\"zerolinecolor\":\"#455A64\"},\"aspectmode\":\"data\"},\"margin\":{\"r\":10,\"l\":10,\"b\":10,\"t\":10},\"width\":700,\"showlegend\":false},                        {\"responsive\": true}                    ).then(function(){\n",
       "                            \n",
       "var gd = document.getElementById('584da082-a797-4284-ba9b-22eddd053c75');\n",
       "var x = new MutationObserver(function (mutations, observer) {{\n",
       "        var display = window.getComputedStyle(gd).display;\n",
       "        if (!display || display === 'none') {{\n",
       "            console.log([gd, 'removed!']);\n",
       "            Plotly.purge(gd);\n",
       "            observer.disconnect();\n",
       "        }}\n",
       "}});\n",
       "\n",
       "// Listen for the removal of the full notebook cells\n",
       "var notebookContainer = gd.closest('#notebook-container');\n",
       "if (notebookContainer) {{\n",
       "    x.observe(notebookContainer, {childList: true});\n",
       "}}\n",
       "\n",
       "// Listen for the clearing of the current output cell\n",
       "var outputEl = gd.closest('.output');\n",
       "if (outputEl) {{\n",
       "    x.observe(outputEl, {childList: true});\n",
       "}}\n",
       "\n",
       "                        })                };                });            </script>        </div>"
      ]
     },
     "metadata": {},
     "output_type": "display_data"
    }
   ],
   "source": [
    "struct_Al.show.all()"
   ]
  },
  {
   "cell_type": "markdown",
   "id": "3e0f6b30-7f4b-4d6a-aeca-a2c72d78ae60",
   "metadata": {},
   "source": [
    "We create a vacancy by deleting one atom"
   ]
  },
  {
   "cell_type": "code",
   "execution_count": 8,
   "id": "39d31155-30e2-4b02-91a6-35a25b04c8d4",
   "metadata": {
    "scrolled": true
   },
   "outputs": [],
   "source": [
    "s2 = struct_Al.delete(indices=[0], copy_structure=True)"
   ]
  },
  {
   "cell_type": "code",
   "execution_count": 10,
   "id": "01ca7715",
   "metadata": {},
   "outputs": [
    {
     "ename": "AttributeError",
     "evalue": "'NoneType' object has no attribute 'show'",
     "output_type": "error",
     "traceback": [
      "\u001b[0;31m---------------------------------------------------------------------------\u001b[0m",
      "\u001b[0;31mAttributeError\u001b[0m                            Traceback (most recent call last)",
      "Cell \u001b[0;32mIn[10], line 1\u001b[0m\n\u001b[0;32m----> 1\u001b[0m \u001b[43ms2\u001b[49m\u001b[38;5;241;43m.\u001b[39;49m\u001b[43mshow\u001b[49m\u001b[38;5;241m.\u001b[39mall()\n",
      "\u001b[0;31mAttributeError\u001b[0m: 'NoneType' object has no attribute 'show'"
     ]
    }
   ],
   "source": [
    "s2.show.all()"
   ]
  },
  {
   "cell_type": "markdown",
   "id": "717626e5-3672-470e-a9d9-2878310268ca",
   "metadata": {},
   "source": [
    "We can visualise the structure"
   ]
  },
  {
   "cell_type": "code",
   "execution_count": 6,
   "id": "a70df0e4-caa4-40c6-82b8-a1f32d477479",
   "metadata": {
    "scrolled": true
   },
   "outputs": [
    {
     "data": {
      "application/vnd.plotly.v1+json": {
       "config": {
        "plotlyServerURL": "https://plot.ly"
       },
       "data": [
        {
         "line": {
          "color": "#263238",
          "width": 2
         },
         "mode": "lines",
         "name": "lines",
         "showlegend": false,
         "type": "scatter3d",
         "x": [
          0,
          4.05,
          4.05,
          0,
          0
         ],
         "y": [
          0,
          0,
          4.05,
          4.05,
          0
         ],
         "z": [
          0,
          0,
          0,
          0,
          0
         ]
        },
        {
         "line": {
          "color": "#263238",
          "width": 2
         },
         "mode": "lines",
         "name": "lines",
         "showlegend": false,
         "type": "scatter3d",
         "x": [
          0,
          4.05,
          4.05,
          0,
          0
         ],
         "y": [
          0,
          0,
          4.05,
          4.05,
          0
         ],
         "z": [
          4.05,
          4.05,
          4.05,
          4.05,
          4.05
         ]
        },
        {
         "line": {
          "color": "#263238",
          "width": 2
         },
         "mode": "lines",
         "name": "lines",
         "showlegend": false,
         "type": "scatter3d",
         "x": [
          0,
          4.05,
          4.05,
          0,
          0
         ],
         "y": [
          0,
          0,
          0,
          0,
          0
         ],
         "z": [
          0,
          0,
          4.05,
          4.05,
          0
         ]
        },
        {
         "line": {
          "color": "#263238",
          "width": 2
         },
         "mode": "lines",
         "name": "lines",
         "showlegend": false,
         "type": "scatter3d",
         "x": [
          0,
          4.05,
          4.05,
          0,
          0
         ],
         "y": [
          4.05,
          4.05,
          4.05,
          4.05,
          4.05
         ],
         "z": [
          0,
          0,
          4.05,
          4.05,
          0
         ]
        },
        {
         "line": {
          "color": "#263238",
          "width": 2
         },
         "mode": "lines",
         "name": "lines",
         "showlegend": false,
         "type": "scatter3d",
         "x": [
          0,
          0,
          0,
          0,
          0
         ],
         "y": [
          0,
          4.05,
          4.05,
          0,
          0
         ],
         "z": [
          0,
          0,
          4.05,
          4.05,
          0
         ]
        },
        {
         "line": {
          "color": "#263238",
          "width": 2
         },
         "mode": "lines",
         "name": "lines",
         "showlegend": false,
         "type": "scatter3d",
         "x": [
          4.05,
          4.05,
          4.05,
          4.05,
          4.05
         ],
         "y": [
          0,
          4.05,
          4.05,
          0,
          0
         ],
         "z": [
          0,
          0,
          4.05,
          4.05,
          0
         ]
        },
        {
         "marker": {
          "color": "#33a02c",
          "line": {
           "color": "#455A64",
           "width": 0.5
          },
          "opacity": 1,
          "size": 10,
          "sizemode": "diameter",
          "sizeref": 750
         },
         "mode": "markers",
         "opacity": 1,
         "type": "scatter3d",
         "x": [
          2.025,
          0,
          2.025
         ],
         "y": [
          0,
          2.025,
          2.025
         ],
         "z": [
          2.025,
          2.025,
          0
         ]
        }
       ],
       "layout": {
        "margin": {
         "b": 10,
         "l": 10,
         "r": 10,
         "t": 10
        },
        "scene": {
         "aspectmode": "data",
         "xaxis": {
          "showbackground": false,
          "showticklabels": false,
          "title": {
           "text": ""
          },
          "zerolinecolor": "#455A64"
         },
         "yaxis": {
          "showbackground": false,
          "showticklabels": false,
          "title": {
           "text": ""
          },
          "zerolinecolor": "#455A64"
         },
         "zaxis": {
          "showbackground": false,
          "showticklabels": false,
          "title": {
           "text": ""
          },
          "zerolinecolor": "#455A64"
         }
        },
        "showlegend": false,
        "template": {
         "data": {
          "bar": [
           {
            "error_x": {
             "color": "#2a3f5f"
            },
            "error_y": {
             "color": "#2a3f5f"
            },
            "marker": {
             "line": {
              "color": "#E5ECF6",
              "width": 0.5
             },
             "pattern": {
              "fillmode": "overlay",
              "size": 10,
              "solidity": 0.2
             }
            },
            "type": "bar"
           }
          ],
          "barpolar": [
           {
            "marker": {
             "line": {
              "color": "#E5ECF6",
              "width": 0.5
             },
             "pattern": {
              "fillmode": "overlay",
              "size": 10,
              "solidity": 0.2
             }
            },
            "type": "barpolar"
           }
          ],
          "carpet": [
           {
            "aaxis": {
             "endlinecolor": "#2a3f5f",
             "gridcolor": "white",
             "linecolor": "white",
             "minorgridcolor": "white",
             "startlinecolor": "#2a3f5f"
            },
            "baxis": {
             "endlinecolor": "#2a3f5f",
             "gridcolor": "white",
             "linecolor": "white",
             "minorgridcolor": "white",
             "startlinecolor": "#2a3f5f"
            },
            "type": "carpet"
           }
          ],
          "choropleth": [
           {
            "colorbar": {
             "outlinewidth": 0,
             "ticks": ""
            },
            "type": "choropleth"
           }
          ],
          "contour": [
           {
            "colorbar": {
             "outlinewidth": 0,
             "ticks": ""
            },
            "colorscale": [
             [
              0,
              "#0d0887"
             ],
             [
              0.1111111111111111,
              "#46039f"
             ],
             [
              0.2222222222222222,
              "#7201a8"
             ],
             [
              0.3333333333333333,
              "#9c179e"
             ],
             [
              0.4444444444444444,
              "#bd3786"
             ],
             [
              0.5555555555555556,
              "#d8576b"
             ],
             [
              0.6666666666666666,
              "#ed7953"
             ],
             [
              0.7777777777777778,
              "#fb9f3a"
             ],
             [
              0.8888888888888888,
              "#fdca26"
             ],
             [
              1,
              "#f0f921"
             ]
            ],
            "type": "contour"
           }
          ],
          "contourcarpet": [
           {
            "colorbar": {
             "outlinewidth": 0,
             "ticks": ""
            },
            "type": "contourcarpet"
           }
          ],
          "heatmap": [
           {
            "colorbar": {
             "outlinewidth": 0,
             "ticks": ""
            },
            "colorscale": [
             [
              0,
              "#0d0887"
             ],
             [
              0.1111111111111111,
              "#46039f"
             ],
             [
              0.2222222222222222,
              "#7201a8"
             ],
             [
              0.3333333333333333,
              "#9c179e"
             ],
             [
              0.4444444444444444,
              "#bd3786"
             ],
             [
              0.5555555555555556,
              "#d8576b"
             ],
             [
              0.6666666666666666,
              "#ed7953"
             ],
             [
              0.7777777777777778,
              "#fb9f3a"
             ],
             [
              0.8888888888888888,
              "#fdca26"
             ],
             [
              1,
              "#f0f921"
             ]
            ],
            "type": "heatmap"
           }
          ],
          "heatmapgl": [
           {
            "colorbar": {
             "outlinewidth": 0,
             "ticks": ""
            },
            "colorscale": [
             [
              0,
              "#0d0887"
             ],
             [
              0.1111111111111111,
              "#46039f"
             ],
             [
              0.2222222222222222,
              "#7201a8"
             ],
             [
              0.3333333333333333,
              "#9c179e"
             ],
             [
              0.4444444444444444,
              "#bd3786"
             ],
             [
              0.5555555555555556,
              "#d8576b"
             ],
             [
              0.6666666666666666,
              "#ed7953"
             ],
             [
              0.7777777777777778,
              "#fb9f3a"
             ],
             [
              0.8888888888888888,
              "#fdca26"
             ],
             [
              1,
              "#f0f921"
             ]
            ],
            "type": "heatmapgl"
           }
          ],
          "histogram": [
           {
            "marker": {
             "pattern": {
              "fillmode": "overlay",
              "size": 10,
              "solidity": 0.2
             }
            },
            "type": "histogram"
           }
          ],
          "histogram2d": [
           {
            "colorbar": {
             "outlinewidth": 0,
             "ticks": ""
            },
            "colorscale": [
             [
              0,
              "#0d0887"
             ],
             [
              0.1111111111111111,
              "#46039f"
             ],
             [
              0.2222222222222222,
              "#7201a8"
             ],
             [
              0.3333333333333333,
              "#9c179e"
             ],
             [
              0.4444444444444444,
              "#bd3786"
             ],
             [
              0.5555555555555556,
              "#d8576b"
             ],
             [
              0.6666666666666666,
              "#ed7953"
             ],
             [
              0.7777777777777778,
              "#fb9f3a"
             ],
             [
              0.8888888888888888,
              "#fdca26"
             ],
             [
              1,
              "#f0f921"
             ]
            ],
            "type": "histogram2d"
           }
          ],
          "histogram2dcontour": [
           {
            "colorbar": {
             "outlinewidth": 0,
             "ticks": ""
            },
            "colorscale": [
             [
              0,
              "#0d0887"
             ],
             [
              0.1111111111111111,
              "#46039f"
             ],
             [
              0.2222222222222222,
              "#7201a8"
             ],
             [
              0.3333333333333333,
              "#9c179e"
             ],
             [
              0.4444444444444444,
              "#bd3786"
             ],
             [
              0.5555555555555556,
              "#d8576b"
             ],
             [
              0.6666666666666666,
              "#ed7953"
             ],
             [
              0.7777777777777778,
              "#fb9f3a"
             ],
             [
              0.8888888888888888,
              "#fdca26"
             ],
             [
              1,
              "#f0f921"
             ]
            ],
            "type": "histogram2dcontour"
           }
          ],
          "mesh3d": [
           {
            "colorbar": {
             "outlinewidth": 0,
             "ticks": ""
            },
            "type": "mesh3d"
           }
          ],
          "parcoords": [
           {
            "line": {
             "colorbar": {
              "outlinewidth": 0,
              "ticks": ""
             }
            },
            "type": "parcoords"
           }
          ],
          "pie": [
           {
            "automargin": true,
            "type": "pie"
           }
          ],
          "scatter": [
           {
            "fillpattern": {
             "fillmode": "overlay",
             "size": 10,
             "solidity": 0.2
            },
            "type": "scatter"
           }
          ],
          "scatter3d": [
           {
            "line": {
             "colorbar": {
              "outlinewidth": 0,
              "ticks": ""
             }
            },
            "marker": {
             "colorbar": {
              "outlinewidth": 0,
              "ticks": ""
             }
            },
            "type": "scatter3d"
           }
          ],
          "scattercarpet": [
           {
            "marker": {
             "colorbar": {
              "outlinewidth": 0,
              "ticks": ""
             }
            },
            "type": "scattercarpet"
           }
          ],
          "scattergeo": [
           {
            "marker": {
             "colorbar": {
              "outlinewidth": 0,
              "ticks": ""
             }
            },
            "type": "scattergeo"
           }
          ],
          "scattergl": [
           {
            "marker": {
             "colorbar": {
              "outlinewidth": 0,
              "ticks": ""
             }
            },
            "type": "scattergl"
           }
          ],
          "scattermapbox": [
           {
            "marker": {
             "colorbar": {
              "outlinewidth": 0,
              "ticks": ""
             }
            },
            "type": "scattermapbox"
           }
          ],
          "scatterpolar": [
           {
            "marker": {
             "colorbar": {
              "outlinewidth": 0,
              "ticks": ""
             }
            },
            "type": "scatterpolar"
           }
          ],
          "scatterpolargl": [
           {
            "marker": {
             "colorbar": {
              "outlinewidth": 0,
              "ticks": ""
             }
            },
            "type": "scatterpolargl"
           }
          ],
          "scatterternary": [
           {
            "marker": {
             "colorbar": {
              "outlinewidth": 0,
              "ticks": ""
             }
            },
            "type": "scatterternary"
           }
          ],
          "surface": [
           {
            "colorbar": {
             "outlinewidth": 0,
             "ticks": ""
            },
            "colorscale": [
             [
              0,
              "#0d0887"
             ],
             [
              0.1111111111111111,
              "#46039f"
             ],
             [
              0.2222222222222222,
              "#7201a8"
             ],
             [
              0.3333333333333333,
              "#9c179e"
             ],
             [
              0.4444444444444444,
              "#bd3786"
             ],
             [
              0.5555555555555556,
              "#d8576b"
             ],
             [
              0.6666666666666666,
              "#ed7953"
             ],
             [
              0.7777777777777778,
              "#fb9f3a"
             ],
             [
              0.8888888888888888,
              "#fdca26"
             ],
             [
              1,
              "#f0f921"
             ]
            ],
            "type": "surface"
           }
          ],
          "table": [
           {
            "cells": {
             "fill": {
              "color": "#EBF0F8"
             },
             "line": {
              "color": "white"
             }
            },
            "header": {
             "fill": {
              "color": "#C8D4E3"
             },
             "line": {
              "color": "white"
             }
            },
            "type": "table"
           }
          ]
         },
         "layout": {
          "annotationdefaults": {
           "arrowcolor": "#2a3f5f",
           "arrowhead": 0,
           "arrowwidth": 1
          },
          "autotypenumbers": "strict",
          "coloraxis": {
           "colorbar": {
            "outlinewidth": 0,
            "ticks": ""
           }
          },
          "colorscale": {
           "diverging": [
            [
             0,
             "#8e0152"
            ],
            [
             0.1,
             "#c51b7d"
            ],
            [
             0.2,
             "#de77ae"
            ],
            [
             0.3,
             "#f1b6da"
            ],
            [
             0.4,
             "#fde0ef"
            ],
            [
             0.5,
             "#f7f7f7"
            ],
            [
             0.6,
             "#e6f5d0"
            ],
            [
             0.7,
             "#b8e186"
            ],
            [
             0.8,
             "#7fbc41"
            ],
            [
             0.9,
             "#4d9221"
            ],
            [
             1,
             "#276419"
            ]
           ],
           "sequential": [
            [
             0,
             "#0d0887"
            ],
            [
             0.1111111111111111,
             "#46039f"
            ],
            [
             0.2222222222222222,
             "#7201a8"
            ],
            [
             0.3333333333333333,
             "#9c179e"
            ],
            [
             0.4444444444444444,
             "#bd3786"
            ],
            [
             0.5555555555555556,
             "#d8576b"
            ],
            [
             0.6666666666666666,
             "#ed7953"
            ],
            [
             0.7777777777777778,
             "#fb9f3a"
            ],
            [
             0.8888888888888888,
             "#fdca26"
            ],
            [
             1,
             "#f0f921"
            ]
           ],
           "sequentialminus": [
            [
             0,
             "#0d0887"
            ],
            [
             0.1111111111111111,
             "#46039f"
            ],
            [
             0.2222222222222222,
             "#7201a8"
            ],
            [
             0.3333333333333333,
             "#9c179e"
            ],
            [
             0.4444444444444444,
             "#bd3786"
            ],
            [
             0.5555555555555556,
             "#d8576b"
            ],
            [
             0.6666666666666666,
             "#ed7953"
            ],
            [
             0.7777777777777778,
             "#fb9f3a"
            ],
            [
             0.8888888888888888,
             "#fdca26"
            ],
            [
             1,
             "#f0f921"
            ]
           ]
          },
          "colorway": [
           "#636efa",
           "#EF553B",
           "#00cc96",
           "#ab63fa",
           "#FFA15A",
           "#19d3f3",
           "#FF6692",
           "#B6E880",
           "#FF97FF",
           "#FECB52"
          ],
          "font": {
           "color": "#2a3f5f"
          },
          "geo": {
           "bgcolor": "white",
           "lakecolor": "white",
           "landcolor": "#E5ECF6",
           "showlakes": true,
           "showland": true,
           "subunitcolor": "white"
          },
          "hoverlabel": {
           "align": "left"
          },
          "hovermode": "closest",
          "mapbox": {
           "style": "light"
          },
          "paper_bgcolor": "white",
          "plot_bgcolor": "#E5ECF6",
          "polar": {
           "angularaxis": {
            "gridcolor": "white",
            "linecolor": "white",
            "ticks": ""
           },
           "bgcolor": "#E5ECF6",
           "radialaxis": {
            "gridcolor": "white",
            "linecolor": "white",
            "ticks": ""
           }
          },
          "scene": {
           "xaxis": {
            "backgroundcolor": "#E5ECF6",
            "gridcolor": "white",
            "gridwidth": 2,
            "linecolor": "white",
            "showbackground": true,
            "ticks": "",
            "zerolinecolor": "white"
           },
           "yaxis": {
            "backgroundcolor": "#E5ECF6",
            "gridcolor": "white",
            "gridwidth": 2,
            "linecolor": "white",
            "showbackground": true,
            "ticks": "",
            "zerolinecolor": "white"
           },
           "zaxis": {
            "backgroundcolor": "#E5ECF6",
            "gridcolor": "white",
            "gridwidth": 2,
            "linecolor": "white",
            "showbackground": true,
            "ticks": "",
            "zerolinecolor": "white"
           }
          },
          "shapedefaults": {
           "line": {
            "color": "#2a3f5f"
           }
          },
          "ternary": {
           "aaxis": {
            "gridcolor": "white",
            "linecolor": "white",
            "ticks": ""
           },
           "baxis": {
            "gridcolor": "white",
            "linecolor": "white",
            "ticks": ""
           },
           "bgcolor": "#E5ECF6",
           "caxis": {
            "gridcolor": "white",
            "linecolor": "white",
            "ticks": ""
           }
          },
          "title": {
           "x": 0.05
          },
          "xaxis": {
           "automargin": true,
           "gridcolor": "white",
           "linecolor": "white",
           "ticks": "",
           "title": {
            "standoff": 15
           },
           "zerolinecolor": "white",
           "zerolinewidth": 2
          },
          "yaxis": {
           "automargin": true,
           "gridcolor": "white",
           "linecolor": "white",
           "ticks": "",
           "title": {
            "standoff": 15
           },
           "zerolinecolor": "white",
           "zerolinewidth": 2
          }
         }
        },
        "width": 700
       }
      },
      "text/html": [
       "<div>                            <div id=\"00ac945e-d824-4bad-a77f-a01a87882381\" class=\"plotly-graph-div\" style=\"height:525px; width:700px;\"></div>            <script type=\"text/javascript\">                require([\"plotly\"], function(Plotly) {                    window.PLOTLYENV=window.PLOTLYENV || {};                                    if (document.getElementById(\"00ac945e-d824-4bad-a77f-a01a87882381\")) {                    Plotly.newPlot(                        \"00ac945e-d824-4bad-a77f-a01a87882381\",                        [{\"line\":{\"color\":\"#263238\",\"width\":2.0},\"mode\":\"lines\",\"name\":\"lines\",\"showlegend\":false,\"x\":[0.0,4.05,4.05,0.0,0.0],\"y\":[0.0,0.0,4.05,4.05,0.0],\"z\":[0.0,0.0,0.0,0.0,0.0],\"type\":\"scatter3d\"},{\"line\":{\"color\":\"#263238\",\"width\":2.0},\"mode\":\"lines\",\"name\":\"lines\",\"showlegend\":false,\"x\":[0.0,4.05,4.05,0.0,0.0],\"y\":[0.0,0.0,4.05,4.05,0.0],\"z\":[4.05,4.05,4.05,4.05,4.05],\"type\":\"scatter3d\"},{\"line\":{\"color\":\"#263238\",\"width\":2.0},\"mode\":\"lines\",\"name\":\"lines\",\"showlegend\":false,\"x\":[0.0,4.05,4.05,0.0,0.0],\"y\":[0.0,0.0,0.0,0.0,0.0],\"z\":[0.0,0.0,4.05,4.05,0.0],\"type\":\"scatter3d\"},{\"line\":{\"color\":\"#263238\",\"width\":2.0},\"mode\":\"lines\",\"name\":\"lines\",\"showlegend\":false,\"x\":[0.0,4.05,4.05,0.0,0.0],\"y\":[4.05,4.05,4.05,4.05,4.05],\"z\":[0.0,0.0,4.05,4.05,0.0],\"type\":\"scatter3d\"},{\"line\":{\"color\":\"#263238\",\"width\":2.0},\"mode\":\"lines\",\"name\":\"lines\",\"showlegend\":false,\"x\":[0.0,0.0,0.0,0.0,0.0],\"y\":[0.0,4.05,4.05,0.0,0.0],\"z\":[0.0,0.0,4.05,4.05,0.0],\"type\":\"scatter3d\"},{\"line\":{\"color\":\"#263238\",\"width\":2.0},\"mode\":\"lines\",\"name\":\"lines\",\"showlegend\":false,\"x\":[4.05,4.05,4.05,4.05,4.05],\"y\":[0.0,4.05,4.05,0.0,0.0],\"z\":[0.0,0.0,4.05,4.05,0.0],\"type\":\"scatter3d\"},{\"marker\":{\"color\":\"#33a02c\",\"line\":{\"color\":\"#455A64\",\"width\":0.5},\"opacity\":1.0,\"size\":10,\"sizemode\":\"diameter\",\"sizeref\":750},\"mode\":\"markers\",\"opacity\":1.0,\"x\":[2.025,0.0,2.025],\"y\":[0.0,2.025,2.025],\"z\":[2.025,2.025,0.0],\"type\":\"scatter3d\"}],                        {\"template\":{\"data\":{\"histogram2dcontour\":[{\"type\":\"histogram2dcontour\",\"colorbar\":{\"outlinewidth\":0,\"ticks\":\"\"},\"colorscale\":[[0.0,\"#0d0887\"],[0.1111111111111111,\"#46039f\"],[0.2222222222222222,\"#7201a8\"],[0.3333333333333333,\"#9c179e\"],[0.4444444444444444,\"#bd3786\"],[0.5555555555555556,\"#d8576b\"],[0.6666666666666666,\"#ed7953\"],[0.7777777777777778,\"#fb9f3a\"],[0.8888888888888888,\"#fdca26\"],[1.0,\"#f0f921\"]]}],\"choropleth\":[{\"type\":\"choropleth\",\"colorbar\":{\"outlinewidth\":0,\"ticks\":\"\"}}],\"histogram2d\":[{\"type\":\"histogram2d\",\"colorbar\":{\"outlinewidth\":0,\"ticks\":\"\"},\"colorscale\":[[0.0,\"#0d0887\"],[0.1111111111111111,\"#46039f\"],[0.2222222222222222,\"#7201a8\"],[0.3333333333333333,\"#9c179e\"],[0.4444444444444444,\"#bd3786\"],[0.5555555555555556,\"#d8576b\"],[0.6666666666666666,\"#ed7953\"],[0.7777777777777778,\"#fb9f3a\"],[0.8888888888888888,\"#fdca26\"],[1.0,\"#f0f921\"]]}],\"heatmap\":[{\"type\":\"heatmap\",\"colorbar\":{\"outlinewidth\":0,\"ticks\":\"\"},\"colorscale\":[[0.0,\"#0d0887\"],[0.1111111111111111,\"#46039f\"],[0.2222222222222222,\"#7201a8\"],[0.3333333333333333,\"#9c179e\"],[0.4444444444444444,\"#bd3786\"],[0.5555555555555556,\"#d8576b\"],[0.6666666666666666,\"#ed7953\"],[0.7777777777777778,\"#fb9f3a\"],[0.8888888888888888,\"#fdca26\"],[1.0,\"#f0f921\"]]}],\"heatmapgl\":[{\"type\":\"heatmapgl\",\"colorbar\":{\"outlinewidth\":0,\"ticks\":\"\"},\"colorscale\":[[0.0,\"#0d0887\"],[0.1111111111111111,\"#46039f\"],[0.2222222222222222,\"#7201a8\"],[0.3333333333333333,\"#9c179e\"],[0.4444444444444444,\"#bd3786\"],[0.5555555555555556,\"#d8576b\"],[0.6666666666666666,\"#ed7953\"],[0.7777777777777778,\"#fb9f3a\"],[0.8888888888888888,\"#fdca26\"],[1.0,\"#f0f921\"]]}],\"contourcarpet\":[{\"type\":\"contourcarpet\",\"colorbar\":{\"outlinewidth\":0,\"ticks\":\"\"}}],\"contour\":[{\"type\":\"contour\",\"colorbar\":{\"outlinewidth\":0,\"ticks\":\"\"},\"colorscale\":[[0.0,\"#0d0887\"],[0.1111111111111111,\"#46039f\"],[0.2222222222222222,\"#7201a8\"],[0.3333333333333333,\"#9c179e\"],[0.4444444444444444,\"#bd3786\"],[0.5555555555555556,\"#d8576b\"],[0.6666666666666666,\"#ed7953\"],[0.7777777777777778,\"#fb9f3a\"],[0.8888888888888888,\"#fdca26\"],[1.0,\"#f0f921\"]]}],\"surface\":[{\"type\":\"surface\",\"colorbar\":{\"outlinewidth\":0,\"ticks\":\"\"},\"colorscale\":[[0.0,\"#0d0887\"],[0.1111111111111111,\"#46039f\"],[0.2222222222222222,\"#7201a8\"],[0.3333333333333333,\"#9c179e\"],[0.4444444444444444,\"#bd3786\"],[0.5555555555555556,\"#d8576b\"],[0.6666666666666666,\"#ed7953\"],[0.7777777777777778,\"#fb9f3a\"],[0.8888888888888888,\"#fdca26\"],[1.0,\"#f0f921\"]]}],\"mesh3d\":[{\"type\":\"mesh3d\",\"colorbar\":{\"outlinewidth\":0,\"ticks\":\"\"}}],\"scatter\":[{\"fillpattern\":{\"fillmode\":\"overlay\",\"size\":10,\"solidity\":0.2},\"type\":\"scatter\"}],\"parcoords\":[{\"type\":\"parcoords\",\"line\":{\"colorbar\":{\"outlinewidth\":0,\"ticks\":\"\"}}}],\"scatterpolargl\":[{\"type\":\"scatterpolargl\",\"marker\":{\"colorbar\":{\"outlinewidth\":0,\"ticks\":\"\"}}}],\"bar\":[{\"error_x\":{\"color\":\"#2a3f5f\"},\"error_y\":{\"color\":\"#2a3f5f\"},\"marker\":{\"line\":{\"color\":\"#E5ECF6\",\"width\":0.5},\"pattern\":{\"fillmode\":\"overlay\",\"size\":10,\"solidity\":0.2}},\"type\":\"bar\"}],\"scattergeo\":[{\"type\":\"scattergeo\",\"marker\":{\"colorbar\":{\"outlinewidth\":0,\"ticks\":\"\"}}}],\"scatterpolar\":[{\"type\":\"scatterpolar\",\"marker\":{\"colorbar\":{\"outlinewidth\":0,\"ticks\":\"\"}}}],\"histogram\":[{\"marker\":{\"pattern\":{\"fillmode\":\"overlay\",\"size\":10,\"solidity\":0.2}},\"type\":\"histogram\"}],\"scattergl\":[{\"type\":\"scattergl\",\"marker\":{\"colorbar\":{\"outlinewidth\":0,\"ticks\":\"\"}}}],\"scatter3d\":[{\"type\":\"scatter3d\",\"line\":{\"colorbar\":{\"outlinewidth\":0,\"ticks\":\"\"}},\"marker\":{\"colorbar\":{\"outlinewidth\":0,\"ticks\":\"\"}}}],\"scattermapbox\":[{\"type\":\"scattermapbox\",\"marker\":{\"colorbar\":{\"outlinewidth\":0,\"ticks\":\"\"}}}],\"scatterternary\":[{\"type\":\"scatterternary\",\"marker\":{\"colorbar\":{\"outlinewidth\":0,\"ticks\":\"\"}}}],\"scattercarpet\":[{\"type\":\"scattercarpet\",\"marker\":{\"colorbar\":{\"outlinewidth\":0,\"ticks\":\"\"}}}],\"carpet\":[{\"aaxis\":{\"endlinecolor\":\"#2a3f5f\",\"gridcolor\":\"white\",\"linecolor\":\"white\",\"minorgridcolor\":\"white\",\"startlinecolor\":\"#2a3f5f\"},\"baxis\":{\"endlinecolor\":\"#2a3f5f\",\"gridcolor\":\"white\",\"linecolor\":\"white\",\"minorgridcolor\":\"white\",\"startlinecolor\":\"#2a3f5f\"},\"type\":\"carpet\"}],\"table\":[{\"cells\":{\"fill\":{\"color\":\"#EBF0F8\"},\"line\":{\"color\":\"white\"}},\"header\":{\"fill\":{\"color\":\"#C8D4E3\"},\"line\":{\"color\":\"white\"}},\"type\":\"table\"}],\"barpolar\":[{\"marker\":{\"line\":{\"color\":\"#E5ECF6\",\"width\":0.5},\"pattern\":{\"fillmode\":\"overlay\",\"size\":10,\"solidity\":0.2}},\"type\":\"barpolar\"}],\"pie\":[{\"automargin\":true,\"type\":\"pie\"}]},\"layout\":{\"autotypenumbers\":\"strict\",\"colorway\":[\"#636efa\",\"#EF553B\",\"#00cc96\",\"#ab63fa\",\"#FFA15A\",\"#19d3f3\",\"#FF6692\",\"#B6E880\",\"#FF97FF\",\"#FECB52\"],\"font\":{\"color\":\"#2a3f5f\"},\"hovermode\":\"closest\",\"hoverlabel\":{\"align\":\"left\"},\"paper_bgcolor\":\"white\",\"plot_bgcolor\":\"#E5ECF6\",\"polar\":{\"bgcolor\":\"#E5ECF6\",\"angularaxis\":{\"gridcolor\":\"white\",\"linecolor\":\"white\",\"ticks\":\"\"},\"radialaxis\":{\"gridcolor\":\"white\",\"linecolor\":\"white\",\"ticks\":\"\"}},\"ternary\":{\"bgcolor\":\"#E5ECF6\",\"aaxis\":{\"gridcolor\":\"white\",\"linecolor\":\"white\",\"ticks\":\"\"},\"baxis\":{\"gridcolor\":\"white\",\"linecolor\":\"white\",\"ticks\":\"\"},\"caxis\":{\"gridcolor\":\"white\",\"linecolor\":\"white\",\"ticks\":\"\"}},\"coloraxis\":{\"colorbar\":{\"outlinewidth\":0,\"ticks\":\"\"}},\"colorscale\":{\"sequential\":[[0.0,\"#0d0887\"],[0.1111111111111111,\"#46039f\"],[0.2222222222222222,\"#7201a8\"],[0.3333333333333333,\"#9c179e\"],[0.4444444444444444,\"#bd3786\"],[0.5555555555555556,\"#d8576b\"],[0.6666666666666666,\"#ed7953\"],[0.7777777777777778,\"#fb9f3a\"],[0.8888888888888888,\"#fdca26\"],[1.0,\"#f0f921\"]],\"sequentialminus\":[[0.0,\"#0d0887\"],[0.1111111111111111,\"#46039f\"],[0.2222222222222222,\"#7201a8\"],[0.3333333333333333,\"#9c179e\"],[0.4444444444444444,\"#bd3786\"],[0.5555555555555556,\"#d8576b\"],[0.6666666666666666,\"#ed7953\"],[0.7777777777777778,\"#fb9f3a\"],[0.8888888888888888,\"#fdca26\"],[1.0,\"#f0f921\"]],\"diverging\":[[0,\"#8e0152\"],[0.1,\"#c51b7d\"],[0.2,\"#de77ae\"],[0.3,\"#f1b6da\"],[0.4,\"#fde0ef\"],[0.5,\"#f7f7f7\"],[0.6,\"#e6f5d0\"],[0.7,\"#b8e186\"],[0.8,\"#7fbc41\"],[0.9,\"#4d9221\"],[1,\"#276419\"]]},\"xaxis\":{\"gridcolor\":\"white\",\"linecolor\":\"white\",\"ticks\":\"\",\"title\":{\"standoff\":15},\"zerolinecolor\":\"white\",\"automargin\":true,\"zerolinewidth\":2},\"yaxis\":{\"gridcolor\":\"white\",\"linecolor\":\"white\",\"ticks\":\"\",\"title\":{\"standoff\":15},\"zerolinecolor\":\"white\",\"automargin\":true,\"zerolinewidth\":2},\"scene\":{\"xaxis\":{\"backgroundcolor\":\"#E5ECF6\",\"gridcolor\":\"white\",\"linecolor\":\"white\",\"showbackground\":true,\"ticks\":\"\",\"zerolinecolor\":\"white\",\"gridwidth\":2},\"yaxis\":{\"backgroundcolor\":\"#E5ECF6\",\"gridcolor\":\"white\",\"linecolor\":\"white\",\"showbackground\":true,\"ticks\":\"\",\"zerolinecolor\":\"white\",\"gridwidth\":2},\"zaxis\":{\"backgroundcolor\":\"#E5ECF6\",\"gridcolor\":\"white\",\"linecolor\":\"white\",\"showbackground\":true,\"ticks\":\"\",\"zerolinecolor\":\"white\",\"gridwidth\":2}},\"shapedefaults\":{\"line\":{\"color\":\"#2a3f5f\"}},\"annotationdefaults\":{\"arrowcolor\":\"#2a3f5f\",\"arrowhead\":0,\"arrowwidth\":1},\"geo\":{\"bgcolor\":\"white\",\"landcolor\":\"#E5ECF6\",\"subunitcolor\":\"white\",\"showland\":true,\"showlakes\":true,\"lakecolor\":\"white\"},\"title\":{\"x\":0.05},\"mapbox\":{\"style\":\"light\"}}},\"scene\":{\"xaxis\":{\"title\":{\"text\":\"\"},\"showticklabels\":false,\"showbackground\":false,\"zerolinecolor\":\"#455A64\"},\"yaxis\":{\"title\":{\"text\":\"\"},\"showticklabels\":false,\"showbackground\":false,\"zerolinecolor\":\"#455A64\"},\"zaxis\":{\"title\":{\"text\":\"\"},\"showticklabels\":false,\"showbackground\":false,\"zerolinecolor\":\"#455A64\"},\"aspectmode\":\"data\"},\"margin\":{\"r\":10,\"l\":10,\"b\":10,\"t\":10},\"width\":700,\"showlegend\":false},                        {\"responsive\": true}                    ).then(function(){\n",
       "                            \n",
       "var gd = document.getElementById('00ac945e-d824-4bad-a77f-a01a87882381');\n",
       "var x = new MutationObserver(function (mutations, observer) {{\n",
       "        var display = window.getComputedStyle(gd).display;\n",
       "        if (!display || display === 'none') {{\n",
       "            console.log([gd, 'removed!']);\n",
       "            Plotly.purge(gd);\n",
       "            observer.disconnect();\n",
       "        }}\n",
       "}});\n",
       "\n",
       "// Listen for the removal of the full notebook cells\n",
       "var notebookContainer = gd.closest('#notebook-container');\n",
       "if (notebookContainer) {{\n",
       "    x.observe(notebookContainer, {childList: true});\n",
       "}}\n",
       "\n",
       "// Listen for the clearing of the current output cell\n",
       "var outputEl = gd.closest('.output');\n",
       "if (outputEl) {{\n",
       "    x.observe(outputEl, {childList: true});\n",
       "}}\n",
       "\n",
       "                        })                };                });            </script>        </div>"
      ]
     },
     "metadata": {},
     "output_type": "display_data"
    }
   ],
   "source": [
    "struct_Al.show.all()"
   ]
  },
  {
   "cell_type": "markdown",
   "id": "391a3f4a-11c7-4aba-922a-e27d6aa8a12b",
   "metadata": {},
   "source": [
    "Another way to create a vacancy for BCC Fe now"
   ]
  },
  {
   "cell_type": "code",
   "execution_count": 7,
   "id": "09e96142-5286-47f4-9e16-bce0de8a1c12",
   "metadata": {},
   "outputs": [],
   "source": [
    "struct_Fe = System.create.element.Fe(graph=kg)"
   ]
  },
  {
   "cell_type": "code",
   "execution_count": 8,
   "id": "450592b6-fb08-42f9-99a9-66fe02da3367",
   "metadata": {},
   "outputs": [],
   "source": [
    "del struct_Fe[0]"
   ]
  },
  {
   "cell_type": "code",
   "execution_count": 9,
   "id": "af8ea649-f505-48f8-a9d8-a1859100638d",
   "metadata": {},
   "outputs": [
    {
     "data": {
      "application/vnd.plotly.v1+json": {
       "config": {
        "plotlyServerURL": "https://plot.ly"
       },
       "data": [
        {
         "line": {
          "color": "#263238",
          "width": 2
         },
         "mode": "lines",
         "name": "lines",
         "showlegend": false,
         "type": "scatter3d",
         "x": [
          0,
          2.87,
          2.87,
          0,
          0
         ],
         "y": [
          0,
          0,
          2.87,
          2.87,
          0
         ],
         "z": [
          0,
          0,
          0,
          0,
          0
         ]
        },
        {
         "line": {
          "color": "#263238",
          "width": 2
         },
         "mode": "lines",
         "name": "lines",
         "showlegend": false,
         "type": "scatter3d",
         "x": [
          0,
          2.87,
          2.87,
          0,
          0
         ],
         "y": [
          0,
          0,
          2.87,
          2.87,
          0
         ],
         "z": [
          2.87,
          2.87,
          2.87,
          2.87,
          2.87
         ]
        },
        {
         "line": {
          "color": "#263238",
          "width": 2
         },
         "mode": "lines",
         "name": "lines",
         "showlegend": false,
         "type": "scatter3d",
         "x": [
          0,
          2.87,
          2.87,
          0,
          0
         ],
         "y": [
          0,
          0,
          0,
          0,
          0
         ],
         "z": [
          0,
          0,
          2.87,
          2.87,
          0
         ]
        },
        {
         "line": {
          "color": "#263238",
          "width": 2
         },
         "mode": "lines",
         "name": "lines",
         "showlegend": false,
         "type": "scatter3d",
         "x": [
          0,
          2.87,
          2.87,
          0,
          0
         ],
         "y": [
          2.87,
          2.87,
          2.87,
          2.87,
          2.87
         ],
         "z": [
          0,
          0,
          2.87,
          2.87,
          0
         ]
        },
        {
         "line": {
          "color": "#263238",
          "width": 2
         },
         "mode": "lines",
         "name": "lines",
         "showlegend": false,
         "type": "scatter3d",
         "x": [
          0,
          0,
          0,
          0,
          0
         ],
         "y": [
          0,
          2.87,
          2.87,
          0,
          0
         ],
         "z": [
          0,
          0,
          2.87,
          2.87,
          0
         ]
        },
        {
         "line": {
          "color": "#263238",
          "width": 2
         },
         "mode": "lines",
         "name": "lines",
         "showlegend": false,
         "type": "scatter3d",
         "x": [
          2.87,
          2.87,
          2.87,
          2.87,
          2.87
         ],
         "y": [
          0,
          2.87,
          2.87,
          0,
          0
         ],
         "z": [
          0,
          0,
          2.87,
          2.87,
          0
         ]
        },
        {
         "marker": {
          "color": "#33a02c",
          "line": {
           "color": "#455A64",
           "width": 0.5
          },
          "opacity": 1,
          "size": 10,
          "sizemode": "diameter",
          "sizeref": 750
         },
         "mode": "markers",
         "opacity": 1,
         "type": "scatter3d",
         "x": [
          1.435
         ],
         "y": [
          1.435
         ],
         "z": [
          1.435
         ]
        }
       ],
       "layout": {
        "margin": {
         "b": 10,
         "l": 10,
         "r": 10,
         "t": 10
        },
        "scene": {
         "aspectmode": "data",
         "xaxis": {
          "showbackground": false,
          "showticklabels": false,
          "title": {
           "text": ""
          },
          "zerolinecolor": "#455A64"
         },
         "yaxis": {
          "showbackground": false,
          "showticklabels": false,
          "title": {
           "text": ""
          },
          "zerolinecolor": "#455A64"
         },
         "zaxis": {
          "showbackground": false,
          "showticklabels": false,
          "title": {
           "text": ""
          },
          "zerolinecolor": "#455A64"
         }
        },
        "showlegend": false,
        "template": {
         "data": {
          "bar": [
           {
            "error_x": {
             "color": "#2a3f5f"
            },
            "error_y": {
             "color": "#2a3f5f"
            },
            "marker": {
             "line": {
              "color": "#E5ECF6",
              "width": 0.5
             },
             "pattern": {
              "fillmode": "overlay",
              "size": 10,
              "solidity": 0.2
             }
            },
            "type": "bar"
           }
          ],
          "barpolar": [
           {
            "marker": {
             "line": {
              "color": "#E5ECF6",
              "width": 0.5
             },
             "pattern": {
              "fillmode": "overlay",
              "size": 10,
              "solidity": 0.2
             }
            },
            "type": "barpolar"
           }
          ],
          "carpet": [
           {
            "aaxis": {
             "endlinecolor": "#2a3f5f",
             "gridcolor": "white",
             "linecolor": "white",
             "minorgridcolor": "white",
             "startlinecolor": "#2a3f5f"
            },
            "baxis": {
             "endlinecolor": "#2a3f5f",
             "gridcolor": "white",
             "linecolor": "white",
             "minorgridcolor": "white",
             "startlinecolor": "#2a3f5f"
            },
            "type": "carpet"
           }
          ],
          "choropleth": [
           {
            "colorbar": {
             "outlinewidth": 0,
             "ticks": ""
            },
            "type": "choropleth"
           }
          ],
          "contour": [
           {
            "colorbar": {
             "outlinewidth": 0,
             "ticks": ""
            },
            "colorscale": [
             [
              0,
              "#0d0887"
             ],
             [
              0.1111111111111111,
              "#46039f"
             ],
             [
              0.2222222222222222,
              "#7201a8"
             ],
             [
              0.3333333333333333,
              "#9c179e"
             ],
             [
              0.4444444444444444,
              "#bd3786"
             ],
             [
              0.5555555555555556,
              "#d8576b"
             ],
             [
              0.6666666666666666,
              "#ed7953"
             ],
             [
              0.7777777777777778,
              "#fb9f3a"
             ],
             [
              0.8888888888888888,
              "#fdca26"
             ],
             [
              1,
              "#f0f921"
             ]
            ],
            "type": "contour"
           }
          ],
          "contourcarpet": [
           {
            "colorbar": {
             "outlinewidth": 0,
             "ticks": ""
            },
            "type": "contourcarpet"
           }
          ],
          "heatmap": [
           {
            "colorbar": {
             "outlinewidth": 0,
             "ticks": ""
            },
            "colorscale": [
             [
              0,
              "#0d0887"
             ],
             [
              0.1111111111111111,
              "#46039f"
             ],
             [
              0.2222222222222222,
              "#7201a8"
             ],
             [
              0.3333333333333333,
              "#9c179e"
             ],
             [
              0.4444444444444444,
              "#bd3786"
             ],
             [
              0.5555555555555556,
              "#d8576b"
             ],
             [
              0.6666666666666666,
              "#ed7953"
             ],
             [
              0.7777777777777778,
              "#fb9f3a"
             ],
             [
              0.8888888888888888,
              "#fdca26"
             ],
             [
              1,
              "#f0f921"
             ]
            ],
            "type": "heatmap"
           }
          ],
          "heatmapgl": [
           {
            "colorbar": {
             "outlinewidth": 0,
             "ticks": ""
            },
            "colorscale": [
             [
              0,
              "#0d0887"
             ],
             [
              0.1111111111111111,
              "#46039f"
             ],
             [
              0.2222222222222222,
              "#7201a8"
             ],
             [
              0.3333333333333333,
              "#9c179e"
             ],
             [
              0.4444444444444444,
              "#bd3786"
             ],
             [
              0.5555555555555556,
              "#d8576b"
             ],
             [
              0.6666666666666666,
              "#ed7953"
             ],
             [
              0.7777777777777778,
              "#fb9f3a"
             ],
             [
              0.8888888888888888,
              "#fdca26"
             ],
             [
              1,
              "#f0f921"
             ]
            ],
            "type": "heatmapgl"
           }
          ],
          "histogram": [
           {
            "marker": {
             "pattern": {
              "fillmode": "overlay",
              "size": 10,
              "solidity": 0.2
             }
            },
            "type": "histogram"
           }
          ],
          "histogram2d": [
           {
            "colorbar": {
             "outlinewidth": 0,
             "ticks": ""
            },
            "colorscale": [
             [
              0,
              "#0d0887"
             ],
             [
              0.1111111111111111,
              "#46039f"
             ],
             [
              0.2222222222222222,
              "#7201a8"
             ],
             [
              0.3333333333333333,
              "#9c179e"
             ],
             [
              0.4444444444444444,
              "#bd3786"
             ],
             [
              0.5555555555555556,
              "#d8576b"
             ],
             [
              0.6666666666666666,
              "#ed7953"
             ],
             [
              0.7777777777777778,
              "#fb9f3a"
             ],
             [
              0.8888888888888888,
              "#fdca26"
             ],
             [
              1,
              "#f0f921"
             ]
            ],
            "type": "histogram2d"
           }
          ],
          "histogram2dcontour": [
           {
            "colorbar": {
             "outlinewidth": 0,
             "ticks": ""
            },
            "colorscale": [
             [
              0,
              "#0d0887"
             ],
             [
              0.1111111111111111,
              "#46039f"
             ],
             [
              0.2222222222222222,
              "#7201a8"
             ],
             [
              0.3333333333333333,
              "#9c179e"
             ],
             [
              0.4444444444444444,
              "#bd3786"
             ],
             [
              0.5555555555555556,
              "#d8576b"
             ],
             [
              0.6666666666666666,
              "#ed7953"
             ],
             [
              0.7777777777777778,
              "#fb9f3a"
             ],
             [
              0.8888888888888888,
              "#fdca26"
             ],
             [
              1,
              "#f0f921"
             ]
            ],
            "type": "histogram2dcontour"
           }
          ],
          "mesh3d": [
           {
            "colorbar": {
             "outlinewidth": 0,
             "ticks": ""
            },
            "type": "mesh3d"
           }
          ],
          "parcoords": [
           {
            "line": {
             "colorbar": {
              "outlinewidth": 0,
              "ticks": ""
             }
            },
            "type": "parcoords"
           }
          ],
          "pie": [
           {
            "automargin": true,
            "type": "pie"
           }
          ],
          "scatter": [
           {
            "fillpattern": {
             "fillmode": "overlay",
             "size": 10,
             "solidity": 0.2
            },
            "type": "scatter"
           }
          ],
          "scatter3d": [
           {
            "line": {
             "colorbar": {
              "outlinewidth": 0,
              "ticks": ""
             }
            },
            "marker": {
             "colorbar": {
              "outlinewidth": 0,
              "ticks": ""
             }
            },
            "type": "scatter3d"
           }
          ],
          "scattercarpet": [
           {
            "marker": {
             "colorbar": {
              "outlinewidth": 0,
              "ticks": ""
             }
            },
            "type": "scattercarpet"
           }
          ],
          "scattergeo": [
           {
            "marker": {
             "colorbar": {
              "outlinewidth": 0,
              "ticks": ""
             }
            },
            "type": "scattergeo"
           }
          ],
          "scattergl": [
           {
            "marker": {
             "colorbar": {
              "outlinewidth": 0,
              "ticks": ""
             }
            },
            "type": "scattergl"
           }
          ],
          "scattermapbox": [
           {
            "marker": {
             "colorbar": {
              "outlinewidth": 0,
              "ticks": ""
             }
            },
            "type": "scattermapbox"
           }
          ],
          "scatterpolar": [
           {
            "marker": {
             "colorbar": {
              "outlinewidth": 0,
              "ticks": ""
             }
            },
            "type": "scatterpolar"
           }
          ],
          "scatterpolargl": [
           {
            "marker": {
             "colorbar": {
              "outlinewidth": 0,
              "ticks": ""
             }
            },
            "type": "scatterpolargl"
           }
          ],
          "scatterternary": [
           {
            "marker": {
             "colorbar": {
              "outlinewidth": 0,
              "ticks": ""
             }
            },
            "type": "scatterternary"
           }
          ],
          "surface": [
           {
            "colorbar": {
             "outlinewidth": 0,
             "ticks": ""
            },
            "colorscale": [
             [
              0,
              "#0d0887"
             ],
             [
              0.1111111111111111,
              "#46039f"
             ],
             [
              0.2222222222222222,
              "#7201a8"
             ],
             [
              0.3333333333333333,
              "#9c179e"
             ],
             [
              0.4444444444444444,
              "#bd3786"
             ],
             [
              0.5555555555555556,
              "#d8576b"
             ],
             [
              0.6666666666666666,
              "#ed7953"
             ],
             [
              0.7777777777777778,
              "#fb9f3a"
             ],
             [
              0.8888888888888888,
              "#fdca26"
             ],
             [
              1,
              "#f0f921"
             ]
            ],
            "type": "surface"
           }
          ],
          "table": [
           {
            "cells": {
             "fill": {
              "color": "#EBF0F8"
             },
             "line": {
              "color": "white"
             }
            },
            "header": {
             "fill": {
              "color": "#C8D4E3"
             },
             "line": {
              "color": "white"
             }
            },
            "type": "table"
           }
          ]
         },
         "layout": {
          "annotationdefaults": {
           "arrowcolor": "#2a3f5f",
           "arrowhead": 0,
           "arrowwidth": 1
          },
          "autotypenumbers": "strict",
          "coloraxis": {
           "colorbar": {
            "outlinewidth": 0,
            "ticks": ""
           }
          },
          "colorscale": {
           "diverging": [
            [
             0,
             "#8e0152"
            ],
            [
             0.1,
             "#c51b7d"
            ],
            [
             0.2,
             "#de77ae"
            ],
            [
             0.3,
             "#f1b6da"
            ],
            [
             0.4,
             "#fde0ef"
            ],
            [
             0.5,
             "#f7f7f7"
            ],
            [
             0.6,
             "#e6f5d0"
            ],
            [
             0.7,
             "#b8e186"
            ],
            [
             0.8,
             "#7fbc41"
            ],
            [
             0.9,
             "#4d9221"
            ],
            [
             1,
             "#276419"
            ]
           ],
           "sequential": [
            [
             0,
             "#0d0887"
            ],
            [
             0.1111111111111111,
             "#46039f"
            ],
            [
             0.2222222222222222,
             "#7201a8"
            ],
            [
             0.3333333333333333,
             "#9c179e"
            ],
            [
             0.4444444444444444,
             "#bd3786"
            ],
            [
             0.5555555555555556,
             "#d8576b"
            ],
            [
             0.6666666666666666,
             "#ed7953"
            ],
            [
             0.7777777777777778,
             "#fb9f3a"
            ],
            [
             0.8888888888888888,
             "#fdca26"
            ],
            [
             1,
             "#f0f921"
            ]
           ],
           "sequentialminus": [
            [
             0,
             "#0d0887"
            ],
            [
             0.1111111111111111,
             "#46039f"
            ],
            [
             0.2222222222222222,
             "#7201a8"
            ],
            [
             0.3333333333333333,
             "#9c179e"
            ],
            [
             0.4444444444444444,
             "#bd3786"
            ],
            [
             0.5555555555555556,
             "#d8576b"
            ],
            [
             0.6666666666666666,
             "#ed7953"
            ],
            [
             0.7777777777777778,
             "#fb9f3a"
            ],
            [
             0.8888888888888888,
             "#fdca26"
            ],
            [
             1,
             "#f0f921"
            ]
           ]
          },
          "colorway": [
           "#636efa",
           "#EF553B",
           "#00cc96",
           "#ab63fa",
           "#FFA15A",
           "#19d3f3",
           "#FF6692",
           "#B6E880",
           "#FF97FF",
           "#FECB52"
          ],
          "font": {
           "color": "#2a3f5f"
          },
          "geo": {
           "bgcolor": "white",
           "lakecolor": "white",
           "landcolor": "#E5ECF6",
           "showlakes": true,
           "showland": true,
           "subunitcolor": "white"
          },
          "hoverlabel": {
           "align": "left"
          },
          "hovermode": "closest",
          "mapbox": {
           "style": "light"
          },
          "paper_bgcolor": "white",
          "plot_bgcolor": "#E5ECF6",
          "polar": {
           "angularaxis": {
            "gridcolor": "white",
            "linecolor": "white",
            "ticks": ""
           },
           "bgcolor": "#E5ECF6",
           "radialaxis": {
            "gridcolor": "white",
            "linecolor": "white",
            "ticks": ""
           }
          },
          "scene": {
           "xaxis": {
            "backgroundcolor": "#E5ECF6",
            "gridcolor": "white",
            "gridwidth": 2,
            "linecolor": "white",
            "showbackground": true,
            "ticks": "",
            "zerolinecolor": "white"
           },
           "yaxis": {
            "backgroundcolor": "#E5ECF6",
            "gridcolor": "white",
            "gridwidth": 2,
            "linecolor": "white",
            "showbackground": true,
            "ticks": "",
            "zerolinecolor": "white"
           },
           "zaxis": {
            "backgroundcolor": "#E5ECF6",
            "gridcolor": "white",
            "gridwidth": 2,
            "linecolor": "white",
            "showbackground": true,
            "ticks": "",
            "zerolinecolor": "white"
           }
          },
          "shapedefaults": {
           "line": {
            "color": "#2a3f5f"
           }
          },
          "ternary": {
           "aaxis": {
            "gridcolor": "white",
            "linecolor": "white",
            "ticks": ""
           },
           "baxis": {
            "gridcolor": "white",
            "linecolor": "white",
            "ticks": ""
           },
           "bgcolor": "#E5ECF6",
           "caxis": {
            "gridcolor": "white",
            "linecolor": "white",
            "ticks": ""
           }
          },
          "title": {
           "x": 0.05
          },
          "xaxis": {
           "automargin": true,
           "gridcolor": "white",
           "linecolor": "white",
           "ticks": "",
           "title": {
            "standoff": 15
           },
           "zerolinecolor": "white",
           "zerolinewidth": 2
          },
          "yaxis": {
           "automargin": true,
           "gridcolor": "white",
           "linecolor": "white",
           "ticks": "",
           "title": {
            "standoff": 15
           },
           "zerolinecolor": "white",
           "zerolinewidth": 2
          }
         }
        },
        "width": 700
       }
      },
      "text/html": [
       "<div>                            <div id=\"d49d94c1-5391-49ae-abb5-b8ae5aa2284d\" class=\"plotly-graph-div\" style=\"height:525px; width:700px;\"></div>            <script type=\"text/javascript\">                require([\"plotly\"], function(Plotly) {                    window.PLOTLYENV=window.PLOTLYENV || {};                                    if (document.getElementById(\"d49d94c1-5391-49ae-abb5-b8ae5aa2284d\")) {                    Plotly.newPlot(                        \"d49d94c1-5391-49ae-abb5-b8ae5aa2284d\",                        [{\"line\":{\"color\":\"#263238\",\"width\":2.0},\"mode\":\"lines\",\"name\":\"lines\",\"showlegend\":false,\"x\":[0.0,2.87,2.87,0.0,0.0],\"y\":[0.0,0.0,2.87,2.87,0.0],\"z\":[0.0,0.0,0.0,0.0,0.0],\"type\":\"scatter3d\"},{\"line\":{\"color\":\"#263238\",\"width\":2.0},\"mode\":\"lines\",\"name\":\"lines\",\"showlegend\":false,\"x\":[0.0,2.87,2.87,0.0,0.0],\"y\":[0.0,0.0,2.87,2.87,0.0],\"z\":[2.87,2.87,2.87,2.87,2.87],\"type\":\"scatter3d\"},{\"line\":{\"color\":\"#263238\",\"width\":2.0},\"mode\":\"lines\",\"name\":\"lines\",\"showlegend\":false,\"x\":[0.0,2.87,2.87,0.0,0.0],\"y\":[0.0,0.0,0.0,0.0,0.0],\"z\":[0.0,0.0,2.87,2.87,0.0],\"type\":\"scatter3d\"},{\"line\":{\"color\":\"#263238\",\"width\":2.0},\"mode\":\"lines\",\"name\":\"lines\",\"showlegend\":false,\"x\":[0.0,2.87,2.87,0.0,0.0],\"y\":[2.87,2.87,2.87,2.87,2.87],\"z\":[0.0,0.0,2.87,2.87,0.0],\"type\":\"scatter3d\"},{\"line\":{\"color\":\"#263238\",\"width\":2.0},\"mode\":\"lines\",\"name\":\"lines\",\"showlegend\":false,\"x\":[0.0,0.0,0.0,0.0,0.0],\"y\":[0.0,2.87,2.87,0.0,0.0],\"z\":[0.0,0.0,2.87,2.87,0.0],\"type\":\"scatter3d\"},{\"line\":{\"color\":\"#263238\",\"width\":2.0},\"mode\":\"lines\",\"name\":\"lines\",\"showlegend\":false,\"x\":[2.87,2.87,2.87,2.87,2.87],\"y\":[0.0,2.87,2.87,0.0,0.0],\"z\":[0.0,0.0,2.87,2.87,0.0],\"type\":\"scatter3d\"},{\"marker\":{\"color\":\"#33a02c\",\"line\":{\"color\":\"#455A64\",\"width\":0.5},\"opacity\":1.0,\"size\":10,\"sizemode\":\"diameter\",\"sizeref\":750},\"mode\":\"markers\",\"opacity\":1.0,\"x\":[1.435],\"y\":[1.435],\"z\":[1.435],\"type\":\"scatter3d\"}],                        {\"template\":{\"data\":{\"histogram2dcontour\":[{\"type\":\"histogram2dcontour\",\"colorbar\":{\"outlinewidth\":0,\"ticks\":\"\"},\"colorscale\":[[0.0,\"#0d0887\"],[0.1111111111111111,\"#46039f\"],[0.2222222222222222,\"#7201a8\"],[0.3333333333333333,\"#9c179e\"],[0.4444444444444444,\"#bd3786\"],[0.5555555555555556,\"#d8576b\"],[0.6666666666666666,\"#ed7953\"],[0.7777777777777778,\"#fb9f3a\"],[0.8888888888888888,\"#fdca26\"],[1.0,\"#f0f921\"]]}],\"choropleth\":[{\"type\":\"choropleth\",\"colorbar\":{\"outlinewidth\":0,\"ticks\":\"\"}}],\"histogram2d\":[{\"type\":\"histogram2d\",\"colorbar\":{\"outlinewidth\":0,\"ticks\":\"\"},\"colorscale\":[[0.0,\"#0d0887\"],[0.1111111111111111,\"#46039f\"],[0.2222222222222222,\"#7201a8\"],[0.3333333333333333,\"#9c179e\"],[0.4444444444444444,\"#bd3786\"],[0.5555555555555556,\"#d8576b\"],[0.6666666666666666,\"#ed7953\"],[0.7777777777777778,\"#fb9f3a\"],[0.8888888888888888,\"#fdca26\"],[1.0,\"#f0f921\"]]}],\"heatmap\":[{\"type\":\"heatmap\",\"colorbar\":{\"outlinewidth\":0,\"ticks\":\"\"},\"colorscale\":[[0.0,\"#0d0887\"],[0.1111111111111111,\"#46039f\"],[0.2222222222222222,\"#7201a8\"],[0.3333333333333333,\"#9c179e\"],[0.4444444444444444,\"#bd3786\"],[0.5555555555555556,\"#d8576b\"],[0.6666666666666666,\"#ed7953\"],[0.7777777777777778,\"#fb9f3a\"],[0.8888888888888888,\"#fdca26\"],[1.0,\"#f0f921\"]]}],\"heatmapgl\":[{\"type\":\"heatmapgl\",\"colorbar\":{\"outlinewidth\":0,\"ticks\":\"\"},\"colorscale\":[[0.0,\"#0d0887\"],[0.1111111111111111,\"#46039f\"],[0.2222222222222222,\"#7201a8\"],[0.3333333333333333,\"#9c179e\"],[0.4444444444444444,\"#bd3786\"],[0.5555555555555556,\"#d8576b\"],[0.6666666666666666,\"#ed7953\"],[0.7777777777777778,\"#fb9f3a\"],[0.8888888888888888,\"#fdca26\"],[1.0,\"#f0f921\"]]}],\"contourcarpet\":[{\"type\":\"contourcarpet\",\"colorbar\":{\"outlinewidth\":0,\"ticks\":\"\"}}],\"contour\":[{\"type\":\"contour\",\"colorbar\":{\"outlinewidth\":0,\"ticks\":\"\"},\"colorscale\":[[0.0,\"#0d0887\"],[0.1111111111111111,\"#46039f\"],[0.2222222222222222,\"#7201a8\"],[0.3333333333333333,\"#9c179e\"],[0.4444444444444444,\"#bd3786\"],[0.5555555555555556,\"#d8576b\"],[0.6666666666666666,\"#ed7953\"],[0.7777777777777778,\"#fb9f3a\"],[0.8888888888888888,\"#fdca26\"],[1.0,\"#f0f921\"]]}],\"surface\":[{\"type\":\"surface\",\"colorbar\":{\"outlinewidth\":0,\"ticks\":\"\"},\"colorscale\":[[0.0,\"#0d0887\"],[0.1111111111111111,\"#46039f\"],[0.2222222222222222,\"#7201a8\"],[0.3333333333333333,\"#9c179e\"],[0.4444444444444444,\"#bd3786\"],[0.5555555555555556,\"#d8576b\"],[0.6666666666666666,\"#ed7953\"],[0.7777777777777778,\"#fb9f3a\"],[0.8888888888888888,\"#fdca26\"],[1.0,\"#f0f921\"]]}],\"mesh3d\":[{\"type\":\"mesh3d\",\"colorbar\":{\"outlinewidth\":0,\"ticks\":\"\"}}],\"scatter\":[{\"fillpattern\":{\"fillmode\":\"overlay\",\"size\":10,\"solidity\":0.2},\"type\":\"scatter\"}],\"parcoords\":[{\"type\":\"parcoords\",\"line\":{\"colorbar\":{\"outlinewidth\":0,\"ticks\":\"\"}}}],\"scatterpolargl\":[{\"type\":\"scatterpolargl\",\"marker\":{\"colorbar\":{\"outlinewidth\":0,\"ticks\":\"\"}}}],\"bar\":[{\"error_x\":{\"color\":\"#2a3f5f\"},\"error_y\":{\"color\":\"#2a3f5f\"},\"marker\":{\"line\":{\"color\":\"#E5ECF6\",\"width\":0.5},\"pattern\":{\"fillmode\":\"overlay\",\"size\":10,\"solidity\":0.2}},\"type\":\"bar\"}],\"scattergeo\":[{\"type\":\"scattergeo\",\"marker\":{\"colorbar\":{\"outlinewidth\":0,\"ticks\":\"\"}}}],\"scatterpolar\":[{\"type\":\"scatterpolar\",\"marker\":{\"colorbar\":{\"outlinewidth\":0,\"ticks\":\"\"}}}],\"histogram\":[{\"marker\":{\"pattern\":{\"fillmode\":\"overlay\",\"size\":10,\"solidity\":0.2}},\"type\":\"histogram\"}],\"scattergl\":[{\"type\":\"scattergl\",\"marker\":{\"colorbar\":{\"outlinewidth\":0,\"ticks\":\"\"}}}],\"scatter3d\":[{\"type\":\"scatter3d\",\"line\":{\"colorbar\":{\"outlinewidth\":0,\"ticks\":\"\"}},\"marker\":{\"colorbar\":{\"outlinewidth\":0,\"ticks\":\"\"}}}],\"scattermapbox\":[{\"type\":\"scattermapbox\",\"marker\":{\"colorbar\":{\"outlinewidth\":0,\"ticks\":\"\"}}}],\"scatterternary\":[{\"type\":\"scatterternary\",\"marker\":{\"colorbar\":{\"outlinewidth\":0,\"ticks\":\"\"}}}],\"scattercarpet\":[{\"type\":\"scattercarpet\",\"marker\":{\"colorbar\":{\"outlinewidth\":0,\"ticks\":\"\"}}}],\"carpet\":[{\"aaxis\":{\"endlinecolor\":\"#2a3f5f\",\"gridcolor\":\"white\",\"linecolor\":\"white\",\"minorgridcolor\":\"white\",\"startlinecolor\":\"#2a3f5f\"},\"baxis\":{\"endlinecolor\":\"#2a3f5f\",\"gridcolor\":\"white\",\"linecolor\":\"white\",\"minorgridcolor\":\"white\",\"startlinecolor\":\"#2a3f5f\"},\"type\":\"carpet\"}],\"table\":[{\"cells\":{\"fill\":{\"color\":\"#EBF0F8\"},\"line\":{\"color\":\"white\"}},\"header\":{\"fill\":{\"color\":\"#C8D4E3\"},\"line\":{\"color\":\"white\"}},\"type\":\"table\"}],\"barpolar\":[{\"marker\":{\"line\":{\"color\":\"#E5ECF6\",\"width\":0.5},\"pattern\":{\"fillmode\":\"overlay\",\"size\":10,\"solidity\":0.2}},\"type\":\"barpolar\"}],\"pie\":[{\"automargin\":true,\"type\":\"pie\"}]},\"layout\":{\"autotypenumbers\":\"strict\",\"colorway\":[\"#636efa\",\"#EF553B\",\"#00cc96\",\"#ab63fa\",\"#FFA15A\",\"#19d3f3\",\"#FF6692\",\"#B6E880\",\"#FF97FF\",\"#FECB52\"],\"font\":{\"color\":\"#2a3f5f\"},\"hovermode\":\"closest\",\"hoverlabel\":{\"align\":\"left\"},\"paper_bgcolor\":\"white\",\"plot_bgcolor\":\"#E5ECF6\",\"polar\":{\"bgcolor\":\"#E5ECF6\",\"angularaxis\":{\"gridcolor\":\"white\",\"linecolor\":\"white\",\"ticks\":\"\"},\"radialaxis\":{\"gridcolor\":\"white\",\"linecolor\":\"white\",\"ticks\":\"\"}},\"ternary\":{\"bgcolor\":\"#E5ECF6\",\"aaxis\":{\"gridcolor\":\"white\",\"linecolor\":\"white\",\"ticks\":\"\"},\"baxis\":{\"gridcolor\":\"white\",\"linecolor\":\"white\",\"ticks\":\"\"},\"caxis\":{\"gridcolor\":\"white\",\"linecolor\":\"white\",\"ticks\":\"\"}},\"coloraxis\":{\"colorbar\":{\"outlinewidth\":0,\"ticks\":\"\"}},\"colorscale\":{\"sequential\":[[0.0,\"#0d0887\"],[0.1111111111111111,\"#46039f\"],[0.2222222222222222,\"#7201a8\"],[0.3333333333333333,\"#9c179e\"],[0.4444444444444444,\"#bd3786\"],[0.5555555555555556,\"#d8576b\"],[0.6666666666666666,\"#ed7953\"],[0.7777777777777778,\"#fb9f3a\"],[0.8888888888888888,\"#fdca26\"],[1.0,\"#f0f921\"]],\"sequentialminus\":[[0.0,\"#0d0887\"],[0.1111111111111111,\"#46039f\"],[0.2222222222222222,\"#7201a8\"],[0.3333333333333333,\"#9c179e\"],[0.4444444444444444,\"#bd3786\"],[0.5555555555555556,\"#d8576b\"],[0.6666666666666666,\"#ed7953\"],[0.7777777777777778,\"#fb9f3a\"],[0.8888888888888888,\"#fdca26\"],[1.0,\"#f0f921\"]],\"diverging\":[[0,\"#8e0152\"],[0.1,\"#c51b7d\"],[0.2,\"#de77ae\"],[0.3,\"#f1b6da\"],[0.4,\"#fde0ef\"],[0.5,\"#f7f7f7\"],[0.6,\"#e6f5d0\"],[0.7,\"#b8e186\"],[0.8,\"#7fbc41\"],[0.9,\"#4d9221\"],[1,\"#276419\"]]},\"xaxis\":{\"gridcolor\":\"white\",\"linecolor\":\"white\",\"ticks\":\"\",\"title\":{\"standoff\":15},\"zerolinecolor\":\"white\",\"automargin\":true,\"zerolinewidth\":2},\"yaxis\":{\"gridcolor\":\"white\",\"linecolor\":\"white\",\"ticks\":\"\",\"title\":{\"standoff\":15},\"zerolinecolor\":\"white\",\"automargin\":true,\"zerolinewidth\":2},\"scene\":{\"xaxis\":{\"backgroundcolor\":\"#E5ECF6\",\"gridcolor\":\"white\",\"linecolor\":\"white\",\"showbackground\":true,\"ticks\":\"\",\"zerolinecolor\":\"white\",\"gridwidth\":2},\"yaxis\":{\"backgroundcolor\":\"#E5ECF6\",\"gridcolor\":\"white\",\"linecolor\":\"white\",\"showbackground\":true,\"ticks\":\"\",\"zerolinecolor\":\"white\",\"gridwidth\":2},\"zaxis\":{\"backgroundcolor\":\"#E5ECF6\",\"gridcolor\":\"white\",\"linecolor\":\"white\",\"showbackground\":true,\"ticks\":\"\",\"zerolinecolor\":\"white\",\"gridwidth\":2}},\"shapedefaults\":{\"line\":{\"color\":\"#2a3f5f\"}},\"annotationdefaults\":{\"arrowcolor\":\"#2a3f5f\",\"arrowhead\":0,\"arrowwidth\":1},\"geo\":{\"bgcolor\":\"white\",\"landcolor\":\"#E5ECF6\",\"subunitcolor\":\"white\",\"showland\":true,\"showlakes\":true,\"lakecolor\":\"white\"},\"title\":{\"x\":0.05},\"mapbox\":{\"style\":\"light\"}}},\"scene\":{\"xaxis\":{\"title\":{\"text\":\"\"},\"showticklabels\":false,\"showbackground\":false,\"zerolinecolor\":\"#455A64\"},\"yaxis\":{\"title\":{\"text\":\"\"},\"showticklabels\":false,\"showbackground\":false,\"zerolinecolor\":\"#455A64\"},\"zaxis\":{\"title\":{\"text\":\"\"},\"showticklabels\":false,\"showbackground\":false,\"zerolinecolor\":\"#455A64\"},\"aspectmode\":\"data\"},\"margin\":{\"r\":10,\"l\":10,\"b\":10,\"t\":10},\"width\":700,\"showlegend\":false},                        {\"responsive\": true}                    ).then(function(){\n",
       "                            \n",
       "var gd = document.getElementById('d49d94c1-5391-49ae-abb5-b8ae5aa2284d');\n",
       "var x = new MutationObserver(function (mutations, observer) {{\n",
       "        var display = window.getComputedStyle(gd).display;\n",
       "        if (!display || display === 'none') {{\n",
       "            console.log([gd, 'removed!']);\n",
       "            Plotly.purge(gd);\n",
       "            observer.disconnect();\n",
       "        }}\n",
       "}});\n",
       "\n",
       "// Listen for the removal of the full notebook cells\n",
       "var notebookContainer = gd.closest('#notebook-container');\n",
       "if (notebookContainer) {{\n",
       "    x.observe(notebookContainer, {childList: true});\n",
       "}}\n",
       "\n",
       "// Listen for the clearing of the current output cell\n",
       "var outputEl = gd.closest('.output');\n",
       "if (outputEl) {{\n",
       "    x.observe(outputEl, {childList: true});\n",
       "}}\n",
       "\n",
       "                        })                };                });            </script>        </div>"
      ]
     },
     "metadata": {},
     "output_type": "display_data"
    }
   ],
   "source": [
    "struct_Fe.show.all()"
   ]
  },
  {
   "cell_type": "code",
   "execution_count": 10,
   "id": "244d8219-74f5-442f-9638-0df90df9348b",
   "metadata": {},
   "outputs": [
    {
     "data": {
      "image/svg+xml": [
       "<?xml version=\"1.0\" encoding=\"UTF-8\" standalone=\"no\"?>\n",
       "<!DOCTYPE svg PUBLIC \"-//W3C//DTD SVG 1.1//EN\"\n",
       " \"http://www.w3.org/Graphics/SVG/1.1/DTD/svg11.dtd\">\n",
       "<!-- Generated by graphviz version 9.0.0 (20231125.0833)\n",
       " -->\n",
       "<!-- Pages: 1 -->\n",
       "<svg width=\"1264pt\" height=\"1440pt\"\n",
       " viewBox=\"0.00 0.00 1263.66 1440.00\" xmlns=\"http://www.w3.org/2000/svg\" xmlns:xlink=\"http://www.w3.org/1999/xlink\">\n",
       "<g id=\"graph0\" class=\"graph\" transform=\"scale(0.441538 0.441538) rotate(0) translate(4 3257.33)\">\n",
       "<polygon fill=\"white\" stroke=\"none\" points=\"-4,4 -4,-3257.33 2857.96,-3257.33 2857.96,4 -4,4\"/>\n",
       "<!-- cmso.Angle -->\n",
       "<g id=\"node1\" class=\"node\">\n",
       "<title>cmso.Angle</title>\n",
       "<polygon fill=\"#c9daf8\" stroke=\"#c9daf8\" points=\"1205.56,-500.62 1143.06,-500.62 1143.06,-464.62 1205.56,-464.62 1205.56,-500.62\"/>\n",
       "<text text-anchor=\"middle\" x=\"1174.31\" y=\"-479.89\" font-family=\"Helvetica,sans-Serif\" font-size=\"8.00\">cmso.Angle</text>\n",
       "</g>\n",
       "<!-- unit.DEG -->\n",
       "<g id=\"node2\" class=\"node\">\n",
       "<title>unit.DEG</title>\n",
       "<polygon fill=\"#c9daf8\" stroke=\"#c9daf8\" points=\"1267.57,-510.9 1213.57,-510.9 1213.57,-474.9 1267.57,-474.9 1267.57,-510.9\"/>\n",
       "<text text-anchor=\"middle\" x=\"1240.57\" y=\"-490.17\" font-family=\"Helvetica,sans-Serif\" font-size=\"8.00\">unit.DEG</text>\n",
       "</g>\n",
       "<!-- cmso.Angle&#45;&gt;unit.DEG -->\n",
       "<g id=\"edge1\" class=\"edge\">\n",
       "<title>cmso.Angle&#45;&gt;unit.DEG</title>\n",
       "<path fill=\"none\" stroke=\"#263238\" d=\"M1205.88,-487.52C1206.03,-487.54 1206.18,-487.56 1206.33,-487.59\"/>\n",
       "<polygon fill=\"#263238\" stroke=\"#263238\" points=\"1201.15,-490.32 1211.57,-488.4 1202.23,-483.41 1201.15,-490.32\"/>\n",
       "<text text-anchor=\"middle\" x=\"1233.48\" y=\"-489.7\" font-family=\"Helvetica,sans-Serif\" font-size=\"8.00\">cmso.hasUnit</text>\n",
       "</g>\n",
       "<!-- sample_d0ef3818&#45;e971&#45;4095&#45;ac13&#45;8a9c7c700b67_SimulationCell -->\n",
       "<g id=\"node3\" class=\"node\">\n",
       "<title>sample_d0ef3818&#45;e971&#45;4095&#45;ac13&#45;8a9c7c700b67_SimulationCell</title>\n",
       "<polygon fill=\"#d9d9d9\" stroke=\"#d9d9d9\" points=\"2450.75,-2807.19 2163.25,-2807.19 2163.25,-2771.19 2450.75,-2771.19 2450.75,-2807.19\"/>\n",
       "<text text-anchor=\"middle\" x=\"2307\" y=\"-2786.47\" font-family=\"Helvetica,sans-Serif\" font-size=\"8.00\">sample_d0ef3818&#45;e971&#45;4095&#45;ac13&#45;8a9c7c700b67_SimulationCell</text>\n",
       "</g>\n",
       "<!-- sample_d0ef3818&#45;e971&#45;4095&#45;ac13&#45;8a9c7c700b67_SimulationCellLength -->\n",
       "<g id=\"node4\" class=\"node\">\n",
       "<title>sample_d0ef3818&#45;e971&#45;4095&#45;ac13&#45;8a9c7c700b67_SimulationCellLength</title>\n",
       "<polygon fill=\"#d9d9d9\" stroke=\"#d9d9d9\" points=\"2774.89,-2830.17 2458.89,-2830.17 2458.89,-2794.17 2774.89,-2794.17 2774.89,-2830.17\"/>\n",
       "<text text-anchor=\"middle\" x=\"2616.89\" y=\"-2809.44\" font-family=\"Helvetica,sans-Serif\" font-size=\"8.00\">sample_d0ef3818&#45;e971&#45;4095&#45;ac13&#45;8a9c7c700b67_SimulationCellLength</text>\n",
       "</g>\n",
       "<!-- sample_d0ef3818&#45;e971&#45;4095&#45;ac13&#45;8a9c7c700b67_SimulationCell&#45;&gt;sample_d0ef3818&#45;e971&#45;4095&#45;ac13&#45;8a9c7c700b67_SimulationCellLength -->\n",
       "<g id=\"edge2\" class=\"edge\">\n",
       "<title>sample_d0ef3818&#45;e971&#45;4095&#45;ac13&#45;8a9c7c700b67_SimulationCell&#45;&gt;sample_d0ef3818&#45;e971&#45;4095&#45;ac13&#45;8a9c7c700b67_SimulationCellLength</title>\n",
       "<path fill=\"none\" stroke=\"#263238\" d=\"M2451.06,-2799.87C2451.22,-2799.88 2451.38,-2799.89 2451.53,-2799.91\"/>\n",
       "<polygon fill=\"#263238\" stroke=\"#263238\" points=\"2446.92,-2803.07 2457.15,-2800.32 2447.43,-2796.09 2446.92,-2803.07\"/>\n",
       "<text text-anchor=\"middle\" x=\"2484.67\" y=\"-2792.29\" font-family=\"Helvetica,sans-Serif\" font-size=\"8.00\">cmso.hasLength</text>\n",
       "</g>\n",
       "<!-- sample_d0ef3818&#45;e971&#45;4095&#45;ac13&#45;8a9c7c700b67_SimulationCellVector_2 -->\n",
       "<g id=\"node32\" class=\"node\">\n",
       "<title>sample_d0ef3818&#45;e971&#45;4095&#45;ac13&#45;8a9c7c700b67_SimulationCellVector_2</title>\n",
       "<polygon fill=\"#d9d9d9\" stroke=\"#d9d9d9\" points=\"2466.68,-3011.64 2144.68,-3011.64 2144.68,-2975.64 2466.68,-2975.64 2466.68,-3011.64\"/>\n",
       "<text text-anchor=\"middle\" x=\"2305.68\" y=\"-2990.92\" font-family=\"Helvetica,sans-Serif\" font-size=\"8.00\">sample_d0ef3818&#45;e971&#45;4095&#45;ac13&#45;8a9c7c700b67_SimulationCellVector_2</text>\n",
       "</g>\n",
       "<!-- sample_d0ef3818&#45;e971&#45;4095&#45;ac13&#45;8a9c7c700b67_SimulationCell&#45;&gt;sample_d0ef3818&#45;e971&#45;4095&#45;ac13&#45;8a9c7c700b67_SimulationCellVector_2 -->\n",
       "<g id=\"edge57\" class=\"edge\">\n",
       "<title>sample_d0ef3818&#45;e971&#45;4095&#45;ac13&#45;8a9c7c700b67_SimulationCell&#45;&gt;sample_d0ef3818&#45;e971&#45;4095&#45;ac13&#45;8a9c7c700b67_SimulationCellVector_2</title>\n",
       "<path fill=\"none\" stroke=\"#263238\" d=\"M2306.88,-2807.33C2306.65,-2842.63 2306.15,-2920.85 2305.87,-2963.86\"/>\n",
       "<polygon fill=\"#263238\" stroke=\"#263238\" points=\"2302.37,-2963.71 2305.8,-2973.73 2309.37,-2963.75 2302.37,-2963.71\"/>\n",
       "<text text-anchor=\"middle\" x=\"2274.5\" y=\"-2887.75\" font-family=\"Helvetica,sans-Serif\" font-size=\"8.00\">cmso.hasVector</text>\n",
       "</g>\n",
       "<!-- sample_d0ef3818&#45;e971&#45;4095&#45;ac13&#45;8a9c7c700b67_SimulationCellVector_1 -->\n",
       "<g id=\"node35\" class=\"node\">\n",
       "<title>sample_d0ef3818&#45;e971&#45;4095&#45;ac13&#45;8a9c7c700b67_SimulationCellVector_1</title>\n",
       "<polygon fill=\"#d9d9d9\" stroke=\"#d9d9d9\" points=\"2661.38,-2967.62 2339.38,-2967.62 2339.38,-2931.62 2661.38,-2931.62 2661.38,-2967.62\"/>\n",
       "<text text-anchor=\"middle\" x=\"2500.38\" y=\"-2946.9\" font-family=\"Helvetica,sans-Serif\" font-size=\"8.00\">sample_d0ef3818&#45;e971&#45;4095&#45;ac13&#45;8a9c7c700b67_SimulationCellVector_1</text>\n",
       "</g>\n",
       "<!-- sample_d0ef3818&#45;e971&#45;4095&#45;ac13&#45;8a9c7c700b67_SimulationCell&#45;&gt;sample_d0ef3818&#45;e971&#45;4095&#45;ac13&#45;8a9c7c700b67_SimulationCellVector_1 -->\n",
       "<g id=\"edge52\" class=\"edge\">\n",
       "<title>sample_d0ef3818&#45;e971&#45;4095&#45;ac13&#45;8a9c7c700b67_SimulationCell&#45;&gt;sample_d0ef3818&#45;e971&#45;4095&#45;ac13&#45;8a9c7c700b67_SimulationCellVector_1</title>\n",
       "<path fill=\"none\" stroke=\"#263238\" d=\"M2329.18,-2807.59C2363.77,-2836.29 2430.63,-2891.76 2469.78,-2924.23\"/>\n",
       "<polygon fill=\"#263238\" stroke=\"#263238\" points=\"2467.06,-2926.53 2476.99,-2930.22 2471.53,-2921.14 2467.06,-2926.53\"/>\n",
       "<text text-anchor=\"middle\" x=\"2367.61\" y=\"-2868.06\" font-family=\"Helvetica,sans-Serif\" font-size=\"8.00\">cmso.hasVector</text>\n",
       "</g>\n",
       "<!-- sample_d0ef3818&#45;e971&#45;4095&#45;ac13&#45;8a9c7c700b67_SimulationCellAngle -->\n",
       "<g id=\"node39\" class=\"node\">\n",
       "<title>sample_d0ef3818&#45;e971&#45;4095&#45;ac13&#45;8a9c7c700b67_SimulationCellAngle</title>\n",
       "<polygon fill=\"#d9d9d9\" stroke=\"#d9d9d9\" points=\"2719.24,-2688.9 2408.49,-2688.9 2408.49,-2652.9 2719.24,-2652.9 2719.24,-2688.9\"/>\n",
       "<text text-anchor=\"middle\" x=\"2563.86\" y=\"-2668.18\" font-family=\"Helvetica,sans-Serif\" font-size=\"8.00\">sample_d0ef3818&#45;e971&#45;4095&#45;ac13&#45;8a9c7c700b67_SimulationCellAngle</text>\n",
       "</g>\n",
       "<!-- sample_d0ef3818&#45;e971&#45;4095&#45;ac13&#45;8a9c7c700b67_SimulationCell&#45;&gt;sample_d0ef3818&#45;e971&#45;4095&#45;ac13&#45;8a9c7c700b67_SimulationCellAngle -->\n",
       "<g id=\"edge111\" class=\"edge\">\n",
       "<title>sample_d0ef3818&#45;e971&#45;4095&#45;ac13&#45;8a9c7c700b67_SimulationCell&#45;&gt;sample_d0ef3818&#45;e971&#45;4095&#45;ac13&#45;8a9c7c700b67_SimulationCellAngle</title>\n",
       "<path fill=\"none\" stroke=\"#263238\" d=\"M2347.14,-2770.71C2392.09,-2750 2465.03,-2716.42 2513.71,-2694\"/>\n",
       "<polygon fill=\"#263238\" stroke=\"#263238\" points=\"2515.02,-2697.25 2522.64,-2689.89 2512.09,-2690.89 2515.02,-2697.25\"/>\n",
       "<text text-anchor=\"middle\" x=\"2399.67\" y=\"-2734.5\" font-family=\"Helvetica,sans-Serif\" font-size=\"8.00\">cmso.hasAngle</text>\n",
       "</g>\n",
       "<!-- sample_d0ef3818&#45;e971&#45;4095&#45;ac13&#45;8a9c7c700b67_SimulationCellVector_3 -->\n",
       "<g id=\"node47\" class=\"node\">\n",
       "<title>sample_d0ef3818&#45;e971&#45;4095&#45;ac13&#45;8a9c7c700b67_SimulationCellVector_3</title>\n",
       "<polygon fill=\"#d9d9d9\" stroke=\"#d9d9d9\" points=\"2309.34,-2967.4 1987.34,-2967.4 1987.34,-2931.4 2309.34,-2931.4 2309.34,-2967.4\"/>\n",
       "<text text-anchor=\"middle\" x=\"2148.34\" y=\"-2946.68\" font-family=\"Helvetica,sans-Serif\" font-size=\"8.00\">sample_d0ef3818&#45;e971&#45;4095&#45;ac13&#45;8a9c7c700b67_SimulationCellVector_3</text>\n",
       "</g>\n",
       "<!-- sample_d0ef3818&#45;e971&#45;4095&#45;ac13&#45;8a9c7c700b67_SimulationCell&#45;&gt;sample_d0ef3818&#45;e971&#45;4095&#45;ac13&#45;8a9c7c700b67_SimulationCellVector_3 -->\n",
       "<g id=\"edge93\" class=\"edge\">\n",
       "<title>sample_d0ef3818&#45;e971&#45;4095&#45;ac13&#45;8a9c7c700b67_SimulationCell&#45;&gt;sample_d0ef3818&#45;e971&#45;4095&#45;ac13&#45;8a9c7c700b67_SimulationCellVector_3</title>\n",
       "<path fill=\"none\" stroke=\"#263238\" d=\"M2288.8,-2807.57C2260.71,-2835.94 2206.66,-2890.52 2174.42,-2923.07\"/>\n",
       "<polygon fill=\"#263238\" stroke=\"#263238\" points=\"2171.94,-2920.6 2167.39,-2930.16 2176.92,-2925.52 2171.94,-2920.6\"/>\n",
       "<text text-anchor=\"middle\" x=\"2199.73\" y=\"-2867.47\" font-family=\"Helvetica,sans-Serif\" font-size=\"8.00\">cmso.hasVector</text>\n",
       "</g>\n",
       "<!-- 237d4cd2&#45;0cac&#45;42b7&#45;af0a&#45;d34eb9ff2084 -->\n",
       "<g id=\"node74\" class=\"node\">\n",
       "<title>237d4cd2&#45;0cac&#45;42b7&#45;af0a&#45;d34eb9ff2084</title>\n",
       "<polygon fill=\"#e6b8af\" stroke=\"#e6b8af\" points=\"2423.16,-2732.92 2370.55,-2732.92 2357.02,-2696.92 2409.63,-2696.92 2423.16,-2732.92\"/>\n",
       "<text text-anchor=\"middle\" x=\"2390.09\" y=\"-2712.19\" font-family=\"Helvetica,sans-Serif\" font-size=\"8.00\">66.43</text>\n",
       "</g>\n",
       "<!-- sample_d0ef3818&#45;e971&#45;4095&#45;ac13&#45;8a9c7c700b67_SimulationCell&#45;&gt;237d4cd2&#45;0cac&#45;42b7&#45;af0a&#45;d34eb9ff2084 -->\n",
       "<g id=\"edge53\" class=\"edge\">\n",
       "<title>sample_d0ef3818&#45;e971&#45;4095&#45;ac13&#45;8a9c7c700b67_SimulationCell&#45;&gt;237d4cd2&#45;0cac&#45;42b7&#45;af0a&#45;d34eb9ff2084</title>\n",
       "<path fill=\"none\" stroke=\"#263238\" d=\"M2327.54,-2770.83C2337.88,-2761.59 2350.58,-2750.24 2361.82,-2740.19\"/>\n",
       "<polygon fill=\"#263238\" stroke=\"#263238\" points=\"2363.82,-2743.09 2368.95,-2733.82 2359.16,-2737.87 2363.82,-2743.09\"/>\n",
       "<text text-anchor=\"middle\" x=\"2310.56\" y=\"-2757.66\" font-family=\"Helvetica,sans-Serif\" font-size=\"8.00\">cmso.hasVolume</text>\n",
       "</g>\n",
       "<!-- f32eca18&#45;6e35&#45;44a0&#45;a7d4&#45;8bb0425fffca -->\n",
       "<g id=\"node62\" class=\"node\">\n",
       "<title>f32eca18&#45;6e35&#45;44a0&#45;a7d4&#45;8bb0425fffca</title>\n",
       "<polygon fill=\"#e6b8af\" stroke=\"#e6b8af\" points=\"2840.16,-2719.26 2794.58,-2719.26 2782.86,-2683.26 2828.43,-2683.26 2840.16,-2719.26\"/>\n",
       "<text text-anchor=\"middle\" x=\"2811.51\" y=\"-2698.53\" font-family=\"Helvetica,sans-Serif\" font-size=\"8.00\">4.05</text>\n",
       "</g>\n",
       "<!-- sample_d0ef3818&#45;e971&#45;4095&#45;ac13&#45;8a9c7c700b67_SimulationCellLength&#45;&gt;f32eca18&#45;6e35&#45;44a0&#45;a7d4&#45;8bb0425fffca -->\n",
       "<g id=\"edge40\" class=\"edge\">\n",
       "<title>sample_d0ef3818&#45;e971&#45;4095&#45;ac13&#45;8a9c7c700b67_SimulationCellLength&#45;&gt;f32eca18&#45;6e35&#45;44a0&#45;a7d4&#45;8bb0425fffca</title>\n",
       "<path fill=\"none\" stroke=\"#263238\" d=\"M2649.03,-2793.85C2686.07,-2772.74 2746.44,-2738.34 2782.23,-2717.94\"/>\n",
       "<polygon fill=\"#263238\" stroke=\"#263238\" points=\"2783.8,-2721.08 2790.75,-2713.09 2780.33,-2715 2783.8,-2721.08\"/>\n",
       "<text text-anchor=\"middle\" x=\"2678.13\" y=\"-2758.05\" font-family=\"Helvetica,sans-Serif\" font-size=\"8.00\">cmso.hasLength_z</text>\n",
       "</g>\n",
       "<!-- ab2cc92e&#45;489d&#45;474d&#45;984c&#45;51477c355c48 -->\n",
       "<g id=\"node98\" class=\"node\">\n",
       "<title>ab2cc92e&#45;489d&#45;474d&#45;984c&#45;51477c355c48</title>\n",
       "<polygon fill=\"#e6b8af\" stroke=\"#e6b8af\" points=\"2853.96,-2880.95 2808.38,-2880.95 2796.66,-2844.95 2842.24,-2844.95 2853.96,-2880.95\"/>\n",
       "<text text-anchor=\"middle\" x=\"2825.31\" y=\"-2860.22\" font-family=\"Helvetica,sans-Serif\" font-size=\"8.00\">4.05</text>\n",
       "</g>\n",
       "<!-- sample_d0ef3818&#45;e971&#45;4095&#45;ac13&#45;8a9c7c700b67_SimulationCellLength&#45;&gt;ab2cc92e&#45;489d&#45;474d&#45;984c&#45;51477c355c48 -->\n",
       "<g id=\"edge79\" class=\"edge\">\n",
       "<title>sample_d0ef3818&#45;e971&#45;4095&#45;ac13&#45;8a9c7c700b67_SimulationCellLength&#45;&gt;ab2cc92e&#45;489d&#45;474d&#45;984c&#45;51477c355c48</title>\n",
       "<path fill=\"none\" stroke=\"#263238\" d=\"M2692.73,-2830.64C2725.58,-2838.65 2762.5,-2847.64 2789.02,-2854.1\"/>\n",
       "<polygon fill=\"#263238\" stroke=\"#263238\" points=\"2788.05,-2857.47 2798.59,-2856.44 2789.71,-2850.67 2788.05,-2857.47\"/>\n",
       "<text text-anchor=\"middle\" x=\"2703.37\" y=\"-2844.52\" font-family=\"Helvetica,sans-Serif\" font-size=\"8.00\">cmso.hasLength_y</text>\n",
       "</g>\n",
       "<!-- e5a2c592&#45;7465&#45;41ab&#45;ad3f&#45;f4c4d3f67554 -->\n",
       "<g id=\"node114\" class=\"node\">\n",
       "<title>e5a2c592&#45;7465&#45;41ab&#45;ad3f&#45;f4c4d3f67554</title>\n",
       "<polygon fill=\"#e6b8af\" stroke=\"#e6b8af\" points=\"2794.68,-2980.71 2749.1,-2980.71 2737.38,-2944.71 2782.95,-2944.71 2794.68,-2980.71\"/>\n",
       "<text text-anchor=\"middle\" x=\"2766.03\" y=\"-2959.99\" font-family=\"Helvetica,sans-Serif\" font-size=\"8.00\">4.05</text>\n",
       "</g>\n",
       "<!-- sample_d0ef3818&#45;e971&#45;4095&#45;ac13&#45;8a9c7c700b67_SimulationCellLength&#45;&gt;e5a2c592&#45;7465&#45;41ab&#45;ad3f&#45;f4c4d3f67554 -->\n",
       "<g id=\"edge107\" class=\"edge\">\n",
       "<title>sample_d0ef3818&#45;e971&#45;4095&#45;ac13&#45;8a9c7c700b67_SimulationCellLength&#45;&gt;e5a2c592&#45;7465&#45;41ab&#45;ad3f&#45;f4c4d3f67554</title>\n",
       "<path fill=\"none\" stroke=\"#263238\" d=\"M2635.18,-2830.63C2661.48,-2857.18 2710.13,-2906.29 2740.12,-2936.57\"/>\n",
       "<polygon fill=\"#263238\" stroke=\"#263238\" points=\"2737.47,-2938.86 2746.99,-2943.5 2742.44,-2933.93 2737.47,-2938.86\"/>\n",
       "<text text-anchor=\"middle\" x=\"2650.15\" y=\"-2885.75\" font-family=\"Helvetica,sans-Serif\" font-size=\"8.00\">cmso.hasLength_x</text>\n",
       "</g>\n",
       "<!-- sample_d0ef3818&#45;e971&#45;4095&#45;ac13&#45;8a9c7c700b67_CrystalStructure -->\n",
       "<g id=\"node5\" class=\"node\">\n",
       "<title>sample_d0ef3818&#45;e971&#45;4095&#45;ac13&#45;8a9c7c700b67_CrystalStructure</title>\n",
       "<polygon fill=\"#d9d9d9\" stroke=\"#d9d9d9\" points=\"2176.19,-2128.15 1881.94,-2128.15 1881.94,-2092.15 2176.19,-2092.15 2176.19,-2128.15\"/>\n",
       "<text text-anchor=\"middle\" x=\"2029.06\" y=\"-2107.42\" font-family=\"Helvetica,sans-Serif\" font-size=\"8.00\">sample_d0ef3818&#45;e971&#45;4095&#45;ac13&#45;8a9c7c700b67_CrystalStructure</text>\n",
       "</g>\n",
       "<!-- c4e971e5&#45;1f44&#45;4a04&#45;a180&#45;f29ad5917d0c -->\n",
       "<g id=\"node6\" class=\"node\">\n",
       "<title>c4e971e5&#45;1f44&#45;4a04&#45;a180&#45;f29ad5917d0c</title>\n",
       "<polygon fill=\"#e6b8af\" stroke=\"#e6b8af\" points=\"1815.35,-2132.65 1757.71,-2132.65 1742.88,-2096.65 1800.52,-2096.65 1815.35,-2132.65\"/>\n",
       "<text text-anchor=\"middle\" x=\"1779.11\" y=\"-2111.92\" font-family=\"Helvetica,sans-Serif\" font-size=\"8.00\">Fm&#45;3M</text>\n",
       "</g>\n",
       "<!-- sample_d0ef3818&#45;e971&#45;4095&#45;ac13&#45;8a9c7c700b67_CrystalStructure&#45;&gt;c4e971e5&#45;1f44&#45;4a04&#45;a180&#45;f29ad5917d0c -->\n",
       "<g id=\"edge3\" class=\"edge\">\n",
       "<title>sample_d0ef3818&#45;e971&#45;4095&#45;ac13&#45;8a9c7c700b67_CrystalStructure&#45;&gt;c4e971e5&#45;1f44&#45;4a04&#45;a180&#45;f29ad5917d0c</title>\n",
       "<path fill=\"none\" stroke=\"#263238\" d=\"M1881.5,-2112.8C1858.66,-2113.22 1836.85,-2113.61 1819.28,-2113.92\"/>\n",
       "<polygon fill=\"#263238\" stroke=\"#263238\" points=\"1819.28,-2110.42 1809.35,-2114.1 1819.41,-2117.42 1819.28,-2110.42\"/>\n",
       "<text text-anchor=\"middle\" x=\"1820.77\" y=\"-2105.76\" font-family=\"Helvetica,sans-Serif\" font-size=\"8.00\">cmso.hasSpaceGroupSymbol</text>\n",
       "</g>\n",
       "<!-- 7f979949&#45;d18d&#45;4303&#45;a9b5&#45;68afd160e1f7 -->\n",
       "<g id=\"node19\" class=\"node\">\n",
       "<title>7f979949&#45;d18d&#45;4303&#45;a9b5&#45;68afd160e1f7</title>\n",
       "<polygon fill=\"#e6b8af\" stroke=\"#e6b8af\" points=\"2221.99,-2028.43 2177.46,-2028.43 2166.01,-1992.43 2210.54,-1992.43 2221.99,-2028.43\"/>\n",
       "<text text-anchor=\"middle\" x=\"2194\" y=\"-2007.7\" font-family=\"Helvetica,sans-Serif\" font-size=\"8.00\">Fcc</text>\n",
       "</g>\n",
       "<!-- sample_d0ef3818&#45;e971&#45;4095&#45;ac13&#45;8a9c7c700b67_CrystalStructure&#45;&gt;7f979949&#45;d18d&#45;4303&#45;a9b5&#45;68afd160e1f7 -->\n",
       "<g id=\"edge10\" class=\"edge\">\n",
       "<title>sample_d0ef3818&#45;e971&#45;4095&#45;ac13&#45;8a9c7c700b67_CrystalStructure&#45;&gt;7f979949&#45;d18d&#45;4303&#45;a9b5&#45;68afd160e1f7</title>\n",
       "<path fill=\"none\" stroke=\"#263238\" d=\"M2059.32,-2091.86C2089.6,-2073.55 2135.83,-2045.59 2165.49,-2027.67\"/>\n",
       "<polygon fill=\"#263238\" stroke=\"#263238\" points=\"2167.19,-2030.73 2173.93,-2022.56 2163.57,-2024.74 2167.19,-2030.73\"/>\n",
       "<text text-anchor=\"middle\" x=\"2076.03\" y=\"-2061.91\" font-family=\"Helvetica,sans-Serif\" font-size=\"8.00\">cmso.hasAltName</text>\n",
       "</g>\n",
       "<!-- sample_d0ef3818&#45;e971&#45;4095&#45;ac13&#45;8a9c7c700b67_UnitCell -->\n",
       "<g id=\"node23\" class=\"node\">\n",
       "<title>sample_d0ef3818&#45;e971&#45;4095&#45;ac13&#45;8a9c7c700b67_UnitCell</title>\n",
       "<polygon fill=\"#d9d9d9\" stroke=\"#d9d9d9\" points=\"2147.09,-1893.23 1886.59,-1893.23 1886.59,-1857.23 2147.09,-1857.23 2147.09,-1893.23\"/>\n",
       "<text text-anchor=\"middle\" x=\"2016.84\" y=\"-1872.5\" font-family=\"Helvetica,sans-Serif\" font-size=\"8.00\">sample_d0ef3818&#45;e971&#45;4095&#45;ac13&#45;8a9c7c700b67_UnitCell</text>\n",
       "</g>\n",
       "<!-- sample_d0ef3818&#45;e971&#45;4095&#45;ac13&#45;8a9c7c700b67_CrystalStructure&#45;&gt;sample_d0ef3818&#45;e971&#45;4095&#45;ac13&#45;8a9c7c700b67_UnitCell -->\n",
       "<g id=\"edge89\" class=\"edge\">\n",
       "<title>sample_d0ef3818&#45;e971&#45;4095&#45;ac13&#45;8a9c7c700b67_CrystalStructure&#45;&gt;sample_d0ef3818&#45;e971&#45;4095&#45;ac13&#45;8a9c7c700b67_UnitCell</title>\n",
       "<path fill=\"none\" stroke=\"#263238\" d=\"M2028.11,-2091.71C2026,-2051.23 2020.95,-1954.25 2018.39,-1905\"/>\n",
       "<polygon fill=\"#263238\" stroke=\"#263238\" points=\"2021.89,-1904.89 2017.87,-1895.09 2014.9,-1905.26 2021.89,-1904.89\"/>\n",
       "<text text-anchor=\"middle\" x=\"1988.37\" y=\"-2000.51\" font-family=\"Helvetica,sans-Serif\" font-size=\"8.00\">cmso.hasUnitCell</text>\n",
       "</g>\n",
       "<!-- 2e3af043&#45;cb51&#45;4de0&#45;aa60&#45;37a190ca2b0c -->\n",
       "<g id=\"node77\" class=\"node\">\n",
       "<title>2e3af043&#45;cb51&#45;4de0&#45;aa60&#45;37a190ca2b0c</title>\n",
       "<polygon fill=\"#e6b8af\" stroke=\"#e6b8af\" points=\"1893.89,-2067.55 1849.36,-2067.55 1837.91,-2031.55 1882.44,-2031.55 1893.89,-2067.55\"/>\n",
       "<text text-anchor=\"middle\" x=\"1865.9\" y=\"-2046.83\" font-family=\"Helvetica,sans-Serif\" font-size=\"8.00\">225</text>\n",
       "</g>\n",
       "<!-- sample_d0ef3818&#45;e971&#45;4095&#45;ac13&#45;8a9c7c700b67_CrystalStructure&#45;&gt;2e3af043&#45;cb51&#45;4de0&#45;aa60&#45;37a190ca2b0c -->\n",
       "<g id=\"edge55\" class=\"edge\">\n",
       "<title>sample_d0ef3818&#45;e971&#45;4095&#45;ac13&#45;8a9c7c700b67_CrystalStructure&#45;&gt;2e3af043&#45;cb51&#45;4de0&#45;aa60&#45;37a190ca2b0c</title>\n",
       "<path fill=\"none\" stroke=\"#263238\" d=\"M1979.67,-2091.8C1954.68,-2082.52 1924.89,-2071.46 1902.07,-2062.98\"/>\n",
       "<polygon fill=\"#263238\" stroke=\"#263238\" points=\"1903.49,-2059.78 1892.89,-2059.58 1901.05,-2066.34 1903.49,-2059.78\"/>\n",
       "<text text-anchor=\"middle\" x=\"1880.49\" y=\"-2079.54\" font-family=\"Helvetica,sans-Serif\" font-size=\"8.00\">cmso.hasSpaceGroupNumber</text>\n",
       "</g>\n",
       "<!-- sample_d0ef3818&#45;e971&#45;4095&#45;ac13&#45;8a9c7c700b67_Position -->\n",
       "<g id=\"node7\" class=\"node\">\n",
       "<title>sample_d0ef3818&#45;e971&#45;4095&#45;ac13&#45;8a9c7c700b67_Position</title>\n",
       "<polygon fill=\"#d9d9d9\" stroke=\"#d9d9d9\" points=\"2049.25,-2605.13 1788,-2605.13 1788,-2569.13 2049.25,-2569.13 2049.25,-2605.13\"/>\n",
       "<text text-anchor=\"middle\" x=\"1918.62\" y=\"-2584.41\" font-family=\"Helvetica,sans-Serif\" font-size=\"8.00\">sample_d0ef3818&#45;e971&#45;4095&#45;ac13&#45;8a9c7c700b67_Position</text>\n",
       "</g>\n",
       "<!-- 451a35b8&#45;2154&#45;4597&#45;a3b9&#45;7288fe15915d -->\n",
       "<g id=\"node8\" class=\"node\">\n",
       "<title>451a35b8&#45;2154&#45;4597&#45;a3b9&#45;7288fe15915d</title>\n",
       "<polygon fill=\"#e6b8af\" stroke=\"#e6b8af\" points=\"1839.69,-2732.97 1442.24,-2732.97 1340,-2696.97 1737.44,-2696.97 1839.69,-2732.97\"/>\n",
       "<text text-anchor=\"middle\" x=\"1589.84\" y=\"-2712.24\" font-family=\"Helvetica,sans-Serif\" font-size=\"8.00\">Rdf_Structure_Store/D0Ef3818&#45;E971&#45;4095&#45;Ac13&#45;8A9C7C700B67.Json</text>\n",
       "</g>\n",
       "<!-- sample_d0ef3818&#45;e971&#45;4095&#45;ac13&#45;8a9c7c700b67_Position&#45;&gt;451a35b8&#45;2154&#45;4597&#45;a3b9&#45;7288fe15915d -->\n",
       "<g id=\"edge4\" class=\"edge\">\n",
       "<title>sample_d0ef3818&#45;e971&#45;4095&#45;ac13&#45;8a9c7c700b67_Position&#45;&gt;451a35b8&#45;2154&#45;4597&#45;a3b9&#45;7288fe15915d</title>\n",
       "<path fill=\"none\" stroke=\"#263238\" d=\"M1871.17,-2605.58C1812.16,-2628.53 1711.48,-2667.67 1647.93,-2692.38\"/>\n",
       "<polygon fill=\"#263238\" stroke=\"#263238\" points=\"1646.75,-2689.09 1638.7,-2695.97 1649.28,-2695.61 1646.75,-2689.09\"/>\n",
       "<text text-anchor=\"middle\" x=\"1731.42\" y=\"-2651.13\" font-family=\"Helvetica,sans-Serif\" font-size=\"8.00\">cmso.hasPath</text>\n",
       "</g>\n",
       "<!-- 5e7b75cc&#45;7399&#45;4d88&#45;a38e&#45;fdc19b44dc16 -->\n",
       "<g id=\"node105\" class=\"node\">\n",
       "<title>5e7b75cc&#45;7399&#45;4d88&#45;a38e&#45;fdc19b44dc16</title>\n",
       "<polygon fill=\"#e6b8af\" stroke=\"#e6b8af\" points=\"1725.57,-2503.05 1660.89,-2503.05 1644.25,-2467.05 1708.93,-2467.05 1725.57,-2503.05\"/>\n",
       "<text text-anchor=\"middle\" x=\"1684.91\" y=\"-2482.33\" font-family=\"Helvetica,sans-Serif\" font-size=\"8.00\">Position</text>\n",
       "</g>\n",
       "<!-- sample_d0ef3818&#45;e971&#45;4095&#45;ac13&#45;8a9c7c700b67_Position&#45;&gt;5e7b75cc&#45;7399&#45;4d88&#45;a38e&#45;fdc19b44dc16 -->\n",
       "<g id=\"edge90\" class=\"edge\">\n",
       "<title>sample_d0ef3818&#45;e971&#45;4095&#45;ac13&#45;8a9c7c700b67_Position&#45;&gt;5e7b75cc&#45;7399&#45;4d88&#45;a38e&#45;fdc19b44dc16</title>\n",
       "<path fill=\"none\" stroke=\"#263238\" d=\"M1876.3,-2568.65C1836.89,-2551.43 1778.06,-2525.74 1736.04,-2507.39\"/>\n",
       "<polygon fill=\"#263238\" stroke=\"#263238\" points=\"1737.69,-2504.29 1727.13,-2503.49 1734.89,-2510.7 1737.69,-2504.29\"/>\n",
       "<text text-anchor=\"middle\" x=\"1775.05\" y=\"-2540.17\" font-family=\"Helvetica,sans-Serif\" font-size=\"8.00\">cmso.hasName</text>\n",
       "</g>\n",
       "<!-- 155415b1&#45;768a&#45;4aa7&#45;bed2&#45;4016d75e4279 -->\n",
       "<g id=\"node106\" class=\"node\">\n",
       "<title>155415b1&#45;768a&#45;4aa7&#45;bed2&#45;4016d75e4279</title>\n",
       "<polygon fill=\"#e6b8af\" stroke=\"#e6b8af\" points=\"1772.22,-2613.06 1514.52,-2613.06 1448.23,-2577.06 1705.93,-2577.06 1772.22,-2613.06\"/>\n",
       "<text text-anchor=\"middle\" x=\"1610.23\" y=\"-2592.34\" font-family=\"Helvetica,sans-Serif\" font-size=\"8.00\">8D3F8Ec0&#45;0F1B&#45;4Dc0&#45;9Ea6&#45;F6E9Ac1E9F96</text>\n",
       "</g>\n",
       "<!-- sample_d0ef3818&#45;e971&#45;4095&#45;ac13&#45;8a9c7c700b67_Position&#45;&gt;155415b1&#45;768a&#45;4aa7&#45;bed2&#45;4016d75e4279 -->\n",
       "<g id=\"edge91\" class=\"edge\">\n",
       "<title>sample_d0ef3818&#45;e971&#45;4095&#45;ac13&#45;8a9c7c700b67_Position&#45;&gt;155415b1&#45;768a&#45;4aa7&#45;bed2&#45;4016d75e4279</title>\n",
       "<path fill=\"none\" stroke=\"#263238\" d=\"M1787.84,-2590.5C1773.72,-2590.86 1759.33,-2591.23 1745.16,-2591.59\"/>\n",
       "<polygon fill=\"#263238\" stroke=\"#263238\" points=\"1745.27,-2588.09 1735.37,-2591.85 1745.46,-2595.09 1745.27,-2588.09\"/>\n",
       "<text text-anchor=\"middle\" x=\"1804\" y=\"-2593.2\" font-family=\"Helvetica,sans-Serif\" font-size=\"8.00\">cmso.hasIdentifier</text>\n",
       "</g>\n",
       "<!-- sample_a89be6be&#45;c97e&#45;429d&#45;95be&#45;fe3cd8c511f8 -->\n",
       "<g id=\"node9\" class=\"node\">\n",
       "<title>sample_a89be6be&#45;c97e&#45;429d&#45;95be&#45;fe3cd8c511f8</title>\n",
       "<polygon fill=\"#d9d9d9\" stroke=\"#d9d9d9\" points=\"996.43,-1129.68 773.43,-1129.68 773.43,-1093.68 996.43,-1093.68 996.43,-1129.68\"/>\n",
       "<text text-anchor=\"middle\" x=\"884.93\" y=\"-1108.95\" font-family=\"Helvetica,sans-Serif\" font-size=\"8.00\">sample_a89be6be&#45;c97e&#45;429d&#45;95be&#45;fe3cd8c511f8</text>\n",
       "</g>\n",
       "<!-- 7faeb068&#45;b07f&#45;47d9&#45;b680&#45;ef471f5ff54c -->\n",
       "<g id=\"node10\" class=\"node\">\n",
       "<title>7faeb068&#45;b07f&#45;47d9&#45;b680&#45;ef471f5ff54c</title>\n",
       "<polygon fill=\"#e6b8af\" stroke=\"#e6b8af\" points=\"900.93,-998.31 856.4,-998.31 844.95,-962.31 889.47,-962.31 900.93,-998.31\"/>\n",
       "<text text-anchor=\"middle\" x=\"872.94\" y=\"-977.58\" font-family=\"Helvetica,sans-Serif\" font-size=\"8.00\">0.5</text>\n",
       "</g>\n",
       "<!-- sample_a89be6be&#45;c97e&#45;429d&#45;95be&#45;fe3cd8c511f8&#45;&gt;7faeb068&#45;b07f&#45;47d9&#45;b680&#45;ef471f5ff54c -->\n",
       "<g id=\"edge5\" class=\"edge\">\n",
       "<title>sample_a89be6be&#45;c97e&#45;429d&#45;95be&#45;fe3cd8c511f8&#45;&gt;7faeb068&#45;b07f&#45;47d9&#45;b680&#45;ef471f5ff54c</title>\n",
       "<path fill=\"none\" stroke=\"#263238\" d=\"M883.26,-1093.41C881.29,-1071.74 877.96,-1035.34 875.62,-1009.69\"/>\n",
       "<polygon fill=\"#263238\" stroke=\"#263238\" points=\"879.12,-1009.57 874.73,-999.93 872.15,-1010.2 879.12,-1009.57\"/>\n",
       "<text text-anchor=\"middle\" x=\"814.94\" y=\"-1053.7\" font-family=\"Helvetica,sans-Serif\" font-size=\"8.00\">podo.hasVacancyConcentration</text>\n",
       "</g>\n",
       "<!-- sample_a89be6be&#45;c97e&#45;429d&#45;95be&#45;fe3cd8c511f8_Species -->\n",
       "<g id=\"node13\" class=\"node\">\n",
       "<title>sample_a89be6be&#45;c97e&#45;429d&#45;95be&#45;fe3cd8c511f8_Species</title>\n",
       "<polygon fill=\"#d9d9d9\" stroke=\"#d9d9d9\" points=\"744.06,-1158.94 485.06,-1158.94 485.06,-1122.94 744.06,-1122.94 744.06,-1158.94\"/>\n",
       "<text text-anchor=\"middle\" x=\"614.56\" y=\"-1138.22\" font-family=\"Helvetica,sans-Serif\" font-size=\"8.00\">sample_a89be6be&#45;c97e&#45;429d&#45;95be&#45;fe3cd8c511f8_Species</text>\n",
       "</g>\n",
       "<!-- sample_a89be6be&#45;c97e&#45;429d&#45;95be&#45;fe3cd8c511f8&#45;&gt;sample_a89be6be&#45;c97e&#45;429d&#45;95be&#45;fe3cd8c511f8_Species -->\n",
       "<g id=\"edge36\" class=\"edge\">\n",
       "<title>sample_a89be6be&#45;c97e&#45;429d&#45;95be&#45;fe3cd8c511f8&#45;&gt;sample_a89be6be&#45;c97e&#45;429d&#45;95be&#45;fe3cd8c511f8_Species</title>\n",
       "<path fill=\"none\" stroke=\"#263238\" d=\"M773.01,-1123.79C767.25,-1124.41 761.44,-1125.04 755.61,-1125.67\"/>\n",
       "<polygon fill=\"#263238\" stroke=\"#263238\" points=\"755.47,-1122.17 745.91,-1126.73 756.23,-1129.13 755.47,-1122.17\"/>\n",
       "<text text-anchor=\"middle\" x=\"727.56\" y=\"-1117.13\" font-family=\"Helvetica,sans-Serif\" font-size=\"8.00\">cmso.hasAttribute</text>\n",
       "</g>\n",
       "<!-- sample_a89be6be&#45;c97e&#45;429d&#45;95be&#45;fe3cd8c511f8_SimulationCell -->\n",
       "<g id=\"node15\" class=\"node\">\n",
       "<title>sample_a89be6be&#45;c97e&#45;429d&#45;95be&#45;fe3cd8c511f8_SimulationCell</title>\n",
       "<polygon fill=\"#d9d9d9\" stroke=\"#d9d9d9\" points=\"1092.38,-1389.71 807.13,-1389.71 807.13,-1353.71 1092.38,-1353.71 1092.38,-1389.71\"/>\n",
       "<text text-anchor=\"middle\" x=\"949.76\" y=\"-1368.98\" font-family=\"Helvetica,sans-Serif\" font-size=\"8.00\">sample_a89be6be&#45;c97e&#45;429d&#45;95be&#45;fe3cd8c511f8_SimulationCell</text>\n",
       "</g>\n",
       "<!-- sample_a89be6be&#45;c97e&#45;429d&#45;95be&#45;fe3cd8c511f8&#45;&gt;sample_a89be6be&#45;c97e&#45;429d&#45;95be&#45;fe3cd8c511f8_SimulationCell -->\n",
       "<g id=\"edge39\" class=\"edge\">\n",
       "<title>sample_a89be6be&#45;c97e&#45;429d&#45;95be&#45;fe3cd8c511f8&#45;&gt;sample_a89be6be&#45;c97e&#45;429d&#45;95be&#45;fe3cd8c511f8_SimulationCell</title>\n",
       "<path fill=\"none\" stroke=\"#263238\" d=\"M889.49,-1129.96C900.58,-1174.44 929.04,-1288.6 942.5,-1342.58\"/>\n",
       "<polygon fill=\"#263238\" stroke=\"#263238\" points=\"939.02,-1343.12 944.84,-1351.97 945.82,-1341.42 939.02,-1343.12\"/>\n",
       "<text text-anchor=\"middle\" x=\"867.62\" y=\"-1238.42\" font-family=\"Helvetica,sans-Serif\" font-size=\"8.00\">cmso.hasSimulationCell</text>\n",
       "</g>\n",
       "<!-- 32cec626&#45;4241&#45;4dc3&#45;9052&#45;c338ddbcf7aa -->\n",
       "<g id=\"node20\" class=\"node\">\n",
       "<title>32cec626&#45;4241&#45;4dc3&#45;9052&#45;c338ddbcf7aa</title>\n",
       "<polygon fill=\"#e6b8af\" stroke=\"#e6b8af\" points=\"765.39,-1114.9 720.86,-1114.9 709.4,-1078.9 753.93,-1078.9 765.39,-1114.9\"/>\n",
       "<text text-anchor=\"middle\" x=\"737.39\" y=\"-1094.18\" font-family=\"Helvetica,sans-Serif\" font-size=\"8.00\">1</text>\n",
       "</g>\n",
       "<!-- sample_a89be6be&#45;c97e&#45;429d&#45;95be&#45;fe3cd8c511f8&#45;&gt;32cec626&#45;4241&#45;4dc3&#45;9052&#45;c338ddbcf7aa -->\n",
       "<g id=\"edge11\" class=\"edge\">\n",
       "<title>sample_a89be6be&#45;c97e&#45;429d&#45;95be&#45;fe3cd8c511f8&#45;&gt;32cec626&#45;4241&#45;4dc3&#45;9052&#45;c338ddbcf7aa</title>\n",
       "<path fill=\"none\" stroke=\"#263238\" d=\"M773.11,-1100.48C772.84,-1100.45 772.57,-1100.42 772.3,-1100.4\"/>\n",
       "<polygon fill=\"#263238\" stroke=\"#263238\" points=\"772.71,-1096.92 762.41,-1099.41 772.01,-1103.89 772.71,-1096.92\"/>\n",
       "<text text-anchor=\"middle\" x=\"712.7\" y=\"-1102.59\" font-family=\"Helvetica,sans-Serif\" font-size=\"8.00\">podo.hasNumberOfVacancies</text>\n",
       "</g>\n",
       "<!-- sample_a89be6be&#45;c97e&#45;429d&#45;95be&#45;fe3cd8c511f8_Position -->\n",
       "<g id=\"node28\" class=\"node\">\n",
       "<title>sample_a89be6be&#45;c97e&#45;429d&#45;95be&#45;fe3cd8c511f8_Position</title>\n",
       "<polygon fill=\"#d9d9d9\" stroke=\"#d9d9d9\" points=\"1183.22,-1020.85 924.22,-1020.85 924.22,-984.85 1183.22,-984.85 1183.22,-1020.85\"/>\n",
       "<text text-anchor=\"middle\" x=\"1053.72\" y=\"-1000.12\" font-family=\"Helvetica,sans-Serif\" font-size=\"8.00\">sample_a89be6be&#45;c97e&#45;429d&#45;95be&#45;fe3cd8c511f8_Position</text>\n",
       "</g>\n",
       "<!-- sample_a89be6be&#45;c97e&#45;429d&#45;95be&#45;fe3cd8c511f8&#45;&gt;sample_a89be6be&#45;c97e&#45;429d&#45;95be&#45;fe3cd8c511f8_Position -->\n",
       "<g id=\"edge114\" class=\"edge\">\n",
       "<title>sample_a89be6be&#45;c97e&#45;429d&#45;95be&#45;fe3cd8c511f8&#45;&gt;sample_a89be6be&#45;c97e&#45;429d&#45;95be&#45;fe3cd8c511f8_Position</title>\n",
       "<path fill=\"none\" stroke=\"#263238\" d=\"M913.56,-1093.22C941.65,-1075.1 984.67,-1047.37 1015.63,-1027.41\"/>\n",
       "<polygon fill=\"#263238\" stroke=\"#263238\" points=\"1017.45,-1030.4 1023.95,-1022.04 1013.65,-1024.52 1017.45,-1030.4\"/>\n",
       "<text text-anchor=\"middle\" x=\"927.85\" y=\"-1062.46\" font-family=\"Helvetica,sans-Serif\" font-size=\"8.00\">cmso.hasAttribute</text>\n",
       "</g>\n",
       "<!-- 66931792&#45;cd5e&#45;410e&#45;9c77&#45;94c55d9df7b1 -->\n",
       "<g id=\"node56\" class=\"node\">\n",
       "<title>66931792&#45;cd5e&#45;410e&#45;9c77&#45;94c55d9df7b1</title>\n",
       "<polygon fill=\"#e6b8af\" stroke=\"#e6b8af\" points=\"1060.55,-1130.86 1016.02,-1130.86 1004.57,-1094.86 1049.1,-1094.86 1060.55,-1130.86\"/>\n",
       "<text text-anchor=\"middle\" x=\"1032.56\" y=\"-1110.14\" font-family=\"Helvetica,sans-Serif\" font-size=\"8.00\">1</text>\n",
       "</g>\n",
       "<!-- sample_a89be6be&#45;c97e&#45;429d&#45;95be&#45;fe3cd8c511f8&#45;&gt;66931792&#45;cd5e&#45;410e&#45;9c77&#45;94c55d9df7b1 -->\n",
       "<g id=\"edge33\" class=\"edge\">\n",
       "<title>sample_a89be6be&#45;c97e&#45;429d&#45;95be&#45;fe3cd8c511f8&#45;&gt;66931792&#45;cd5e&#45;410e&#45;9c77&#45;94c55d9df7b1</title>\n",
       "<path fill=\"none\" stroke=\"#263238\" d=\"M996.82,-1112.57C997.41,-1112.58 997.99,-1112.58 998.56,-1112.59\"/>\n",
       "<polygon fill=\"#263238\" stroke=\"#263238\" points=\"998.33,-1116.09 1008.35,-1112.67 998.38,-1109.09 998.33,-1116.09\"/>\n",
       "<text text-anchor=\"middle\" x=\"1050.19\" y=\"-1114.73\" font-family=\"Helvetica,sans-Serif\" font-size=\"8.00\">cmso.hasNumberOfAtoms</text>\n",
       "</g>\n",
       "<!-- sample_a89be6be&#45;c97e&#45;429d&#45;95be&#45;fe3cd8c511f8_Material -->\n",
       "<g id=\"node89\" class=\"node\">\n",
       "<title>sample_a89be6be&#45;c97e&#45;429d&#45;95be&#45;fe3cd8c511f8_Material</title>\n",
       "<polygon fill=\"#d9d9d9\" stroke=\"#d9d9d9\" points=\"894.35,-892.65 634.6,-892.65 634.6,-856.65 894.35,-856.65 894.35,-892.65\"/>\n",
       "<text text-anchor=\"middle\" x=\"764.48\" y=\"-871.93\" font-family=\"Helvetica,sans-Serif\" font-size=\"8.00\">sample_a89be6be&#45;c97e&#45;429d&#45;95be&#45;fe3cd8c511f8_Material</text>\n",
       "</g>\n",
       "<!-- sample_a89be6be&#45;c97e&#45;429d&#45;95be&#45;fe3cd8c511f8&#45;&gt;sample_a89be6be&#45;c97e&#45;429d&#45;95be&#45;fe3cd8c511f8_Material -->\n",
       "<g id=\"edge106\" class=\"edge\">\n",
       "<title>sample_a89be6be&#45;c97e&#45;429d&#45;95be&#45;fe3cd8c511f8&#45;&gt;sample_a89be6be&#45;c97e&#45;429d&#45;95be&#45;fe3cd8c511f8_Material</title>\n",
       "<path fill=\"none\" stroke=\"#263238\" d=\"M875.68,-1093.47C854.79,-1052.37 803.85,-952.13 778.83,-902.89\"/>\n",
       "<polygon fill=\"#263238\" stroke=\"#263238\" points=\"782.1,-901.6 774.45,-894.27 775.86,-904.77 782.1,-901.6\"/>\n",
       "<text text-anchor=\"middle\" x=\"791.63\" y=\"-1000.33\" font-family=\"Helvetica,sans-Serif\" font-size=\"8.00\">cmso.hasMaterial</text>\n",
       "</g>\n",
       "<!-- sample_a89be6be&#45;c97e&#45;429d&#45;95be&#45;fe3cd8c511f8_ChemicalSpecies -->\n",
       "<g id=\"node109\" class=\"node\">\n",
       "<title>sample_a89be6be&#45;c97e&#45;429d&#45;95be&#45;fe3cd8c511f8_ChemicalSpecies</title>\n",
       "<polygon fill=\"#d9d9d9\" stroke=\"#d9d9d9\" points=\"1165.53,-950.87 869.03,-950.87 869.03,-914.87 1165.53,-914.87 1165.53,-950.87\"/>\n",
       "<text text-anchor=\"middle\" x=\"1017.28\" y=\"-930.15\" font-family=\"Helvetica,sans-Serif\" font-size=\"8.00\">sample_a89be6be&#45;c97e&#45;429d&#45;95be&#45;fe3cd8c511f8_ChemicalSpecies</text>\n",
       "</g>\n",
       "<!-- sample_a89be6be&#45;c97e&#45;429d&#45;95be&#45;fe3cd8c511f8&#45;&gt;sample_a89be6be&#45;c97e&#45;429d&#45;95be&#45;fe3cd8c511f8_ChemicalSpecies -->\n",
       "<g id=\"edge96\" class=\"edge\">\n",
       "<title>sample_a89be6be&#45;c97e&#45;429d&#45;95be&#45;fe3cd8c511f8&#45;&gt;sample_a89be6be&#45;c97e&#45;429d&#45;95be&#45;fe3cd8c511f8_ChemicalSpecies</title>\n",
       "<path fill=\"none\" stroke=\"#263238\" d=\"M898.6,-1093.22C921.94,-1061.68 969.6,-997.28 996.89,-960.42\"/>\n",
       "<polygon fill=\"#263238\" stroke=\"#263238\" points=\"999.65,-962.57 1002.79,-952.45 994.03,-958.41 999.65,-962.57\"/>\n",
       "<text text-anchor=\"middle\" x=\"912.49\" y=\"-1028.97\" font-family=\"Helvetica,sans-Serif\" font-size=\"8.00\">cmso.hasSpecies</text>\n",
       "</g>\n",
       "<!-- cmso.LatticeParameter -->\n",
       "<g id=\"node11\" class=\"node\">\n",
       "<title>cmso.LatticeParameter</title>\n",
       "<polygon fill=\"#c9daf8\" stroke=\"#c9daf8\" points=\"1843.47,-555.52 1734.47,-555.52 1734.47,-519.52 1843.47,-519.52 1843.47,-555.52\"/>\n",
       "<text text-anchor=\"middle\" x=\"1788.97\" y=\"-534.79\" font-family=\"Helvetica,sans-Serif\" font-size=\"8.00\">cmso.LatticeParameter</text>\n",
       "</g>\n",
       "<!-- cmso.Length -->\n",
       "<g id=\"node12\" class=\"node\">\n",
       "<title>cmso.Length</title>\n",
       "<polygon fill=\"#c9daf8\" stroke=\"#c9daf8\" points=\"1877.95,-462.02 1810.2,-462.02 1810.2,-426.02 1877.95,-426.02 1877.95,-462.02\"/>\n",
       "<text text-anchor=\"middle\" x=\"1844.08\" y=\"-441.29\" font-family=\"Helvetica,sans-Serif\" font-size=\"8.00\">cmso.Length</text>\n",
       "</g>\n",
       "<!-- cmso.LatticeParameter&#45;&gt;cmso.Length -->\n",
       "<g id=\"edge6\" class=\"edge\">\n",
       "<title>cmso.LatticeParameter&#45;&gt;cmso.Length</title>\n",
       "<path fill=\"none\" stroke=\"#263238\" d=\"M1799.86,-519.04C1807.71,-505.73 1818.45,-487.5 1827.38,-472.35\"/>\n",
       "<polygon fill=\"#263238\" stroke=\"#263238\" points=\"1830.38,-474.15 1832.44,-463.76 1824.35,-470.59 1830.38,-474.15\"/>\n",
       "<text text-anchor=\"middle\" x=\"1790.74\" y=\"-497.85\" font-family=\"Helvetica,sans-Serif\" font-size=\"8.00\">subClassOf</text>\n",
       "</g>\n",
       "<!-- unit.ANGSTROM -->\n",
       "<g id=\"node51\" class=\"node\">\n",
       "<title>unit.ANGSTROM</title>\n",
       "<polygon fill=\"#c9daf8\" stroke=\"#c9daf8\" points=\"1843.19,-362.73 1763.44,-362.73 1763.44,-326.73 1843.19,-326.73 1843.19,-362.73\"/>\n",
       "<text text-anchor=\"middle\" x=\"1803.31\" y=\"-342\" font-family=\"Helvetica,sans-Serif\" font-size=\"8.00\">unit.ANGSTROM</text>\n",
       "</g>\n",
       "<!-- cmso.Length&#45;&gt;unit.ANGSTROM -->\n",
       "<g id=\"edge80\" class=\"edge\">\n",
       "<title>cmso.Length&#45;&gt;unit.ANGSTROM</title>\n",
       "<path fill=\"none\" stroke=\"#263238\" d=\"M1836.6,-425.81C1830.6,-411.2 1822.08,-390.43 1815.15,-373.57\"/>\n",
       "<polygon fill=\"#263238\" stroke=\"#263238\" points=\"1818.49,-372.48 1811.45,-364.56 1812.01,-375.14 1818.49,-372.48\"/>\n",
       "<text text-anchor=\"middle\" x=\"1798.5\" y=\"-401.84\" font-family=\"Helvetica,sans-Serif\" font-size=\"8.00\">cmso.hasUnit</text>\n",
       "</g>\n",
       "<!-- c3d7a2b5&#45;0146&#45;4f71&#45;8529&#45;e7b2223c5910 -->\n",
       "<g id=\"node14\" class=\"node\">\n",
       "<title>c3d7a2b5&#45;0146&#45;4f71&#45;8529&#45;e7b2223c5910</title>\n",
       "<polygon fill=\"#e6b8af\" stroke=\"#e6b8af\" points=\"504.32,-1089.2 240.58,-1089.2 172.74,-1053.2 436.47,-1053.2 504.32,-1089.2\"/>\n",
       "<text text-anchor=\"middle\" x=\"338.53\" y=\"-1068.47\" font-family=\"Helvetica,sans-Serif\" font-size=\"8.00\">7829A5Ce&#45;0Cdd&#45;46B4&#45;85C1&#45;41Dd5E826C54</text>\n",
       "</g>\n",
       "<!-- sample_a89be6be&#45;c97e&#45;429d&#45;95be&#45;fe3cd8c511f8_Species&#45;&gt;c3d7a2b5&#45;0146&#45;4f71&#45;8529&#45;e7b2223c5910 -->\n",
       "<g id=\"edge7\" class=\"edge\">\n",
       "<title>sample_a89be6be&#45;c97e&#45;429d&#45;95be&#45;fe3cd8c511f8_Species&#45;&gt;c3d7a2b5&#45;0146&#45;4f71&#45;8529&#45;e7b2223c5910</title>\n",
       "<path fill=\"none\" stroke=\"#263238\" d=\"M541.67,-1122.53C505.04,-1113.27 460.46,-1102.01 422.41,-1092.39\"/>\n",
       "<polygon fill=\"#263238\" stroke=\"#263238\" points=\"423.36,-1089.02 412.81,-1089.97 421.65,-1095.81 423.36,-1089.02\"/>\n",
       "<text text-anchor=\"middle\" x=\"444.54\" y=\"-1109.61\" font-family=\"Helvetica,sans-Serif\" font-size=\"8.00\">cmso.hasIdentifier</text>\n",
       "</g>\n",
       "<!-- affde030&#45;c257&#45;43b5&#45;9b38&#45;70c935a1e1e9 -->\n",
       "<g id=\"node34\" class=\"node\">\n",
       "<title>affde030&#45;c257&#45;43b5&#45;9b38&#45;70c935a1e1e9</title>\n",
       "<polygon fill=\"#e6b8af\" stroke=\"#e6b8af\" points=\"502.21,-1202.96 102.76,-1202.96 0,-1166.96 399.45,-1166.96 502.21,-1202.96\"/>\n",
       "<text text-anchor=\"middle\" x=\"251.11\" y=\"-1182.24\" font-family=\"Helvetica,sans-Serif\" font-size=\"8.00\">Rdf_Structure_Store/A89Be6Be&#45;C97E&#45;429D&#45;95Be&#45;Fe3Cd8C511F8.Json</text>\n",
       "</g>\n",
       "<!-- sample_a89be6be&#45;c97e&#45;429d&#45;95be&#45;fe3cd8c511f8_Species&#45;&gt;affde030&#45;c257&#45;43b5&#45;9b38&#45;70c935a1e1e9 -->\n",
       "<g id=\"edge19\" class=\"edge\">\n",
       "<title>sample_a89be6be&#45;c97e&#45;429d&#45;95be&#45;fe3cd8c511f8_Species&#45;&gt;affde030&#45;c257&#45;43b5&#45;9b38&#45;70c935a1e1e9</title>\n",
       "<path fill=\"none\" stroke=\"#263238\" d=\"M484.63,-1156.68C460.95,-1159.55 435.99,-1162.57 411.55,-1165.53\"/>\n",
       "<polygon fill=\"#263238\" stroke=\"#263238\" points=\"411.37,-1162.03 401.86,-1166.7 412.21,-1168.97 411.37,-1162.03\"/>\n",
       "<text text-anchor=\"middle\" x=\"419.96\" y=\"-1153.5\" font-family=\"Helvetica,sans-Serif\" font-size=\"8.00\">cmso.hasPath</text>\n",
       "</g>\n",
       "<!-- 1c8d0062&#45;75aa&#45;4b46&#45;b41b&#45;9e3e29eb74ac -->\n",
       "<g id=\"node65\" class=\"node\">\n",
       "<title>1c8d0062&#45;75aa&#45;4b46&#45;b41b&#45;9e3e29eb74ac</title>\n",
       "<polygon fill=\"#e6b8af\" stroke=\"#e6b8af\" points=\"373.21,-1287.2 308.53,-1287.2 291.89,-1251.2 356.57,-1251.2 373.21,-1287.2\"/>\n",
       "<text text-anchor=\"middle\" x=\"332.55\" y=\"-1266.48\" font-family=\"Helvetica,sans-Serif\" font-size=\"8.00\">Species</text>\n",
       "</g>\n",
       "<!-- sample_a89be6be&#45;c97e&#45;429d&#45;95be&#45;fe3cd8c511f8_Species&#45;&gt;1c8d0062&#45;75aa&#45;4b46&#45;b41b&#45;9e3e29eb74ac -->\n",
       "<g id=\"edge43\" class=\"edge\">\n",
       "<title>sample_a89be6be&#45;c97e&#45;429d&#45;95be&#45;fe3cd8c511f8_Species&#45;&gt;1c8d0062&#45;75aa&#45;4b46&#45;b41b&#45;9e3e29eb74ac</title>\n",
       "<path fill=\"none\" stroke=\"#263238\" d=\"M574.15,-1159.32C519.58,-1184.14 423.06,-1228.04 370.04,-1252.15\"/>\n",
       "<polygon fill=\"#263238\" stroke=\"#263238\" points=\"368.76,-1248.89 361.1,-1256.22 371.65,-1255.26 368.76,-1248.89\"/>\n",
       "<text text-anchor=\"middle\" x=\"440.97\" y=\"-1207.89\" font-family=\"Helvetica,sans-Serif\" font-size=\"8.00\">cmso.hasName</text>\n",
       "</g>\n",
       "<!-- sample_a89be6be&#45;c97e&#45;429d&#45;95be&#45;fe3cd8c511f8_SimulationCellLength -->\n",
       "<g id=\"node16\" class=\"node\">\n",
       "<title>sample_a89be6be&#45;c97e&#45;429d&#45;95be&#45;fe3cd8c511f8_SimulationCellLength</title>\n",
       "<polygon fill=\"#d9d9d9\" stroke=\"#d9d9d9\" points=\"1358.07,-1502.09 1044.32,-1502.09 1044.32,-1466.09 1358.07,-1466.09 1358.07,-1502.09\"/>\n",
       "<text text-anchor=\"middle\" x=\"1201.2\" y=\"-1481.36\" font-family=\"Helvetica,sans-Serif\" font-size=\"8.00\">sample_a89be6be&#45;c97e&#45;429d&#45;95be&#45;fe3cd8c511f8_SimulationCellLength</text>\n",
       "</g>\n",
       "<!-- sample_a89be6be&#45;c97e&#45;429d&#45;95be&#45;fe3cd8c511f8_SimulationCell&#45;&gt;sample_a89be6be&#45;c97e&#45;429d&#45;95be&#45;fe3cd8c511f8_SimulationCellLength -->\n",
       "<g id=\"edge8\" class=\"edge\">\n",
       "<title>sample_a89be6be&#45;c97e&#45;429d&#45;95be&#45;fe3cd8c511f8_SimulationCell&#45;&gt;sample_a89be6be&#45;c97e&#45;429d&#45;95be&#45;fe3cd8c511f8_SimulationCellLength</title>\n",
       "<path fill=\"none\" stroke=\"#263238\" d=\"M991,-1390.14C1034.39,-1409.53 1102.77,-1440.09 1149.68,-1461.06\"/>\n",
       "<polygon fill=\"#263238\" stroke=\"#263238\" points=\"1148,-1464.14 1158.56,-1465.03 1150.85,-1457.75 1148,-1464.14\"/>\n",
       "<text text-anchor=\"middle\" x=\"1036.97\" y=\"-1427.75\" font-family=\"Helvetica,sans-Serif\" font-size=\"8.00\">cmso.hasLength</text>\n",
       "</g>\n",
       "<!-- sample_a89be6be&#45;c97e&#45;429d&#45;95be&#45;fe3cd8c511f8_SimulationCellVector_1 -->\n",
       "<g id=\"node21\" class=\"node\">\n",
       "<title>sample_a89be6be&#45;c97e&#45;429d&#45;95be&#45;fe3cd8c511f8_SimulationCellVector_1</title>\n",
       "<polygon fill=\"#d9d9d9\" stroke=\"#d9d9d9\" points=\"1423.11,-1350.35 1103.36,-1350.35 1103.36,-1314.35 1423.11,-1314.35 1423.11,-1350.35\"/>\n",
       "<text text-anchor=\"middle\" x=\"1263.24\" y=\"-1329.63\" font-family=\"Helvetica,sans-Serif\" font-size=\"8.00\">sample_a89be6be&#45;c97e&#45;429d&#45;95be&#45;fe3cd8c511f8_SimulationCellVector_1</text>\n",
       "</g>\n",
       "<!-- sample_a89be6be&#45;c97e&#45;429d&#45;95be&#45;fe3cd8c511f8_SimulationCell&#45;&gt;sample_a89be6be&#45;c97e&#45;429d&#45;95be&#45;fe3cd8c511f8_SimulationCellVector_1 -->\n",
       "<g id=\"edge97\" class=\"edge\">\n",
       "<title>sample_a89be6be&#45;c97e&#45;429d&#45;95be&#45;fe3cd8c511f8_SimulationCell&#45;&gt;sample_a89be6be&#45;c97e&#45;429d&#45;95be&#45;fe3cd8c511f8_SimulationCellVector_1</title>\n",
       "<path fill=\"none\" stroke=\"#263238\" d=\"M1092.74,-1353.76C1096.73,-1353.25 1100.74,-1352.75 1104.75,-1352.25\"/>\n",
       "<polygon fill=\"#263238\" stroke=\"#263238\" points=\"1105.06,-1355.74 1114.55,-1351.02 1104.19,-1348.79 1105.06,-1355.74\"/>\n",
       "<text text-anchor=\"middle\" x=\"1066.87\" y=\"-1345.4\" font-family=\"Helvetica,sans-Serif\" font-size=\"8.00\">cmso.hasVector</text>\n",
       "</g>\n",
       "<!-- sample_a89be6be&#45;c97e&#45;429d&#45;95be&#45;fe3cd8c511f8_SimulationCellVector_2 -->\n",
       "<g id=\"node45\" class=\"node\">\n",
       "<title>sample_a89be6be&#45;c97e&#45;429d&#45;95be&#45;fe3cd8c511f8_SimulationCellVector_2</title>\n",
       "<polygon fill=\"#d9d9d9\" stroke=\"#d9d9d9\" points=\"770.62,-1480.64 450.87,-1480.64 450.87,-1444.64 770.62,-1444.64 770.62,-1480.64\"/>\n",
       "<text text-anchor=\"middle\" x=\"610.74\" y=\"-1459.91\" font-family=\"Helvetica,sans-Serif\" font-size=\"8.00\">sample_a89be6be&#45;c97e&#45;429d&#45;95be&#45;fe3cd8c511f8_SimulationCellVector_2</text>\n",
       "</g>\n",
       "<!-- sample_a89be6be&#45;c97e&#45;429d&#45;95be&#45;fe3cd8c511f8_SimulationCell&#45;&gt;sample_a89be6be&#45;c97e&#45;429d&#45;95be&#45;fe3cd8c511f8_SimulationCellVector_2 -->\n",
       "<g id=\"edge58\" class=\"edge\">\n",
       "<title>sample_a89be6be&#45;c97e&#45;429d&#45;95be&#45;fe3cd8c511f8_SimulationCell&#45;&gt;sample_a89be6be&#45;c97e&#45;429d&#45;95be&#45;fe3cd8c511f8_SimulationCellVector_2</title>\n",
       "<path fill=\"none\" stroke=\"#263238\" d=\"M881.15,-1390.11C825.99,-1404.91 748.4,-1425.71 690.48,-1441.25\"/>\n",
       "<polygon fill=\"#263238\" stroke=\"#263238\" points=\"689.75,-1437.82 681,-1443.79 691.56,-1444.58 689.75,-1437.82\"/>\n",
       "<text text-anchor=\"middle\" x=\"753.94\" y=\"-1417.83\" font-family=\"Helvetica,sans-Serif\" font-size=\"8.00\">cmso.hasVector</text>\n",
       "</g>\n",
       "<!-- sample_a89be6be&#45;c97e&#45;429d&#45;95be&#45;fe3cd8c511f8_SimulationCellVector_3 -->\n",
       "<g id=\"node49\" class=\"node\">\n",
       "<title>sample_a89be6be&#45;c97e&#45;429d&#45;95be&#45;fe3cd8c511f8_SimulationCellVector_3</title>\n",
       "<polygon fill=\"#d9d9d9\" stroke=\"#d9d9d9\" points=\"897.89,-1587.29 578.14,-1587.29 578.14,-1551.29 897.89,-1551.29 897.89,-1587.29\"/>\n",
       "<text text-anchor=\"middle\" x=\"738.02\" y=\"-1566.56\" font-family=\"Helvetica,sans-Serif\" font-size=\"8.00\">sample_a89be6be&#45;c97e&#45;429d&#45;95be&#45;fe3cd8c511f8_SimulationCellVector_3</text>\n",
       "</g>\n",
       "<!-- sample_a89be6be&#45;c97e&#45;429d&#45;95be&#45;fe3cd8c511f8_SimulationCell&#45;&gt;sample_a89be6be&#45;c97e&#45;429d&#45;95be&#45;fe3cd8c511f8_SimulationCellVector_3 -->\n",
       "<g id=\"edge48\" class=\"edge\">\n",
       "<title>sample_a89be6be&#45;c97e&#45;429d&#45;95be&#45;fe3cd8c511f8_SimulationCell&#45;&gt;sample_a89be6be&#45;c97e&#45;429d&#45;95be&#45;fe3cd8c511f8_SimulationCellVector_3</title>\n",
       "<path fill=\"none\" stroke=\"#263238\" d=\"M930.22,-1389.94C892.5,-1425.14 809.54,-1502.55 765.98,-1543.2\"/>\n",
       "<polygon fill=\"#263238\" stroke=\"#263238\" points=\"763.85,-1540.4 758.93,-1549.78 768.63,-1545.51 763.85,-1540.4\"/>\n",
       "<text text-anchor=\"middle\" x=\"816.22\" y=\"-1468.72\" font-family=\"Helvetica,sans-Serif\" font-size=\"8.00\">cmso.hasVector</text>\n",
       "</g>\n",
       "<!-- sample_a89be6be&#45;c97e&#45;429d&#45;95be&#45;fe3cd8c511f8_SimulationCellAngle -->\n",
       "<g id=\"node85\" class=\"node\">\n",
       "<title>sample_a89be6be&#45;c97e&#45;429d&#45;95be&#45;fe3cd8c511f8_SimulationCellAngle</title>\n",
       "<polygon fill=\"#d9d9d9\" stroke=\"#d9d9d9\" points=\"1215.51,-1595.66 907.01,-1595.66 907.01,-1559.66 1215.51,-1559.66 1215.51,-1595.66\"/>\n",
       "<text text-anchor=\"middle\" x=\"1061.26\" y=\"-1574.93\" font-family=\"Helvetica,sans-Serif\" font-size=\"8.00\">sample_a89be6be&#45;c97e&#45;429d&#45;95be&#45;fe3cd8c511f8_SimulationCellAngle</text>\n",
       "</g>\n",
       "<!-- sample_a89be6be&#45;c97e&#45;429d&#45;95be&#45;fe3cd8c511f8_SimulationCell&#45;&gt;sample_a89be6be&#45;c97e&#45;429d&#45;95be&#45;fe3cd8c511f8_SimulationCellAngle -->\n",
       "<g id=\"edge71\" class=\"edge\">\n",
       "<title>sample_a89be6be&#45;c97e&#45;429d&#45;95be&#45;fe3cd8c511f8_SimulationCell&#45;&gt;sample_a89be6be&#45;c97e&#45;429d&#45;95be&#45;fe3cd8c511f8_SimulationCellAngle</title>\n",
       "<path fill=\"none\" stroke=\"#263238\" d=\"M959.65,-1389.98C979.16,-1426.01 1022.7,-1506.43 1045.94,-1549.36\"/>\n",
       "<polygon fill=\"#263238\" stroke=\"#263238\" points=\"1042.83,-1550.96 1050.67,-1558.09 1048.98,-1547.63 1042.83,-1550.96\"/>\n",
       "<text text-anchor=\"middle\" x=\"972.05\" y=\"-1471.82\" font-family=\"Helvetica,sans-Serif\" font-size=\"8.00\">cmso.hasAngle</text>\n",
       "</g>\n",
       "<!-- 3b09bc03&#45;4983&#45;4105&#45;8fa5&#45;d18189d21785 -->\n",
       "<g id=\"node119\" class=\"node\">\n",
       "<title>3b09bc03&#45;4983&#45;4105&#45;8fa5&#45;d18189d21785</title>\n",
       "<polygon fill=\"#e6b8af\" stroke=\"#e6b8af\" points=\"797.69,-1392.35 745.08,-1392.35 731.55,-1356.35 784.16,-1356.35 797.69,-1392.35\"/>\n",
       "<text text-anchor=\"middle\" x=\"764.62\" y=\"-1371.62\" font-family=\"Helvetica,sans-Serif\" font-size=\"8.00\">23.64</text>\n",
       "</g>\n",
       "<!-- sample_a89be6be&#45;c97e&#45;429d&#45;95be&#45;fe3cd8c511f8_SimulationCell&#45;&gt;3b09bc03&#45;4983&#45;4105&#45;8fa5&#45;d18189d21785 -->\n",
       "<g id=\"edge115\" class=\"edge\">\n",
       "<title>sample_a89be6be&#45;c97e&#45;429d&#45;95be&#45;fe3cd8c511f8_SimulationCell&#45;&gt;3b09bc03&#45;4983&#45;4105&#45;8fa5&#45;d18189d21785</title>\n",
       "<path fill=\"none\" stroke=\"#263238\" d=\"M807.09,-1373.74C805.47,-1373.76 803.88,-1373.79 802.32,-1373.81\"/>\n",
       "<polygon fill=\"#263238\" stroke=\"#263238\" points=\"802.5,-1370.31 792.55,-1373.95 802.6,-1377.31 802.5,-1370.31\"/>\n",
       "<text text-anchor=\"middle\" x=\"770.58\" y=\"-1366.18\" font-family=\"Helvetica,sans-Serif\" font-size=\"8.00\">cmso.hasVolume</text>\n",
       "</g>\n",
       "<!-- a23ef74d&#45;2b05&#45;4895&#45;b222&#45;1f590b72384d -->\n",
       "<g id=\"node64\" class=\"node\">\n",
       "<title>a23ef74d&#45;2b05&#45;4895&#45;b222&#45;1f590b72384d</title>\n",
       "<polygon fill=\"#e6b8af\" stroke=\"#e6b8af\" points=\"1468.51,-1540.83 1422.93,-1540.83 1411.21,-1504.83 1456.78,-1504.83 1468.51,-1540.83\"/>\n",
       "<text text-anchor=\"middle\" x=\"1439.86\" y=\"-1520.11\" font-family=\"Helvetica,sans-Serif\" font-size=\"8.00\">2.87</text>\n",
       "</g>\n",
       "<!-- sample_a89be6be&#45;c97e&#45;429d&#45;95be&#45;fe3cd8c511f8_SimulationCellLength&#45;&gt;a23ef74d&#45;2b05&#45;4895&#45;b222&#45;1f590b72384d -->\n",
       "<g id=\"edge42\" class=\"edge\">\n",
       "<title>sample_a89be6be&#45;c97e&#45;429d&#45;95be&#45;fe3cd8c511f8_SimulationCellLength&#45;&gt;a23ef74d&#45;2b05&#45;4895&#45;b222&#45;1f590b72384d</title>\n",
       "<path fill=\"none\" stroke=\"#263238\" d=\"M1314.94,-1502.55C1347.39,-1507.82 1380.4,-1513.18 1404.33,-1517.07\"/>\n",
       "<polygon fill=\"#263238\" stroke=\"#263238\" points=\"1403.71,-1520.51 1414.14,-1518.66 1404.83,-1513.6 1403.71,-1520.51\"/>\n",
       "<text text-anchor=\"middle\" x=\"1322.13\" y=\"-1511.96\" font-family=\"Helvetica,sans-Serif\" font-size=\"8.00\">cmso.hasLength_z</text>\n",
       "</g>\n",
       "<!-- e14abe8f&#45;1bc5&#45;43a0&#45;90af&#45;27129646350d -->\n",
       "<g id=\"node71\" class=\"node\">\n",
       "<title>e14abe8f&#45;1bc5&#45;43a0&#45;90af&#45;27129646350d</title>\n",
       "<polygon fill=\"#e6b8af\" stroke=\"#e6b8af\" points=\"1419.72,-1648.59 1374.14,-1648.59 1362.42,-1612.59 1408,-1612.59 1419.72,-1648.59\"/>\n",
       "<text text-anchor=\"middle\" x=\"1391.07\" y=\"-1627.86\" font-family=\"Helvetica,sans-Serif\" font-size=\"8.00\">2.87</text>\n",
       "</g>\n",
       "<!-- sample_a89be6be&#45;c97e&#45;429d&#45;95be&#45;fe3cd8c511f8_SimulationCellLength&#45;&gt;e14abe8f&#45;1bc5&#45;43a0&#45;90af&#45;27129646350d -->\n",
       "<g id=\"edge50\" class=\"edge\">\n",
       "<title>sample_a89be6be&#45;c97e&#45;429d&#45;95be&#45;fe3cd8c511f8_SimulationCellLength&#45;&gt;e14abe8f&#45;1bc5&#45;43a0&#45;90af&#45;27129646350d</title>\n",
       "<path fill=\"none\" stroke=\"#263238\" d=\"M1224.86,-1502.35C1258.55,-1528.34 1320.44,-1576.09 1358.45,-1605.42\"/>\n",
       "<polygon fill=\"#263238\" stroke=\"#263238\" points=\"1355.85,-1607.84 1365.91,-1611.18 1360.13,-1602.3 1355.85,-1607.84\"/>\n",
       "<text text-anchor=\"middle\" x=\"1254.16\" y=\"-1556.03\" font-family=\"Helvetica,sans-Serif\" font-size=\"8.00\">cmso.hasLength_y</text>\n",
       "</g>\n",
       "<!-- 89cba2f8&#45;3e5b&#45;4e9e&#45;ad1a&#45;77df34774ee4 -->\n",
       "<g id=\"node117\" class=\"node\">\n",
       "<title>89cba2f8&#45;3e5b&#45;4e9e&#45;ad1a&#45;77df34774ee4</title>\n",
       "<polygon fill=\"#e6b8af\" stroke=\"#e6b8af\" points=\"1317.94,-1719.02 1272.36,-1719.02 1260.64,-1683.02 1306.21,-1683.02 1317.94,-1719.02\"/>\n",
       "<text text-anchor=\"middle\" x=\"1289.29\" y=\"-1698.3\" font-family=\"Helvetica,sans-Serif\" font-size=\"8.00\">2.87</text>\n",
       "</g>\n",
       "<!-- sample_a89be6be&#45;c97e&#45;429d&#45;95be&#45;fe3cd8c511f8_SimulationCellLength&#45;&gt;89cba2f8&#45;3e5b&#45;4e9e&#45;ad1a&#45;77df34774ee4 -->\n",
       "<g id=\"edge112\" class=\"edge\">\n",
       "<title>sample_a89be6be&#45;c97e&#45;429d&#45;95be&#45;fe3cd8c511f8_SimulationCellLength&#45;&gt;89cba2f8&#45;3e5b&#45;4e9e&#45;ad1a&#45;77df34774ee4</title>\n",
       "<path fill=\"none\" stroke=\"#263238\" d=\"M1208.71,-1502.58C1224.05,-1540.37 1259.09,-1626.66 1277.5,-1671.99\"/>\n",
       "<polygon fill=\"#263238\" stroke=\"#263238\" points=\"1274.22,-1673.22 1281.23,-1681.17 1280.71,-1670.59 1274.22,-1673.22\"/>\n",
       "<text text-anchor=\"middle\" x=\"1280.6\" y=\"-1589.44\" font-family=\"Helvetica,sans-Serif\" font-size=\"8.00\">cmso.hasLength_x</text>\n",
       "</g>\n",
       "<!-- sample_d0ef3818&#45;e971&#45;4095&#45;ac13&#45;8a9c7c700b67_LatticeParameter -->\n",
       "<g id=\"node17\" class=\"node\">\n",
       "<title>sample_d0ef3818&#45;e971&#45;4095&#45;ac13&#45;8a9c7c700b67_LatticeParameter</title>\n",
       "<polygon fill=\"#d9d9d9\" stroke=\"#d9d9d9\" points=\"1939.18,-1780.87 1640.43,-1780.87 1640.43,-1744.87 1939.18,-1744.87 1939.18,-1780.87\"/>\n",
       "<text text-anchor=\"middle\" x=\"1789.8\" y=\"-1760.14\" font-family=\"Helvetica,sans-Serif\" font-size=\"8.00\">sample_d0ef3818&#45;e971&#45;4095&#45;ac13&#45;8a9c7c700b67_LatticeParameter</text>\n",
       "</g>\n",
       "<!-- 16c1aab8&#45;fb8f&#45;4454&#45;bac2&#45;1b390770cd1e -->\n",
       "<g id=\"node18\" class=\"node\">\n",
       "<title>16c1aab8&#45;fb8f&#45;4454&#45;bac2&#45;1b390770cd1e</title>\n",
       "<polygon fill=\"#e6b8af\" stroke=\"#e6b8af\" points=\"1810.22,-1569.67 1764.64,-1569.67 1752.92,-1533.67 1798.5,-1533.67 1810.22,-1569.67\"/>\n",
       "<text text-anchor=\"middle\" x=\"1781.57\" y=\"-1548.95\" font-family=\"Helvetica,sans-Serif\" font-size=\"8.00\">4.05</text>\n",
       "</g>\n",
       "<!-- sample_d0ef3818&#45;e971&#45;4095&#45;ac13&#45;8a9c7c700b67_LatticeParameter&#45;&gt;16c1aab8&#45;fb8f&#45;4454&#45;bac2&#45;1b390770cd1e -->\n",
       "<g id=\"edge9\" class=\"edge\">\n",
       "<title>sample_d0ef3818&#45;e971&#45;4095&#45;ac13&#45;8a9c7c700b67_LatticeParameter&#45;&gt;16c1aab8&#45;fb8f&#45;4454&#45;bac2&#45;1b390770cd1e</title>\n",
       "<path fill=\"none\" stroke=\"#263238\" d=\"M1789.08,-1744.5C1787.66,-1707.99 1784.47,-1626.01 1782.74,-1581.61\"/>\n",
       "<polygon fill=\"#263238\" stroke=\"#263238\" points=\"1786.24,-1581.52 1782.35,-1571.67 1779.24,-1581.79 1786.24,-1581.52\"/>\n",
       "<text text-anchor=\"middle\" x=\"1748.41\" y=\"-1665.2\" font-family=\"Helvetica,sans-Serif\" font-size=\"8.00\">cmso.hasLength_y</text>\n",
       "</g>\n",
       "<!-- c02d6398&#45;f310&#45;45ad&#45;812e&#45;5606a65cf83a -->\n",
       "<g id=\"node88\" class=\"node\">\n",
       "<title>c02d6398&#45;f310&#45;45ad&#45;812e&#45;5606a65cf83a</title>\n",
       "<polygon fill=\"#e6b8af\" stroke=\"#e6b8af\" points=\"1661.51,-1652.33 1615.93,-1652.33 1604.21,-1616.33 1649.78,-1616.33 1661.51,-1652.33\"/>\n",
       "<text text-anchor=\"middle\" x=\"1632.86\" y=\"-1631.61\" font-family=\"Helvetica,sans-Serif\" font-size=\"8.00\">4.05</text>\n",
       "</g>\n",
       "<!-- sample_d0ef3818&#45;e971&#45;4095&#45;ac13&#45;8a9c7c700b67_LatticeParameter&#45;&gt;c02d6398&#45;f310&#45;45ad&#45;812e&#45;5606a65cf83a -->\n",
       "<g id=\"edge67\" class=\"edge\">\n",
       "<title>sample_d0ef3818&#45;e971&#45;4095&#45;ac13&#45;8a9c7c700b67_LatticeParameter&#45;&gt;c02d6398&#45;f310&#45;45ad&#45;812e&#45;5606a65cf83a</title>\n",
       "<path fill=\"none\" stroke=\"#263238\" d=\"M1767.31,-1744.45C1740.16,-1722.21 1694.34,-1684.69 1663.85,-1659.72\"/>\n",
       "<polygon fill=\"#263238\" stroke=\"#263238\" points=\"1666.43,-1657.3 1656.47,-1653.67 1661.99,-1662.72 1666.43,-1657.3\"/>\n",
       "<text text-anchor=\"middle\" x=\"1678.08\" y=\"-1704.23\" font-family=\"Helvetica,sans-Serif\" font-size=\"8.00\">cmso.hasLength_x</text>\n",
       "</g>\n",
       "<!-- 3ea226f7&#45;cc16&#45;428b&#45;b84f&#45;60fe989f381c -->\n",
       "<g id=\"node118\" class=\"node\">\n",
       "<title>3ea226f7&#45;cc16&#45;428b&#45;b84f&#45;60fe989f381c</title>\n",
       "<polygon fill=\"#e6b8af\" stroke=\"#e6b8af\" points=\"1590,-1785.03 1544.42,-1785.03 1532.7,-1749.03 1578.27,-1749.03 1590,-1785.03\"/>\n",
       "<text text-anchor=\"middle\" x=\"1561.35\" y=\"-1764.3\" font-family=\"Helvetica,sans-Serif\" font-size=\"8.00\">4.05</text>\n",
       "</g>\n",
       "<!-- sample_d0ef3818&#45;e971&#45;4095&#45;ac13&#45;8a9c7c700b67_LatticeParameter&#45;&gt;3ea226f7&#45;cc16&#45;428b&#45;b84f&#45;60fe989f381c -->\n",
       "<g id=\"edge113\" class=\"edge\">\n",
       "<title>sample_d0ef3818&#45;e971&#45;4095&#45;ac13&#45;8a9c7c700b67_LatticeParameter&#45;&gt;3ea226f7&#45;cc16&#45;428b&#45;b84f&#45;60fe989f381c</title>\n",
       "<path fill=\"none\" stroke=\"#263238\" d=\"M1639.97,-1765.59C1623.65,-1765.89 1608.41,-1766.17 1595.78,-1766.4\"/>\n",
       "<polygon fill=\"#263238\" stroke=\"#263238\" points=\"1595.96,-1762.89 1586.02,-1766.58 1596.09,-1769.89 1595.96,-1762.89\"/>\n",
       "<text text-anchor=\"middle\" x=\"1599.12\" y=\"-1758.4\" font-family=\"Helvetica,sans-Serif\" font-size=\"8.00\">cmso.hasLength_z</text>\n",
       "</g>\n",
       "<!-- 15162e50&#45;41f7&#45;4f71&#45;8293&#45;37b8b4837db1 -->\n",
       "<g id=\"node22\" class=\"node\">\n",
       "<title>15162e50&#45;41f7&#45;4f71&#45;8293&#45;37b8b4837db1</title>\n",
       "<polygon fill=\"#e6b8af\" stroke=\"#e6b8af\" points=\"1529.72,-1365.38 1485.19,-1365.38 1473.73,-1329.38 1518.26,-1329.38 1529.72,-1365.38\"/>\n",
       "<text text-anchor=\"middle\" x=\"1501.72\" y=\"-1344.66\" font-family=\"Helvetica,sans-Serif\" font-size=\"8.00\">0.0</text>\n",
       "</g>\n",
       "<!-- sample_a89be6be&#45;c97e&#45;429d&#45;95be&#45;fe3cd8c511f8_SimulationCellVector_1&#45;&gt;15162e50&#45;41f7&#45;4f71&#45;8293&#45;37b8b4837db1 -->\n",
       "<g id=\"edge12\" class=\"edge\">\n",
       "<title>sample_a89be6be&#45;c97e&#45;429d&#45;95be&#45;fe3cd8c511f8_SimulationCellVector_1&#45;&gt;15162e50&#45;41f7&#45;4f71&#45;8293&#45;37b8b4837db1</title>\n",
       "<path fill=\"none\" stroke=\"#263238\" d=\"M1423.3,-1342.44C1439.71,-1343.47 1454.94,-1344.43 1467.53,-1345.23\"/>\n",
       "<polygon fill=\"#263238\" stroke=\"#263238\" points=\"1467.04,-1348.7 1477.24,-1345.84 1467.48,-1341.72 1467.04,-1348.7\"/>\n",
       "<text text-anchor=\"middle\" x=\"1445.42\" y=\"-1336.23\" font-family=\"Helvetica,sans-Serif\" font-size=\"8.00\">cmso.hasComponent_y</text>\n",
       "</g>\n",
       "<!-- 29be8bce&#45;45d9&#45;43ef&#45;841b&#45;4e20da728147 -->\n",
       "<g id=\"node27\" class=\"node\">\n",
       "<title>29be8bce&#45;45d9&#45;43ef&#45;841b&#45;4e20da728147</title>\n",
       "<polygon fill=\"#e6b8af\" stroke=\"#e6b8af\" points=\"1486.59,-1266.37 1441.02,-1266.37 1429.29,-1230.37 1474.87,-1230.37 1486.59,-1266.37\"/>\n",
       "<text text-anchor=\"middle\" x=\"1457.94\" y=\"-1245.64\" font-family=\"Helvetica,sans-Serif\" font-size=\"8.00\">2.87</text>\n",
       "</g>\n",
       "<!-- sample_a89be6be&#45;c97e&#45;429d&#45;95be&#45;fe3cd8c511f8_SimulationCellVector_1&#45;&gt;29be8bce&#45;45d9&#45;43ef&#45;841b&#45;4e20da728147 -->\n",
       "<g id=\"edge15\" class=\"edge\">\n",
       "<title>sample_a89be6be&#45;c97e&#45;429d&#45;95be&#45;fe3cd8c511f8_SimulationCellVector_1&#45;&gt;29be8bce&#45;45d9&#45;43ef&#45;841b&#45;4e20da728147</title>\n",
       "<path fill=\"none\" stroke=\"#263238\" d=\"M1305.96,-1313.92C1342.67,-1298.09 1394.71,-1275.64 1427.37,-1261.55\"/>\n",
       "<polygon fill=\"#263238\" stroke=\"#263238\" points=\"1428.47,-1264.89 1436.27,-1257.72 1425.7,-1258.46 1428.47,-1264.89\"/>\n",
       "<text text-anchor=\"middle\" x=\"1319.79\" y=\"-1289.89\" font-family=\"Helvetica,sans-Serif\" font-size=\"8.00\">cmso.hasComponent_x</text>\n",
       "</g>\n",
       "<!-- 184c8513&#45;3d8f&#45;4369&#45;be4c&#45;633442c907a3 -->\n",
       "<g id=\"node67\" class=\"node\">\n",
       "<title>184c8513&#45;3d8f&#45;4369&#45;be4c&#45;633442c907a3</title>\n",
       "<polygon fill=\"#e6b8af\" stroke=\"#e6b8af\" points=\"1485.94,-1469.94 1441.41,-1469.94 1429.95,-1433.94 1474.48,-1433.94 1485.94,-1469.94\"/>\n",
       "<text text-anchor=\"middle\" x=\"1457.95\" y=\"-1449.21\" font-family=\"Helvetica,sans-Serif\" font-size=\"8.00\">0.0</text>\n",
       "</g>\n",
       "<!-- sample_a89be6be&#45;c97e&#45;429d&#45;95be&#45;fe3cd8c511f8_SimulationCellVector_1&#45;&gt;184c8513&#45;3d8f&#45;4369&#45;be4c&#45;633442c907a3 -->\n",
       "<g id=\"edge45\" class=\"edge\">\n",
       "<title>sample_a89be6be&#45;c97e&#45;429d&#45;95be&#45;fe3cd8c511f8_SimulationCellVector_1&#45;&gt;184c8513&#45;3d8f&#45;4369&#45;be4c&#45;633442c907a3</title>\n",
       "<path fill=\"none\" stroke=\"#263238\" d=\"M1293.23,-1350.77C1327.41,-1371.76 1383.3,-1406.09 1420.36,-1428.85\"/>\n",
       "<polygon fill=\"#263238\" stroke=\"#263238\" points=\"1418.17,-1431.61 1428.52,-1433.87 1421.83,-1425.65 1418.17,-1431.61\"/>\n",
       "<text text-anchor=\"middle\" x=\"1309.92\" y=\"-1391.96\" font-family=\"Helvetica,sans-Serif\" font-size=\"8.00\">cmso.hasComponent_z</text>\n",
       "</g>\n",
       "<!-- sample_d0ef3818&#45;e971&#45;4095&#45;ac13&#45;8a9c7c700b67_UnitCell&#45;&gt;sample_d0ef3818&#45;e971&#45;4095&#45;ac13&#45;8a9c7c700b67_LatticeParameter -->\n",
       "<g id=\"edge68\" class=\"edge\">\n",
       "<title>sample_d0ef3818&#45;e971&#45;4095&#45;ac13&#45;8a9c7c700b67_UnitCell&#45;&gt;sample_d0ef3818&#45;e971&#45;4095&#45;ac13&#45;8a9c7c700b67_LatticeParameter</title>\n",
       "<path fill=\"none\" stroke=\"#263238\" d=\"M1979.6,-1856.8C1940.67,-1837.53 1879.46,-1807.24 1837.12,-1786.29\"/>\n",
       "<polygon fill=\"#263238\" stroke=\"#263238\" points=\"1838.93,-1783.28 1828.41,-1781.98 1835.82,-1789.55 1838.93,-1783.28\"/>\n",
       "<text text-anchor=\"middle\" x=\"1854.36\" y=\"-1823.69\" font-family=\"Helvetica,sans-Serif\" font-size=\"8.00\">cmso.hasLatticeParameter</text>\n",
       "</g>\n",
       "<!-- wiki.Q3006714 -->\n",
       "<g id=\"node24\" class=\"node\">\n",
       "<title>wiki.Q3006714</title>\n",
       "<polygon fill=\"#c9daf8\" stroke=\"#c9daf8\" points=\"2045.42,-1747.6 1968.67,-1747.6 1968.67,-1711.6 2045.42,-1711.6 2045.42,-1747.6\"/>\n",
       "<text text-anchor=\"middle\" x=\"2007.05\" y=\"-1726.87\" font-family=\"Helvetica,sans-Serif\" font-size=\"8.00\">wiki.Q3006714</text>\n",
       "</g>\n",
       "<!-- sample_d0ef3818&#45;e971&#45;4095&#45;ac13&#45;8a9c7c700b67_UnitCell&#45;&gt;wiki.Q3006714 -->\n",
       "<g id=\"edge13\" class=\"edge\">\n",
       "<title>sample_d0ef3818&#45;e971&#45;4095&#45;ac13&#45;8a9c7c700b67_UnitCell&#45;&gt;wiki.Q3006714</title>\n",
       "<path fill=\"none\" stroke=\"#263238\" d=\"M2015.6,-1856.78C2013.94,-1832.16 2010.99,-1788.28 2009.03,-1759.05\"/>\n",
       "<polygon fill=\"#263238\" stroke=\"#263238\" points=\"2012.54,-1759.15 2008.38,-1749.4 2005.56,-1759.61 2012.54,-1759.15\"/>\n",
       "<text text-anchor=\"middle\" x=\"1964.31\" y=\"-1810.07\" font-family=\"Helvetica,sans-Serif\" font-size=\"8.00\">cmso.hasBravaisLattice</text>\n",
       "</g>\n",
       "<!-- sample_d0ef3818&#45;e971&#45;4095&#45;ac13&#45;8a9c7c700b67_LatticeAngle -->\n",
       "<g id=\"node78\" class=\"node\">\n",
       "<title>sample_d0ef3818&#45;e971&#45;4095&#45;ac13&#45;8a9c7c700b67_LatticeAngle</title>\n",
       "<polygon fill=\"#d9d9d9\" stroke=\"#d9d9d9\" points=\"2339.44,-1716.67 2059.44,-1716.67 2059.44,-1680.67 2339.44,-1680.67 2339.44,-1716.67\"/>\n",
       "<text text-anchor=\"middle\" x=\"2199.44\" y=\"-1695.94\" font-family=\"Helvetica,sans-Serif\" font-size=\"8.00\">sample_d0ef3818&#45;e971&#45;4095&#45;ac13&#45;8a9c7c700b67_LatticeAngle</text>\n",
       "</g>\n",
       "<!-- sample_d0ef3818&#45;e971&#45;4095&#45;ac13&#45;8a9c7c700b67_UnitCell&#45;&gt;sample_d0ef3818&#45;e971&#45;4095&#45;ac13&#45;8a9c7c700b67_LatticeAngle -->\n",
       "<g id=\"edge85\" class=\"edge\">\n",
       "<title>sample_d0ef3818&#45;e971&#45;4095&#45;ac13&#45;8a9c7c700b67_UnitCell&#45;&gt;sample_d0ef3818&#45;e971&#45;4095&#45;ac13&#45;8a9c7c700b67_LatticeAngle</title>\n",
       "<path fill=\"none\" stroke=\"#263238\" d=\"M2035.69,-1857C2068.22,-1825.54 2135,-1760.98 2172.45,-1724.77\"/>\n",
       "<polygon fill=\"#263238\" stroke=\"#263238\" points=\"2174.57,-1727.58 2179.33,-1718.12 2169.71,-1722.55 2174.57,-1727.58\"/>\n",
       "<text text-anchor=\"middle\" x=\"2073.32\" y=\"-1793.03\" font-family=\"Helvetica,sans-Serif\" font-size=\"8.00\">cmso.hasAngle</text>\n",
       "</g>\n",
       "<!-- sample_a89be6be&#45;c97e&#45;429d&#45;95be&#45;fe3cd8c511f8_LatticeParameter -->\n",
       "<g id=\"node25\" class=\"node\">\n",
       "<title>sample_a89be6be&#45;c97e&#45;429d&#45;95be&#45;fe3cd8c511f8_LatticeParameter</title>\n",
       "<polygon fill=\"#d9d9d9\" stroke=\"#d9d9d9\" points=\"807.99,-238.81 511.49,-238.81 511.49,-202.81 807.99,-202.81 807.99,-238.81\"/>\n",
       "<text text-anchor=\"middle\" x=\"659.74\" y=\"-218.08\" font-family=\"Helvetica,sans-Serif\" font-size=\"8.00\">sample_a89be6be&#45;c97e&#45;429d&#45;95be&#45;fe3cd8c511f8_LatticeParameter</text>\n",
       "</g>\n",
       "<!-- 1d07459b&#45;4b8f&#45;4f17&#45;a025&#45;a2d7a7b8950c -->\n",
       "<g id=\"node26\" class=\"node\">\n",
       "<title>1d07459b&#45;4b8f&#45;4f17&#45;a025&#45;a2d7a7b8950c</title>\n",
       "<polygon fill=\"#e6b8af\" stroke=\"#e6b8af\" points=\"578.37,-48.33 532.79,-48.33 521.07,-12.33 566.64,-12.33 578.37,-48.33\"/>\n",
       "<text text-anchor=\"middle\" x=\"549.72\" y=\"-27.6\" font-family=\"Helvetica,sans-Serif\" font-size=\"8.00\">2.87</text>\n",
       "</g>\n",
       "<!-- sample_a89be6be&#45;c97e&#45;429d&#45;95be&#45;fe3cd8c511f8_LatticeParameter&#45;&gt;1d07459b&#45;4b8f&#45;4f17&#45;a025&#45;a2d7a7b8950c -->\n",
       "<g id=\"edge14\" class=\"edge\">\n",
       "<title>sample_a89be6be&#45;c97e&#45;429d&#45;95be&#45;fe3cd8c511f8_LatticeParameter&#45;&gt;1d07459b&#45;4b8f&#45;4f17&#45;a025&#45;a2d7a7b8950c</title>\n",
       "<path fill=\"none\" stroke=\"#263238\" d=\"M649.19,-202.54C629.94,-169.21 588.97,-98.29 566.08,-58.65\"/>\n",
       "<polygon fill=\"#263238\" stroke=\"#263238\" points=\"569.19,-57.04 561.16,-50.13 563.13,-60.54 569.19,-57.04\"/>\n",
       "<text text-anchor=\"middle\" x=\"570.13\" y=\"-132.74\" font-family=\"Helvetica,sans-Serif\" font-size=\"8.00\">cmso.hasLength_x</text>\n",
       "</g>\n",
       "<!-- 91b130cd&#45;1509&#45;472e&#45;a89c&#45;d0019e69cf2e -->\n",
       "<g id=\"node104\" class=\"node\">\n",
       "<title>91b130cd&#45;1509&#45;472e&#45;a89c&#45;d0019e69cf2e</title>\n",
       "<polygon fill=\"#e6b8af\" stroke=\"#e6b8af\" points=\"877.67,-111.05 832.09,-111.05 820.37,-75.05 865.95,-75.05 877.67,-111.05\"/>\n",
       "<text text-anchor=\"middle\" x=\"849.02\" y=\"-90.32\" font-family=\"Helvetica,sans-Serif\" font-size=\"8.00\">2.87</text>\n",
       "</g>\n",
       "<!-- sample_a89be6be&#45;c97e&#45;429d&#45;95be&#45;fe3cd8c511f8_LatticeParameter&#45;&gt;91b130cd&#45;1509&#45;472e&#45;a89c&#45;d0019e69cf2e -->\n",
       "<g id=\"edge88\" class=\"edge\">\n",
       "<title>sample_a89be6be&#45;c97e&#45;429d&#45;95be&#45;fe3cd8c511f8_LatticeParameter&#45;&gt;91b130cd&#45;1509&#45;472e&#45;a89c&#45;d0019e69cf2e</title>\n",
       "<path fill=\"none\" stroke=\"#263238\" d=\"M686.86,-202.5C722.37,-178.54 784.33,-136.71 820.51,-112.29\"/>\n",
       "<polygon fill=\"#263238\" stroke=\"#263238\" points=\"822.4,-115.24 828.73,-106.74 818.49,-109.43 822.4,-115.24\"/>\n",
       "<text text-anchor=\"middle\" x=\"716.19\" y=\"-159.55\" font-family=\"Helvetica,sans-Serif\" font-size=\"8.00\">cmso.hasLength_z</text>\n",
       "</g>\n",
       "<!-- 67e8dc86&#45;e04d&#45;4eec&#45;9bde&#45;1d8a5254a650 -->\n",
       "<g id=\"node110\" class=\"node\">\n",
       "<title>67e8dc86&#45;e04d&#45;4eec&#45;9bde&#45;1d8a5254a650</title>\n",
       "<polygon fill=\"#e6b8af\" stroke=\"#e6b8af\" points=\"747.53,-36 701.95,-36 690.23,0 735.8,0 747.53,-36\"/>\n",
       "<text text-anchor=\"middle\" x=\"718.88\" y=\"-15.28\" font-family=\"Helvetica,sans-Serif\" font-size=\"8.00\">2.87</text>\n",
       "</g>\n",
       "<!-- sample_a89be6be&#45;c97e&#45;429d&#45;95be&#45;fe3cd8c511f8_LatticeParameter&#45;&gt;67e8dc86&#45;e04d&#45;4eec&#45;9bde&#45;1d8a5254a650 -->\n",
       "<g id=\"edge99\" class=\"edge\">\n",
       "<title>sample_a89be6be&#45;c97e&#45;429d&#45;95be&#45;fe3cd8c511f8_LatticeParameter&#45;&gt;67e8dc86&#45;e04d&#45;4eec&#45;9bde&#45;1d8a5254a650</title>\n",
       "<path fill=\"none\" stroke=\"#263238\" d=\"M665.1,-202.45C675.36,-167.25 697.89,-89.97 710.29,-47.46\"/>\n",
       "<polygon fill=\"#263238\" stroke=\"#263238\" points=\"713.63,-48.49 713.07,-37.91 706.91,-46.53 713.63,-48.49\"/>\n",
       "<text text-anchor=\"middle\" x=\"650.19\" y=\"-127.11\" font-family=\"Helvetica,sans-Serif\" font-size=\"8.00\">cmso.hasLength_y</text>\n",
       "</g>\n",
       "<!-- 4a9f64c2&#45;1457&#45;4685&#45;8d56&#45;7af67877b81e -->\n",
       "<g id=\"node29\" class=\"node\">\n",
       "<title>4a9f64c2&#45;1457&#45;4685&#45;8d56&#45;7af67877b81e</title>\n",
       "<polygon fill=\"#e6b8af\" stroke=\"#e6b8af\" points=\"1185.78,-789.11 1121.1,-789.11 1104.47,-753.11 1169.14,-753.11 1185.78,-789.11\"/>\n",
       "<text text-anchor=\"middle\" x=\"1145.12\" y=\"-768.38\" font-family=\"Helvetica,sans-Serif\" font-size=\"8.00\">Position</text>\n",
       "</g>\n",
       "<!-- sample_a89be6be&#45;c97e&#45;429d&#45;95be&#45;fe3cd8c511f8_Position&#45;&gt;4a9f64c2&#45;1457&#45;4685&#45;8d56&#45;7af67877b81e -->\n",
       "<g id=\"edge16\" class=\"edge\">\n",
       "<title>sample_a89be6be&#45;c97e&#45;429d&#45;95be&#45;fe3cd8c511f8_Position&#45;&gt;4a9f64c2&#45;1457&#45;4685&#45;8d56&#45;7af67877b81e</title>\n",
       "<path fill=\"none\" stroke=\"#263238\" d=\"M1060.89,-984.66C1076.67,-944.66 1114.51,-848.72 1133.64,-800.22\"/>\n",
       "<polygon fill=\"#263238\" stroke=\"#263238\" points=\"1136.89,-801.52 1137.3,-790.93 1130.38,-798.95 1136.89,-801.52\"/>\n",
       "<text text-anchor=\"middle\" x=\"1066.14\" y=\"-894.59\" font-family=\"Helvetica,sans-Serif\" font-size=\"8.00\">cmso.hasName</text>\n",
       "</g>\n",
       "<!-- 5706c288&#45;fc8a&#45;47a3&#45;93bb&#45;d662c92b5903 -->\n",
       "<g id=\"node69\" class=\"node\">\n",
       "<title>5706c288&#45;fc8a&#45;47a3&#45;93bb&#45;d662c92b5903</title>\n",
       "<polygon fill=\"#e6b8af\" stroke=\"#e6b8af\" points=\"1697,-1032.37 1297.54,-1032.37 1194.79,-996.37 1594.24,-996.37 1697,-1032.37\"/>\n",
       "<text text-anchor=\"middle\" x=\"1445.89\" y=\"-1011.65\" font-family=\"Helvetica,sans-Serif\" font-size=\"8.00\">Rdf_Structure_Store/A89Be6Be&#45;C97E&#45;429D&#45;95Be&#45;Fe3Cd8C511F8.Json</text>\n",
       "</g>\n",
       "<!-- sample_a89be6be&#45;c97e&#45;429d&#45;95be&#45;fe3cd8c511f8_Position&#45;&gt;5706c288&#45;fc8a&#45;47a3&#45;93bb&#45;d662c92b5903 -->\n",
       "<g id=\"edge47\" class=\"edge\">\n",
       "<title>sample_a89be6be&#45;c97e&#45;429d&#45;95be&#45;fe3cd8c511f8_Position&#45;&gt;5706c288&#45;fc8a&#45;47a3&#45;93bb&#45;d662c92b5903</title>\n",
       "<path fill=\"none\" stroke=\"#263238\" d=\"M1183.49,-1006.66C1193.83,-1006.97 1204.46,-1007.28 1215.23,-1007.59\"/>\n",
       "<polygon fill=\"#263238\" stroke=\"#263238\" points=\"1214.89,-1011.09 1224.98,-1007.88 1215.09,-1004.09 1214.89,-1011.09\"/>\n",
       "<text text-anchor=\"middle\" x=\"1171.23\" y=\"-1009.28\" font-family=\"Helvetica,sans-Serif\" font-size=\"8.00\">cmso.hasPath</text>\n",
       "</g>\n",
       "<!-- 4030bf54&#45;80e5&#45;41b6&#45;942e&#45;ddb4547930a4 -->\n",
       "<g id=\"node116\" class=\"node\">\n",
       "<title>4030bf54&#45;80e5&#45;41b6&#45;942e&#45;ddb4547930a4</title>\n",
       "<polygon fill=\"#e6b8af\" stroke=\"#e6b8af\" points=\"1483.14,-906.83 1223.43,-906.83 1156.62,-870.83 1416.33,-870.83 1483.14,-906.83\"/>\n",
       "<text text-anchor=\"middle\" x=\"1319.88\" y=\"-886.11\" font-family=\"Helvetica,sans-Serif\" font-size=\"8.00\">A613F382&#45;1933&#45;4F9D&#45;980F&#45;310Cdb1Fd776</text>\n",
       "</g>\n",
       "<!-- sample_a89be6be&#45;c97e&#45;429d&#45;95be&#45;fe3cd8c511f8_Position&#45;&gt;4030bf54&#45;80e5&#45;41b6&#45;942e&#45;ddb4547930a4 -->\n",
       "<g id=\"edge110\" class=\"edge\">\n",
       "<title>sample_a89be6be&#45;c97e&#45;429d&#45;95be&#45;fe3cd8c511f8_Position&#45;&gt;4030bf54&#45;80e5&#45;41b6&#45;942e&#45;ddb4547930a4</title>\n",
       "<path fill=\"none\" stroke=\"#263238\" d=\"M1096.78,-984.4C1142.97,-964.62 1216.4,-933.16 1266.3,-911.79\"/>\n",
       "<polygon fill=\"#263238\" stroke=\"#263238\" points=\"1267.68,-915 1275.49,-907.85 1264.92,-908.57 1267.68,-915\"/>\n",
       "<text text-anchor=\"middle\" x=\"1219.04\" y=\"-950.24\" font-family=\"Helvetica,sans-Serif\" font-size=\"8.00\">cmso.hasIdentifier</text>\n",
       "</g>\n",
       "<!-- cmso.SimulationCellVector -->\n",
       "<g id=\"node30\" class=\"node\">\n",
       "<title>cmso.SimulationCellVector</title>\n",
       "<polygon fill=\"#c9daf8\" stroke=\"#c9daf8\" points=\"1874.53,-170 1751.28,-170 1751.28,-134 1874.53,-134 1874.53,-170\"/>\n",
       "<text text-anchor=\"middle\" x=\"1812.91\" y=\"-149.28\" font-family=\"Helvetica,sans-Serif\" font-size=\"8.00\">cmso.SimulationCellVector</text>\n",
       "</g>\n",
       "<!-- cmso.Vector -->\n",
       "<g id=\"node31\" class=\"node\">\n",
       "<title>cmso.Vector</title>\n",
       "<polygon fill=\"#c9daf8\" stroke=\"#c9daf8\" points=\"1792.23,-264.58 1727.48,-264.58 1727.48,-228.58 1792.23,-228.58 1792.23,-264.58\"/>\n",
       "<text text-anchor=\"middle\" x=\"1759.85\" y=\"-243.85\" font-family=\"Helvetica,sans-Serif\" font-size=\"8.00\">cmso.Vector</text>\n",
       "</g>\n",
       "<!-- cmso.SimulationCellVector&#45;&gt;cmso.Vector -->\n",
       "<g id=\"edge17\" class=\"edge\">\n",
       "<title>cmso.SimulationCellVector&#45;&gt;cmso.Vector</title>\n",
       "<path fill=\"none\" stroke=\"#263238\" d=\"M1802.68,-170.24C1794.97,-183.97 1784.27,-203.05 1775.49,-218.7\"/>\n",
       "<polygon fill=\"#263238\" stroke=\"#263238\" points=\"1772.63,-216.64 1770.79,-227.08 1778.74,-220.07 1772.63,-216.64\"/>\n",
       "<text text-anchor=\"middle\" x=\"1766.21\" y=\"-196.62\" font-family=\"Helvetica,sans-Serif\" font-size=\"8.00\">subClassOf</text>\n",
       "</g>\n",
       "<!-- cmso.Vector&#45;&gt;unit.ANGSTROM -->\n",
       "<g id=\"edge29\" class=\"edge\">\n",
       "<title>cmso.Vector&#45;&gt;unit.ANGSTROM</title>\n",
       "<path fill=\"none\" stroke=\"#263238\" d=\"M1768.03,-265.04C1774.4,-279.43 1783.36,-299.68 1790.66,-316.16\"/>\n",
       "<polygon fill=\"#263238\" stroke=\"#263238\" points=\"1787.31,-317.24 1794.56,-324.96 1793.71,-314.4 1787.31,-317.24\"/>\n",
       "<text text-anchor=\"middle\" x=\"1751.97\" y=\"-292.75\" font-family=\"Helvetica,sans-Serif\" font-size=\"8.00\">cmso.hasUnit</text>\n",
       "</g>\n",
       "<!-- 750af2d0&#45;6c8e&#45;43dd&#45;9b61&#45;b78cf5fe30e0 -->\n",
       "<g id=\"node33\" class=\"node\">\n",
       "<title>750af2d0&#45;6c8e&#45;43dd&#45;9b61&#45;b78cf5fe30e0</title>\n",
       "<polygon fill=\"#e6b8af\" stroke=\"#e6b8af\" points=\"2505.21,-3176.24 2460.68,-3176.24 2449.23,-3140.24 2493.75,-3140.24 2505.21,-3176.24\"/>\n",
       "<text text-anchor=\"middle\" x=\"2477.22\" y=\"-3155.51\" font-family=\"Helvetica,sans-Serif\" font-size=\"8.00\">0.0</text>\n",
       "</g>\n",
       "<!-- sample_d0ef3818&#45;e971&#45;4095&#45;ac13&#45;8a9c7c700b67_SimulationCellVector_2&#45;&gt;750af2d0&#45;6c8e&#45;43dd&#45;9b61&#45;b78cf5fe30e0 -->\n",
       "<g id=\"edge18\" class=\"edge\">\n",
       "<title>sample_d0ef3818&#45;e971&#45;4095&#45;ac13&#45;8a9c7c700b67_SimulationCellVector_2&#45;&gt;750af2d0&#45;6c8e&#45;43dd&#45;9b61&#45;b78cf5fe30e0</title>\n",
       "<path fill=\"none\" stroke=\"#263238\" d=\"M2324.69,-3011.89C2355.22,-3041.18 2415.27,-3098.79 2450.22,-3132.33\"/>\n",
       "<polygon fill=\"#263238\" stroke=\"#263238\" points=\"2447.39,-3134.46 2457.03,-3138.86 2452.23,-3129.41 2447.39,-3134.46\"/>\n",
       "<text text-anchor=\"middle\" x=\"2340.58\" y=\"-3074.26\" font-family=\"Helvetica,sans-Serif\" font-size=\"8.00\">cmso.hasComponent_z</text>\n",
       "</g>\n",
       "<!-- ccf9d30c&#45;9661&#45;4002&#45;8774&#45;89c457f04448 -->\n",
       "<g id=\"node44\" class=\"node\">\n",
       "<title>ccf9d30c&#45;9661&#45;4002&#45;8774&#45;89c457f04448</title>\n",
       "<polygon fill=\"#e6b8af\" stroke=\"#e6b8af\" points=\"2210.55,-3195.19 2166.03,-3195.19 2154.57,-3159.19 2199.1,-3159.19 2210.55,-3195.19\"/>\n",
       "<text text-anchor=\"middle\" x=\"2182.56\" y=\"-3174.47\" font-family=\"Helvetica,sans-Serif\" font-size=\"8.00\">0.0</text>\n",
       "</g>\n",
       "<!-- sample_d0ef3818&#45;e971&#45;4095&#45;ac13&#45;8a9c7c700b67_SimulationCellVector_2&#45;&gt;ccf9d30c&#45;9661&#45;4002&#45;8774&#45;89c457f04448 -->\n",
       "<g id=\"edge25\" class=\"edge\">\n",
       "<title>sample_d0ef3818&#45;e971&#45;4095&#45;ac13&#45;8a9c7c700b67_SimulationCellVector_2&#45;&gt;ccf9d30c&#45;9661&#45;4002&#45;8774&#45;89c457f04448</title>\n",
       "<path fill=\"none\" stroke=\"#263238\" d=\"M2293.42,-3011.91C2271.81,-3044.13 2226.82,-3111.21 2201.3,-3149.26\"/>\n",
       "<polygon fill=\"#263238\" stroke=\"#263238\" points=\"2198.46,-3147.21 2195.79,-3157.47 2204.27,-3151.11 2198.46,-3147.21\"/>\n",
       "<text text-anchor=\"middle\" x=\"2200.48\" y=\"-3082.74\" font-family=\"Helvetica,sans-Serif\" font-size=\"8.00\">cmso.hasComponent_x</text>\n",
       "</g>\n",
       "<!-- 3477c8ae&#45;f466&#45;4b22&#45;8ed9&#45;43d236cfe036 -->\n",
       "<g id=\"node83\" class=\"node\">\n",
       "<title>3477c8ae&#45;f466&#45;4b22&#45;8ed9&#45;43d236cfe036</title>\n",
       "<polygon fill=\"#e6b8af\" stroke=\"#e6b8af\" points=\"2326.05,-3253.33 2280.47,-3253.33 2268.75,-3217.33 2314.32,-3217.33 2326.05,-3253.33\"/>\n",
       "<text text-anchor=\"middle\" x=\"2297.4\" y=\"-3232.6\" font-family=\"Helvetica,sans-Serif\" font-size=\"8.00\">4.05</text>\n",
       "</g>\n",
       "<!-- sample_d0ef3818&#45;e971&#45;4095&#45;ac13&#45;8a9c7c700b67_SimulationCellVector_2&#45;&gt;3477c8ae&#45;f466&#45;4b22&#45;8ed9&#45;43d236cfe036 -->\n",
       "<g id=\"edge62\" class=\"edge\">\n",
       "<title>sample_d0ef3818&#45;e971&#45;4095&#45;ac13&#45;8a9c7c700b67_SimulationCellVector_2&#45;&gt;3477c8ae&#45;f466&#45;4b22&#45;8ed9&#45;43d236cfe036</title>\n",
       "<path fill=\"none\" stroke=\"#263238\" d=\"M2305.05,-3011.81C2303.64,-3053.19 2300.16,-3154.78 2298.42,-3205.5\"/>\n",
       "<polygon fill=\"#263238\" stroke=\"#263238\" points=\"2294.92,-3205.32 2298.08,-3215.44 2301.92,-3205.56 2294.92,-3205.32\"/>\n",
       "<text text-anchor=\"middle\" x=\"2254.86\" y=\"-3110.81\" font-family=\"Helvetica,sans-Serif\" font-size=\"8.00\">cmso.hasComponent_y</text>\n",
       "</g>\n",
       "<!-- 529128f9&#45;c8dd&#45;4be9&#45;92d6&#45;44cb2f1c4c88 -->\n",
       "<g id=\"node36\" class=\"node\">\n",
       "<title>529128f9&#45;c8dd&#45;4be9&#45;92d6&#45;44cb2f1c4c88</title>\n",
       "<polygon fill=\"#e6b8af\" stroke=\"#e6b8af\" points=\"2636.1,-3166.05 2590.52,-3166.05 2578.8,-3130.05 2624.38,-3130.05 2636.1,-3166.05\"/>\n",
       "<text text-anchor=\"middle\" x=\"2607.45\" y=\"-3145.33\" font-family=\"Helvetica,sans-Serif\" font-size=\"8.00\">4.05</text>\n",
       "</g>\n",
       "<!-- sample_d0ef3818&#45;e971&#45;4095&#45;ac13&#45;8a9c7c700b67_SimulationCellVector_1&#45;&gt;529128f9&#45;c8dd&#45;4be9&#45;92d6&#45;44cb2f1c4c88 -->\n",
       "<g id=\"edge20\" class=\"edge\">\n",
       "<title>sample_d0ef3818&#45;e971&#45;4095&#45;ac13&#45;8a9c7c700b67_SimulationCellVector_1&#45;&gt;529128f9&#45;c8dd&#45;4be9&#45;92d6&#45;44cb2f1c4c88</title>\n",
       "<path fill=\"none\" stroke=\"#263238\" d=\"M2510.26,-2967.93C2529.03,-3002.71 2569.93,-3078.51 2592.22,-3119.83\"/>\n",
       "<polygon fill=\"#263238\" stroke=\"#263238\" points=\"2589.05,-3121.31 2596.87,-3128.45 2595.21,-3117.99 2589.05,-3121.31\"/>\n",
       "<text text-anchor=\"middle\" x=\"2504.37\" y=\"-3046.03\" font-family=\"Helvetica,sans-Serif\" font-size=\"8.00\">cmso.hasComponent_x</text>\n",
       "</g>\n",
       "<!-- e14b033e&#45;b2f8&#45;4e4c&#45;aeca&#45;9420535119f0 -->\n",
       "<g id=\"node99\" class=\"node\">\n",
       "<title>e14b033e&#45;b2f8&#45;4e4c&#45;aeca&#45;9420535119f0</title>\n",
       "<polygon fill=\"#e6b8af\" stroke=\"#e6b8af\" points=\"2454.77,-3220.25 2410.24,-3220.25 2398.78,-3184.25 2443.31,-3184.25 2454.77,-3220.25\"/>\n",
       "<text text-anchor=\"middle\" x=\"2426.77\" y=\"-3199.52\" font-family=\"Helvetica,sans-Serif\" font-size=\"8.00\">0.0</text>\n",
       "</g>\n",
       "<!-- sample_d0ef3818&#45;e971&#45;4095&#45;ac13&#45;8a9c7c700b67_SimulationCellVector_1&#45;&gt;e14b033e&#45;b2f8&#45;4e4c&#45;aeca&#45;9420535119f0 -->\n",
       "<g id=\"edge81\" class=\"edge\">\n",
       "<title>sample_d0ef3818&#45;e971&#45;4095&#45;ac13&#45;8a9c7c700b67_SimulationCellVector_1&#45;&gt;e14b033e&#45;b2f8&#45;4e4c&#45;aeca&#45;9420535119f0</title>\n",
       "<path fill=\"none\" stroke=\"#263238\" d=\"M2495.09,-2967.79C2482.49,-3011.02 2450.65,-3120.31 2435.3,-3172.98\"/>\n",
       "<polygon fill=\"#263238\" stroke=\"#263238\" points=\"2431.98,-3171.87 2432.54,-3182.45 2438.7,-3173.83 2431.98,-3171.87\"/>\n",
       "<text text-anchor=\"middle\" x=\"2418.32\" y=\"-3062.79\" font-family=\"Helvetica,sans-Serif\" font-size=\"8.00\">cmso.hasComponent_y</text>\n",
       "</g>\n",
       "<!-- ac88258a&#45;9d5c&#45;4d57&#45;a318&#45;f1a9388c564f -->\n",
       "<g id=\"node103\" class=\"node\">\n",
       "<title>ac88258a&#45;9d5c&#45;4d57&#45;a318&#45;f1a9388c564f</title>\n",
       "<polygon fill=\"#e6b8af\" stroke=\"#e6b8af\" points=\"2721.89,-3071.75 2677.36,-3071.75 2665.9,-3035.75 2710.43,-3035.75 2721.89,-3071.75\"/>\n",
       "<text text-anchor=\"middle\" x=\"2693.89\" y=\"-3051.02\" font-family=\"Helvetica,sans-Serif\" font-size=\"8.00\">0.0</text>\n",
       "</g>\n",
       "<!-- sample_d0ef3818&#45;e971&#45;4095&#45;ac13&#45;8a9c7c700b67_SimulationCellVector_1&#45;&gt;ac88258a&#45;9d5c&#45;4d57&#45;a318&#45;f1a9388c564f -->\n",
       "<g id=\"edge87\" class=\"edge\">\n",
       "<title>sample_d0ef3818&#45;e971&#45;4095&#45;ac13&#45;8a9c7c700b67_SimulationCellVector_1&#45;&gt;ac88258a&#45;9d5c&#45;4d57&#45;a318&#45;f1a9388c564f</title>\n",
       "<path fill=\"none\" stroke=\"#263238\" d=\"M2534.53,-2968C2568.8,-2986.44 2621.43,-3014.76 2656.73,-3033.75\"/>\n",
       "<polygon fill=\"#263238\" stroke=\"#263238\" points=\"2654.84,-3036.71 2665.31,-3038.37 2658.16,-3030.55 2654.84,-3036.71\"/>\n",
       "<text text-anchor=\"middle\" x=\"2548.75\" y=\"-3003.02\" font-family=\"Helvetica,sans-Serif\" font-size=\"8.00\">cmso.hasComponent_z</text>\n",
       "</g>\n",
       "<!-- CHEBI.18248 -->\n",
       "<g id=\"node37\" class=\"node\">\n",
       "<title>CHEBI.18248</title>\n",
       "<polygon fill=\"#c9daf8\" stroke=\"#c9daf8\" points=\"1359.56,-805.41 1291.06,-805.41 1291.06,-769.41 1359.56,-769.41 1359.56,-805.41\"/>\n",
       "<text text-anchor=\"middle\" x=\"1325.31\" y=\"-784.69\" font-family=\"Helvetica,sans-Serif\" font-size=\"8.00\">CHEBI.18248</text>\n",
       "</g>\n",
       "<!-- a4c42c9b&#45;f8e9&#45;4875&#45;950e&#45;6df71240fd1c -->\n",
       "<g id=\"node38\" class=\"node\">\n",
       "<title>a4c42c9b&#45;f8e9&#45;4875&#45;950e&#45;6df71240fd1c</title>\n",
       "<polygon fill=\"#e6b8af\" stroke=\"#e6b8af\" points=\"1611.06,-797.23 1566.53,-797.23 1555.08,-761.23 1599.61,-761.23 1611.06,-797.23\"/>\n",
       "<text text-anchor=\"middle\" x=\"1583.07\" y=\"-776.51\" font-family=\"Helvetica,sans-Serif\" font-size=\"8.00\">1.0</text>\n",
       "</g>\n",
       "<!-- CHEBI.18248&#45;&gt;a4c42c9b&#45;f8e9&#45;4875&#45;950e&#45;6df71240fd1c -->\n",
       "<g id=\"edge21\" class=\"edge\">\n",
       "<title>CHEBI.18248&#45;&gt;a4c42c9b&#45;f8e9&#45;4875&#45;950e&#45;6df71240fd1c</title>\n",
       "<path fill=\"none\" stroke=\"#263238\" d=\"M1359.8,-786.32C1409.36,-784.74 1500.12,-781.86 1549.28,-780.3\"/>\n",
       "<polygon fill=\"#263238\" stroke=\"#263238\" points=\"1549.14,-783.81 1559.03,-780 1548.92,-776.81 1549.14,-783.81\"/>\n",
       "<text text-anchor=\"middle\" x=\"1408.04\" y=\"-785.46\" font-family=\"Helvetica,sans-Serif\" font-size=\"8.00\">cmso.hasElementRatio</text>\n",
       "</g>\n",
       "<!-- 60cc49c1&#45;3825&#45;4516&#45;88c8&#45;08fbc83c35a2 -->\n",
       "<g id=\"node81\" class=\"node\">\n",
       "<title>60cc49c1&#45;3825&#45;4516&#45;88c8&#45;08fbc83c35a2</title>\n",
       "<polygon fill=\"#e6b8af\" stroke=\"#e6b8af\" points=\"1482.19,-630.53 1437.66,-630.53 1426.2,-594.53 1470.73,-594.53 1482.19,-630.53\"/>\n",
       "<text text-anchor=\"middle\" x=\"1454.2\" y=\"-609.81\" font-family=\"Helvetica,sans-Serif\" font-size=\"8.00\">Fe</text>\n",
       "</g>\n",
       "<!-- CHEBI.18248&#45;&gt;60cc49c1&#45;3825&#45;4516&#45;88c8&#45;08fbc83c35a2 -->\n",
       "<g id=\"edge60\" class=\"edge\">\n",
       "<title>CHEBI.18248&#45;&gt;60cc49c1&#45;3825&#45;4516&#45;88c8&#45;08fbc83c35a2</title>\n",
       "<path fill=\"none\" stroke=\"#263238\" d=\"M1338.86,-769.03C1361.58,-738.2 1407.48,-675.91 1434.01,-639.91\"/>\n",
       "<polygon fill=\"#263238\" stroke=\"#263238\" points=\"1436.62,-642.28 1439.74,-632.15 1430.99,-638.13 1436.62,-642.28\"/>\n",
       "<text text-anchor=\"middle\" x=\"1333.56\" y=\"-706.62\" font-family=\"Helvetica,sans-Serif\" font-size=\"8.00\">cmso.hasChemicalSymbol</text>\n",
       "</g>\n",
       "<!-- 8f2b8cfa&#45;d082&#45;49bf&#45;9844&#45;56bd80709455 -->\n",
       "<g id=\"node40\" class=\"node\">\n",
       "<title>8f2b8cfa&#45;d082&#45;49bf&#45;9844&#45;56bd80709455</title>\n",
       "<polygon fill=\"#e6b8af\" stroke=\"#e6b8af\" points=\"2826.21,-2607.81 2780.63,-2607.81 2768.91,-2571.81 2814.48,-2571.81 2826.21,-2607.81\"/>\n",
       "<text text-anchor=\"middle\" x=\"2797.56\" y=\"-2587.08\" font-family=\"Helvetica,sans-Serif\" font-size=\"8.00\">90.0</text>\n",
       "</g>\n",
       "<!-- sample_d0ef3818&#45;e971&#45;4095&#45;ac13&#45;8a9c7c700b67_SimulationCellAngle&#45;&gt;8f2b8cfa&#45;d082&#45;49bf&#45;9844&#45;56bd80709455 -->\n",
       "<g id=\"edge22\" class=\"edge\">\n",
       "<title>sample_d0ef3818&#45;e971&#45;4095&#45;ac13&#45;8a9c7c700b67_SimulationCellAngle&#45;&gt;8f2b8cfa&#45;d082&#45;49bf&#45;9844&#45;56bd80709455</title>\n",
       "<path fill=\"none\" stroke=\"#263238\" d=\"M2616.89,-2652.5C2662.98,-2636.51 2728.17,-2613.88 2766.34,-2600.64\"/>\n",
       "<polygon fill=\"#263238\" stroke=\"#263238\" points=\"2767.08,-2604.09 2775.38,-2597.5 2764.78,-2597.47 2767.08,-2604.09\"/>\n",
       "<text text-anchor=\"middle\" x=\"2643.61\" y=\"-2628.72\" font-family=\"Helvetica,sans-Serif\" font-size=\"8.00\">cmso.hasAngle_gamma</text>\n",
       "</g>\n",
       "<!-- 8ff733e2&#45;3e63&#45;41c7&#45;8393&#45;7a04a2e64edd -->\n",
       "<g id=\"node95\" class=\"node\">\n",
       "<title>8ff733e2&#45;3e63&#45;41c7&#45;8393&#45;7a04a2e64edd</title>\n",
       "<polygon fill=\"#e6b8af\" stroke=\"#e6b8af\" points=\"2751.19,-2530.47 2705.62,-2530.47 2693.9,-2494.47 2739.47,-2494.47 2751.19,-2530.47\"/>\n",
       "<text text-anchor=\"middle\" x=\"2722.55\" y=\"-2509.74\" font-family=\"Helvetica,sans-Serif\" font-size=\"8.00\">90.0</text>\n",
       "</g>\n",
       "<!-- sample_d0ef3818&#45;e971&#45;4095&#45;ac13&#45;8a9c7c700b67_SimulationCellAngle&#45;&gt;8ff733e2&#45;3e63&#45;41c7&#45;8393&#45;7a04a2e64edd -->\n",
       "<g id=\"edge76\" class=\"edge\">\n",
       "<title>sample_d0ef3818&#45;e971&#45;4095&#45;ac13&#45;8a9c7c700b67_SimulationCellAngle&#45;&gt;8ff733e2&#45;3e63&#45;41c7&#45;8393&#45;7a04a2e64edd</title>\n",
       "<path fill=\"none\" stroke=\"#263238\" d=\"M2582.38,-2652.42C2610.75,-2624.09 2665.04,-2569.88 2697.09,-2537.88\"/>\n",
       "<polygon fill=\"#263238\" stroke=\"#263238\" points=\"2699.44,-2540.48 2704.05,-2530.94 2694.5,-2535.53 2699.44,-2540.48\"/>\n",
       "<text text-anchor=\"middle\" x=\"2595.48\" y=\"-2597.3\" font-family=\"Helvetica,sans-Serif\" font-size=\"8.00\">cmso.hasAngle_alpha</text>\n",
       "</g>\n",
       "<!-- 13208383&#45;5f42&#45;478d&#45;b3a3&#45;231e0eafbf1e -->\n",
       "<g id=\"node97\" class=\"node\">\n",
       "<title>13208383&#45;5f42&#45;478d&#45;b3a3&#45;231e0eafbf1e</title>\n",
       "<polygon fill=\"#e6b8af\" stroke=\"#e6b8af\" points=\"2822.49,-2770.42 2776.91,-2770.42 2765.19,-2734.42 2810.76,-2734.42 2822.49,-2770.42\"/>\n",
       "<text text-anchor=\"middle\" x=\"2793.84\" y=\"-2749.69\" font-family=\"Helvetica,sans-Serif\" font-size=\"8.00\">90.0</text>\n",
       "</g>\n",
       "<!-- sample_d0ef3818&#45;e971&#45;4095&#45;ac13&#45;8a9c7c700b67_SimulationCellAngle&#45;&gt;13208383&#45;5f42&#45;478d&#45;b3a3&#45;231e0eafbf1e -->\n",
       "<g id=\"edge78\" class=\"edge\">\n",
       "<title>sample_d0ef3818&#45;e971&#45;4095&#45;ac13&#45;8a9c7c700b67_SimulationCellAngle&#45;&gt;13208383&#45;5f42&#45;478d&#45;b3a3&#45;231e0eafbf1e</title>\n",
       "<path fill=\"none\" stroke=\"#263238\" d=\"M2616.05,-2689.4C2658.99,-2704.62 2718.78,-2725.81 2756.9,-2739.33\"/>\n",
       "<polygon fill=\"#263238\" stroke=\"#263238\" points=\"2755.5,-2742.54 2766.09,-2742.58 2757.84,-2735.94 2755.5,-2742.54\"/>\n",
       "<text text-anchor=\"middle\" x=\"2644.48\" y=\"-2716.51\" font-family=\"Helvetica,sans-Serif\" font-size=\"8.00\">cmso.hasAngle_beta</text>\n",
       "</g>\n",
       "<!-- sample_a89be6be&#45;c97e&#45;429d&#45;95be&#45;fe3cd8c511f8_UnitCell -->\n",
       "<g id=\"node41\" class=\"node\">\n",
       "<title>sample_a89be6be&#45;c97e&#45;429d&#45;95be&#45;fe3cd8c511f8_UnitCell</title>\n",
       "<polygon fill=\"#d9d9d9\" stroke=\"#d9d9d9\" points=\"661.87,-456.37 403.62,-456.37 403.62,-420.37 661.87,-420.37 661.87,-456.37\"/>\n",
       "<text text-anchor=\"middle\" x=\"532.74\" y=\"-435.64\" font-family=\"Helvetica,sans-Serif\" font-size=\"8.00\">sample_a89be6be&#45;c97e&#45;429d&#45;95be&#45;fe3cd8c511f8_UnitCell</text>\n",
       "</g>\n",
       "<!-- sample_a89be6be&#45;c97e&#45;429d&#45;95be&#45;fe3cd8c511f8_UnitCell&#45;&gt;sample_a89be6be&#45;c97e&#45;429d&#45;95be&#45;fe3cd8c511f8_LatticeParameter -->\n",
       "<g id=\"edge30\" class=\"edge\">\n",
       "<title>sample_a89be6be&#45;c97e&#45;429d&#45;95be&#45;fe3cd8c511f8_UnitCell&#45;&gt;sample_a89be6be&#45;c97e&#45;429d&#45;95be&#45;fe3cd8c511f8_LatticeParameter</title>\n",
       "<path fill=\"none\" stroke=\"#263238\" d=\"M543.35,-420.19C565.53,-382.2 616.93,-294.15 643.37,-248.85\"/>\n",
       "<polygon fill=\"#263238\" stroke=\"#263238\" points=\"646.29,-250.79 648.31,-240.39 640.25,-247.26 646.29,-250.79\"/>\n",
       "<text text-anchor=\"middle\" x=\"539.36\" y=\"-336.67\" font-family=\"Helvetica,sans-Serif\" font-size=\"8.00\">cmso.hasLatticeParameter</text>\n",
       "</g>\n",
       "<!-- wiki.Q851536 -->\n",
       "<g id=\"node42\" class=\"node\">\n",
       "<title>wiki.Q851536</title>\n",
       "<polygon fill=\"#c9daf8\" stroke=\"#c9daf8\" points=\"481.87,-333.22 410.37,-333.22 410.37,-297.22 481.87,-297.22 481.87,-333.22\"/>\n",
       "<text text-anchor=\"middle\" x=\"446.12\" y=\"-312.49\" font-family=\"Helvetica,sans-Serif\" font-size=\"8.00\">wiki.Q851536</text>\n",
       "</g>\n",
       "<!-- sample_a89be6be&#45;c97e&#45;429d&#45;95be&#45;fe3cd8c511f8_UnitCell&#45;&gt;wiki.Q851536 -->\n",
       "<g id=\"edge23\" class=\"edge\">\n",
       "<title>sample_a89be6be&#45;c97e&#45;429d&#45;95be&#45;fe3cd8c511f8_UnitCell&#45;&gt;wiki.Q851536</title>\n",
       "<path fill=\"none\" stroke=\"#263238\" d=\"M519.77,-419.93C505.34,-399.41 481.86,-366.04 465.3,-342.49\"/>\n",
       "<polygon fill=\"#263238\" stroke=\"#263238\" points=\"468.38,-340.78 459.76,-334.62 462.65,-344.81 468.38,-340.78\"/>\n",
       "<text text-anchor=\"middle\" x=\"540.54\" y=\"-383.36\" font-family=\"Helvetica,sans-Serif\" font-size=\"8.00\">cmso.hasBravaisLattice</text>\n",
       "</g>\n",
       "<!-- sample_a89be6be&#45;c97e&#45;429d&#45;95be&#45;fe3cd8c511f8_LatticeAngle -->\n",
       "<g id=\"node52\" class=\"node\">\n",
       "<title>sample_a89be6be&#45;c97e&#45;429d&#45;95be&#45;fe3cd8c511f8_LatticeAngle</title>\n",
       "<polygon fill=\"#d9d9d9\" stroke=\"#d9d9d9\" points=\"398.84,-406.62 121.09,-406.62 121.09,-370.62 398.84,-370.62 398.84,-406.62\"/>\n",
       "<text text-anchor=\"middle\" x=\"259.96\" y=\"-385.9\" font-family=\"Helvetica,sans-Serif\" font-size=\"8.00\">sample_a89be6be&#45;c97e&#45;429d&#45;95be&#45;fe3cd8c511f8_LatticeAngle</text>\n",
       "</g>\n",
       "<!-- sample_a89be6be&#45;c97e&#45;429d&#45;95be&#45;fe3cd8c511f8_UnitCell&#45;&gt;sample_a89be6be&#45;c97e&#45;429d&#45;95be&#45;fe3cd8c511f8_LatticeAngle -->\n",
       "<g id=\"edge86\" class=\"edge\">\n",
       "<title>sample_a89be6be&#45;c97e&#45;429d&#45;95be&#45;fe3cd8c511f8_UnitCell&#45;&gt;sample_a89be6be&#45;c97e&#45;429d&#45;95be&#45;fe3cd8c511f8_LatticeAngle</title>\n",
       "<path fill=\"none\" stroke=\"#263238\" d=\"M431.56,-419.92C412.2,-416.39 391.83,-412.67 372.15,-409.08\"/>\n",
       "<polygon fill=\"#263238\" stroke=\"#263238\" points=\"372.94,-405.67 362.47,-407.32 371.68,-412.55 372.94,-405.67\"/>\n",
       "<text text-anchor=\"middle\" x=\"371.11\" y=\"-416.65\" font-family=\"Helvetica,sans-Serif\" font-size=\"8.00\">cmso.hasAngle</text>\n",
       "</g>\n",
       "<!-- sample_a89be6be&#45;c97e&#45;429d&#45;95be&#45;fe3cd8c511f8_CrystalStructure -->\n",
       "<g id=\"node43\" class=\"node\">\n",
       "<title>sample_a89be6be&#45;c97e&#45;429d&#45;95be&#45;fe3cd8c511f8_CrystalStructure</title>\n",
       "<polygon fill=\"#d9d9d9\" stroke=\"#d9d9d9\" points=\"772.46,-682.25 480.46,-682.25 480.46,-646.25 772.46,-646.25 772.46,-682.25\"/>\n",
       "<text text-anchor=\"middle\" x=\"626.46\" y=\"-661.53\" font-family=\"Helvetica,sans-Serif\" font-size=\"8.00\">sample_a89be6be&#45;c97e&#45;429d&#45;95be&#45;fe3cd8c511f8_CrystalStructure</text>\n",
       "</g>\n",
       "<!-- sample_a89be6be&#45;c97e&#45;429d&#45;95be&#45;fe3cd8c511f8_CrystalStructure&#45;&gt;sample_a89be6be&#45;c97e&#45;429d&#45;95be&#45;fe3cd8c511f8_UnitCell -->\n",
       "<g id=\"edge24\" class=\"edge\">\n",
       "<title>sample_a89be6be&#45;c97e&#45;429d&#45;95be&#45;fe3cd8c511f8_CrystalStructure&#45;&gt;sample_a89be6be&#45;c97e&#45;429d&#45;95be&#45;fe3cd8c511f8_UnitCell</title>\n",
       "<path fill=\"none\" stroke=\"#263238\" d=\"M618.79,-645.77C602.48,-606.46 564.25,-514.31 544.7,-467.2\"/>\n",
       "<polygon fill=\"#263238\" stroke=\"#263238\" points=\"548.03,-466.08 540.97,-458.19 541.57,-468.77 548.03,-466.08\"/>\n",
       "<text text-anchor=\"middle\" x=\"546.87\" y=\"-558.64\" font-family=\"Helvetica,sans-Serif\" font-size=\"8.00\">cmso.hasUnitCell</text>\n",
       "</g>\n",
       "<!-- 9c69d4d3&#45;b173&#45;4352&#45;8629&#45;ff801b6d6706 -->\n",
       "<g id=\"node63\" class=\"node\">\n",
       "<title>9c69d4d3&#45;b173&#45;4352&#45;8629&#45;ff801b6d6706</title>\n",
       "<polygon fill=\"#e6b8af\" stroke=\"#e6b8af\" points=\"471.31,-656.02 426.78,-656.02 415.33,-620.02 459.86,-620.02 471.31,-656.02\"/>\n",
       "<text text-anchor=\"middle\" x=\"443.32\" y=\"-635.29\" font-family=\"Helvetica,sans-Serif\" font-size=\"8.00\">Bcc</text>\n",
       "</g>\n",
       "<!-- sample_a89be6be&#45;c97e&#45;429d&#45;95be&#45;fe3cd8c511f8_CrystalStructure&#45;&gt;9c69d4d3&#45;b173&#45;4352&#45;8629&#45;ff801b6d6706 -->\n",
       "<g id=\"edge41\" class=\"edge\">\n",
       "<title>sample_a89be6be&#45;c97e&#45;429d&#45;95be&#45;fe3cd8c511f8_CrystalStructure&#45;&gt;9c69d4d3&#45;b173&#45;4352&#45;8629&#45;ff801b6d6706</title>\n",
       "<path fill=\"none\" stroke=\"#263238\" d=\"M497.77,-645.82C490.8,-644.82 484.16,-643.87 478.08,-643\"/>\n",
       "<polygon fill=\"#263238\" stroke=\"#263238\" points=\"479.02,-639.6 468.62,-641.64 478.02,-646.53 479.02,-639.6\"/>\n",
       "<text text-anchor=\"middle\" x=\"524.3\" y=\"-636.81\" font-family=\"Helvetica,sans-Serif\" font-size=\"8.00\">cmso.hasAltName</text>\n",
       "</g>\n",
       "<!-- 666072c0&#45;3c87&#45;4d9a&#45;947c&#45;429ab0dddedf -->\n",
       "<g id=\"node112\" class=\"node\">\n",
       "<title>666072c0&#45;3c87&#45;4d9a&#45;947c&#45;429ab0dddedf</title>\n",
       "<polygon fill=\"#e6b8af\" stroke=\"#e6b8af\" points=\"804.4,-543.79 759.87,-543.79 748.42,-507.79 792.95,-507.79 804.4,-543.79\"/>\n",
       "<text text-anchor=\"middle\" x=\"776.41\" y=\"-523.06\" font-family=\"Helvetica,sans-Serif\" font-size=\"8.00\">229</text>\n",
       "</g>\n",
       "<!-- sample_a89be6be&#45;c97e&#45;429d&#45;95be&#45;fe3cd8c511f8_CrystalStructure&#45;&gt;666072c0&#45;3c87&#45;4d9a&#45;947c&#45;429ab0dddedf -->\n",
       "<g id=\"edge101\" class=\"edge\">\n",
       "<title>sample_a89be6be&#45;c97e&#45;429d&#45;95be&#45;fe3cd8c511f8_CrystalStructure&#45;&gt;666072c0&#45;3c87&#45;4d9a&#45;947c&#45;429ab0dddedf</title>\n",
       "<path fill=\"none\" stroke=\"#263238\" d=\"M646.38,-645.87C673.35,-620.96 721.51,-576.48 751.04,-549.21\"/>\n",
       "<polygon fill=\"#263238\" stroke=\"#263238\" points=\"753.12,-552.06 758.09,-542.7 748.37,-546.91 753.12,-552.06\"/>\n",
       "<text text-anchor=\"middle\" x=\"638.33\" y=\"-599.69\" font-family=\"Helvetica,sans-Serif\" font-size=\"8.00\">cmso.hasSpaceGroupNumber</text>\n",
       "</g>\n",
       "<!-- 6fcaf669&#45;c86b&#45;488d&#45;b422&#45;02dac24c68dd -->\n",
       "<g id=\"node115\" class=\"node\">\n",
       "<title>6fcaf669&#45;c86b&#45;488d&#45;b422&#45;02dac24c68dd</title>\n",
       "<polygon fill=\"#e6b8af\" stroke=\"#e6b8af\" points=\"385.6,-739.5 330.98,-739.5 316.93,-703.5 371.55,-703.5 385.6,-739.5\"/>\n",
       "<text text-anchor=\"middle\" x=\"351.27\" y=\"-718.77\" font-family=\"Helvetica,sans-Serif\" font-size=\"8.00\">Im&#45;3M</text>\n",
       "</g>\n",
       "<!-- sample_a89be6be&#45;c97e&#45;429d&#45;95be&#45;fe3cd8c511f8_CrystalStructure&#45;&gt;6fcaf669&#45;c86b&#45;488d&#45;b422&#45;02dac24c68dd -->\n",
       "<g id=\"edge109\" class=\"edge\">\n",
       "<title>sample_a89be6be&#45;c97e&#45;429d&#45;95be&#45;fe3cd8c511f8_CrystalStructure&#45;&gt;6fcaf669&#45;c86b&#45;488d&#45;b422&#45;02dac24c68dd</title>\n",
       "<path fill=\"none\" stroke=\"#263238\" d=\"M537.87,-682.68C487.04,-693.26 425.94,-705.97 387.84,-713.89\"/>\n",
       "<polygon fill=\"#263238\" stroke=\"#263238\" points=\"387.35,-710.42 378.28,-715.88 388.78,-717.27 387.35,-710.42\"/>\n",
       "<text text-anchor=\"middle\" x=\"403.61\" y=\"-690.69\" font-family=\"Helvetica,sans-Serif\" font-size=\"8.00\">cmso.hasSpaceGroupSymbol</text>\n",
       "</g>\n",
       "<!-- b5790a2f&#45;0c72&#45;4187&#45;bb4a&#45;ba794631d2da -->\n",
       "<g id=\"node46\" class=\"node\">\n",
       "<title>b5790a2f&#45;0c72&#45;4187&#45;bb4a&#45;ba794631d2da</title>\n",
       "<polygon fill=\"#e6b8af\" stroke=\"#e6b8af\" points=\"411.3,-1603.91 366.77,-1603.91 355.32,-1567.91 399.85,-1567.91 411.3,-1603.91\"/>\n",
       "<text text-anchor=\"middle\" x=\"383.31\" y=\"-1583.19\" font-family=\"Helvetica,sans-Serif\" font-size=\"8.00\">0.0</text>\n",
       "</g>\n",
       "<!-- sample_a89be6be&#45;c97e&#45;429d&#45;95be&#45;fe3cd8c511f8_SimulationCellVector_2&#45;&gt;b5790a2f&#45;0c72&#45;4187&#45;bb4a&#45;ba794631d2da -->\n",
       "<g id=\"edge26\" class=\"edge\">\n",
       "<title>sample_a89be6be&#45;c97e&#45;429d&#45;95be&#45;fe3cd8c511f8_SimulationCellVector_2&#45;&gt;b5790a2f&#45;0c72&#45;4187&#45;bb4a&#45;ba794631d2da</title>\n",
       "<path fill=\"none\" stroke=\"#263238\" d=\"M576.69,-1481.09C532.03,-1505.3 454.4,-1547.38 412.37,-1570.16\"/>\n",
       "<polygon fill=\"#263238\" stroke=\"#263238\" points=\"410.94,-1566.95 403.82,-1574.79 414.28,-1573.11 410.94,-1566.95\"/>\n",
       "<text text-anchor=\"middle\" x=\"447.65\" y=\"-1527.78\" font-family=\"Helvetica,sans-Serif\" font-size=\"8.00\">cmso.hasComponent_x</text>\n",
       "</g>\n",
       "<!-- 0345e297&#45;545f&#45;4a9b&#45;b989&#45;2b31e3523320 -->\n",
       "<g id=\"node68\" class=\"node\">\n",
       "<title>0345e297&#45;545f&#45;4a9b&#45;b989&#45;2b31e3523320</title>\n",
       "<polygon fill=\"#e6b8af\" stroke=\"#e6b8af\" points=\"387.6,-1496.24 343.07,-1496.24 331.61,-1460.24 376.14,-1460.24 387.6,-1496.24\"/>\n",
       "<text text-anchor=\"middle\" x=\"359.6\" y=\"-1475.52\" font-family=\"Helvetica,sans-Serif\" font-size=\"8.00\">0.0</text>\n",
       "</g>\n",
       "<!-- sample_a89be6be&#45;c97e&#45;429d&#45;95be&#45;fe3cd8c511f8_SimulationCellVector_2&#45;&gt;0345e297&#45;545f&#45;4a9b&#45;b989&#45;2b31e3523320 -->\n",
       "<g id=\"edge46\" class=\"edge\">\n",
       "<title>sample_a89be6be&#45;c97e&#45;429d&#45;95be&#45;fe3cd8c511f8_SimulationCellVector_2&#45;&gt;0345e297&#45;545f&#45;4a9b&#45;b989&#45;2b31e3523320</title>\n",
       "<path fill=\"none\" stroke=\"#263238\" d=\"M450.63,-1472.59C428.95,-1473.93 408.77,-1475.19 392.95,-1476.17\"/>\n",
       "<polygon fill=\"#263238\" stroke=\"#263238\" points=\"393.02,-1472.66 383.25,-1476.78 393.45,-1479.65 393.02,-1472.66\"/>\n",
       "<text text-anchor=\"middle\" x=\"421.79\" y=\"-1466.78\" font-family=\"Helvetica,sans-Serif\" font-size=\"8.00\">cmso.hasComponent_z</text>\n",
       "</g>\n",
       "<!-- 927402d3&#45;d7f5&#45;4886&#45;86e4&#45;e317605e2e1a -->\n",
       "<g id=\"node96\" class=\"node\">\n",
       "<title>927402d3&#45;d7f5&#45;4886&#45;86e4&#45;e317605e2e1a</title>\n",
       "<polygon fill=\"#e6b8af\" stroke=\"#e6b8af\" points=\"508.32,-1682.1 462.74,-1682.1 451.02,-1646.1 496.6,-1646.1 508.32,-1682.1\"/>\n",
       "<text text-anchor=\"middle\" x=\"479.67\" y=\"-1661.37\" font-family=\"Helvetica,sans-Serif\" font-size=\"8.00\">2.87</text>\n",
       "</g>\n",
       "<!-- sample_a89be6be&#45;c97e&#45;429d&#45;95be&#45;fe3cd8c511f8_SimulationCellVector_2&#45;&gt;927402d3&#45;d7f5&#45;4886&#45;86e4&#45;e317605e2e1a -->\n",
       "<g id=\"edge77\" class=\"edge\">\n",
       "<title>sample_a89be6be&#45;c97e&#45;429d&#45;95be&#45;fe3cd8c511f8_SimulationCellVector_2&#45;&gt;927402d3&#45;d7f5&#45;4886&#45;86e4&#45;e317605e2e1a</title>\n",
       "<path fill=\"none\" stroke=\"#263238\" d=\"M598.88,-1480.87C575.88,-1516.22 525.11,-1594.25 497.84,-1636.17\"/>\n",
       "<polygon fill=\"#263238\" stroke=\"#263238\" points=\"494.95,-1634.2 492.43,-1644.49 500.81,-1638.02 494.95,-1634.2\"/>\n",
       "<text text-anchor=\"middle\" x=\"501.48\" y=\"-1560.67\" font-family=\"Helvetica,sans-Serif\" font-size=\"8.00\">cmso.hasComponent_y</text>\n",
       "</g>\n",
       "<!-- 74ee3007&#45;f1c6&#45;49da&#45;a380&#45;8aff8cc7ce71 -->\n",
       "<g id=\"node48\" class=\"node\">\n",
       "<title>74ee3007&#45;f1c6&#45;49da&#45;a380&#45;8aff8cc7ce71</title>\n",
       "<polygon fill=\"#e6b8af\" stroke=\"#e6b8af\" points=\"1959.2,-3059.6 1914.67,-3059.6 1903.21,-3023.6 1947.74,-3023.6 1959.2,-3059.6\"/>\n",
       "<text text-anchor=\"middle\" x=\"1931.21\" y=\"-3038.88\" font-family=\"Helvetica,sans-Serif\" font-size=\"8.00\">0.0</text>\n",
       "</g>\n",
       "<!-- sample_d0ef3818&#45;e971&#45;4095&#45;ac13&#45;8a9c7c700b67_SimulationCellVector_3&#45;&gt;74ee3007&#45;f1c6&#45;49da&#45;a380&#45;8aff8cc7ce71 -->\n",
       "<g id=\"edge27\" class=\"edge\">\n",
       "<title>sample_d0ef3818&#45;e971&#45;4095&#45;ac13&#45;8a9c7c700b67_SimulationCellVector_3&#45;&gt;74ee3007&#45;f1c6&#45;49da&#45;a380&#45;8aff8cc7ce71</title>\n",
       "<path fill=\"none\" stroke=\"#263238\" d=\"M2104.92,-2967.84C2062.34,-2985.92 1998.55,-3013.01 1961.28,-3028.83\"/>\n",
       "<polygon fill=\"#263238\" stroke=\"#263238\" points=\"1960.29,-3025.45 1952.46,-3032.58 1963.03,-3031.89 1960.29,-3025.45\"/>\n",
       "<text text-anchor=\"middle\" x=\"1986.23\" y=\"-3000.49\" font-family=\"Helvetica,sans-Serif\" font-size=\"8.00\">cmso.hasComponent_y</text>\n",
       "</g>\n",
       "<!-- cb2a185c&#45;57e6&#45;4a2f&#45;a22d&#45;c644a7103d83 -->\n",
       "<g id=\"node70\" class=\"node\">\n",
       "<title>cb2a185c&#45;57e6&#45;4a2f&#45;a22d&#45;c644a7103d83</title>\n",
       "<polygon fill=\"#e6b8af\" stroke=\"#e6b8af\" points=\"2129.84,-3206.45 2085.31,-3206.45 2073.86,-3170.45 2118.39,-3170.45 2129.84,-3206.45\"/>\n",
       "<text text-anchor=\"middle\" x=\"2101.85\" y=\"-3185.73\" font-family=\"Helvetica,sans-Serif\" font-size=\"8.00\">0.0</text>\n",
       "</g>\n",
       "<!-- sample_d0ef3818&#45;e971&#45;4095&#45;ac13&#45;8a9c7c700b67_SimulationCellVector_3&#45;&gt;cb2a185c&#45;57e6&#45;4a2f&#45;a22d&#45;c644a7103d83 -->\n",
       "<g id=\"edge49\" class=\"edge\">\n",
       "<title>sample_d0ef3818&#45;e971&#45;4095&#45;ac13&#45;8a9c7c700b67_SimulationCellVector_3&#45;&gt;cb2a185c&#45;57e6&#45;4a2f&#45;a22d&#45;c644a7103d83</title>\n",
       "<path fill=\"none\" stroke=\"#263238\" d=\"M2144.77,-2967.76C2136.76,-3008.96 2117.29,-3109.04 2107.57,-3159.03\"/>\n",
       "<polygon fill=\"#263238\" stroke=\"#263238\" points=\"2104.2,-3158.06 2105.72,-3168.54 2111.07,-3159.4 2104.2,-3158.06\"/>\n",
       "<text text-anchor=\"middle\" x=\"2079.3\" y=\"-3065.55\" font-family=\"Helvetica,sans-Serif\" font-size=\"8.00\">cmso.hasComponent_x</text>\n",
       "</g>\n",
       "<!-- 18892b58&#45;b533&#45;4b13&#45;a6e9&#45;8160d0730487 -->\n",
       "<g id=\"node92\" class=\"node\">\n",
       "<title>18892b58&#45;b533&#45;4b13&#45;a6e9&#45;8160d0730487</title>\n",
       "<polygon fill=\"#e6b8af\" stroke=\"#e6b8af\" points=\"2018.99,-3152.16 1973.42,-3152.16 1961.69,-3116.16 2007.27,-3116.16 2018.99,-3152.16\"/>\n",
       "<text text-anchor=\"middle\" x=\"1990.34\" y=\"-3131.43\" font-family=\"Helvetica,sans-Serif\" font-size=\"8.00\">4.05</text>\n",
       "</g>\n",
       "<!-- sample_d0ef3818&#45;e971&#45;4095&#45;ac13&#45;8a9c7c700b67_SimulationCellVector_3&#45;&gt;18892b58&#45;b533&#45;4b13&#45;a6e9&#45;8160d0730487 -->\n",
       "<g id=\"edge73\" class=\"edge\">\n",
       "<title>sample_d0ef3818&#45;e971&#45;4095&#45;ac13&#45;8a9c7c700b67_SimulationCellVector_3&#45;&gt;18892b58&#45;b533&#45;4b13&#45;a6e9&#45;8160d0730487</title>\n",
       "<path fill=\"none\" stroke=\"#263238\" d=\"M2132.61,-2967.79C2104.58,-3000.58 2045.85,-3069.24 2013.3,-3107.31\"/>\n",
       "<polygon fill=\"#263238\" stroke=\"#263238\" points=\"2010.83,-3104.81 2006.99,-3114.69 2016.15,-3109.36 2010.83,-3104.81\"/>\n",
       "<text text-anchor=\"middle\" x=\"2026.08\" y=\"-3039.7\" font-family=\"Helvetica,sans-Serif\" font-size=\"8.00\">cmso.hasComponent_z</text>\n",
       "</g>\n",
       "<!-- 7471db7e&#45;ce08&#45;499c&#45;bb45&#45;4c9f8a84f375 -->\n",
       "<g id=\"node50\" class=\"node\">\n",
       "<title>7471db7e&#45;ce08&#45;499c&#45;bb45&#45;4c9f8a84f375</title>\n",
       "<polygon fill=\"#e6b8af\" stroke=\"#e6b8af\" points=\"707.2,-1811.56 661.62,-1811.56 649.9,-1775.56 695.47,-1775.56 707.2,-1811.56\"/>\n",
       "<text text-anchor=\"middle\" x=\"678.55\" y=\"-1790.84\" font-family=\"Helvetica,sans-Serif\" font-size=\"8.00\">2.87</text>\n",
       "</g>\n",
       "<!-- sample_a89be6be&#45;c97e&#45;429d&#45;95be&#45;fe3cd8c511f8_SimulationCellVector_3&#45;&gt;7471db7e&#45;ce08&#45;499c&#45;bb45&#45;4c9f8a84f375 -->\n",
       "<g id=\"edge28\" class=\"edge\">\n",
       "<title>sample_a89be6be&#45;c97e&#45;429d&#45;95be&#45;fe3cd8c511f8_SimulationCellVector_3&#45;&gt;7471db7e&#45;ce08&#45;499c&#45;bb45&#45;4c9f8a84f375</title>\n",
       "<path fill=\"none\" stroke=\"#263238\" d=\"M733.15,-1587.64C722.84,-1626.51 698.74,-1717.39 686.29,-1764.34\"/>\n",
       "<polygon fill=\"#263238\" stroke=\"#263238\" points=\"682.96,-1763.24 683.78,-1773.81 689.73,-1765.04 682.96,-1763.24\"/>\n",
       "<text text-anchor=\"middle\" x=\"662.85\" y=\"-1678.14\" font-family=\"Helvetica,sans-Serif\" font-size=\"8.00\">cmso.hasComponent_z</text>\n",
       "</g>\n",
       "<!-- 3172e864&#45;c6ea&#45;4096&#45;b1c1&#45;05728bcf1ecd -->\n",
       "<g id=\"node87\" class=\"node\">\n",
       "<title>3172e864&#45;c6ea&#45;4096&#45;b1c1&#45;05728bcf1ecd</title>\n",
       "<polygon fill=\"#e6b8af\" stroke=\"#e6b8af\" points=\"591.48,-1733.51 546.95,-1733.51 535.5,-1697.51 580.03,-1697.51 591.48,-1733.51\"/>\n",
       "<text text-anchor=\"middle\" x=\"563.49\" y=\"-1712.79\" font-family=\"Helvetica,sans-Serif\" font-size=\"8.00\">0.0</text>\n",
       "</g>\n",
       "<!-- sample_a89be6be&#45;c97e&#45;429d&#45;95be&#45;fe3cd8c511f8_SimulationCellVector_3&#45;&gt;3172e864&#45;c6ea&#45;4096&#45;b1c1&#45;05728bcf1ecd -->\n",
       "<g id=\"edge66\" class=\"edge\">\n",
       "<title>sample_a89be6be&#45;c97e&#45;429d&#45;95be&#45;fe3cd8c511f8_SimulationCellVector_3&#45;&gt;3172e864&#45;c6ea&#45;4096&#45;b1c1&#45;05728bcf1ecd</title>\n",
       "<path fill=\"none\" stroke=\"#263238\" d=\"M716.27,-1587.51C684.22,-1614.36 624.41,-1664.47 589.89,-1693.39\"/>\n",
       "<polygon fill=\"#263238\" stroke=\"#263238\" points=\"587.86,-1690.53 582.45,-1699.63 592.36,-1695.89 587.86,-1690.53\"/>\n",
       "<text text-anchor=\"middle\" x=\"606.21\" y=\"-1642.6\" font-family=\"Helvetica,sans-Serif\" font-size=\"8.00\">cmso.hasComponent_y</text>\n",
       "</g>\n",
       "<!-- eb6952c6&#45;d4d8&#45;4434&#45;8783&#45;45e1bafb3c5a -->\n",
       "<g id=\"node102\" class=\"node\">\n",
       "<title>eb6952c6&#45;d4d8&#45;4434&#45;8783&#45;45e1bafb3c5a</title>\n",
       "<polygon fill=\"#e6b8af\" stroke=\"#e6b8af\" points=\"933.17,-1837.06 888.64,-1837.06 877.18,-1801.06 921.71,-1801.06 933.17,-1837.06\"/>\n",
       "<text text-anchor=\"middle\" x=\"905.17\" y=\"-1816.34\" font-family=\"Helvetica,sans-Serif\" font-size=\"8.00\">0.0</text>\n",
       "</g>\n",
       "<!-- sample_a89be6be&#45;c97e&#45;429d&#45;95be&#45;fe3cd8c511f8_SimulationCellVector_3&#45;&gt;eb6952c6&#45;d4d8&#45;4434&#45;8783&#45;45e1bafb3c5a -->\n",
       "<g id=\"edge84\" class=\"edge\">\n",
       "<title>sample_a89be6be&#45;c97e&#45;429d&#45;95be&#45;fe3cd8c511f8_SimulationCellVector_3&#45;&gt;eb6952c6&#45;d4d8&#45;4434&#45;8783&#45;45e1bafb3c5a</title>\n",
       "<path fill=\"none\" stroke=\"#263238\" d=\"M750.31,-1587.65C779.29,-1630.96 852.04,-1739.67 886.51,-1791.17\"/>\n",
       "<polygon fill=\"#263238\" stroke=\"#263238\" points=\"883.55,-1793.05 892.02,-1799.41 889.37,-1789.16 883.55,-1793.05\"/>\n",
       "<text text-anchor=\"middle\" x=\"771.53\" y=\"-1691.56\" font-family=\"Helvetica,sans-Serif\" font-size=\"8.00\">cmso.hasComponent_x</text>\n",
       "</g>\n",
       "<!-- c636c429&#45;601d&#45;4bf4&#45;9f93&#45;f0e69e02b29b -->\n",
       "<g id=\"node53\" class=\"node\">\n",
       "<title>c636c429&#45;601d&#45;4bf4&#45;9f93&#45;f0e69e02b29b</title>\n",
       "<polygon fill=\"#e6b8af\" stroke=\"#e6b8af\" points=\"97.84,-313.95 52.26,-313.95 40.54,-277.95 86.11,-277.95 97.84,-313.95\"/>\n",
       "<text text-anchor=\"middle\" x=\"69.19\" y=\"-293.22\" font-family=\"Helvetica,sans-Serif\" font-size=\"8.00\">90.0</text>\n",
       "</g>\n",
       "<!-- sample_a89be6be&#45;c97e&#45;429d&#45;95be&#45;fe3cd8c511f8_LatticeAngle&#45;&gt;c636c429&#45;601d&#45;4bf4&#45;9f93&#45;f0e69e02b29b -->\n",
       "<g id=\"edge31\" class=\"edge\">\n",
       "<title>sample_a89be6be&#45;c97e&#45;429d&#45;95be&#45;fe3cd8c511f8_LatticeAngle&#45;&gt;c636c429&#45;601d&#45;4bf4&#45;9f93&#45;f0e69e02b29b</title>\n",
       "<path fill=\"none\" stroke=\"#263238\" d=\"M222.27,-370.31C188.86,-354.08 140.32,-330.5 106.9,-314.27\"/>\n",
       "<polygon fill=\"#263238\" stroke=\"#263238\" points=\"108.5,-311.16 97.98,-309.94 105.44,-317.45 108.5,-311.16\"/>\n",
       "<text text-anchor=\"middle\" x=\"122.58\" y=\"-344.44\" font-family=\"Helvetica,sans-Serif\" font-size=\"8.00\">cmso.hasAngle_beta</text>\n",
       "</g>\n",
       "<!-- 341c019c&#45;db70&#45;4b50&#45;8270&#45;cda08ce3d644 -->\n",
       "<g id=\"node58\" class=\"node\">\n",
       "<title>341c019c&#45;db70&#45;4b50&#45;8270&#45;cda08ce3d644</title>\n",
       "<polygon fill=\"#e6b8af\" stroke=\"#e6b8af\" points=\"58.31,-465.92 12.73,-465.92 1.01,-429.92 46.59,-429.92 58.31,-465.92\"/>\n",
       "<text text-anchor=\"middle\" x=\"29.66\" y=\"-445.2\" font-family=\"Helvetica,sans-Serif\" font-size=\"8.00\">90.0</text>\n",
       "</g>\n",
       "<!-- sample_a89be6be&#45;c97e&#45;429d&#45;95be&#45;fe3cd8c511f8_LatticeAngle&#45;&gt;341c019c&#45;db70&#45;4b50&#45;8270&#45;cda08ce3d644 -->\n",
       "<g id=\"edge35\" class=\"edge\">\n",
       "<title>sample_a89be6be&#45;c97e&#45;429d&#45;95be&#45;fe3cd8c511f8_LatticeAngle&#45;&gt;341c019c&#45;db70&#45;4b50&#45;8270&#45;cda08ce3d644</title>\n",
       "<path fill=\"none\" stroke=\"#263238\" d=\"M188.36,-407.06C146.14,-417.93 94.76,-431.16 62.13,-439.56\"/>\n",
       "<polygon fill=\"#263238\" stroke=\"#263238\" points=\"61.28,-436.16 52.47,-442.05 63.03,-442.94 61.28,-436.16\"/>\n",
       "<text text-anchor=\"middle\" x=\"80.99\" y=\"-415.71\" font-family=\"Helvetica,sans-Serif\" font-size=\"8.00\">cmso.hasAngle_alpha</text>\n",
       "</g>\n",
       "<!-- 29906dad&#45;b43f&#45;4eb0&#45;8614&#45;9414f7b55c22 -->\n",
       "<g id=\"node111\" class=\"node\">\n",
       "<title>29906dad&#45;b43f&#45;4eb0&#45;8614&#45;9414f7b55c22</title>\n",
       "<polygon fill=\"#e6b8af\" stroke=\"#e6b8af\" points=\"230.55,-194.25 184.97,-194.25 173.25,-158.25 218.82,-158.25 230.55,-194.25\"/>\n",
       "<text text-anchor=\"middle\" x=\"201.9\" y=\"-173.52\" font-family=\"Helvetica,sans-Serif\" font-size=\"8.00\">90.0</text>\n",
       "</g>\n",
       "<!-- sample_a89be6be&#45;c97e&#45;429d&#45;95be&#45;fe3cd8c511f8_LatticeAngle&#45;&gt;29906dad&#45;b43f&#45;4eb0&#45;8614&#45;9414f7b55c22 -->\n",
       "<g id=\"edge100\" class=\"edge\">\n",
       "<title>sample_a89be6be&#45;c97e&#45;429d&#45;95be&#45;fe3cd8c511f8_LatticeAngle&#45;&gt;29906dad&#45;b43f&#45;4eb0&#45;8614&#45;9414f7b55c22</title>\n",
       "<path fill=\"none\" stroke=\"#263238\" d=\"M254.91,-370.15C244.81,-333.18 222.03,-249.88 209.88,-205.45\"/>\n",
       "<polygon fill=\"#263238\" stroke=\"#263238\" points=\"213.31,-204.71 207.3,-195.99 206.56,-206.56 213.31,-204.71\"/>\n",
       "<text text-anchor=\"middle\" x=\"184.4\" y=\"-289.95\" font-family=\"Helvetica,sans-Serif\" font-size=\"8.00\">cmso.hasAngle_gamma</text>\n",
       "</g>\n",
       "<!-- sample_d0ef3818&#45;e971&#45;4095&#45;ac13&#45;8a9c7c700b67 -->\n",
       "<g id=\"node54\" class=\"node\">\n",
       "<title>sample_d0ef3818&#45;e971&#45;4095&#45;ac13&#45;8a9c7c700b67</title>\n",
       "<polygon fill=\"#d9d9d9\" stroke=\"#d9d9d9\" points=\"2313.98,-2606.8 2088.73,-2606.8 2088.73,-2570.8 2313.98,-2570.8 2313.98,-2606.8\"/>\n",
       "<text text-anchor=\"middle\" x=\"2201.36\" y=\"-2586.08\" font-family=\"Helvetica,sans-Serif\" font-size=\"8.00\">sample_d0ef3818&#45;e971&#45;4095&#45;ac13&#45;8a9c7c700b67</text>\n",
       "</g>\n",
       "<!-- sample_d0ef3818&#45;e971&#45;4095&#45;ac13&#45;8a9c7c700b67&#45;&gt;sample_d0ef3818&#45;e971&#45;4095&#45;ac13&#45;8a9c7c700b67_SimulationCell -->\n",
       "<g id=\"edge104\" class=\"edge\">\n",
       "<title>sample_d0ef3818&#45;e971&#45;4095&#45;ac13&#45;8a9c7c700b67&#45;&gt;sample_d0ef3818&#45;e971&#45;4095&#45;ac13&#45;8a9c7c700b67_SimulationCell</title>\n",
       "<path fill=\"none\" stroke=\"#263238\" d=\"M2211.11,-2607.3C2229.62,-2642.41 2269.98,-2718.96 2291.97,-2760.69\"/>\n",
       "<polygon fill=\"#263238\" stroke=\"#263238\" points=\"2288.81,-2762.19 2296.57,-2769.4 2295,-2758.93 2288.81,-2762.19\"/>\n",
       "<text text-anchor=\"middle\" x=\"2299.91\" y=\"-2686.14\" font-family=\"Helvetica,sans-Serif\" font-size=\"8.00\">cmso.hasSimulationCell</text>\n",
       "</g>\n",
       "<!-- sample_d0ef3818&#45;e971&#45;4095&#45;ac13&#45;8a9c7c700b67&#45;&gt;sample_d0ef3818&#45;e971&#45;4095&#45;ac13&#45;8a9c7c700b67_Position -->\n",
       "<g id=\"edge102\" class=\"edge\">\n",
       "<title>sample_d0ef3818&#45;e971&#45;4095&#45;ac13&#45;8a9c7c700b67&#45;&gt;sample_d0ef3818&#45;e971&#45;4095&#45;ac13&#45;8a9c7c700b67_Position</title>\n",
       "<path fill=\"none\" stroke=\"#263238\" d=\"M2088.39,-2588.14C2079.32,-2588.08 2070.08,-2588.03 2060.83,-2587.97\"/>\n",
       "<polygon fill=\"#263238\" stroke=\"#263238\" points=\"2061.1,-2584.47 2051.08,-2587.92 2061.06,-2591.47 2061.1,-2584.47\"/>\n",
       "<text text-anchor=\"middle\" x=\"2092.99\" y=\"-2580.45\" font-family=\"Helvetica,sans-Serif\" font-size=\"8.00\">cmso.hasAttribute</text>\n",
       "</g>\n",
       "<!-- 35933273&#45;65ba&#45;4f61&#45;b2c5&#45;0bb56e00cfb5 -->\n",
       "<g id=\"node55\" class=\"node\">\n",
       "<title>35933273&#45;65ba&#45;4f61&#45;b2c5&#45;0bb56e00cfb5</title>\n",
       "<polygon fill=\"#e6b8af\" stroke=\"#e6b8af\" points=\"2127.33,-2539.16 2082.8,-2539.16 2071.34,-2503.16 2115.87,-2503.16 2127.33,-2539.16\"/>\n",
       "<text text-anchor=\"middle\" x=\"2099.34\" y=\"-2518.43\" font-family=\"Helvetica,sans-Serif\" font-size=\"8.00\">1</text>\n",
       "</g>\n",
       "<!-- sample_d0ef3818&#45;e971&#45;4095&#45;ac13&#45;8a9c7c700b67&#45;&gt;35933273&#45;65ba&#45;4f61&#45;b2c5&#45;0bb56e00cfb5 -->\n",
       "<g id=\"edge32\" class=\"edge\">\n",
       "<title>sample_d0ef3818&#45;e971&#45;4095&#45;ac13&#45;8a9c7c700b67&#45;&gt;35933273&#45;65ba&#45;4f61&#45;b2c5&#45;0bb56e00cfb5</title>\n",
       "<path fill=\"none\" stroke=\"#263238\" d=\"M2173.48,-2570.32C2162.12,-2562.79 2148.82,-2553.97 2136.64,-2545.9\"/>\n",
       "<polygon fill=\"#263238\" stroke=\"#263238\" points=\"2138.71,-2543.07 2128.44,-2540.46 2134.84,-2548.9 2138.71,-2543.07\"/>\n",
       "<text text-anchor=\"middle\" x=\"2095.06\" y=\"-2560.26\" font-family=\"Helvetica,sans-Serif\" font-size=\"8.00\">podo.hasNumberOfVacancies</text>\n",
       "</g>\n",
       "<!-- sample_d0ef3818&#45;e971&#45;4095&#45;ac13&#45;8a9c7c700b67_ChemicalSpecies -->\n",
       "<g id=\"node59\" class=\"node\">\n",
       "<title>sample_d0ef3818&#45;e971&#45;4095&#45;ac13&#45;8a9c7c700b67_ChemicalSpecies</title>\n",
       "<polygon fill=\"#d9d9d9\" stroke=\"#d9d9d9\" points=\"2146.59,-2737.62 1847.84,-2737.62 1847.84,-2701.62 2146.59,-2701.62 2146.59,-2737.62\"/>\n",
       "<text text-anchor=\"middle\" x=\"1997.22\" y=\"-2716.9\" font-family=\"Helvetica,sans-Serif\" font-size=\"8.00\">sample_d0ef3818&#45;e971&#45;4095&#45;ac13&#45;8a9c7c700b67_ChemicalSpecies</text>\n",
       "</g>\n",
       "<!-- sample_d0ef3818&#45;e971&#45;4095&#45;ac13&#45;8a9c7c700b67&#45;&gt;sample_d0ef3818&#45;e971&#45;4095&#45;ac13&#45;8a9c7c700b67_ChemicalSpecies -->\n",
       "<g id=\"edge94\" class=\"edge\">\n",
       "<title>sample_d0ef3818&#45;e971&#45;4095&#45;ac13&#45;8a9c7c700b67&#45;&gt;sample_d0ef3818&#45;e971&#45;4095&#45;ac13&#45;8a9c7c700b67_ChemicalSpecies</title>\n",
       "<path fill=\"none\" stroke=\"#263238\" d=\"M2172.54,-2607.27C2136.67,-2630.25 2075.3,-2669.58 2035.51,-2695.08\"/>\n",
       "<polygon fill=\"#263238\" stroke=\"#263238\" points=\"2033.69,-2692.09 2027.16,-2700.43 2037.47,-2697.99 2033.69,-2692.09\"/>\n",
       "<text text-anchor=\"middle\" x=\"2068.78\" y=\"-2653.33\" font-family=\"Helvetica,sans-Serif\" font-size=\"8.00\">cmso.hasSpecies</text>\n",
       "</g>\n",
       "<!-- b1a9f992&#45;1664&#45;487a&#45;8fde&#45;f6818c360038 -->\n",
       "<g id=\"node61\" class=\"node\">\n",
       "<title>b1a9f992&#45;1664&#45;487a&#45;8fde&#45;f6818c360038</title>\n",
       "<polygon fill=\"#e6b8af\" stroke=\"#e6b8af\" points=\"2185.77,-2693.53 2140.2,-2693.53 2128.47,-2657.53 2174.05,-2657.53 2185.77,-2693.53\"/>\n",
       "<text text-anchor=\"middle\" x=\"2157.12\" y=\"-2672.81\" font-family=\"Helvetica,sans-Serif\" font-size=\"8.00\">0.25</text>\n",
       "</g>\n",
       "<!-- sample_d0ef3818&#45;e971&#45;4095&#45;ac13&#45;8a9c7c700b67&#45;&gt;b1a9f992&#45;1664&#45;487a&#45;8fde&#45;f6818c360038 -->\n",
       "<g id=\"edge38\" class=\"edge\">\n",
       "<title>sample_d0ef3818&#45;e971&#45;4095&#45;ac13&#45;8a9c7c700b67&#45;&gt;b1a9f992&#45;1664&#45;487a&#45;8fde&#45;f6818c360038</title>\n",
       "<path fill=\"none\" stroke=\"#263238\" d=\"M2191.98,-2607.2C2186.05,-2618.81 2178.28,-2634.05 2171.58,-2647.19\"/>\n",
       "<polygon fill=\"#263238\" stroke=\"#263238\" points=\"2168.6,-2645.32 2167.18,-2655.82 2174.84,-2648.5 2168.6,-2645.32\"/>\n",
       "<text text-anchor=\"middle\" x=\"2117.28\" y=\"-2629.34\" font-family=\"Helvetica,sans-Serif\" font-size=\"8.00\">podo.hasVacancyConcentration</text>\n",
       "</g>\n",
       "<!-- sample_d0ef3818&#45;e971&#45;4095&#45;ac13&#45;8a9c7c700b67_Material -->\n",
       "<g id=\"node72\" class=\"node\">\n",
       "<title>sample_d0ef3818&#45;e971&#45;4095&#45;ac13&#45;8a9c7c700b67_Material</title>\n",
       "<polygon fill=\"#d9d9d9\" stroke=\"#d9d9d9\" points=\"2265.66,-2364.04 2003.66,-2364.04 2003.66,-2328.04 2265.66,-2328.04 2265.66,-2364.04\"/>\n",
       "<text text-anchor=\"middle\" x=\"2134.66\" y=\"-2343.31\" font-family=\"Helvetica,sans-Serif\" font-size=\"8.00\">sample_d0ef3818&#45;e971&#45;4095&#45;ac13&#45;8a9c7c700b67_Material</text>\n",
       "</g>\n",
       "<!-- sample_d0ef3818&#45;e971&#45;4095&#45;ac13&#45;8a9c7c700b67&#45;&gt;sample_d0ef3818&#45;e971&#45;4095&#45;ac13&#45;8a9c7c700b67_Material -->\n",
       "<g id=\"edge98\" class=\"edge\">\n",
       "<title>sample_d0ef3818&#45;e971&#45;4095&#45;ac13&#45;8a9c7c700b67&#45;&gt;sample_d0ef3818&#45;e971&#45;4095&#45;ac13&#45;8a9c7c700b67_Material</title>\n",
       "<path fill=\"none\" stroke=\"#263238\" d=\"M2196.34,-2570.56C2184.88,-2528.82 2156.65,-2426.08 2142.71,-2375.35\"/>\n",
       "<polygon fill=\"#263238\" stroke=\"#263238\" points=\"2146.16,-2374.67 2140.13,-2365.96 2139.41,-2376.53 2146.16,-2374.67\"/>\n",
       "<text text-anchor=\"middle\" x=\"2133.9\" y=\"-2475.1\" font-family=\"Helvetica,sans-Serif\" font-size=\"8.00\">cmso.hasMaterial</text>\n",
       "</g>\n",
       "<!-- sample_d0ef3818&#45;e971&#45;4095&#45;ac13&#45;8a9c7c700b67_Species -->\n",
       "<g id=\"node75\" class=\"node\">\n",
       "<title>sample_d0ef3818&#45;e971&#45;4095&#45;ac13&#45;8a9c7c700b67_Species</title>\n",
       "<polygon fill=\"#d9d9d9\" stroke=\"#d9d9d9\" points=\"2483.85,-2448.58 2222.6,-2448.58 2222.6,-2412.58 2483.85,-2412.58 2483.85,-2448.58\"/>\n",
       "<text text-anchor=\"middle\" x=\"2353.23\" y=\"-2427.85\" font-family=\"Helvetica,sans-Serif\" font-size=\"8.00\">sample_d0ef3818&#45;e971&#45;4095&#45;ac13&#45;8a9c7c700b67_Species</text>\n",
       "</g>\n",
       "<!-- sample_d0ef3818&#45;e971&#45;4095&#45;ac13&#45;8a9c7c700b67&#45;&gt;sample_d0ef3818&#45;e971&#45;4095&#45;ac13&#45;8a9c7c700b67_Species -->\n",
       "<g id=\"edge108\" class=\"edge\">\n",
       "<title>sample_d0ef3818&#45;e971&#45;4095&#45;ac13&#45;8a9c7c700b67&#45;&gt;sample_d0ef3818&#45;e971&#45;4095&#45;ac13&#45;8a9c7c700b67_Species</title>\n",
       "<path fill=\"none\" stroke=\"#263238\" d=\"M2219.07,-2570.34C2245.94,-2542.35 2297.09,-2489.06 2327.89,-2456.98\"/>\n",
       "<polygon fill=\"#263238\" stroke=\"#263238\" points=\"2330.17,-2459.65 2334.57,-2450.01 2325.12,-2454.8 2330.17,-2459.65\"/>\n",
       "<text text-anchor=\"middle\" x=\"2236.73\" y=\"-2515.81\" font-family=\"Helvetica,sans-Serif\" font-size=\"8.00\">cmso.hasAttribute</text>\n",
       "</g>\n",
       "<!-- dfe1dc49&#45;9f6f&#45;43e5&#45;af9f&#45;7a9486bdaeca -->\n",
       "<g id=\"node101\" class=\"node\">\n",
       "<title>dfe1dc49&#45;9f6f&#45;43e5&#45;af9f&#45;7a9486bdaeca</title>\n",
       "<polygon fill=\"#e6b8af\" stroke=\"#e6b8af\" points=\"2280.11,-2506.28 2235.58,-2506.28 2224.13,-2470.28 2268.66,-2470.28 2280.11,-2506.28\"/>\n",
       "<text text-anchor=\"middle\" x=\"2252.12\" y=\"-2485.56\" font-family=\"Helvetica,sans-Serif\" font-size=\"8.00\">3</text>\n",
       "</g>\n",
       "<!-- sample_d0ef3818&#45;e971&#45;4095&#45;ac13&#45;8a9c7c700b67&#45;&gt;dfe1dc49&#45;9f6f&#45;43e5&#45;af9f&#45;7a9486bdaeca -->\n",
       "<g id=\"edge83\" class=\"edge\">\n",
       "<title>sample_d0ef3818&#45;e971&#45;4095&#45;ac13&#45;8a9c7c700b67&#45;&gt;dfe1dc49&#45;9f6f&#45;43e5&#45;af9f&#45;7a9486bdaeca</title>\n",
       "<path fill=\"none\" stroke=\"#263238\" d=\"M2210.67,-2570.37C2218.25,-2555.35 2229.09,-2533.88 2237.78,-2516.67\"/>\n",
       "<polygon fill=\"#263238\" stroke=\"#263238\" points=\"2240.8,-2518.46 2242.18,-2507.95 2234.55,-2515.3 2240.8,-2518.46\"/>\n",
       "<text text-anchor=\"middle\" x=\"2171.72\" y=\"-2545.67\" font-family=\"Helvetica,sans-Serif\" font-size=\"8.00\">cmso.hasNumberOfAtoms</text>\n",
       "</g>\n",
       "<!-- cmso.SimulationCellLength -->\n",
       "<g id=\"node57\" class=\"node\">\n",
       "<title>cmso.SimulationCellLength</title>\n",
       "<polygon fill=\"#c9daf8\" stroke=\"#c9daf8\" points=\"2012.21,-489.1 1885.96,-489.1 1885.96,-453.1 2012.21,-453.1 2012.21,-489.1\"/>\n",
       "<text text-anchor=\"middle\" x=\"1949.09\" y=\"-468.37\" font-family=\"Helvetica,sans-Serif\" font-size=\"8.00\">cmso.SimulationCellLength</text>\n",
       "</g>\n",
       "<!-- cmso.SimulationCellLength&#45;&gt;cmso.Length -->\n",
       "<g id=\"edge34\" class=\"edge\">\n",
       "<title>cmso.SimulationCellLength&#45;&gt;cmso.Length</title>\n",
       "<path fill=\"none\" stroke=\"#263238\" d=\"M1885.58,-454.72C1885.43,-454.68 1885.28,-454.64 1885.13,-454.6\"/>\n",
       "<polygon fill=\"#263238\" stroke=\"#263238\" points=\"1890.46,-452.36 1879.91,-453.26 1888.72,-459.14 1890.46,-452.36\"/>\n",
       "<text text-anchor=\"middle\" x=\"1908.23\" y=\"-447.06\" font-family=\"Helvetica,sans-Serif\" font-size=\"8.00\">subClassOf</text>\n",
       "</g>\n",
       "<!-- CHEBI.28984 -->\n",
       "<g id=\"node60\" class=\"node\">\n",
       "<title>CHEBI.28984</title>\n",
       "<polygon fill=\"#c9daf8\" stroke=\"#c9daf8\" points=\"1632.14,-2845.91 1563.64,-2845.91 1563.64,-2809.91 1632.14,-2809.91 1632.14,-2845.91\"/>\n",
       "<text text-anchor=\"middle\" x=\"1597.89\" y=\"-2825.19\" font-family=\"Helvetica,sans-Serif\" font-size=\"8.00\">CHEBI.28984</text>\n",
       "</g>\n",
       "<!-- sample_d0ef3818&#45;e971&#45;4095&#45;ac13&#45;8a9c7c700b67_ChemicalSpecies&#45;&gt;CHEBI.28984 -->\n",
       "<g id=\"edge37\" class=\"edge\">\n",
       "<title>sample_d0ef3818&#45;e971&#45;4095&#45;ac13&#45;8a9c7c700b67_ChemicalSpecies&#45;&gt;CHEBI.28984</title>\n",
       "<path fill=\"none\" stroke=\"#263238\" d=\"M1929.03,-2738.12C1847.57,-2760.2 1713.58,-2796.54 1643.63,-2815.51\"/>\n",
       "<polygon fill=\"#263238\" stroke=\"#263238\" points=\"1642.75,-2812.12 1634.02,-2818.12 1644.59,-2818.88 1642.75,-2812.12\"/>\n",
       "<text text-anchor=\"middle\" x=\"1750.33\" y=\"-2778.96\" font-family=\"Helvetica,sans-Serif\" font-size=\"8.00\">cmso.hasElement</text>\n",
       "</g>\n",
       "<!-- a7bce276&#45;beb6&#45;4e86&#45;8133&#45;f0de477c6cc1 -->\n",
       "<g id=\"node84\" class=\"node\">\n",
       "<title>a7bce276&#45;beb6&#45;4e86&#45;8133&#45;f0de477c6cc1</title>\n",
       "<polygon fill=\"#e6b8af\" stroke=\"#e6b8af\" points=\"1410.35,-2829.75 1365.82,-2829.75 1354.36,-2793.75 1398.89,-2793.75 1410.35,-2829.75\"/>\n",
       "<text text-anchor=\"middle\" x=\"1382.35\" y=\"-2809.03\" font-family=\"Helvetica,sans-Serif\" font-size=\"8.00\">1.0</text>\n",
       "</g>\n",
       "<!-- CHEBI.28984&#45;&gt;a7bce276&#45;beb6&#45;4e86&#45;8133&#45;f0de477c6cc1 -->\n",
       "<g id=\"edge63\" class=\"edge\">\n",
       "<title>CHEBI.28984&#45;&gt;a7bce276&#45;beb6&#45;4e86&#45;8133&#45;f0de477c6cc1</title>\n",
       "<path fill=\"none\" stroke=\"#263238\" d=\"M1563.26,-2825.32C1523.06,-2822.3 1457.14,-2817.36 1416.95,-2814.35\"/>\n",
       "<polygon fill=\"#263238\" stroke=\"#263238\" points=\"1417.35,-2810.87 1407.12,-2813.61 1416.83,-2817.85 1417.35,-2810.87\"/>\n",
       "<text text-anchor=\"middle\" x=\"1513.36\" y=\"-2812.23\" font-family=\"Helvetica,sans-Serif\" font-size=\"8.00\">cmso.hasElementRatio</text>\n",
       "</g>\n",
       "<!-- fd9ab58d&#45;df5d&#45;4eb7&#45;aea6&#45;f35734b44470 -->\n",
       "<g id=\"node91\" class=\"node\">\n",
       "<title>fd9ab58d&#45;df5d&#45;4eb7&#45;aea6&#45;f35734b44470</title>\n",
       "<polygon fill=\"#e6b8af\" stroke=\"#e6b8af\" points=\"1505.58,-3006.29 1461.05,-3006.29 1449.6,-2970.29 1494.13,-2970.29 1505.58,-3006.29\"/>\n",
       "<text text-anchor=\"middle\" x=\"1477.59\" y=\"-2985.57\" font-family=\"Helvetica,sans-Serif\" font-size=\"8.00\">Al</text>\n",
       "</g>\n",
       "<!-- CHEBI.28984&#45;&gt;fd9ab58d&#45;df5d&#45;4eb7&#45;aea6&#45;f35734b44470 -->\n",
       "<g id=\"edge70\" class=\"edge\">\n",
       "<title>CHEBI.28984&#45;&gt;fd9ab58d&#45;df5d&#45;4eb7&#45;aea6&#45;f35734b44470</title>\n",
       "<path fill=\"none\" stroke=\"#263238\" d=\"M1584.09,-2846.31C1562.97,-2874.47 1522.5,-2928.41 1497.99,-2961.1\"/>\n",
       "<polygon fill=\"#263238\" stroke=\"#263238\" points=\"1495.34,-2958.8 1492.14,-2968.9 1500.94,-2963 1495.34,-2958.8\"/>\n",
       "<text text-anchor=\"middle\" x=\"1488.16\" y=\"-2905.85\" font-family=\"Helvetica,sans-Serif\" font-size=\"8.00\">cmso.hasChemicalSymbol</text>\n",
       "</g>\n",
       "<!-- cmso.LatticeAngle -->\n",
       "<g id=\"node66\" class=\"node\">\n",
       "<title>cmso.LatticeAngle</title>\n",
       "<polygon fill=\"#c9daf8\" stroke=\"#c9daf8\" points=\"1195.53,-438 1105.28,-438 1105.28,-402 1195.53,-402 1195.53,-438\"/>\n",
       "<text text-anchor=\"middle\" x=\"1150.4\" y=\"-417.28\" font-family=\"Helvetica,sans-Serif\" font-size=\"8.00\">cmso.LatticeAngle</text>\n",
       "</g>\n",
       "<!-- cmso.LatticeAngle&#45;&gt;cmso.Angle -->\n",
       "<g id=\"edge44\" class=\"edge\">\n",
       "<title>cmso.LatticeAngle&#45;&gt;cmso.Angle</title>\n",
       "<path fill=\"none\" stroke=\"#263238\" d=\"M1157.45,-438.45C1159.31,-443.33 1161.37,-448.72 1163.39,-454.01\"/>\n",
       "<polygon fill=\"#263238\" stroke=\"#263238\" points=\"1160.02,-455.01 1166.86,-463.1 1166.56,-452.51 1160.02,-455.01\"/>\n",
       "<text text-anchor=\"middle\" x=\"1137.54\" y=\"-448.38\" font-family=\"Helvetica,sans-Serif\" font-size=\"8.00\">subClassOf</text>\n",
       "</g>\n",
       "<!-- sample_d0ef3818&#45;e971&#45;4095&#45;ac13&#45;8a9c7c700b67_Material&#45;&gt;sample_d0ef3818&#45;e971&#45;4095&#45;ac13&#45;8a9c7c700b67_CrystalStructure -->\n",
       "<g id=\"edge64\" class=\"edge\">\n",
       "<title>sample_d0ef3818&#45;e971&#45;4095&#45;ac13&#45;8a9c7c700b67_Material&#45;&gt;sample_d0ef3818&#45;e971&#45;4095&#45;ac13&#45;8a9c7c700b67_CrystalStructure</title>\n",
       "<path fill=\"none\" stroke=\"#263238\" d=\"M2126.55,-2327.92C2108.28,-2287.1 2063.77,-2187.68 2041.78,-2138.56\"/>\n",
       "<polygon fill=\"#263238\" stroke=\"#263238\" points=\"2045.1,-2137.41 2037.82,-2129.71 2038.71,-2140.27 2045.1,-2137.41\"/>\n",
       "<text text-anchor=\"middle\" x=\"2046.29\" y=\"-2235.39\" font-family=\"Helvetica,sans-Serif\" font-size=\"8.00\">cmso.hasStructure</text>\n",
       "</g>\n",
       "<!-- sample_d0ef3818&#45;e971&#45;4095&#45;ac13&#45;8a9c7c700b67_Vacancy -->\n",
       "<g id=\"node73\" class=\"node\">\n",
       "<title>sample_d0ef3818&#45;e971&#45;4095&#45;ac13&#45;8a9c7c700b67_Vacancy</title>\n",
       "<polygon fill=\"#d9d9d9\" stroke=\"#d9d9d9\" points=\"1995.29,-2332.53 1732.54,-2332.53 1732.54,-2296.53 1995.29,-2296.53 1995.29,-2332.53\"/>\n",
       "<text text-anchor=\"middle\" x=\"1863.92\" y=\"-2311.8\" font-family=\"Helvetica,sans-Serif\" font-size=\"8.00\">sample_d0ef3818&#45;e971&#45;4095&#45;ac13&#45;8a9c7c700b67_Vacancy</text>\n",
       "</g>\n",
       "<!-- sample_d0ef3818&#45;e971&#45;4095&#45;ac13&#45;8a9c7c700b67_Material&#45;&gt;sample_d0ef3818&#45;e971&#45;4095&#45;ac13&#45;8a9c7c700b67_Vacancy -->\n",
       "<g id=\"edge51\" class=\"edge\">\n",
       "<title>sample_d0ef3818&#45;e971&#45;4095&#45;ac13&#45;8a9c7c700b67_Material&#45;&gt;sample_d0ef3818&#45;e971&#45;4095&#45;ac13&#45;8a9c7c700b67_Vacancy</title>\n",
       "<path fill=\"none\" stroke=\"#263238\" d=\"M2003.26,-2330.74C2003.1,-2330.73 2002.94,-2330.71 2002.78,-2330.69\"/>\n",
       "<polygon fill=\"#263238\" stroke=\"#263238\" points=\"2007.41,-2327.71 1997.08,-2330.03 2006.61,-2334.66 2007.41,-2327.71\"/>\n",
       "<text text-anchor=\"middle\" x=\"1970.39\" y=\"-2332.87\" font-family=\"Helvetica,sans-Serif\" font-size=\"8.00\">cmso.hasDefect</text>\n",
       "</g>\n",
       "<!-- 2fc51427&#45;36b4&#45;47c2&#45;b5b3&#45;b93e9ae43719 -->\n",
       "<g id=\"node76\" class=\"node\">\n",
       "<title>2fc51427&#45;36b4&#45;47c2&#45;b5b3&#45;b93e9ae43719</title>\n",
       "<polygon fill=\"#e6b8af\" stroke=\"#e6b8af\" points=\"2825.01,-2385.91 2427.57,-2385.91 2325.33,-2349.91 2722.77,-2349.91 2825.01,-2385.91\"/>\n",
       "<text text-anchor=\"middle\" x=\"2575.17\" y=\"-2365.19\" font-family=\"Helvetica,sans-Serif\" font-size=\"8.00\">Rdf_Structure_Store/D0Ef3818&#45;E971&#45;4095&#45;Ac13&#45;8A9C7C700B67.Json</text>\n",
       "</g>\n",
       "<!-- sample_d0ef3818&#45;e971&#45;4095&#45;ac13&#45;8a9c7c700b67_Species&#45;&gt;2fc51427&#45;36b4&#45;47c2&#45;b5b3&#45;b93e9ae43719 -->\n",
       "<g id=\"edge54\" class=\"edge\">\n",
       "<title>sample_d0ef3818&#45;e971&#45;4095&#45;ac13&#45;8a9c7c700b67_Species&#45;&gt;2fc51427&#45;36b4&#45;47c2&#45;b5b3&#45;b93e9ae43719</title>\n",
       "<path fill=\"none\" stroke=\"#263238\" d=\"M2418.62,-2412.11C2443.79,-2405.01 2472.75,-2396.83 2498.87,-2389.46\"/>\n",
       "<polygon fill=\"#263238\" stroke=\"#263238\" points=\"2499.73,-2392.85 2508.41,-2386.76 2497.83,-2386.11 2499.73,-2392.85\"/>\n",
       "<text text-anchor=\"middle\" x=\"2430.62\" y=\"-2402.93\" font-family=\"Helvetica,sans-Serif\" font-size=\"8.00\">cmso.hasPath</text>\n",
       "</g>\n",
       "<!-- 487dd89b&#45;1522&#45;41e4&#45;86d3&#45;f451f4e91de2 -->\n",
       "<g id=\"node80\" class=\"node\">\n",
       "<title>487dd89b&#45;1522&#45;41e4&#45;86d3&#45;f451f4e91de2</title>\n",
       "<polygon fill=\"#e6b8af\" stroke=\"#e6b8af\" points=\"2509.19,-2251.94 2247.47,-2251.94 2180.14,-2215.94 2441.86,-2215.94 2509.19,-2251.94\"/>\n",
       "<text text-anchor=\"middle\" x=\"2344.67\" y=\"-2231.21\" font-family=\"Helvetica,sans-Serif\" font-size=\"8.00\">5F4313E5&#45;4B79&#45;445D&#45;A1B1&#45;F5A35E7C4657</text>\n",
       "</g>\n",
       "<!-- sample_d0ef3818&#45;e971&#45;4095&#45;ac13&#45;8a9c7c700b67_Species&#45;&gt;487dd89b&#45;1522&#45;41e4&#45;86d3&#45;f451f4e91de2 -->\n",
       "<g id=\"edge59\" class=\"edge\">\n",
       "<title>sample_d0ef3818&#45;e971&#45;4095&#45;ac13&#45;8a9c7c700b67_Species&#45;&gt;487dd89b&#45;1522&#45;41e4&#45;86d3&#45;f451f4e91de2</title>\n",
       "<path fill=\"none\" stroke=\"#263238\" d=\"M2352.42,-2412.08C2350.94,-2377.95 2347.75,-2304.84 2345.96,-2263.67\"/>\n",
       "<polygon fill=\"#263238\" stroke=\"#263238\" points=\"2349.46,-2263.6 2345.53,-2253.76 2342.47,-2263.9 2349.46,-2263.6\"/>\n",
       "<text text-anchor=\"middle\" x=\"2311.69\" y=\"-2340.03\" font-family=\"Helvetica,sans-Serif\" font-size=\"8.00\">cmso.hasIdentifier</text>\n",
       "</g>\n",
       "<!-- aedd70d7&#45;ec02&#45;420f&#45;b4b8&#45;6277b8a72a3a -->\n",
       "<g id=\"node100\" class=\"node\">\n",
       "<title>aedd70d7&#45;ec02&#45;420f&#45;b4b8&#45;6277b8a72a3a</title>\n",
       "<polygon fill=\"#e6b8af\" stroke=\"#e6b8af\" points=\"2576.47,-2295.94 2511.79,-2295.94 2495.16,-2259.94 2559.83,-2259.94 2576.47,-2295.94\"/>\n",
       "<text text-anchor=\"middle\" x=\"2535.81\" y=\"-2275.22\" font-family=\"Helvetica,sans-Serif\" font-size=\"8.00\">Species</text>\n",
       "</g>\n",
       "<!-- sample_d0ef3818&#45;e971&#45;4095&#45;ac13&#45;8a9c7c700b67_Species&#45;&gt;aedd70d7&#45;ec02&#45;420f&#45;b4b8&#45;6277b8a72a3a -->\n",
       "<g id=\"edge82\" class=\"edge\">\n",
       "<title>sample_d0ef3818&#45;e971&#45;4095&#45;ac13&#45;8a9c7c700b67_Species&#45;&gt;aedd70d7&#45;ec02&#45;420f&#45;b4b8&#45;6277b8a72a3a</title>\n",
       "<path fill=\"none\" stroke=\"#263238\" d=\"M2375.25,-2412.17C2407.6,-2385.12 2468.11,-2334.54 2504.9,-2303.79\"/>\n",
       "<polygon fill=\"#263238\" stroke=\"#263238\" points=\"2507.12,-2306.49 2512.55,-2297.39 2502.63,-2301.12 2507.12,-2306.49\"/>\n",
       "<text text-anchor=\"middle\" x=\"2471.2\" y=\"-2350.38\" font-family=\"Helvetica,sans-Serif\" font-size=\"8.00\">cmso.hasName</text>\n",
       "</g>\n",
       "<!-- ef317ed8&#45;f640&#45;4ea5&#45;907e&#45;648ae9a8c94c -->\n",
       "<g id=\"node79\" class=\"node\">\n",
       "<title>ef317ed8&#45;f640&#45;4ea5&#45;907e&#45;648ae9a8c94c</title>\n",
       "<polygon fill=\"#e6b8af\" stroke=\"#e6b8af\" points=\"2436.14,-1638.81 2390.57,-1638.81 2378.84,-1602.81 2424.42,-1602.81 2436.14,-1638.81\"/>\n",
       "<text text-anchor=\"middle\" x=\"2407.49\" y=\"-1618.08\" font-family=\"Helvetica,sans-Serif\" font-size=\"8.00\">90.0</text>\n",
       "</g>\n",
       "<!-- sample_d0ef3818&#45;e971&#45;4095&#45;ac13&#45;8a9c7c700b67_LatticeAngle&#45;&gt;ef317ed8&#45;f640&#45;4ea5&#45;907e&#45;648ae9a8c94c -->\n",
       "<g id=\"edge56\" class=\"edge\">\n",
       "<title>sample_d0ef3818&#45;e971&#45;4095&#45;ac13&#45;8a9c7c700b67_LatticeAngle&#45;&gt;ef317ed8&#45;f640&#45;4ea5&#45;907e&#45;648ae9a8c94c</title>\n",
       "<path fill=\"none\" stroke=\"#263238\" d=\"M2248.75,-1680.22C2288.26,-1665.43 2342.5,-1645.13 2376.25,-1632.5\"/>\n",
       "<polygon fill=\"#263238\" stroke=\"#263238\" points=\"2377.3,-1635.84 2385.44,-1629.06 2374.85,-1629.29 2377.3,-1635.84\"/>\n",
       "<text text-anchor=\"middle\" x=\"2270.5\" y=\"-1658.51\" font-family=\"Helvetica,sans-Serif\" font-size=\"8.00\">cmso.hasAngle_beta</text>\n",
       "</g>\n",
       "<!-- 2b24293b&#45;b690&#45;45bd&#45;bdee&#45;d412214a4f11 -->\n",
       "<g id=\"node82\" class=\"node\">\n",
       "<title>2b24293b&#45;b690&#45;45bd&#45;bdee&#45;d412214a4f11</title>\n",
       "<polygon fill=\"#e6b8af\" stroke=\"#e6b8af\" points=\"2171.37,-1510 2125.8,-1510 2114.07,-1474 2159.65,-1474 2171.37,-1510\"/>\n",
       "<text text-anchor=\"middle\" x=\"2142.72\" y=\"-1489.28\" font-family=\"Helvetica,sans-Serif\" font-size=\"8.00\">90.0</text>\n",
       "</g>\n",
       "<!-- sample_d0ef3818&#45;e971&#45;4095&#45;ac13&#45;8a9c7c700b67_LatticeAngle&#45;&gt;2b24293b&#45;b690&#45;45bd&#45;bdee&#45;d412214a4f11 -->\n",
       "<g id=\"edge61\" class=\"edge\">\n",
       "<title>sample_d0ef3818&#45;e971&#45;4095&#45;ac13&#45;8a9c7c700b67_LatticeAngle&#45;&gt;2b24293b&#45;b690&#45;45bd&#45;bdee&#45;d412214a4f11</title>\n",
       "<path fill=\"none\" stroke=\"#263238\" d=\"M2194.41,-1680.33C2184.55,-1644.4 2162.62,-1564.5 2150.74,-1521.22\"/>\n",
       "<polygon fill=\"#263238\" stroke=\"#263238\" points=\"2154.17,-1520.48 2148.15,-1511.76 2147.42,-1522.33 2154.17,-1520.48\"/>\n",
       "<text text-anchor=\"middle\" x=\"2128.32\" y=\"-1602.92\" font-family=\"Helvetica,sans-Serif\" font-size=\"8.00\">cmso.hasAngle_alpha</text>\n",
       "</g>\n",
       "<!-- ec142ba5&#45;6eed&#45;43be&#45;91cc&#45;f2b2bdc21548 -->\n",
       "<g id=\"node107\" class=\"node\">\n",
       "<title>ec142ba5&#45;6eed&#45;43be&#45;91cc&#45;f2b2bdc21548</title>\n",
       "<polygon fill=\"#e6b8af\" stroke=\"#e6b8af\" points=\"2332.14,-1538.22 2286.57,-1538.22 2274.84,-1502.22 2320.42,-1502.22 2332.14,-1538.22\"/>\n",
       "<text text-anchor=\"middle\" x=\"2303.49\" y=\"-1517.49\" font-family=\"Helvetica,sans-Serif\" font-size=\"8.00\">90.0</text>\n",
       "</g>\n",
       "<!-- sample_d0ef3818&#45;e971&#45;4095&#45;ac13&#45;8a9c7c700b67_LatticeAngle&#45;&gt;ec142ba5&#45;6eed&#45;43be&#45;91cc&#45;f2b2bdc21548 -->\n",
       "<g id=\"edge92\" class=\"edge\">\n",
       "<title>sample_d0ef3818&#45;e971&#45;4095&#45;ac13&#45;8a9c7c700b67_LatticeAngle&#45;&gt;ec142ba5&#45;6eed&#45;43be&#45;91cc&#45;f2b2bdc21548</title>\n",
       "<path fill=\"none\" stroke=\"#263238\" d=\"M2210.18,-1680.24C2228.46,-1648.91 2265.69,-1585.05 2287.19,-1548.18\"/>\n",
       "<polygon fill=\"#263238\" stroke=\"#263238\" points=\"2290.03,-1550.25 2292.05,-1539.85 2283.98,-1546.73 2290.03,-1550.25\"/>\n",
       "<text text-anchor=\"middle\" x=\"2200.69\" y=\"-1616.36\" font-family=\"Helvetica,sans-Serif\" font-size=\"8.00\">cmso.hasAngle_gamma</text>\n",
       "</g>\n",
       "<!-- 65f94b50&#45;3f97&#45;4d0a&#45;b535&#45;96b3f22e1f28 -->\n",
       "<g id=\"node86\" class=\"node\">\n",
       "<title>65f94b50&#45;3f97&#45;4d0a&#45;b535&#45;96b3f22e1f28</title>\n",
       "<polygon fill=\"#e6b8af\" stroke=\"#e6b8af\" points=\"1107.08,-1833.16 1061.5,-1833.16 1049.78,-1797.16 1095.35,-1797.16 1107.08,-1833.16\"/>\n",
       "<text text-anchor=\"middle\" x=\"1078.43\" y=\"-1812.43\" font-family=\"Helvetica,sans-Serif\" font-size=\"8.00\">90.0</text>\n",
       "</g>\n",
       "<!-- sample_a89be6be&#45;c97e&#45;429d&#45;95be&#45;fe3cd8c511f8_SimulationCellAngle&#45;&gt;65f94b50&#45;3f97&#45;4d0a&#45;b535&#45;96b3f22e1f28 -->\n",
       "<g id=\"edge65\" class=\"edge\">\n",
       "<title>sample_a89be6be&#45;c97e&#45;429d&#45;95be&#45;fe3cd8c511f8_SimulationCellAngle&#45;&gt;65f94b50&#45;3f97&#45;4d0a&#45;b535&#45;96b3f22e1f28</title>\n",
       "<path fill=\"none\" stroke=\"#263238\" d=\"M1062.58,-1595.9C1065.53,-1636.74 1072.69,-1735.84 1076.29,-1785.61\"/>\n",
       "<polygon fill=\"#263238\" stroke=\"#263238\" points=\"1072.78,-1785.62 1076.99,-1795.34 1079.76,-1785.12 1072.78,-1785.62\"/>\n",
       "<text text-anchor=\"middle\" x=\"1027.43\" y=\"-1692.9\" font-family=\"Helvetica,sans-Serif\" font-size=\"8.00\">cmso.hasAngle_beta</text>\n",
       "</g>\n",
       "<!-- 39c1d29c&#45;8f2f&#45;4559&#45;b0a6&#45;571db0a77f1c -->\n",
       "<g id=\"node94\" class=\"node\">\n",
       "<title>39c1d29c&#45;8f2f&#45;4559&#45;b0a6&#45;571db0a77f1c</title>\n",
       "<polygon fill=\"#e6b8af\" stroke=\"#e6b8af\" points=\"870.84,-1793.06 825.27,-1793.06 813.54,-1757.06 859.12,-1757.06 870.84,-1793.06\"/>\n",
       "<text text-anchor=\"middle\" x=\"842.19\" y=\"-1772.34\" font-family=\"Helvetica,sans-Serif\" font-size=\"8.00\">90.0</text>\n",
       "</g>\n",
       "<!-- sample_a89be6be&#45;c97e&#45;429d&#45;95be&#45;fe3cd8c511f8_SimulationCellAngle&#45;&gt;39c1d29c&#45;8f2f&#45;4559&#45;b0a6&#45;571db0a77f1c -->\n",
       "<g id=\"edge75\" class=\"edge\">\n",
       "<title>sample_a89be6be&#45;c97e&#45;429d&#45;95be&#45;fe3cd8c511f8_SimulationCellAngle&#45;&gt;39c1d29c&#45;8f2f&#45;4559&#45;b0a6&#45;571db0a77f1c</title>\n",
       "<path fill=\"none\" stroke=\"#263238\" d=\"M1041.04,-1595.87C1001.31,-1631.68 913.04,-1711.22 868.7,-1751.18\"/>\n",
       "<polygon fill=\"#263238\" stroke=\"#263238\" points=\"866.4,-1748.54 861.31,-1757.83 871.09,-1753.74 866.4,-1748.54\"/>\n",
       "<text text-anchor=\"middle\" x=\"910.62\" y=\"-1675.68\" font-family=\"Helvetica,sans-Serif\" font-size=\"8.00\">cmso.hasAngle_alpha</text>\n",
       "</g>\n",
       "<!-- b4527049&#45;8a0c&#45;48fc&#45;a0d8&#45;b4f63d36a73f -->\n",
       "<g id=\"node113\" class=\"node\">\n",
       "<title>b4527049&#45;8a0c&#45;48fc&#45;a0d8&#45;b4f63d36a73f</title>\n",
       "<polygon fill=\"#e6b8af\" stroke=\"#e6b8af\" points=\"1225.66,-1767.74 1180.08,-1767.74 1168.36,-1731.74 1213.93,-1731.74 1225.66,-1767.74\"/>\n",
       "<text text-anchor=\"middle\" x=\"1197.01\" y=\"-1747.02\" font-family=\"Helvetica,sans-Serif\" font-size=\"8.00\">90.0</text>\n",
       "</g>\n",
       "<!-- sample_a89be6be&#45;c97e&#45;429d&#45;95be&#45;fe3cd8c511f8_SimulationCellAngle&#45;&gt;b4527049&#45;8a0c&#45;48fc&#45;a0d8&#45;b4f63d36a73f -->\n",
       "<g id=\"edge105\" class=\"edge\">\n",
       "<title>sample_a89be6be&#45;c97e&#45;429d&#45;95be&#45;fe3cd8c511f8_SimulationCellAngle&#45;&gt;b4527049&#45;8a0c&#45;48fc&#45;a0d8&#45;b4f63d36a73f</title>\n",
       "<path fill=\"none\" stroke=\"#263238\" d=\"M1075.79,-1596.07C1099.77,-1626.48 1147.76,-1687.32 1175.63,-1722.64\"/>\n",
       "<polygon fill=\"#263238\" stroke=\"#263238\" points=\"1172.71,-1724.59 1181.65,-1730.27 1178.2,-1720.25 1172.71,-1724.59\"/>\n",
       "<text text-anchor=\"middle\" x=\"1077.71\" y=\"-1661.51\" font-family=\"Helvetica,sans-Serif\" font-size=\"8.00\">cmso.hasAngle_gamma</text>\n",
       "</g>\n",
       "<!-- sample_a89be6be&#45;c97e&#45;429d&#45;95be&#45;fe3cd8c511f8_Material&#45;&gt;sample_a89be6be&#45;c97e&#45;429d&#45;95be&#45;fe3cd8c511f8_CrystalStructure -->\n",
       "<g id=\"edge72\" class=\"edge\">\n",
       "<title>sample_a89be6be&#45;c97e&#45;429d&#45;95be&#45;fe3cd8c511f8_Material&#45;&gt;sample_a89be6be&#45;c97e&#45;429d&#45;95be&#45;fe3cd8c511f8_CrystalStructure</title>\n",
       "<path fill=\"none\" stroke=\"#263238\" d=\"M752.47,-856.35C728.26,-819.43 673.43,-735.86 644.74,-692.12\"/>\n",
       "<polygon fill=\"#263238\" stroke=\"#263238\" points=\"647.78,-690.37 639.37,-683.93 641.93,-694.21 647.78,-690.37\"/>\n",
       "<text text-anchor=\"middle\" x=\"660.73\" y=\"-776.38\" font-family=\"Helvetica,sans-Serif\" font-size=\"8.00\">cmso.hasStructure</text>\n",
       "</g>\n",
       "<!-- sample_a89be6be&#45;c97e&#45;429d&#45;95be&#45;fe3cd8c511f8_Vacancy -->\n",
       "<g id=\"node90\" class=\"node\">\n",
       "<title>sample_a89be6be&#45;c97e&#45;429d&#45;95be&#45;fe3cd8c511f8_Vacancy</title>\n",
       "<polygon fill=\"#d9d9d9\" stroke=\"#d9d9d9\" points=\"625.8,-914.79 365.3,-914.79 365.3,-878.79 625.8,-878.79 625.8,-914.79\"/>\n",
       "<text text-anchor=\"middle\" x=\"495.55\" y=\"-894.07\" font-family=\"Helvetica,sans-Serif\" font-size=\"8.00\">sample_a89be6be&#45;c97e&#45;429d&#45;95be&#45;fe3cd8c511f8_Vacancy</text>\n",
       "</g>\n",
       "<!-- sample_a89be6be&#45;c97e&#45;429d&#45;95be&#45;fe3cd8c511f8_Material&#45;&gt;sample_a89be6be&#45;c97e&#45;429d&#45;95be&#45;fe3cd8c511f8_Vacancy -->\n",
       "<g id=\"edge69\" class=\"edge\">\n",
       "<title>sample_a89be6be&#45;c97e&#45;429d&#45;95be&#45;fe3cd8c511f8_Material&#45;&gt;sample_a89be6be&#45;c97e&#45;429d&#45;95be&#45;fe3cd8c511f8_Vacancy</title>\n",
       "<path fill=\"none\" stroke=\"#263238\" d=\"M634.35,-885.37C634.26,-885.37 634.18,-885.38 634.09,-885.39\"/>\n",
       "<polygon fill=\"#263238\" stroke=\"#263238\" points=\"637.49,-881.59 627.81,-885.9 638.06,-888.57 637.49,-881.59\"/>\n",
       "<text text-anchor=\"middle\" x=\"601.6\" y=\"-877.78\" font-family=\"Helvetica,sans-Serif\" font-size=\"8.00\">cmso.hasDefect</text>\n",
       "</g>\n",
       "<!-- cmso.LatticeVector -->\n",
       "<g id=\"node93\" class=\"node\">\n",
       "<title>cmso.LatticeVector</title>\n",
       "<polygon fill=\"#c9daf8\" stroke=\"#c9daf8\" points=\"1700.5,-239.56 1608,-239.56 1608,-203.56 1700.5,-203.56 1700.5,-239.56\"/>\n",
       "<text text-anchor=\"middle\" x=\"1654.25\" y=\"-218.84\" font-family=\"Helvetica,sans-Serif\" font-size=\"8.00\">cmso.LatticeVector</text>\n",
       "</g>\n",
       "<!-- cmso.LatticeVector&#45;&gt;cmso.Vector -->\n",
       "<g id=\"edge74\" class=\"edge\">\n",
       "<title>cmso.LatticeVector&#45;&gt;cmso.Vector</title>\n",
       "<path fill=\"none\" stroke=\"#263238\" d=\"M1700.88,-232.61C1705.99,-233.82 1711.18,-235.05 1716.25,-236.25\"/>\n",
       "<polygon fill=\"#263238\" stroke=\"#263238\" points=\"1715.08,-239.57 1725.62,-238.47 1716.69,-232.76 1715.08,-239.57\"/>\n",
       "<text text-anchor=\"middle\" x=\"1731.44\" y=\"-226.83\" font-family=\"Helvetica,sans-Serif\" font-size=\"8.00\">subClassOf</text>\n",
       "</g>\n",
       "<!-- cmso.SimulationCellAngle -->\n",
       "<g id=\"node108\" class=\"node\">\n",
       "<title>cmso.SimulationCellAngle</title>\n",
       "<polygon fill=\"#c9daf8\" stroke=\"#c9daf8\" points=\"1193,-553 1072,-553 1072,-517 1193,-517 1193,-553\"/>\n",
       "<text text-anchor=\"middle\" x=\"1132.5\" y=\"-532.27\" font-family=\"Helvetica,sans-Serif\" font-size=\"8.00\">cmso.SimulationCellAngle</text>\n",
       "</g>\n",
       "<!-- cmso.SimulationCellAngle&#45;&gt;cmso.Angle -->\n",
       "<g id=\"edge95\" class=\"edge\">\n",
       "<title>cmso.SimulationCellAngle&#45;&gt;cmso.Angle</title>\n",
       "<path fill=\"none\" stroke=\"#263238\" d=\"M1147.12,-516.68C1148.89,-514.46 1150.73,-512.15 1152.58,-509.84\"/>\n",
       "<polygon fill=\"#263238\" stroke=\"#263238\" points=\"1155.18,-512.2 1158.68,-502.2 1149.71,-507.83 1155.18,-512.2\"/>\n",
       "<text text-anchor=\"middle\" x=\"1126.98\" y=\"-505.66\" font-family=\"Helvetica,sans-Serif\" font-size=\"8.00\">subClassOf</text>\n",
       "</g>\n",
       "<!-- sample_a89be6be&#45;c97e&#45;429d&#45;95be&#45;fe3cd8c511f8_ChemicalSpecies&#45;&gt;CHEBI.18248 -->\n",
       "<g id=\"edge103\" class=\"edge\">\n",
       "<title>sample_a89be6be&#45;c97e&#45;429d&#45;95be&#45;fe3cd8c511f8_ChemicalSpecies&#45;&gt;CHEBI.18248</title>\n",
       "<path fill=\"none\" stroke=\"#263238\" d=\"M1056.29,-914.45C1113.56,-887.41 1220.12,-837.09 1280.51,-808.56\"/>\n",
       "<polygon fill=\"#263238\" stroke=\"#263238\" points=\"1281.96,-811.75 1289.5,-804.32 1278.97,-805.42 1281.96,-811.75\"/>\n",
       "<text text-anchor=\"middle\" x=\"1132.4\" y=\"-853.91\" font-family=\"Helvetica,sans-Serif\" font-size=\"8.00\">cmso.hasElement</text>\n",
       "</g>\n",
       "</g>\n",
       "</svg>\n"
      ],
      "text/plain": [
       "<graphviz.graphs.Digraph at 0x7efc1a3dbc50>"
      ]
     },
     "execution_count": 10,
     "metadata": {},
     "output_type": "execute_result"
    }
   ],
   "source": [
    "kg.visualise(hide_types=True, size=(20,20))"
   ]
  },
  {
   "cell_type": "code",
   "execution_count": null,
   "id": "ec043ba5",
   "metadata": {},
   "outputs": [],
   "source": []
  }
 ],
 "metadata": {
  "kernelspec": {
   "display_name": "Python 3 (ipykernel)",
   "language": "python",
   "name": "python3"
  },
  "language_info": {
   "codemirror_mode": {
    "name": "ipython",
    "version": 3
   },
   "file_extension": ".py",
   "mimetype": "text/x-python",
   "name": "python",
   "nbconvert_exporter": "python",
   "pygments_lexer": "ipython3",
   "version": "3.11.8"
  }
 },
 "nbformat": 4,
 "nbformat_minor": 5
}
