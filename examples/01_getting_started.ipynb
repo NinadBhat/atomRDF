{
 "cells": [
  {
   "cell_type": "markdown",
   "id": "99ed485a-3d3d-4821-8383-6b4dff31571c",
   "metadata": {},
   "source": [
    "# Getting started"
   ]
  },
  {
   "cell_type": "markdown",
   "id": "b9582fd7-08ab-4931-8f27-b2891db80536",
   "metadata": {},
   "source": [
    "Ontology based atomic structure creation, manipulation, querying."
   ]
  },
  {
   "cell_type": "markdown",
   "id": "156bd52b-33d5-40f0-9e24-87636ff7040c",
   "metadata": {},
   "source": [
    "Imports"
   ]
  },
  {
   "cell_type": "code",
   "execution_count": null,
   "id": "03c51660-5edd-45b9-b58b-54636709c4b0",
   "metadata": {
    "tags": []
   },
   "outputs": [],
   "source": [
    "from pyscal_rdf import StructureGraph"
   ]
  },
  {
   "cell_type": "markdown",
   "id": "c092c25a-2eb9-4fc4-8e84-63f7c4386d37",
   "metadata": {},
   "source": [
    "First we create a graph"
   ]
  },
  {
   "cell_type": "code",
   "execution_count": null,
   "id": "23280cd2-6de3-4caa-ae28-9cb0b4d60499",
   "metadata": {
    "tags": []
   },
   "outputs": [],
   "source": [
    "g = StructureGraph()"
   ]
  },
  {
   "cell_type": "markdown",
   "id": "b2a666cb-dfec-42ac-9f09-09e9f1086245",
   "metadata": {},
   "source": [
    "## Creation of structures"
   ]
  },
  {
   "cell_type": "markdown",
   "id": "09d9b2f9-77e5-46b6-8bfb-447783f39830",
   "metadata": {},
   "source": [
    "We will create three structures for the demonstration."
   ]
  },
  {
   "cell_type": "markdown",
   "id": "bad705d6-d8b2-4ab7-b5e2-4f775ff17245",
   "metadata": {},
   "source": [
    "First a BCC Iron structure"
   ]
  },
  {
   "cell_type": "code",
   "execution_count": null,
   "id": "3c279801-d12b-490a-9c69-ce96be831d42",
   "metadata": {
    "tags": []
   },
   "outputs": [],
   "source": [
    "struct_Fe = g.create.element.Fe()"
   ]
  },
  {
   "cell_type": "markdown",
   "id": "4b86c9b6-26e6-47fe-9cc8-a31fa3471079",
   "metadata": {},
   "source": [
    "Note that when the structure is created, it is also added to the Graph automatically. We can visualise the graph."
   ]
  },
  {
   "cell_type": "code",
   "execution_count": null,
   "id": "79772707-5981-4ae5-8131-a7ef8455858c",
   "metadata": {
    "tags": []
   },
   "outputs": [],
   "source": [
    "g.visualise(backend='graphviz')"
   ]
  },
  {
   "cell_type": "markdown",
   "id": "2b935f83-0970-45b5-8772-91e9a1cea966",
   "metadata": {},
   "source": [
    "Now a Si diamond structure"
   ]
  },
  {
   "cell_type": "code",
   "execution_count": null,
   "id": "6c14e7af-b5c2-46bb-a365-9ec781e612b5",
   "metadata": {
    "tags": []
   },
   "outputs": [],
   "source": [
    "struct_Si = g.create.element.Si()"
   ]
  },
  {
   "cell_type": "markdown",
   "id": "2756366b-a9f8-46f2-8675-6d1874e3237b",
   "metadata": {},
   "source": [
    "Finally, an L12 $Ni_3 Al$ structure"
   ]
  },
  {
   "cell_type": "code",
   "execution_count": null,
   "id": "36269260-3b07-43ed-a939-4890d281659d",
   "metadata": {},
   "outputs": [],
   "source": [
    "struct_l12 = g.create.lattice.l12(element=['Al', 'Ni'], \n",
    "                         lattice_constant=3.57)"
   ]
  },
  {
   "cell_type": "code",
   "execution_count": null,
   "id": "17b9ad8b-bf22-4161-9864-40fa6d224d79",
   "metadata": {
    "tags": []
   },
   "outputs": [],
   "source": [
    "g.visualise(backend='graphviz')"
   ]
  },
  {
   "cell_type": "markdown",
   "id": "e83523ad-f684-42fe-84e1-da8125201a0d",
   "metadata": {},
   "source": [
    "We can save the graph and reload it as needed"
   ]
  },
  {
   "cell_type": "markdown",
   "id": "906584fc-01c6-4c63-9024-f39baacd655d",
   "metadata": {},
   "source": [
    "## Querying the graph"
   ]
  },
  {
   "cell_type": "markdown",
   "id": "dc96d3a3-b2e8-4f56-b7ad-b30809b604c9",
   "metadata": {},
   "source": [
    "An example question would be, **what are the space group of all structures with 4 atoms?**\n"
   ]
  },
  {
   "cell_type": "markdown",
   "id": "f7f63dfe-bbb6-4ccc-a2f4-6d091c4ec92d",
   "metadata": {},
   "source": [
    "The corresponding SPARQL query looks like this:"
   ]
  },
  {
   "cell_type": "code",
   "execution_count": 8,
   "id": "8ffe7592-4349-4c46-bf40-7edea50c652c",
   "metadata": {
    "tags": []
   },
   "outputs": [],
   "source": [
    "query = \"\"\"\n",
    "PREFIX cmso: <http://purls.helmholtz-metadaten.de/cmso/>\n",
    "SELECT DISTINCT ?symbol\n",
    "WHERE {\n",
    "    ?sample cmso:hasNumberOfAtoms ?number .\n",
    "    ?sample cmso:hasMaterial ?material .\n",
    "    ?material cmso:hasStructure ?structure .\n",
    "    ?structure cmso:hasSpaceGroupSymbol ?symbol .\n",
    "FILTER (?number=\"4\"^^xsd:integer)\n",
    "}\"\"\""
   ]
  },
  {
   "cell_type": "code",
   "execution_count": 9,
   "id": "4a8eba1e-3ffb-4129-8818-5caf8ce0de4b",
   "metadata": {
    "tags": []
   },
   "outputs": [],
   "source": [
    "res = g.query(query)"
   ]
  },
  {
   "cell_type": "markdown",
   "id": "0e41d31d-c4a8-450f-a70e-0543411924ad",
   "metadata": {},
   "source": [
    "And print the results"
   ]
  },
  {
   "cell_type": "code",
   "execution_count": 10,
   "id": "f4b6f799-ff85-45c7-a318-f2598a32a48c",
   "metadata": {
    "tags": []
   },
   "outputs": [
    {
     "data": {
      "text/html": [
       "<div>\n",
       "<style scoped>\n",
       "    .dataframe tbody tr th:only-of-type {\n",
       "        vertical-align: middle;\n",
       "    }\n",
       "\n",
       "    .dataframe tbody tr th {\n",
       "        vertical-align: top;\n",
       "    }\n",
       "\n",
       "    .dataframe thead th {\n",
       "        text-align: right;\n",
       "    }\n",
       "</style>\n",
       "<table border=\"1\" class=\"dataframe\">\n",
       "  <thead>\n",
       "    <tr style=\"text-align: right;\">\n",
       "      <th></th>\n",
       "      <th>symbol</th>\n",
       "    </tr>\n",
       "  </thead>\n",
       "  <tbody>\n",
       "    <tr>\n",
       "      <th>0</th>\n",
       "      <td>Pm-3m</td>\n",
       "    </tr>\n",
       "  </tbody>\n",
       "</table>\n",
       "</div>"
      ],
      "text/plain": [
       "  symbol\n",
       "0  Pm-3m"
      ]
     },
     "execution_count": 10,
     "metadata": {},
     "output_type": "execute_result"
    }
   ],
   "source": [
    "res"
   ]
  },
  {
   "cell_type": "markdown",
   "id": "364e624f-66f9-4a56-b54d-dfe011b1c6da",
   "metadata": {},
   "source": [
    "The query system can also be used without experience in SPARQL, or deep knowledge about the ontology terms."
   ]
  },
  {
   "cell_type": "markdown",
   "id": "f1080bfc-783c-4c35-8700-935051be4403",
   "metadata": {},
   "source": [
    "First how this looks like:"
   ]
  },
  {
   "cell_type": "code",
   "execution_count": 23,
   "id": "8e339c3c-946e-4020-8051-a036cce4879c",
   "metadata": {},
   "outputs": [
    {
     "ename": "NetworkXNoPath",
     "evalue": "No path between cmso:ComputationalSample and cmso:hasAltNamevalue.",
     "output_type": "error",
     "traceback": [
      "\u001b[0;31m---------------------------------------------------------------------------\u001b[0m",
      "\u001b[0;31mNetworkXNoPath\u001b[0m                            Traceback (most recent call last)",
      "Cell \u001b[0;32mIn[23], line 1\u001b[0m\n\u001b[0;32m----> 1\u001b[0m \u001b[38;5;28mprint\u001b[39m(\u001b[43mg\u001b[49m\u001b[38;5;241;43m.\u001b[39;49m\u001b[43montology\u001b[49m\u001b[38;5;241;43m.\u001b[39;49m\u001b[43mcreate_query\u001b[49m\u001b[43m(\u001b[49m\u001b[43mg\u001b[49m\u001b[38;5;241;43m.\u001b[39;49m\u001b[43montology\u001b[49m\u001b[38;5;241;43m.\u001b[39;49m\u001b[43mterms\u001b[49m\u001b[38;5;241;43m.\u001b[39;49m\u001b[43mcmso\u001b[49m\u001b[38;5;241;43m.\u001b[39;49m\u001b[43mComputationalSample\u001b[49m\u001b[43m,\u001b[49m\u001b[43m \u001b[49m\u001b[43mg\u001b[49m\u001b[38;5;241;43m.\u001b[39;49m\u001b[43montology\u001b[49m\u001b[38;5;241;43m.\u001b[39;49m\u001b[43mterms\u001b[49m\u001b[38;5;241;43m.\u001b[39;49m\u001b[43mcmso\u001b[49m\u001b[38;5;241;43m.\u001b[39;49m\u001b[43mhasAltName\u001b[49m\u001b[43m)\u001b[49m)\n",
      "File \u001b[0;32m~/miniconda3/envs/rdf-wf-6/lib/python3.10/site-packages/pyscal_rdf/network/network.py:218\u001b[0m, in \u001b[0;36mOntologyNetwork.create_query\u001b[0;34m(self, source, destinations, condition)\u001b[0m\n\u001b[1;32m    216\u001b[0m all_triplets \u001b[38;5;241m=\u001b[39m {}\n\u001b[1;32m    217\u001b[0m \u001b[38;5;28;01mfor\u001b[39;00m destination \u001b[38;5;129;01min\u001b[39;00m destination_names:\n\u001b[0;32m--> 218\u001b[0m     triplets \u001b[38;5;241m=\u001b[39m \u001b[38;5;28;43mself\u001b[39;49m\u001b[38;5;241;43m.\u001b[39;49m\u001b[43mget_shortest_path\u001b[49m\u001b[43m(\u001b[49m\u001b[43msource\u001b[49m\u001b[43m,\u001b[49m\u001b[43m \u001b[49m\u001b[43mdestination\u001b[49m\u001b[43m,\u001b[49m\u001b[43m \u001b[49m\u001b[43mtriples\u001b[49m\u001b[38;5;241;43m=\u001b[39;49m\u001b[38;5;28;43;01mTrue\u001b[39;49;00m\u001b[43m)\u001b[49m\n\u001b[1;32m    219\u001b[0m     all_triplets[destination] \u001b[38;5;241m=\u001b[39m triplets\n\u001b[1;32m    221\u001b[0m select_destinations \u001b[38;5;241m=\u001b[39m [\u001b[38;5;124mf\u001b[39m\u001b[38;5;124m'\u001b[39m\u001b[38;5;124m?\u001b[39m\u001b[38;5;132;01m{\u001b[39;00m\u001b[38;5;28mself\u001b[39m\u001b[38;5;241m.\u001b[39mstrip_name(destination)\u001b[38;5;132;01m}\u001b[39;00m\u001b[38;5;124m'\u001b[39m \u001b[38;5;28;01mfor\u001b[39;00m destination \u001b[38;5;129;01min\u001b[39;00m destination_names]\n",
      "File \u001b[0;32m~/miniconda3/envs/rdf-wf-6/lib/python3.10/site-packages/pyscal_rdf/network/network.py:81\u001b[0m, in \u001b[0;36mOntologyNetwork.get_shortest_path\u001b[0;34m(self, source, target, triples)\u001b[0m\n\u001b[1;32m     80\u001b[0m \u001b[38;5;28;01mdef\u001b[39;00m \u001b[38;5;21mget_shortest_path\u001b[39m(\u001b[38;5;28mself\u001b[39m, source, target, triples\u001b[38;5;241m=\u001b[39m\u001b[38;5;28;01mFalse\u001b[39;00m):\n\u001b[0;32m---> 81\u001b[0m     path \u001b[38;5;241m=\u001b[39m \u001b[43mnx\u001b[49m\u001b[38;5;241;43m.\u001b[39;49m\u001b[43mshortest_path\u001b[49m\u001b[43m(\u001b[49m\u001b[38;5;28;43mself\u001b[39;49m\u001b[38;5;241;43m.\u001b[39;49m\u001b[43mg\u001b[49m\u001b[43m,\u001b[49m\u001b[43m \u001b[49m\u001b[43msource\u001b[49m\u001b[38;5;241;43m=\u001b[39;49m\u001b[43msource\u001b[49m\u001b[43m,\u001b[49m\u001b[43m \u001b[49m\u001b[43mtarget\u001b[49m\u001b[38;5;241;43m=\u001b[39;49m\u001b[43mtarget\u001b[49m\u001b[43m)\u001b[49m\n\u001b[1;32m     82\u001b[0m     \u001b[38;5;28;01mif\u001b[39;00m triples:\n\u001b[1;32m     83\u001b[0m         triple_list \u001b[38;5;241m=\u001b[39m []\n",
      "File \u001b[0;32m~/miniconda3/envs/rdf-wf-6/lib/python3.10/site-packages/networkx/utils/backends.py:412\u001b[0m, in \u001b[0;36m_dispatch.__call__\u001b[0;34m(self, backend, *args, **kwargs)\u001b[0m\n\u001b[1;32m    409\u001b[0m \u001b[38;5;28;01mdef\u001b[39;00m \u001b[38;5;21m__call__\u001b[39m(\u001b[38;5;28mself\u001b[39m, \u001b[38;5;241m/\u001b[39m, \u001b[38;5;241m*\u001b[39margs, backend\u001b[38;5;241m=\u001b[39m\u001b[38;5;28;01mNone\u001b[39;00m, \u001b[38;5;241m*\u001b[39m\u001b[38;5;241m*\u001b[39mkwargs):\n\u001b[1;32m    410\u001b[0m     \u001b[38;5;28;01mif\u001b[39;00m \u001b[38;5;129;01mnot\u001b[39;00m backends:\n\u001b[1;32m    411\u001b[0m         \u001b[38;5;66;03m# Fast path if no backends are installed\u001b[39;00m\n\u001b[0;32m--> 412\u001b[0m         \u001b[38;5;28;01mreturn\u001b[39;00m \u001b[38;5;28;43mself\u001b[39;49m\u001b[38;5;241;43m.\u001b[39;49m\u001b[43morig_func\u001b[49m\u001b[43m(\u001b[49m\u001b[38;5;241;43m*\u001b[39;49m\u001b[43margs\u001b[49m\u001b[43m,\u001b[49m\u001b[43m \u001b[49m\u001b[38;5;241;43m*\u001b[39;49m\u001b[38;5;241;43m*\u001b[39;49m\u001b[43mkwargs\u001b[49m\u001b[43m)\u001b[49m\n\u001b[1;32m    414\u001b[0m     \u001b[38;5;66;03m# Use `backend_name` in this function instead of `backend`\u001b[39;00m\n\u001b[1;32m    415\u001b[0m     backend_name \u001b[38;5;241m=\u001b[39m backend\n",
      "File \u001b[0;32m~/miniconda3/envs/rdf-wf-6/lib/python3.10/site-packages/networkx/algorithms/shortest_paths/generic.py:173\u001b[0m, in \u001b[0;36mshortest_path\u001b[0;34m(G, source, target, weight, method)\u001b[0m\n\u001b[1;32m    170\u001b[0m \u001b[38;5;28;01melse\u001b[39;00m:\n\u001b[1;32m    171\u001b[0m     \u001b[38;5;66;03m# Find shortest source-target path.\u001b[39;00m\n\u001b[1;32m    172\u001b[0m     \u001b[38;5;28;01mif\u001b[39;00m method \u001b[38;5;241m==\u001b[39m \u001b[38;5;124m\"\u001b[39m\u001b[38;5;124munweighted\u001b[39m\u001b[38;5;124m\"\u001b[39m:\n\u001b[0;32m--> 173\u001b[0m         paths \u001b[38;5;241m=\u001b[39m \u001b[43mnx\u001b[49m\u001b[38;5;241;43m.\u001b[39;49m\u001b[43mbidirectional_shortest_path\u001b[49m\u001b[43m(\u001b[49m\u001b[43mG\u001b[49m\u001b[43m,\u001b[49m\u001b[43m \u001b[49m\u001b[43msource\u001b[49m\u001b[43m,\u001b[49m\u001b[43m \u001b[49m\u001b[43mtarget\u001b[49m\u001b[43m)\u001b[49m\n\u001b[1;32m    174\u001b[0m     \u001b[38;5;28;01melif\u001b[39;00m method \u001b[38;5;241m==\u001b[39m \u001b[38;5;124m\"\u001b[39m\u001b[38;5;124mdijkstra\u001b[39m\u001b[38;5;124m\"\u001b[39m:\n\u001b[1;32m    175\u001b[0m         _, paths \u001b[38;5;241m=\u001b[39m nx\u001b[38;5;241m.\u001b[39mbidirectional_dijkstra(G, source, target, weight)\n",
      "File \u001b[0;32m~/miniconda3/envs/rdf-wf-6/lib/python3.10/site-packages/networkx/utils/backends.py:412\u001b[0m, in \u001b[0;36m_dispatch.__call__\u001b[0;34m(self, backend, *args, **kwargs)\u001b[0m\n\u001b[1;32m    409\u001b[0m \u001b[38;5;28;01mdef\u001b[39;00m \u001b[38;5;21m__call__\u001b[39m(\u001b[38;5;28mself\u001b[39m, \u001b[38;5;241m/\u001b[39m, \u001b[38;5;241m*\u001b[39margs, backend\u001b[38;5;241m=\u001b[39m\u001b[38;5;28;01mNone\u001b[39;00m, \u001b[38;5;241m*\u001b[39m\u001b[38;5;241m*\u001b[39mkwargs):\n\u001b[1;32m    410\u001b[0m     \u001b[38;5;28;01mif\u001b[39;00m \u001b[38;5;129;01mnot\u001b[39;00m backends:\n\u001b[1;32m    411\u001b[0m         \u001b[38;5;66;03m# Fast path if no backends are installed\u001b[39;00m\n\u001b[0;32m--> 412\u001b[0m         \u001b[38;5;28;01mreturn\u001b[39;00m \u001b[38;5;28;43mself\u001b[39;49m\u001b[38;5;241;43m.\u001b[39;49m\u001b[43morig_func\u001b[49m\u001b[43m(\u001b[49m\u001b[38;5;241;43m*\u001b[39;49m\u001b[43margs\u001b[49m\u001b[43m,\u001b[49m\u001b[43m \u001b[49m\u001b[38;5;241;43m*\u001b[39;49m\u001b[38;5;241;43m*\u001b[39;49m\u001b[43mkwargs\u001b[49m\u001b[43m)\u001b[49m\n\u001b[1;32m    414\u001b[0m     \u001b[38;5;66;03m# Use `backend_name` in this function instead of `backend`\u001b[39;00m\n\u001b[1;32m    415\u001b[0m     backend_name \u001b[38;5;241m=\u001b[39m backend\n",
      "File \u001b[0;32m~/miniconda3/envs/rdf-wf-6/lib/python3.10/site-packages/networkx/algorithms/shortest_paths/unweighted.py:241\u001b[0m, in \u001b[0;36mbidirectional_shortest_path\u001b[0;34m(G, source, target)\u001b[0m\n\u001b[1;32m    238\u001b[0m     \u001b[38;5;28;01mraise\u001b[39;00m nx\u001b[38;5;241m.\u001b[39mNodeNotFound(msg)\n\u001b[1;32m    240\u001b[0m \u001b[38;5;66;03m# call helper to do the real work\u001b[39;00m\n\u001b[0;32m--> 241\u001b[0m results \u001b[38;5;241m=\u001b[39m \u001b[43m_bidirectional_pred_succ\u001b[49m\u001b[43m(\u001b[49m\u001b[43mG\u001b[49m\u001b[43m,\u001b[49m\u001b[43m \u001b[49m\u001b[43msource\u001b[49m\u001b[43m,\u001b[49m\u001b[43m \u001b[49m\u001b[43mtarget\u001b[49m\u001b[43m)\u001b[49m\n\u001b[1;32m    242\u001b[0m pred, succ, w \u001b[38;5;241m=\u001b[39m results\n\u001b[1;32m    244\u001b[0m \u001b[38;5;66;03m# build path from pred+w+succ\u001b[39;00m\n",
      "File \u001b[0;32m~/miniconda3/envs/rdf-wf-6/lib/python3.10/site-packages/networkx/algorithms/shortest_paths/unweighted.py:309\u001b[0m, in \u001b[0;36m_bidirectional_pred_succ\u001b[0;34m(G, source, target)\u001b[0m\n\u001b[1;32m    306\u001b[0m                 \u001b[38;5;28;01mif\u001b[39;00m w \u001b[38;5;129;01min\u001b[39;00m pred:  \u001b[38;5;66;03m# found path\u001b[39;00m\n\u001b[1;32m    307\u001b[0m                     \u001b[38;5;28;01mreturn\u001b[39;00m pred, succ, w\n\u001b[0;32m--> 309\u001b[0m \u001b[38;5;28;01mraise\u001b[39;00m nx\u001b[38;5;241m.\u001b[39mNetworkXNoPath(\u001b[38;5;124mf\u001b[39m\u001b[38;5;124m\"\u001b[39m\u001b[38;5;124mNo path between \u001b[39m\u001b[38;5;132;01m{\u001b[39;00msource\u001b[38;5;132;01m}\u001b[39;00m\u001b[38;5;124m and \u001b[39m\u001b[38;5;132;01m{\u001b[39;00mtarget\u001b[38;5;132;01m}\u001b[39;00m\u001b[38;5;124m.\u001b[39m\u001b[38;5;124m\"\u001b[39m)\n",
      "\u001b[0;31mNetworkXNoPath\u001b[0m: No path between cmso:ComputationalSample and cmso:hasAltNamevalue."
     ]
    }
   ],
   "source": [
    "print(g.ontology.create_query(g.ontology.terms.cmso.ComputationalSample, g.ontology.terms.cmso.hasAltName))"
   ]
  },
  {
   "cell_type": "code",
   "execution_count": 14,
   "id": "08f1d892-64a8-40ce-af52-657ef4f59baf",
   "metadata": {},
   "outputs": [],
   "source": [
    " q = g.auto_query(g.ontology.terms.cmso.ComputationalSample, g.ontology.terms.cmso.hasAltName, \n",
    "            condition=(g.ontology.terms.cmso.hasNumberOfAtoms==4), return_query=True)"
   ]
  },
  {
   "cell_type": "code",
   "execution_count": 8,
   "id": "29808083-40aa-461c-b245-45d8fe0828df",
   "metadata": {
    "tags": []
   },
   "outputs": [],
   "source": [
    "query = \"\"\"\n",
    "PREFIX cmso: <http://purls.helmholtz-metadaten.de/cmso/>\n",
    "SELECT DISTINCT ?symbol\n",
    "WHERE {\n",
    "    ?sample cmso:hasNumberOfAtoms ?number .\n",
    "    ?sample cmso:hasMaterial ?material .\n",
    "    ?material cmso:hasStructure ?structure .\n",
    "    ?structure cmso:hasSpaceGroupSymbol ?symbol .\n",
    "FILTER (?number=\"4\"^^xsd:integer)\n",
    "}\"\"\""
   ]
  },
  {
   "cell_type": "code",
   "execution_count": 15,
   "id": "04c12aba-8168-49e4-b430-0f22b9b5d614",
   "metadata": {},
   "outputs": [
    {
     "name": "stdout",
     "output_type": "stream",
     "text": [
      "PREFIX cmso: <http://purls.helmholtz-metadaten.de/cmso/>\n",
      "PREFIX qudt: <http://qudt.org/schema/qudt/>\n",
      "PREFIX pldo: <http://purls.helmholtz-metadaten.de/pldo/>\n",
      "PREFIX podo: <http://purls.helmholtz-metadaten.de/podo/>\n",
      "PREFIX msmo: <http://purls.helmholtz-metadaten.de/msmo/>\n",
      "PREFIX prov: <http://www.w3.org/ns/prov#>\n",
      "PREFIX rdf: <http://www.w3.org/1999/02/22-rdf-syntax-ns#>\n",
      "PREFIX rdfs: <http://www.w3.org/2000/01/rdf-schema#>\n",
      "PREFIX rdf: <http://www.w3.org/1999/02/22-rdf-syntax-ns#>\n",
      "SELECT DISTINCT ?hasSpaceGroupSymbolvalue ?hasNumberOfAtomsvalue\n",
      "WHERE {\n",
      "    ?ComputationalSample cmso:hasMaterial ?AmorphousMaterial .\n",
      "    ?AmorphousMaterial cmso:hasStructure ?CrystalStructure .\n",
      "    ?CrystalStructure cmso:hasSpaceGroup ?SpaceGroup .\n",
      "    ?SpaceGroup cmso:hasSpaceGroupSymbol ?hasSpaceGroupSymbolvalue .\n",
      "    ?ComputationalSample cmso:hasNumberOfAtoms ?hasNumberOfAtomsvalue .\n",
      "FILTER (?hasNumberOfAtomsvalue=\"4\"^^xsd:int)\n",
      "}\n"
     ]
    }
   ],
   "source": [
    "print(q)"
   ]
  },
  {
   "cell_type": "code",
   "execution_count": 22,
   "id": "506155a1-0e8d-421d-a3f7-9e4b0d072aff",
   "metadata": {},
   "outputs": [
    {
     "data": {
      "text/html": [
       "<div>\n",
       "<style scoped>\n",
       "    .dataframe tbody tr th:only-of-type {\n",
       "        vertical-align: middle;\n",
       "    }\n",
       "\n",
       "    .dataframe tbody tr th {\n",
       "        vertical-align: top;\n",
       "    }\n",
       "\n",
       "    .dataframe thead th {\n",
       "        text-align: right;\n",
       "    }\n",
       "</style>\n",
       "<table border=\"1\" class=\"dataframe\">\n",
       "  <thead>\n",
       "    <tr style=\"text-align: right;\">\n",
       "      <th></th>\n",
       "      <th>hasSpaceGroupSymbolvalue</th>\n",
       "      <th>hasNumberOfAtomsvalue</th>\n",
       "    </tr>\n",
       "  </thead>\n",
       "  <tbody>\n",
       "    <tr>\n",
       "      <th>0</th>\n",
       "      <td>Pm-3m</td>\n",
       "      <td>4</td>\n",
       "    </tr>\n",
       "  </tbody>\n",
       "</table>\n",
       "</div>"
      ],
      "text/plain": [
       "  hasSpaceGroupSymbolvalue hasNumberOfAtomsvalue\n",
       "0                    Pm-3m                     4"
      ]
     },
     "execution_count": 22,
     "metadata": {},
     "output_type": "execute_result"
    }
   ],
   "source": [
    "q=\"\"\"\n",
    "PREFIX cmso: <http://purls.helmholtz-metadaten.de/cmso/>\n",
    "PREFIX qudt: <http://qudt.org/schema/qudt/>\n",
    "PREFIX pldo: <http://purls.helmholtz-metadaten.de/pldo/>\n",
    "PREFIX podo: <http://purls.helmholtz-metadaten.de/podo/>\n",
    "PREFIX msmo: <http://purls.helmholtz-metadaten.de/msmo/>\n",
    "PREFIX prov: <http://www.w3.org/ns/prov#>\n",
    "PREFIX rdf: <http://www.w3.org/1999/02/22-rdf-syntax-ns#>\n",
    "PREFIX rdfs: <http://www.w3.org/2000/01/rdf-schema#>\n",
    "SELECT DISTINCT ?hasSpaceGroupSymbolvalue ?hasNumberOfAtomsvalue\n",
    "WHERE {\n",
    "    ?ComputationalSample cmso:hasMaterial ?AmorphousMaterial .\n",
    "    ?AmorphousMaterial cmso:hasStructure ?CrystalStructure .\n",
    "    ?CrystalStructure cmso:hasSpaceGroupSymbol ?hasSpaceGroupSymbolvalue .\n",
    "    ?ComputationalSample cmso:hasNumberOfAtoms ?hasNumberOfAtomsvalue .\n",
    "FILTER (?hasNumberOfAtomsvalue=\"4\"^^xsd:int)\n",
    "}\n",
    "\"\"\"\n",
    "g.query(q)"
   ]
  },
  {
   "cell_type": "markdown",
   "id": "62b70c91-a0ed-4e35-bdb2-e087a3259726",
   "metadata": {},
   "source": [
    "There are also pre-built queries. For example, **What are all the samples with Bravais lattice bcc?**"
   ]
  },
  {
   "cell_type": "code",
   "execution_count": null,
   "id": "63b1e09f-3182-4cef-9636-d35e423975cf",
   "metadata": {},
   "outputs": [],
   "source": [
    "g.auto_query()"
   ]
  },
  {
   "cell_type": "code",
   "execution_count": 23,
   "id": "098b73d2-9c35-45fe-9120-e042c2a3734b",
   "metadata": {
    "tags": []
   },
   "outputs": [],
   "source": [
    "from pyscal_rdf.queries import Query"
   ]
  },
  {
   "cell_type": "code",
   "execution_count": 24,
   "id": "4bc496f1-11c8-49d0-afe2-56386a313b2d",
   "metadata": {
    "tags": []
   },
   "outputs": [],
   "source": [
    "q = Query()"
   ]
  },
  {
   "cell_type": "code",
   "execution_count": 25,
   "id": "432be248-e367-4ef8-809b-c8987f03712e",
   "metadata": {
    "tags": []
   },
   "outputs": [],
   "source": [
    "samples = q.sparql.sample_by_latticesystem(g, 'Q851536')"
   ]
  },
  {
   "cell_type": "markdown",
   "id": "1e827b4b-e762-4748-be36-ae7ac0d9a60a",
   "metadata": {},
   "source": [
    "We can check how many samples we found"
   ]
  },
  {
   "cell_type": "code",
   "execution_count": 26,
   "id": "2914053c-7139-4b20-9198-e71cb5b8285a",
   "metadata": {
    "tags": []
   },
   "outputs": [
    {
     "data": {
      "text/plain": [
       "0"
      ]
     },
     "execution_count": 26,
     "metadata": {},
     "output_type": "execute_result"
    }
   ],
   "source": [
    "len(samples)"
   ]
  },
  {
   "cell_type": "markdown",
   "id": "39acbab2-4912-47c7-b24f-a79e1791fbbc",
   "metadata": {},
   "source": [
    "As expected, there is only one sample"
   ]
  },
  {
   "cell_type": "markdown",
   "id": "d7bc4ed1-f5a6-4899-8a56-6353e68c4c82",
   "metadata": {},
   "source": [
    "We can write this sample to a file, for example, a LAMMPS data format, to use it for further simulations"
   ]
  },
  {
   "cell_type": "code",
   "execution_count": 15,
   "id": "0cb6b043-abb3-41ca-bee7-fb3bf1e7e615",
   "metadata": {
    "tags": []
   },
   "outputs": [],
   "source": [
    "g.to_file(samples[0], 'bcc.data', format=\"lammps-data\")"
   ]
  },
  {
   "cell_type": "code",
   "execution_count": 16,
   "id": "ae884716-a31b-4170-b4d4-9cf8309a6d74",
   "metadata": {
    "tags": []
   },
   "outputs": [
    {
     "name": "stdout",
     "output_type": "stream",
     "text": [
      "bcc.data (written by ASE) \n",
      "\n",
      "2 \t atoms \n",
      "1  atom types\n",
      "0.0      2.8700000000000001  xlo xhi\n",
      "0.0      2.8700000000000001  ylo yhi\n",
      "0.0      2.8700000000000001  zlo zhi\n",
      "\n",
      "\n",
      "Atoms \n",
      "\n",
      "     1   1                       0                       0                      \n",
      " 0\n",
      "     2   1      1.4350000000000001      1.4350000000000001      1.43500000000000\n",
      "01\n"
     ]
    }
   ],
   "source": [
    "! more bcc.data"
   ]
  },
  {
   "cell_type": "markdown",
   "id": "061d2c92-8c3f-4e8b-bb83-212a02963d09",
   "metadata": {},
   "source": [
    "We can also export as an ASE object"
   ]
  },
  {
   "cell_type": "code",
   "execution_count": 17,
   "id": "7ba5d551-f85b-4c33-be37-b997feffd7d7",
   "metadata": {
    "tags": []
   },
   "outputs": [],
   "source": [
    "aseobj = g.to_file(samples[0], format=\"ase\")"
   ]
  },
  {
   "cell_type": "code",
   "execution_count": 18,
   "id": "f4a90cbe-cf6a-4285-a0d2-b7525726c6dc",
   "metadata": {
    "tags": []
   },
   "outputs": [
    {
     "data": {
      "text/plain": [
       "Atoms(symbols='Fe2', pbc=True, cell=[2.87, 2.87, 2.87])"
      ]
     },
     "execution_count": 18,
     "metadata": {},
     "output_type": "execute_result"
    }
   ],
   "source": [
    "aseobj"
   ]
  },
  {
   "cell_type": "markdown",
   "id": "19d60691-8126-4688-b43f-7ddd7e3b6ec7",
   "metadata": {},
   "source": [
    "## Grain boundaries\n",
    "\n",
    "Still under active development (early stages).."
   ]
  },
  {
   "cell_type": "markdown",
   "id": "7112cdcd-66c7-457d-9005-1aad5989083b",
   "metadata": {},
   "source": [
    "We start by creating a $\\Sigma 5 (3 \\bar{1} 0)$"
   ]
  },
  {
   "cell_type": "code",
   "execution_count": 19,
   "id": "8e0bf115-0cc7-4c68-b97f-ff6a1cfb7558",
   "metadata": {
    "tags": []
   },
   "outputs": [],
   "source": [
    "struct_gb_1 = g.create_grain_boundary(axis=[0,0,1], \n",
    "                        sigma=5, \n",
    "                        gb_plane=[3, -1, 0],\n",
    "                        element='Fe')"
   ]
  },
  {
   "cell_type": "markdown",
   "id": "72f46586-d1d1-4505-beaf-21effbb69c8b",
   "metadata": {},
   "source": [
    "Some other examples, $\\Sigma 19 (\\bar{3}20)$ and $\\Sigma 19 (111)$"
   ]
  },
  {
   "cell_type": "code",
   "execution_count": 20,
   "id": "9b5ee7b6-17d4-44c5-a3d4-46d088abdf99",
   "metadata": {
    "tags": []
   },
   "outputs": [],
   "source": [
    "struct_gb_2 = g.create_grain_boundary(axis=[1,1,1], \n",
    "                        sigma=19, \n",
    "                        gb_plane=[-3, 2, 0],\n",
    "                        element='Fe')\n",
    "\n",
    "struct_gb_3 = g.create_grain_boundary(axis=[1,1,1], \n",
    "                        sigma=19, \n",
    "                        gb_plane=[-1, -1, -1],\n",
    "                        element='Fe')"
   ]
  },
  {
   "cell_type": "markdown",
   "id": "e1187181-4bd6-4a34-b4f8-2afe3105574a",
   "metadata": {},
   "source": [
    "**What are all the samples with symmetric tilt grain boundaries?**"
   ]
  },
  {
   "cell_type": "code",
   "execution_count": 21,
   "id": "1266a23a-e6f3-4e19-a52b-86a54082a461",
   "metadata": {
    "tags": []
   },
   "outputs": [],
   "source": [
    "samples = q.sparql.sample_by_defect(g, \"symmetric tilt\")"
   ]
  },
  {
   "cell_type": "code",
   "execution_count": 22,
   "id": "02d26b92-6fc4-48a2-9d06-c852efc320ee",
   "metadata": {
    "tags": []
   },
   "outputs": [
    {
     "data": {
      "text/plain": [
       "[rdflib.term.BNode('Sample_4')]"
      ]
     },
     "execution_count": 22,
     "metadata": {},
     "output_type": "execute_result"
    }
   ],
   "source": [
    "samples"
   ]
  },
  {
   "cell_type": "code",
   "execution_count": 23,
   "id": "1ecc7de1-414d-46a7-b79e-c61a0017eb5c",
   "metadata": {
    "tags": []
   },
   "outputs": [],
   "source": [
    "g.to_file(samples[0], filename=\"POSCAR\", format=\"poscar\")"
   ]
  },
  {
   "cell_type": "code",
   "execution_count": 24,
   "id": "6daf829f-5ff2-4e1f-a53c-0511c672770f",
   "metadata": {
    "tags": []
   },
   "outputs": [
    {
     "name": "stdout",
     "output_type": "stream",
     "text": [
      "Fe \n",
      " 1.0000000000000000\n",
      "    18.1514737599999982    0.0000000000000000    0.0000000000000000\n",
      "     0.0000000000000000    2.8700000000000001    0.0000000000000000\n",
      "     0.0000000000000000    0.0000000000000000    9.0757368799999991\n",
      " Fe \n",
      "  40\n",
      "Cartesian\n",
      "  0.9075736884683251  1.4350000000000001  7.2605895077465998\n",
      "  0.0000000000000001  1.4350000000000001  4.5378684423416242\n",
      "  2.7227210654049747  0.0000000000000000  8.1681631962149233\n",
      "  3.6302947538732999  1.4350000000000001  6.3530158192782746\n",
      "  1.8151473769366500  0.0000000000000000  5.4454421308099494\n",
      "  2.7227210654049747  1.4350000000000001  3.6302947538732999\n",
      "  0.9075736884683250  0.0000000000000000  2.7227210654049747\n",
      "  1.8151473769366500  1.4350000000000001  0.9075736884683248\n",
      "  0.0000000000000000  0.0000000000000000  0.0000000000000000\n",
      "  7.2605895077465998  1.4350000000000001  8.1681631962149233\n",
      "  5.4454421308099494  0.0000000000000000  7.2605895077465998\n",
      "  6.3530158192782746  1.4350000000000001  5.4454421308099494\n"
     ]
    }
   ],
   "source": [
    "! head -20 POSCAR"
   ]
  },
  {
   "cell_type": "markdown",
   "id": "ba62b487-f53b-45c8-a2ee-4afcfddaa1df",
   "metadata": {},
   "source": [
    "**What are all the samples with boundaries with sigma values between 7 and 21?**"
   ]
  },
  {
   "cell_type": "code",
   "execution_count": 25,
   "id": "fe8f8709-41f6-466a-8b77-b6eeb385b5aa",
   "metadata": {
    "tags": []
   },
   "outputs": [],
   "source": [
    "samples = q.sparql.sample_by_sigma(g, [7, 21])"
   ]
  },
  {
   "cell_type": "code",
   "execution_count": 26,
   "id": "36c55f2c-f235-4535-a8f7-ff8ce6c7254b",
   "metadata": {
    "tags": []
   },
   "outputs": [
    {
     "data": {
      "text/plain": [
       "2"
      ]
     },
     "execution_count": 26,
     "metadata": {},
     "output_type": "execute_result"
    }
   ],
   "source": [
    "len(samples)"
   ]
  }
 ],
 "metadata": {
  "kernelspec": {
   "display_name": "Python 3 (ipykernel)",
   "language": "python",
   "name": "python3"
  },
  "language_info": {
   "codemirror_mode": {
    "name": "ipython",
    "version": 3
   },
   "file_extension": ".py",
   "mimetype": "text/x-python",
   "name": "python",
   "nbconvert_exporter": "python",
   "pygments_lexer": "ipython3",
   "version": "3.10.13"
  }
 },
 "nbformat": 4,
 "nbformat_minor": 5
}
