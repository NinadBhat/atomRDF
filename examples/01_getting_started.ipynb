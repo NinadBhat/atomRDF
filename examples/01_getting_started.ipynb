{
 "cells": [
  {
   "cell_type": "markdown",
   "id": "99ed485a-3d3d-4821-8383-6b4dff31571c",
   "metadata": {},
   "source": [
    "# Getting started"
   ]
  },
  {
   "cell_type": "markdown",
   "id": "b9582fd7-08ab-4931-8f27-b2891db80536",
   "metadata": {},
   "source": [
    "Ontology based atomic structure creation, manipulation, querying."
   ]
  },
  {
   "cell_type": "markdown",
   "id": "156bd52b-33d5-40f0-9e24-87636ff7040c",
   "metadata": {},
   "source": [
    "Imports"
   ]
  },
  {
   "cell_type": "code",
   "execution_count": 1,
   "id": "03c51660-5edd-45b9-b58b-54636709c4b0",
   "metadata": {
    "tags": []
   },
   "outputs": [],
   "source": [
    "from atomrdf import KnowledgeGraph, System"
   ]
  },
  {
   "cell_type": "markdown",
   "id": "b08156de-a4fd-4551-b21d-3099843e8e89",
   "metadata": {},
   "source": [
    "The initial step is to create a Knowledge Graph"
   ]
  },
  {
   "cell_type": "code",
   "execution_count": 2,
   "id": "a4939aa3-8fd1-4cae-9e4a-dc0a84c29497",
   "metadata": {},
   "outputs": [],
   "source": [
    "kg = KnowledgeGraph()"
   ]
  },
  {
   "cell_type": "markdown",
   "id": "b2a666cb-dfec-42ac-9f09-09e9f1086245",
   "metadata": {},
   "source": [
    "## Creation of structures"
   ]
  },
  {
   "cell_type": "markdown",
   "id": "09d9b2f9-77e5-46b6-8bfb-447783f39830",
   "metadata": {},
   "source": [
    "We will create three structures for the demonstration."
   ]
  },
  {
   "cell_type": "markdown",
   "id": "bad705d6-d8b2-4ab7-b5e2-4f775ff17245",
   "metadata": {},
   "source": [
    "First a BCC Iron structure"
   ]
  },
  {
   "cell_type": "code",
   "execution_count": 3,
   "id": "3c279801-d12b-490a-9c69-ce96be831d42",
   "metadata": {
    "tags": []
   },
   "outputs": [
    {
     "ename": "NameError",
     "evalue": "name 'dm' is not defined",
     "output_type": "error",
     "traceback": [
      "\u001b[0;31m---------------------------------------------------------------------------\u001b[0m",
      "\u001b[0;31mNameError\u001b[0m                                 Traceback (most recent call last)",
      "Cell \u001b[0;32mIn[3], line 1\u001b[0m\n\u001b[0;32m----> 1\u001b[0m struct_Fe \u001b[38;5;241m=\u001b[39m \u001b[43mSystem\u001b[49m\u001b[38;5;241;43m.\u001b[39;49m\u001b[43mcreate\u001b[49m\u001b[38;5;241;43m.\u001b[39;49m\u001b[43melement\u001b[49m\u001b[38;5;241;43m.\u001b[39;49m\u001b[43mFe\u001b[49m\u001b[43m(\u001b[49m\u001b[43mgraph\u001b[49m\u001b[38;5;241;43m=\u001b[39;49m\u001b[43mkg\u001b[49m\u001b[43m)\u001b[49m\n",
      "File \u001b[0;32m~/miniconda3/envs/workflow-rdf-v0.2/lib/python3.11/site-packages/atomrdf/structure.py:59\u001b[0m, in \u001b[0;36m_make_crystal\u001b[0;34m(structure, lattice_constant, repetitions, ca_ratio, noise, element, primitive, graph, names)\u001b[0m\n\u001b[1;32m     57\u001b[0m s\u001b[38;5;241m.\u001b[39matoms\u001b[38;5;241m.\u001b[39m_lattice_constant \u001b[38;5;241m=\u001b[39m lattice_constant\n\u001b[1;32m     58\u001b[0m s\u001b[38;5;241m.\u001b[39m_structure_dict \u001b[38;5;241m=\u001b[39m sdict\n\u001b[0;32m---> 59\u001b[0m \u001b[43ms\u001b[49m\u001b[38;5;241;43m.\u001b[39;49m\u001b[43mto_graph\u001b[49m\u001b[43m(\u001b[49m\u001b[43m)\u001b[49m\n\u001b[1;32m     60\u001b[0m \u001b[38;5;28;01mreturn\u001b[39;00m s\n",
      "File \u001b[0;32m~/miniconda3/envs/workflow-rdf-v0.2/lib/python3.11/site-packages/atomrdf/structure.py:502\u001b[0m, in \u001b[0;36mSystem.to_graph\u001b[0;34m(self)\u001b[0m\n\u001b[1;32m    500\u001b[0m \u001b[38;5;28mself\u001b[39m\u001b[38;5;241m.\u001b[39m_generate_name()\n\u001b[1;32m    501\u001b[0m \u001b[38;5;28mself\u001b[39m\u001b[38;5;241m.\u001b[39m_add_sample()\n\u001b[0;32m--> 502\u001b[0m \u001b[38;5;28;43mself\u001b[39;49m\u001b[38;5;241;43m.\u001b[39;49m\u001b[43m_add_material\u001b[49m\u001b[43m(\u001b[49m\u001b[43m)\u001b[49m\n\u001b[1;32m    503\u001b[0m \u001b[38;5;28mself\u001b[39m\u001b[38;5;241m.\u001b[39m_add_chemical_composition()\n\u001b[1;32m    504\u001b[0m \u001b[38;5;28mself\u001b[39m\u001b[38;5;241m.\u001b[39m_add_simulation_cell()\n",
      "File \u001b[0;32m~/miniconda3/envs/workflow-rdf-v0.2/lib/python3.11/site-packages/atomrdf/structure.py:540\u001b[0m, in \u001b[0;36mSystem._add_material\u001b[0;34m(self)\u001b[0m\n\u001b[1;32m    528\u001b[0m \u001b[38;5;250m\u001b[39m\u001b[38;5;124;03m\"\"\"\u001b[39;00m\n\u001b[1;32m    529\u001b[0m \u001b[38;5;124;03mAdd a CMSO Material object\u001b[39;00m\n\u001b[1;32m    530\u001b[0m \n\u001b[0;32m   (...)\u001b[0m\n\u001b[1;32m    537\u001b[0m \u001b[38;5;124;03m-------\u001b[39;00m\n\u001b[1;32m    538\u001b[0m \u001b[38;5;124;03m\"\"\"\u001b[39;00m\n\u001b[1;32m    539\u001b[0m material \u001b[38;5;241m=\u001b[39m URIRef(\u001b[38;5;124mf\u001b[39m\u001b[38;5;124m'\u001b[39m\u001b[38;5;132;01m{\u001b[39;00m\u001b[38;5;28mself\u001b[39m\u001b[38;5;241m.\u001b[39m_name\u001b[38;5;132;01m}\u001b[39;00m\u001b[38;5;124m_Material\u001b[39m\u001b[38;5;124m'\u001b[39m)\n\u001b[0;32m--> 540\u001b[0m \u001b[38;5;28;43mself\u001b[39;49m\u001b[38;5;241;43m.\u001b[39;49m\u001b[43mgraph\u001b[49m\u001b[38;5;241;43m.\u001b[39;49m\u001b[43madd\u001b[49m\u001b[43m(\u001b[49m\u001b[43m(\u001b[49m\u001b[38;5;28;43mself\u001b[39;49m\u001b[38;5;241;43m.\u001b[39;49m\u001b[43msample\u001b[49m\u001b[43m,\u001b[49m\u001b[43m \u001b[49m\u001b[43mCMSO\u001b[49m\u001b[38;5;241;43m.\u001b[39;49m\u001b[43mhasMaterial\u001b[49m\u001b[43m,\u001b[49m\u001b[43m \u001b[49m\u001b[43mmaterial\u001b[49m\u001b[43m)\u001b[49m\u001b[43m)\u001b[49m\n\u001b[1;32m    541\u001b[0m \u001b[38;5;28mself\u001b[39m\u001b[38;5;241m.\u001b[39mgraph\u001b[38;5;241m.\u001b[39madd((material, RDF\u001b[38;5;241m.\u001b[39mtype, CMSO\u001b[38;5;241m.\u001b[39mCrystallineMaterial))        \n\u001b[1;32m    542\u001b[0m \u001b[38;5;28mself\u001b[39m\u001b[38;5;241m.\u001b[39mmaterial \u001b[38;5;241m=\u001b[39m material\n",
      "File \u001b[0;32m~/miniconda3/envs/workflow-rdf-v0.2/lib/python3.11/site-packages/atomrdf/graph.py:160\u001b[0m, in \u001b[0;36mKnowledgeGraph.add\u001b[0;34m(self, triple, validate)\u001b[0m\n\u001b[1;32m    157\u001b[0m \u001b[38;5;66;03m#now we should validate if needed\u001b[39;00m\n\u001b[1;32m    158\u001b[0m \u001b[38;5;66;03m#check domain\u001b[39;00m\n\u001b[1;32m    159\u001b[0m \u001b[38;5;28;01mif\u001b[39;00m validate:\n\u001b[0;32m--> 160\u001b[0m     \u001b[38;5;28;43mself\u001b[39;49m\u001b[38;5;241;43m.\u001b[39;49m\u001b[43m_check_domain\u001b[49m\u001b[43m(\u001b[49m\u001b[43mtriple\u001b[49m\u001b[43m)\u001b[49m\n\u001b[1;32m    162\u001b[0m \u001b[38;5;28;01mif\u001b[39;00m \u001b[38;5;28mstr\u001b[39m(modified_triple[\u001b[38;5;241m2\u001b[39m]\u001b[38;5;241m.\u001b[39mtoPython()) \u001b[38;5;241m!=\u001b[39m \u001b[38;5;124m'\u001b[39m\u001b[38;5;124mNone\u001b[39m\u001b[38;5;124m'\u001b[39m:\n\u001b[1;32m    163\u001b[0m     \u001b[38;5;28mself\u001b[39m\u001b[38;5;241m.\u001b[39mgraph\u001b[38;5;241m.\u001b[39madd(modified_triple)\n",
      "File \u001b[0;32m~/miniconda3/envs/workflow-rdf-v0.2/lib/python3.11/site-packages/atomrdf/graph.py:148\u001b[0m, in \u001b[0;36mKnowledgeGraph._check_domain\u001b[0;34m(self, triple)\u001b[0m\n\u001b[1;32m    145\u001b[0m \u001b[38;5;28;01mif\u001b[39;00m \u001b[38;5;129;01mnot\u001b[39;00m found:\n\u001b[1;32m    146\u001b[0m     \u001b[38;5;28;01mraise\u001b[39;00m \u001b[38;5;167;01mValueError\u001b[39;00m(\u001b[38;5;124mf\u001b[39m\u001b[38;5;124m'\u001b[39m\u001b[38;5;132;01m{\u001b[39;00mdm\u001b[38;5;132;01m}\u001b[39;00m\u001b[38;5;124m not in domain \u001b[39m\u001b[38;5;132;01m{\u001b[39;00mdomain\u001b[38;5;132;01m}\u001b[39;00m\u001b[38;5;124m of \u001b[39m\u001b[38;5;132;01m{\u001b[39;00mtriple[\u001b[38;5;241m1\u001b[39m]\u001b[38;5;241m.\u001b[39mname\u001b[38;5;132;01m}\u001b[39;00m\u001b[38;5;124m'\u001b[39m)\n\u001b[0;32m--> 148\u001b[0m \u001b[38;5;28mprint\u001b[39m(\u001b[38;5;124mf\u001b[39m\u001b[38;5;124m'\u001b[39m\u001b[38;5;124mchecked \u001b[39m\u001b[38;5;132;01m{\u001b[39;00mtriple[\u001b[38;5;241m1\u001b[39m]\u001b[38;5;241m.\u001b[39mname\u001b[38;5;132;01m}\u001b[39;00m\u001b[38;5;124m/\u001b[39m\u001b[38;5;132;01m{\u001b[39;00m\u001b[43mdm\u001b[49m\u001b[38;5;132;01m}\u001b[39;00m\u001b[38;5;124m'\u001b[39m)\n",
      "\u001b[0;31mNameError\u001b[0m: name 'dm' is not defined"
     ]
    }
   ],
   "source": [
    "struct_Fe = System.create.element.Fe(graph=kg)"
   ]
  },
  {
   "cell_type": "markdown",
   "id": "4b86c9b6-26e6-47fe-9cc8-a31fa3471079",
   "metadata": {},
   "source": [
    "Note that we passed an argument `graph=kg` which ensures that when the structure is created, it is also added to the Graph automatically. We can visualise the graph."
   ]
  },
  {
   "cell_type": "code",
   "execution_count": null,
   "id": "79772707-5981-4ae5-8131-a7ef8455858c",
   "metadata": {
    "tags": []
   },
   "outputs": [],
   "source": [
    "kg.visualise(hide_types=True)"
   ]
  },
  {
   "cell_type": "markdown",
   "id": "2b935f83-0970-45b5-8772-91e9a1cea966",
   "metadata": {},
   "source": [
    "Now a Si diamond structure"
   ]
  },
  {
   "cell_type": "code",
   "execution_count": null,
   "id": "6c14e7af-b5c2-46bb-a365-9ec781e612b5",
   "metadata": {
    "tags": []
   },
   "outputs": [],
   "source": [
    "struct_Si = System.create.element.Si(graph=kg)"
   ]
  },
  {
   "cell_type": "markdown",
   "id": "2756366b-a9f8-46f2-8675-6d1874e3237b",
   "metadata": {},
   "source": [
    "Finally, an L12 $Ni_3 Al$ structure"
   ]
  },
  {
   "cell_type": "code",
   "execution_count": null,
   "id": "36269260-3b07-43ed-a939-4890d281659d",
   "metadata": {},
   "outputs": [],
   "source": [
    "struct_l12 = System.create.lattice.l12(element=['Al', 'Ni'], \n",
    "                         lattice_constant=3.57, graph=kg)"
   ]
  },
  {
   "cell_type": "code",
   "execution_count": null,
   "id": "17b9ad8b-bf22-4161-9864-40fa6d224d79",
   "metadata": {
    "tags": []
   },
   "outputs": [],
   "source": [
    "kg.visualise(hide_types=True, size=(60,30))"
   ]
  },
  {
   "cell_type": "markdown",
   "id": "e83523ad-f684-42fe-84e1-da8125201a0d",
   "metadata": {},
   "source": [
    "We can save the graph and reload it as needed"
   ]
  },
  {
   "cell_type": "code",
   "execution_count": null,
   "id": "9a978f15-5101-4a76-b02e-5e2a36da36b3",
   "metadata": {},
   "outputs": [],
   "source": [
    "kg.write('serial.ttl', format='ttl')"
   ]
  },
  {
   "cell_type": "code",
   "execution_count": null,
   "id": "4892d80f-1a68-486d-b127-4dd848a5e492",
   "metadata": {},
   "outputs": [],
   "source": [
    "kg = KnowledgeGraph(graph_file='serial.ttl')"
   ]
  },
  {
   "cell_type": "code",
   "execution_count": null,
   "id": "fdf78f08-2ca8-4fa1-b369-3792327f2bce",
   "metadata": {},
   "outputs": [],
   "source": [
    "kg.n_samples"
   ]
  },
  {
   "cell_type": "markdown",
   "id": "906584fc-01c6-4c63-9024-f39baacd655d",
   "metadata": {},
   "source": [
    "## Querying the graph"
   ]
  },
  {
   "cell_type": "markdown",
   "id": "dc96d3a3-b2e8-4f56-b7ad-b30809b604c9",
   "metadata": {},
   "source": [
    "An example question would be, **what are the space group of all structures with 4 atoms?**\n"
   ]
  },
  {
   "cell_type": "markdown",
   "id": "f7f63dfe-bbb6-4ccc-a2f4-6d091c4ec92d",
   "metadata": {},
   "source": [
    "The corresponding SPARQL query looks like this:"
   ]
  },
  {
   "cell_type": "code",
   "execution_count": null,
   "id": "8ffe7592-4349-4c46-bf40-7edea50c652c",
   "metadata": {
    "tags": []
   },
   "outputs": [],
   "source": [
    "query = \"\"\"\n",
    "PREFIX cmso: <http://purls.helmholtz-metadaten.de/cmso/>\n",
    "SELECT DISTINCT ?symbol\n",
    "WHERE {\n",
    "    ?sample cmso:hasNumberOfAtoms ?number .\n",
    "    ?sample cmso:hasMaterial ?material .\n",
    "    ?material cmso:hasStructure ?structure .\n",
    "    ?structure cmso:hasSpaceGroup ?spgroup .\n",
    "    ?spgroup cmso:hasSpaceGroupSymbol ?symbol .\n",
    "FILTER (?number=\"4\"^^xsd:integer)\n",
    "}\"\"\""
   ]
  },
  {
   "cell_type": "code",
   "execution_count": null,
   "id": "4a8eba1e-3ffb-4129-8818-5caf8ce0de4b",
   "metadata": {
    "tags": []
   },
   "outputs": [],
   "source": [
    "res = kg.query(query)"
   ]
  },
  {
   "cell_type": "markdown",
   "id": "0e41d31d-c4a8-450f-a70e-0543411924ad",
   "metadata": {},
   "source": [
    "And print the results"
   ]
  },
  {
   "cell_type": "code",
   "execution_count": null,
   "id": "f4b6f799-ff85-45c7-a318-f2598a32a48c",
   "metadata": {
    "tags": []
   },
   "outputs": [],
   "source": [
    "res"
   ]
  },
  {
   "cell_type": "markdown",
   "id": "62b70c91-a0ed-4e35-bdb2-e087a3259726",
   "metadata": {},
   "source": [
    "The query system can also be used without experience in SPARQL, or deep knowledge about the ontology terms. For example, **What are all the samples with Bravais lattice bcc?**"
   ]
  },
  {
   "cell_type": "markdown",
   "id": "f1080bfc-783c-4c35-8700-935051be4403",
   "metadata": {},
   "source": [
    "First how this looks like:"
   ]
  },
  {
   "cell_type": "code",
   "execution_count": null,
   "id": "08f1d892-64a8-40ce-af52-657ef4f59baf",
   "metadata": {},
   "outputs": [],
   "source": [
    "res = kg.query_sample(kg.ontology.terms.cmso.hasAltName, \n",
    "             condition=(kg.ontology.terms.cmso.hasAltName=='bcc'))\n",
    "res"
   ]
  },
  {
   "cell_type": "markdown",
   "id": "39acbab2-4912-47c7-b24f-a79e1791fbbc",
   "metadata": {},
   "source": [
    "As expected, there is only one sample, since Fe is the only bcc structure we added. We can extract the sample"
   ]
  },
  {
   "cell_type": "code",
   "execution_count": null,
   "id": "efde861c-b9dd-4b97-861b-a330bbd95de0",
   "metadata": {},
   "outputs": [],
   "source": [
    "sample = res.AtomicScaleSample[0]"
   ]
  },
  {
   "cell_type": "markdown",
   "id": "d7bc4ed1-f5a6-4899-8a56-6353e68c4c82",
   "metadata": {},
   "source": [
    "We can write this sample to a file, for example, a LAMMPS data format, to use it for further simulations"
   ]
  },
  {
   "cell_type": "code",
   "execution_count": null,
   "id": "0cb6b043-abb3-41ca-bee7-fb3bf1e7e615",
   "metadata": {
    "tags": []
   },
   "outputs": [],
   "source": [
    "kg.to_file(sample, 'bcc.data', format=\"lammps-data\")"
   ]
  },
  {
   "cell_type": "code",
   "execution_count": null,
   "id": "ae884716-a31b-4170-b4d4-9cf8309a6d74",
   "metadata": {
    "tags": []
   },
   "outputs": [],
   "source": [
    "! more bcc.data"
   ]
  },
  {
   "cell_type": "markdown",
   "id": "061d2c92-8c3f-4e8b-bb83-212a02963d09",
   "metadata": {},
   "source": [
    "We can also export as an ASE object"
   ]
  },
  {
   "cell_type": "code",
   "execution_count": null,
   "id": "7ba5d551-f85b-4c33-be37-b997feffd7d7",
   "metadata": {
    "tags": []
   },
   "outputs": [],
   "source": [
    "aseobj = kg.to_file(sample, format=\"ase\")"
   ]
  },
  {
   "cell_type": "code",
   "execution_count": null,
   "id": "f4a90cbe-cf6a-4285-a0d2-b7525726c6dc",
   "metadata": {
    "tags": []
   },
   "outputs": [],
   "source": [
    "aseobj"
   ]
  }
 ],
 "metadata": {
  "kernelspec": {
   "display_name": "Python 3 (ipykernel)",
   "language": "python",
   "name": "python3"
  },
  "language_info": {
   "codemirror_mode": {
    "name": "ipython",
    "version": 3
   },
   "file_extension": ".py",
   "mimetype": "text/x-python",
   "name": "python",
   "nbconvert_exporter": "python",
   "pygments_lexer": "ipython3",
   "version": "3.11.8"
  }
 },
 "nbformat": 4,
 "nbformat_minor": 5
}
