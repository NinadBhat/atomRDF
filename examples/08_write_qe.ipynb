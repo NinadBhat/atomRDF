{
 "cells": [
  {
   "cell_type": "code",
   "execution_count": 1,
   "metadata": {},
   "outputs": [],
   "source": [
    "from atomrdf import KnowledgeGraph, System"
   ]
  },
  {
   "cell_type": "code",
   "execution_count": 2,
   "metadata": {},
   "outputs": [],
   "source": [
    "kg = KnowledgeGraph()"
   ]
  },
  {
   "cell_type": "code",
   "execution_count": 3,
   "metadata": {},
   "outputs": [],
   "source": [
    "s = System.create.element.Fe(graph = kg)"
   ]
  },
  {
   "cell_type": "code",
   "execution_count": 5,
   "metadata": {},
   "outputs": [],
   "source": [
    "s.write.file('qe_input', format='quantum-espresso')"
   ]
  },
  {
   "cell_type": "code",
   "execution_count": 6,
   "metadata": {},
   "outputs": [
    {
     "name": "stdout",
     "output_type": "stream",
     "text": [
      "! sample:f2b5122e-7458-40e2-a197-4275dde7ed77\n",
      "&CONTROL\n",
      "/\n",
      "&SYSTEM\n",
      "   ntyp             = 1\n",
      "   nat              = 2\n",
      "   ibrav            = 0\n",
      "/\n",
      "&ELECTRONS\n",
      "/\n",
      "&IONS\n",
      "/\n",
      "&CELL\n",
      "/\n",
      "\n",
      "ATOMIC_SPECIES\n",
      "Fe 55.845 None\n",
      "\n",
      "K_POINTS gamma\n",
      "\n",
      "CELL_PARAMETERS angstrom\n",
      "2.87000000000000 0.00000000000000 0.00000000000000\n",
      "0.00000000000000 2.87000000000000 0.00000000000000\n",
      "\u001b[Km--More--(67%)\u001b[m"
     ]
    }
   ],
   "source": [
    "! more qe_input"
   ]
  },
  {
   "cell_type": "code",
   "execution_count": null,
   "metadata": {},
   "outputs": [],
   "source": []
  }
 ],
 "metadata": {
  "kernelspec": {
   "display_name": "workflow-rdf",
   "language": "python",
   "name": "python3"
  },
  "language_info": {
   "codemirror_mode": {
    "name": "ipython",
    "version": 3
   },
   "file_extension": ".py",
   "mimetype": "text/x-python",
   "name": "python",
   "nbconvert_exporter": "python",
   "pygments_lexer": "ipython3",
   "version": "3.11.8"
  }
 },
 "nbformat": 4,
 "nbformat_minor": 2
}
